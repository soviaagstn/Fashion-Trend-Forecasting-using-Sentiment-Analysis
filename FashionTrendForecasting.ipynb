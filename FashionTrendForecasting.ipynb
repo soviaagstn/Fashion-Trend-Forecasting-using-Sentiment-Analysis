{
  "nbformat": 4,
  "nbformat_minor": 0,
  "metadata": {
    "orig_nbformat": 2,
    "deepnote": {
      "is_reactive": false
    },
    "deepnote_notebook_id": "9917c5f3-a954-405b-b030-344c2622f0da",
    "deepnote_execution_queue": [],
    "colab": {
      "name": "FashionTrendForecasting.ipynb",
      "provenance": [],
      "collapsed_sections": []
    }
  },
  "cells": [
    {
      "cell_type": "markdown",
      "metadata": {
        "tags": [],
        "cell_id": "00000-fa0d8a0c-e7b2-4022-b766-e48c6b140672",
        "deepnote_cell_type": "text-cell-h2",
        "id": "9BKX2SvDkX0f"
      },
      "source": [
        "## IMPORT LIBRARY"
      ]
    },
    {
      "cell_type": "code",
      "metadata": {
        "tags": [],
        "deepnote_to_be_reexecuted": false,
        "source_hash": "777de530",
        "execution_start": 1623583515907,
        "execution_millis": 2,
        "cell_id": "00001-9b166cd0-7e11-4876-9955-1f2fbe497fd2",
        "deepnote_cell_type": "code",
        "id": "InHD0EiwkX0g"
      },
      "source": [
        "# pip uninstall nltk"
      ],
      "execution_count": null,
      "outputs": []
    },
    {
      "cell_type": "code",
      "metadata": {
        "tags": [],
        "deepnote_to_be_reexecuted": false,
        "source_hash": "94d35727",
        "execution_start": 1623583515916,
        "execution_millis": 2837,
        "cell_id": "00002-d722982f-a0d0-42ae-b460-03bf6e6292a8",
        "deepnote_cell_type": "code",
        "id": "SIH4fm_4kX0i",
        "outputId": "71000bd0-e7cf-47cd-bc8f-3fd2991daf29"
      },
      "source": [
        "pip install -U nltk"
      ],
      "execution_count": null,
      "outputs": [
        {
          "name": "stdout",
          "text": "Requirement already satisfied: nltk in /shared-libs/python3.7/py/lib/python3.7/site-packages (3.6.2)\nRequirement already satisfied: tqdm in /shared-libs/python3.7/py/lib/python3.7/site-packages (from nltk) (4.61.0)\nRequirement already satisfied: regex in /shared-libs/python3.7/py/lib/python3.7/site-packages (from nltk) (2021.4.4)\nRequirement already satisfied: click in /shared-libs/python3.7/py/lib/python3.7/site-packages (from nltk) (7.1.2)\nRequirement already satisfied: joblib in /shared-libs/python3.7/py/lib/python3.7/site-packages (from nltk) (1.0.1)\n\u001b[33mWARNING: Running pip as root will break packages and permissions. You should install packages reliably by using venv: https://pip.pypa.io/warnings/venv\u001b[0m\nNote: you may need to restart the kernel to use updated packages.\n",
          "output_type": "stream"
        }
      ]
    },
    {
      "cell_type": "code",
      "metadata": {
        "tags": [],
        "deepnote_to_be_reexecuted": false,
        "source_hash": "21827978",
        "execution_start": 1623583518756,
        "execution_millis": 1691,
        "cell_id": "00003-662b85a8-7a02-4423-bbd2-48a09fb26016",
        "deepnote_cell_type": "code",
        "id": "z4VTCf-pkX0j"
      },
      "source": [
        "import numpy as np\n",
        "import pandas as pd\n",
        "\n",
        "import math as m\n",
        "import nltk\n",
        "import re\n",
        "import string\n",
        "from nltk.tokenize import WordPunctTokenizer\n",
        "from nltk.corpus import stopwords\n",
        "from nltk.stem.porter import PorterStemmer\n",
        "from nltk.stem import WordNetLemmatizer\n",
        "from sklearn.feature_extraction.text import CountVectorizer as cv\n",
        "from sklearn.feature_extraction.text import TfidfVectorizer as tfidf\n",
        "from sklearn.model_selection import train_test_split\n",
        "from sklearn.metrics import accuracy_score"
      ],
      "execution_count": null,
      "outputs": []
    },
    {
      "cell_type": "markdown",
      "metadata": {
        "tags": [],
        "cell_id": "00004-a52aa3c9-8890-456f-b9c1-ca999160e91d",
        "deepnote_cell_type": "text-cell-h2",
        "id": "OlC7_rAtkX0j"
      },
      "source": [
        "## IMPORT DATASET"
      ]
    },
    {
      "cell_type": "code",
      "metadata": {
        "tags": [],
        "deepnote_to_be_reexecuted": false,
        "source_hash": "af433ac2",
        "execution_start": 1623583520447,
        "execution_millis": 113,
        "cell_id": "00005-fd35215a-b510-4c1c-aea0-8f6b1da06322",
        "deepnote_cell_type": "code",
        "id": "nXUOMPIqkX0j",
        "outputId": "a7601935-ccab-493e-fded-57639adad134"
      },
      "source": [
        "df = pd.read_csv(\"E-Commerce Dataset.csv\", sep=\",\")\n",
        "df.head()"
      ],
      "execution_count": null,
      "outputs": [
        {
          "output_type": "execute_result",
          "execution_count": 4,
          "data": {
            "application/vnd.deepnote.dataframe.v2+json": {
              "row_count": 5,
              "column_count": 19,
              "columns": [
                {
                  "name": "SL",
                  "dtype": "int64",
                  "stats": {
                    "unique_count": 5,
                    "nan_count": 0,
                    "min": "2",
                    "max": "6",
                    "histogram": [
                      {
                        "bin_start": 2,
                        "bin_end": 2.4,
                        "count": 1
                      },
                      {
                        "bin_start": 2.4,
                        "bin_end": 2.8,
                        "count": 0
                      },
                      {
                        "bin_start": 2.8,
                        "bin_end": 3.2,
                        "count": 1
                      },
                      {
                        "bin_start": 3.2,
                        "bin_end": 3.6,
                        "count": 0
                      },
                      {
                        "bin_start": 3.6,
                        "bin_end": 4,
                        "count": 0
                      },
                      {
                        "bin_start": 4,
                        "bin_end": 4.4,
                        "count": 1
                      },
                      {
                        "bin_start": 4.4,
                        "bin_end": 4.800000000000001,
                        "count": 0
                      },
                      {
                        "bin_start": 4.800000000000001,
                        "bin_end": 5.2,
                        "count": 1
                      },
                      {
                        "bin_start": 5.2,
                        "bin_end": 5.6,
                        "count": 0
                      },
                      {
                        "bin_start": 5.6,
                        "bin_end": 6,
                        "count": 1
                      }
                    ]
                  }
                },
                {
                  "name": "Clothing ID",
                  "dtype": "int64",
                  "stats": {
                    "unique_count": 5,
                    "nan_count": 0,
                    "min": "847",
                    "max": "1080",
                    "histogram": [
                      {
                        "bin_start": 847,
                        "bin_end": 870.3,
                        "count": 2
                      },
                      {
                        "bin_start": 870.3,
                        "bin_end": 893.6,
                        "count": 0
                      },
                      {
                        "bin_start": 893.6,
                        "bin_end": 916.9,
                        "count": 0
                      },
                      {
                        "bin_start": 916.9,
                        "bin_end": 940.2,
                        "count": 0
                      },
                      {
                        "bin_start": 940.2,
                        "bin_end": 963.5,
                        "count": 0
                      },
                      {
                        "bin_start": 963.5,
                        "bin_end": 986.8,
                        "count": 0
                      },
                      {
                        "bin_start": 986.8,
                        "bin_end": 1010.1,
                        "count": 0
                      },
                      {
                        "bin_start": 1010.1,
                        "bin_end": 1033.4,
                        "count": 0
                      },
                      {
                        "bin_start": 1033.4,
                        "bin_end": 1056.7,
                        "count": 1
                      },
                      {
                        "bin_start": 1056.7,
                        "bin_end": 1080,
                        "count": 2
                      }
                    ]
                  }
                },
                {
                  "name": "Age",
                  "dtype": "int64",
                  "stats": {
                    "unique_count": 5,
                    "nan_count": 0,
                    "min": "39",
                    "max": "60",
                    "histogram": [
                      {
                        "bin_start": 39,
                        "bin_end": 41.1,
                        "count": 1
                      },
                      {
                        "bin_start": 41.1,
                        "bin_end": 43.2,
                        "count": 0
                      },
                      {
                        "bin_start": 43.2,
                        "bin_end": 45.3,
                        "count": 0
                      },
                      {
                        "bin_start": 45.3,
                        "bin_end": 47.4,
                        "count": 1
                      },
                      {
                        "bin_start": 47.4,
                        "bin_end": 49.5,
                        "count": 1
                      },
                      {
                        "bin_start": 49.5,
                        "bin_end": 51.6,
                        "count": 1
                      },
                      {
                        "bin_start": 51.6,
                        "bin_end": 53.7,
                        "count": 0
                      },
                      {
                        "bin_start": 53.7,
                        "bin_end": 55.8,
                        "count": 0
                      },
                      {
                        "bin_start": 55.8,
                        "bin_end": 57.900000000000006,
                        "count": 0
                      },
                      {
                        "bin_start": 57.900000000000006,
                        "bin_end": 60,
                        "count": 1
                      }
                    ]
                  }
                },
                {
                  "name": "Title",
                  "dtype": "object",
                  "stats": {
                    "unique_count": 5,
                    "nan_count": 0,
                    "categories": [
                      {
                        "name": "Some major design flaws",
                        "count": 1
                      },
                      {
                        "name": "My favorite buy!",
                        "count": 1
                      },
                      {
                        "name": "3 others",
                        "count": 3
                      }
                    ]
                  }
                },
                {
                  "name": "Review Text",
                  "dtype": "object",
                  "stats": {
                    "unique_count": 5,
                    "nan_count": 0,
                    "categories": [
                      {
                        "name": "I had such high hopes for this dress and really wanted it to work for me. i initially ordered the petite small (my usual size) but i found this to be outrageously small. so small in fact that i could not zip it up! i reordered it in petite medium, which was just ok. overall, the top half was comfortable and fit nicely, but the bottom half had a very tight under layer and several somewhat cheap (net) over layers. imo, a major design flaw was the net over layer sewn directly into the zipper - it c",
                        "count": 1
                      },
                      {
                        "name": "I love, love, love this jumpsuit. it's fun, flirty, and fabulous! every time i wear it, i get nothing but great compliments!",
                        "count": 1
                      },
                      {
                        "name": "3 others",
                        "count": 3
                      }
                    ]
                  }
                },
                {
                  "name": "Rating",
                  "dtype": "int64",
                  "stats": {
                    "unique_count": 3,
                    "nan_count": 0,
                    "min": "2",
                    "max": "5",
                    "histogram": [
                      {
                        "bin_start": 2,
                        "bin_end": 2.3,
                        "count": 1
                      },
                      {
                        "bin_start": 2.3,
                        "bin_end": 2.6,
                        "count": 0
                      },
                      {
                        "bin_start": 2.6,
                        "bin_end": 2.9,
                        "count": 0
                      },
                      {
                        "bin_start": 2.9,
                        "bin_end": 3.2,
                        "count": 1
                      },
                      {
                        "bin_start": 3.2,
                        "bin_end": 3.5,
                        "count": 0
                      },
                      {
                        "bin_start": 3.5,
                        "bin_end": 3.8,
                        "count": 0
                      },
                      {
                        "bin_start": 3.8,
                        "bin_end": 4.1,
                        "count": 0
                      },
                      {
                        "bin_start": 4.1,
                        "bin_end": 4.4,
                        "count": 0
                      },
                      {
                        "bin_start": 4.4,
                        "bin_end": 4.699999999999999,
                        "count": 0
                      },
                      {
                        "bin_start": 4.699999999999999,
                        "bin_end": 5,
                        "count": 3
                      }
                    ]
                  }
                },
                {
                  "name": "Recommended IND",
                  "dtype": "int64",
                  "stats": {
                    "unique_count": 2,
                    "nan_count": 0,
                    "min": "0",
                    "max": "1",
                    "histogram": [
                      {
                        "bin_start": 0,
                        "bin_end": 0.1,
                        "count": 2
                      },
                      {
                        "bin_start": 0.1,
                        "bin_end": 0.2,
                        "count": 0
                      },
                      {
                        "bin_start": 0.2,
                        "bin_end": 0.30000000000000004,
                        "count": 0
                      },
                      {
                        "bin_start": 0.30000000000000004,
                        "bin_end": 0.4,
                        "count": 0
                      },
                      {
                        "bin_start": 0.4,
                        "bin_end": 0.5,
                        "count": 0
                      },
                      {
                        "bin_start": 0.5,
                        "bin_end": 0.6000000000000001,
                        "count": 0
                      },
                      {
                        "bin_start": 0.6000000000000001,
                        "bin_end": 0.7000000000000001,
                        "count": 0
                      },
                      {
                        "bin_start": 0.7000000000000001,
                        "bin_end": 0.8,
                        "count": 0
                      },
                      {
                        "bin_start": 0.8,
                        "bin_end": 0.9,
                        "count": 0
                      },
                      {
                        "bin_start": 0.9,
                        "bin_end": 1,
                        "count": 3
                      }
                    ]
                  }
                },
                {
                  "name": "Positive Feedback Count",
                  "dtype": "int64",
                  "stats": {
                    "unique_count": 4,
                    "nan_count": 0,
                    "min": "0",
                    "max": "6",
                    "histogram": [
                      {
                        "bin_start": 0,
                        "bin_end": 0.6,
                        "count": 2
                      },
                      {
                        "bin_start": 0.6,
                        "bin_end": 1.2,
                        "count": 1
                      },
                      {
                        "bin_start": 1.2,
                        "bin_end": 1.7999999999999998,
                        "count": 0
                      },
                      {
                        "bin_start": 1.7999999999999998,
                        "bin_end": 2.4,
                        "count": 0
                      },
                      {
                        "bin_start": 2.4,
                        "bin_end": 3,
                        "count": 0
                      },
                      {
                        "bin_start": 3,
                        "bin_end": 3.5999999999999996,
                        "count": 0
                      },
                      {
                        "bin_start": 3.5999999999999996,
                        "bin_end": 4.2,
                        "count": 1
                      },
                      {
                        "bin_start": 4.2,
                        "bin_end": 4.8,
                        "count": 0
                      },
                      {
                        "bin_start": 4.8,
                        "bin_end": 5.3999999999999995,
                        "count": 0
                      },
                      {
                        "bin_start": 5.3999999999999995,
                        "bin_end": 6,
                        "count": 1
                      }
                    ]
                  }
                },
                {
                  "name": "Num_reviews",
                  "dtype": "int64",
                  "stats": {
                    "unique_count": 5,
                    "nan_count": 0,
                    "min": "2",
                    "max": "87",
                    "histogram": [
                      {
                        "bin_start": 2,
                        "bin_end": 10.5,
                        "count": 3
                      },
                      {
                        "bin_start": 10.5,
                        "bin_end": 19,
                        "count": 0
                      },
                      {
                        "bin_start": 19,
                        "bin_end": 27.5,
                        "count": 0
                      },
                      {
                        "bin_start": 27.5,
                        "bin_end": 36,
                        "count": 0
                      },
                      {
                        "bin_start": 36,
                        "bin_end": 44.5,
                        "count": 1
                      },
                      {
                        "bin_start": 44.5,
                        "bin_end": 53,
                        "count": 0
                      },
                      {
                        "bin_start": 53,
                        "bin_end": 61.5,
                        "count": 0
                      },
                      {
                        "bin_start": 61.5,
                        "bin_end": 70,
                        "count": 0
                      },
                      {
                        "bin_start": 70,
                        "bin_end": 78.5,
                        "count": 0
                      },
                      {
                        "bin_start": 78.5,
                        "bin_end": 87,
                        "count": 1
                      }
                    ]
                  }
                },
                {
                  "name": "Avg_rating",
                  "dtype": "float64",
                  "stats": {
                    "unique_count": 5,
                    "nan_count": 0,
                    "min": "3.98",
                    "max": "4.78",
                    "histogram": [
                      {
                        "bin_start": 3.98,
                        "bin_end": 4.06,
                        "count": 1
                      },
                      {
                        "bin_start": 4.06,
                        "bin_end": 4.14,
                        "count": 0
                      },
                      {
                        "bin_start": 4.14,
                        "bin_end": 4.22,
                        "count": 0
                      },
                      {
                        "bin_start": 4.22,
                        "bin_end": 4.3,
                        "count": 0
                      },
                      {
                        "bin_start": 4.3,
                        "bin_end": 4.38,
                        "count": 0
                      },
                      {
                        "bin_start": 4.38,
                        "bin_end": 4.46,
                        "count": 1
                      },
                      {
                        "bin_start": 4.46,
                        "bin_end": 4.54,
                        "count": 1
                      },
                      {
                        "bin_start": 4.54,
                        "bin_end": 4.62,
                        "count": 0
                      },
                      {
                        "bin_start": 4.62,
                        "bin_end": 4.7,
                        "count": 1
                      },
                      {
                        "bin_start": 4.7,
                        "bin_end": 4.78,
                        "count": 1
                      }
                    ]
                  }
                },
                {
                  "name": "Std_dev_rating",
                  "dtype": "float64",
                  "stats": {
                    "unique_count": 5,
                    "nan_count": 0,
                    "min": "0.471",
                    "max": "1.171",
                    "histogram": [
                      {
                        "bin_start": 0.471,
                        "bin_end": 0.5409999999999999,
                        "count": 2
                      },
                      {
                        "bin_start": 0.5409999999999999,
                        "bin_end": 0.611,
                        "count": 0
                      },
                      {
                        "bin_start": 0.611,
                        "bin_end": 0.681,
                        "count": 1
                      },
                      {
                        "bin_start": 0.681,
                        "bin_end": 0.751,
                        "count": 0
                      },
                      {
                        "bin_start": 0.751,
                        "bin_end": 0.821,
                        "count": 0
                      },
                      {
                        "bin_start": 0.821,
                        "bin_end": 0.891,
                        "count": 0
                      },
                      {
                        "bin_start": 0.891,
                        "bin_end": 0.9610000000000001,
                        "count": 1
                      },
                      {
                        "bin_start": 0.9610000000000001,
                        "bin_end": 1.0310000000000001,
                        "count": 0
                      },
                      {
                        "bin_start": 1.0310000000000001,
                        "bin_end": 1.101,
                        "count": 0
                      },
                      {
                        "bin_start": 1.101,
                        "bin_end": 1.171,
                        "count": 1
                      }
                    ]
                  }
                },
                {
                  "name": "Num_recommends",
                  "dtype": "int64",
                  "stats": {
                    "unique_count": 5,
                    "nan_count": 0,
                    "min": "2",
                    "max": "74",
                    "histogram": [
                      {
                        "bin_start": 2,
                        "bin_end": 9.2,
                        "count": 3
                      },
                      {
                        "bin_start": 9.2,
                        "bin_end": 16.4,
                        "count": 0
                      },
                      {
                        "bin_start": 16.4,
                        "bin_end": 23.6,
                        "count": 0
                      },
                      {
                        "bin_start": 23.6,
                        "bin_end": 30.8,
                        "count": 0
                      },
                      {
                        "bin_start": 30.8,
                        "bin_end": 38,
                        "count": 1
                      },
                      {
                        "bin_start": 38,
                        "bin_end": 45.2,
                        "count": 0
                      },
                      {
                        "bin_start": 45.2,
                        "bin_end": 52.4,
                        "count": 0
                      },
                      {
                        "bin_start": 52.4,
                        "bin_end": 59.6,
                        "count": 0
                      },
                      {
                        "bin_start": 59.6,
                        "bin_end": 66.8,
                        "count": 0
                      },
                      {
                        "bin_start": 66.8,
                        "bin_end": 74,
                        "count": 1
                      }
                    ]
                  }
                },
                {
                  "name": "Percent_recommends",
                  "dtype": "float64",
                  "stats": {
                    "unique_count": 4,
                    "nan_count": 0,
                    "min": "0.791",
                    "max": "1.0",
                    "histogram": [
                      {
                        "bin_start": 0.791,
                        "bin_end": 0.8119000000000001,
                        "count": 1
                      },
                      {
                        "bin_start": 0.8119000000000001,
                        "bin_end": 0.8328,
                        "count": 0
                      },
                      {
                        "bin_start": 0.8328,
                        "bin_end": 0.8537,
                        "count": 1
                      },
                      {
                        "bin_start": 0.8537,
                        "bin_end": 0.8746,
                        "count": 0
                      },
                      {
                        "bin_start": 0.8746,
                        "bin_end": 0.8955,
                        "count": 1
                      },
                      {
                        "bin_start": 0.8955,
                        "bin_end": 0.9164,
                        "count": 0
                      },
                      {
                        "bin_start": 0.9164,
                        "bin_end": 0.9373,
                        "count": 0
                      },
                      {
                        "bin_start": 0.9373,
                        "bin_end": 0.9581999999999999,
                        "count": 0
                      },
                      {
                        "bin_start": 0.9581999999999999,
                        "bin_end": 0.9791,
                        "count": 0
                      },
                      {
                        "bin_start": 0.9791,
                        "bin_end": 1,
                        "count": 2
                      }
                    ]
                  }
                },
                {
                  "name": "Percent_num_reviews",
                  "dtype": "float64",
                  "stats": {
                    "unique_count": 5,
                    "nan_count": 0,
                    "min": "0.0",
                    "max": "0.017",
                    "histogram": [
                      {
                        "bin_start": 0,
                        "bin_end": 0.0017000000000000001,
                        "count": 2
                      },
                      {
                        "bin_start": 0.0017000000000000001,
                        "bin_end": 0.0034000000000000002,
                        "count": 1
                      },
                      {
                        "bin_start": 0.0034000000000000002,
                        "bin_end": 0.0051,
                        "count": 0
                      },
                      {
                        "bin_start": 0.0051,
                        "bin_end": 0.0068000000000000005,
                        "count": 0
                      },
                      {
                        "bin_start": 0.0068000000000000005,
                        "bin_end": 0.0085,
                        "count": 0
                      },
                      {
                        "bin_start": 0.0085,
                        "bin_end": 0.0102,
                        "count": 1
                      },
                      {
                        "bin_start": 0.0102,
                        "bin_end": 0.0119,
                        "count": 0
                      },
                      {
                        "bin_start": 0.0119,
                        "bin_end": 0.013600000000000001,
                        "count": 0
                      },
                      {
                        "bin_start": 0.013600000000000001,
                        "bin_end": 0.015300000000000001,
                        "count": 0
                      },
                      {
                        "bin_start": 0.015300000000000001,
                        "bin_end": 0.017,
                        "count": 1
                      }
                    ]
                  }
                },
                {
                  "name": "Rating_strength",
                  "dtype": "float64",
                  "stats": {
                    "unique_count": 5,
                    "nan_count": 0,
                    "min": "0.0",
                    "max": "0.00165",
                    "histogram": [
                      {
                        "bin_start": 0,
                        "bin_end": 0.000165,
                        "count": 3
                      },
                      {
                        "bin_start": 0.000165,
                        "bin_end": 0.00033,
                        "count": 1
                      },
                      {
                        "bin_start": 0.00033,
                        "bin_end": 0.000495,
                        "count": 0
                      },
                      {
                        "bin_start": 0.000495,
                        "bin_end": 0.00066,
                        "count": 0
                      },
                      {
                        "bin_start": 0.00066,
                        "bin_end": 0.000825,
                        "count": 0
                      },
                      {
                        "bin_start": 0.000825,
                        "bin_end": 0.00099,
                        "count": 0
                      },
                      {
                        "bin_start": 0.00099,
                        "bin_end": 0.001155,
                        "count": 0
                      },
                      {
                        "bin_start": 0.001155,
                        "bin_end": 0.00132,
                        "count": 0
                      },
                      {
                        "bin_start": 0.00132,
                        "bin_end": 0.001485,
                        "count": 0
                      },
                      {
                        "bin_start": 0.001485,
                        "bin_end": 0.00165,
                        "count": 1
                      }
                    ]
                  }
                },
                {
                  "name": "Item_success",
                  "dtype": "object",
                  "stats": {
                    "unique_count": 2,
                    "nan_count": 0,
                    "categories": [
                      {
                        "name": "Not Trending",
                        "count": 4
                      },
                      {
                        "name": "Trending",
                        "count": 1
                      }
                    ]
                  }
                },
                {
                  "name": "Division Name",
                  "dtype": "object",
                  "stats": {
                    "unique_count": 2,
                    "nan_count": 0,
                    "categories": [
                      {
                        "name": "General",
                        "count": 3
                      },
                      {
                        "name": "General Petite",
                        "count": 2
                      }
                    ]
                  }
                },
                {
                  "name": "Department Name",
                  "dtype": "object",
                  "stats": {
                    "unique_count": 3,
                    "nan_count": 0,
                    "categories": [
                      {
                        "name": "Dresses",
                        "count": 2
                      },
                      {
                        "name": "Tops",
                        "count": 2
                      },
                      {
                        "name": "Bottoms",
                        "count": 1
                      }
                    ]
                  }
                },
                {
                  "name": "Class Name",
                  "dtype": "object",
                  "stats": {
                    "unique_count": 4,
                    "nan_count": 0,
                    "categories": [
                      {
                        "name": "Dresses",
                        "count": 2
                      },
                      {
                        "name": "Pants",
                        "count": 1
                      },
                      {
                        "name": "2 others",
                        "count": 2
                      }
                    ]
                  }
                },
                {
                  "name": "_deepnote_index_column",
                  "dtype": "int64"
                }
              ],
              "rows_top": [
                {
                  "SL": 2,
                  "Clothing ID": 1077,
                  "Age": 60,
                  "Title": "Some major design flaws",
                  "Review Text": "I had such high hopes for this dress and really wanted it to work for me. i initially ordered the p…",
                  "Rating": 3,
                  "Recommended IND": 0,
                  "Positive Feedback Count": 0,
                  "Num_reviews": 43,
                  "Avg_rating": 3.98,
                  "Std_dev_rating": 1.171,
                  "Num_recommends": 34,
                  "Percent_recommends": 0.791,
                  "Percent_num_reviews": 0.009,
                  "Rating_strength": 0.00021,
                  "Item_success": "Not Trending",
                  "Division Name": "General",
                  "Department Name": "Dresses",
                  "Class Name": "Dresses",
                  "_deepnote_index_column": 0
                },
                {
                  "SL": 3,
                  "Clothing ID": 1049,
                  "Age": 50,
                  "Title": "My favorite buy!",
                  "Review Text": "I love, love, love this jumpsuit. it's fun, flirty, and fabulous! every time i wear it, i get nothi…",
                  "Rating": 5,
                  "Recommended IND": 1,
                  "Positive Feedback Count": 0,
                  "Num_reviews": 9,
                  "Avg_rating": 4.78,
                  "Std_dev_rating": 0.629,
                  "Num_recommends": 8,
                  "Percent_recommends": 0.889,
                  "Percent_num_reviews": 0.002,
                  "Rating_strength": 0.00005,
                  "Item_success": "Not Trending",
                  "Division Name": "General Petite",
                  "Department Name": "Bottoms",
                  "Class Name": "Pants",
                  "_deepnote_index_column": 1
                },
                {
                  "SL": 4,
                  "Clothing ID": 847,
                  "Age": 47,
                  "Title": "Flattering shirt",
                  "Review Text": "This shirt is very flattering to all due to the adjustable front tie. it is the perfect length to w…",
                  "Rating": 5,
                  "Recommended IND": 1,
                  "Positive Feedback Count": 6,
                  "Num_reviews": 3,
                  "Avg_rating": 4.67,
                  "Std_dev_rating": 0.471,
                  "Num_recommends": 3,
                  "Percent_recommends": 1,
                  "Percent_num_reviews": 0.001,
                  "Rating_strength": 0.00001,
                  "Item_success": "Not Trending",
                  "Division Name": "General",
                  "Department Name": "Tops",
                  "Class Name": "Blouses",
                  "_deepnote_index_column": 2
                },
                {
                  "SL": 5,
                  "Clothing ID": 1080,
                  "Age": 49,
                  "Title": "Not for the very petite",
                  "Review Text": "I love tracy reese dresses, but this one is not for the very petite. i am just under 5 feet tall an…",
                  "Rating": 2,
                  "Recommended IND": 0,
                  "Positive Feedback Count": 4,
                  "Num_reviews": 87,
                  "Avg_rating": 4.39,
                  "Std_dev_rating": 0.939,
                  "Num_recommends": 74,
                  "Percent_recommends": 0.851,
                  "Percent_num_reviews": 0.017,
                  "Rating_strength": 0.00165,
                  "Item_success": "Trending",
                  "Division Name": "General",
                  "Department Name": "Dresses",
                  "Class Name": "Dresses",
                  "_deepnote_index_column": 3
                },
                {
                  "SL": 6,
                  "Clothing ID": 858,
                  "Age": 39,
                  "Title": "Cagrcoal shimmer fun",
                  "Review Text": "I aded this in my basket at hte last mintue to see what it would look like in person. (store pick u…",
                  "Rating": 5,
                  "Recommended IND": 1,
                  "Positive Feedback Count": 1,
                  "Num_reviews": 2,
                  "Avg_rating": 4.5,
                  "Std_dev_rating": 0.5,
                  "Num_recommends": 2,
                  "Percent_recommends": 1,
                  "Percent_num_reviews": 0,
                  "Rating_strength": 0,
                  "Item_success": "Not Trending",
                  "Division Name": "General Petite",
                  "Department Name": "Tops",
                  "Class Name": "Knits",
                  "_deepnote_index_column": 4
                }
              ],
              "rows_bottom": null
            },
            "text/plain": "   SL  Clothing ID  Age                    Title  \\\n0   2         1077   60  Some major design flaws   \n1   3         1049   50         My favorite buy!   \n2   4          847   47         Flattering shirt   \n3   5         1080   49  Not for the very petite   \n4   6          858   39     Cagrcoal shimmer fun   \n\n                                         Review Text  Rating  Recommended IND  \\\n0  I had such high hopes for this dress and reall...       3                0   \n1  I love, love, love this jumpsuit. it's fun, fl...       5                1   \n2  This shirt is very flattering to all due to th...       5                1   \n3  I love tracy reese dresses, but this one is no...       2                0   \n4  I aded this in my basket at hte last mintue to...       5                1   \n\n   Positive Feedback Count  Num_reviews  Avg_rating  Std_dev_rating  \\\n0                        0           43        3.98           1.171   \n1                        0            9        4.78           0.629   \n2                        6            3        4.67           0.471   \n3                        4           87        4.39           0.939   \n4                        1            2        4.50           0.500   \n\n   Num_recommends  Percent_recommends  Percent_num_reviews  Rating_strength  \\\n0              34               0.791                0.009          0.00021   \n1               8               0.889                0.002          0.00005   \n2               3               1.000                0.001          0.00001   \n3              74               0.851                0.017          0.00165   \n4               2               1.000                0.000          0.00000   \n\n   Item_success   Division Name Department Name Class Name  \n0  Not Trending         General         Dresses    Dresses  \n1  Not Trending  General Petite         Bottoms      Pants  \n2  Not Trending         General            Tops    Blouses  \n3      Trending         General         Dresses    Dresses  \n4  Not Trending  General Petite            Tops      Knits  ",
            "text/html": "<div>\n<style scoped>\n    .dataframe tbody tr th:only-of-type {\n        vertical-align: middle;\n    }\n\n    .dataframe tbody tr th {\n        vertical-align: top;\n    }\n\n    .dataframe thead th {\n        text-align: right;\n    }\n</style>\n<table border=\"1\" class=\"dataframe\">\n  <thead>\n    <tr style=\"text-align: right;\">\n      <th></th>\n      <th>SL</th>\n      <th>Clothing ID</th>\n      <th>Age</th>\n      <th>Title</th>\n      <th>Review Text</th>\n      <th>Rating</th>\n      <th>Recommended IND</th>\n      <th>Positive Feedback Count</th>\n      <th>Num_reviews</th>\n      <th>Avg_rating</th>\n      <th>Std_dev_rating</th>\n      <th>Num_recommends</th>\n      <th>Percent_recommends</th>\n      <th>Percent_num_reviews</th>\n      <th>Rating_strength</th>\n      <th>Item_success</th>\n      <th>Division Name</th>\n      <th>Department Name</th>\n      <th>Class Name</th>\n    </tr>\n  </thead>\n  <tbody>\n    <tr>\n      <th>0</th>\n      <td>2</td>\n      <td>1077</td>\n      <td>60</td>\n      <td>Some major design flaws</td>\n      <td>I had such high hopes for this dress and reall...</td>\n      <td>3</td>\n      <td>0</td>\n      <td>0</td>\n      <td>43</td>\n      <td>3.98</td>\n      <td>1.171</td>\n      <td>34</td>\n      <td>0.791</td>\n      <td>0.009</td>\n      <td>0.00021</td>\n      <td>Not Trending</td>\n      <td>General</td>\n      <td>Dresses</td>\n      <td>Dresses</td>\n    </tr>\n    <tr>\n      <th>1</th>\n      <td>3</td>\n      <td>1049</td>\n      <td>50</td>\n      <td>My favorite buy!</td>\n      <td>I love, love, love this jumpsuit. it's fun, fl...</td>\n      <td>5</td>\n      <td>1</td>\n      <td>0</td>\n      <td>9</td>\n      <td>4.78</td>\n      <td>0.629</td>\n      <td>8</td>\n      <td>0.889</td>\n      <td>0.002</td>\n      <td>0.00005</td>\n      <td>Not Trending</td>\n      <td>General Petite</td>\n      <td>Bottoms</td>\n      <td>Pants</td>\n    </tr>\n    <tr>\n      <th>2</th>\n      <td>4</td>\n      <td>847</td>\n      <td>47</td>\n      <td>Flattering shirt</td>\n      <td>This shirt is very flattering to all due to th...</td>\n      <td>5</td>\n      <td>1</td>\n      <td>6</td>\n      <td>3</td>\n      <td>4.67</td>\n      <td>0.471</td>\n      <td>3</td>\n      <td>1.000</td>\n      <td>0.001</td>\n      <td>0.00001</td>\n      <td>Not Trending</td>\n      <td>General</td>\n      <td>Tops</td>\n      <td>Blouses</td>\n    </tr>\n    <tr>\n      <th>3</th>\n      <td>5</td>\n      <td>1080</td>\n      <td>49</td>\n      <td>Not for the very petite</td>\n      <td>I love tracy reese dresses, but this one is no...</td>\n      <td>2</td>\n      <td>0</td>\n      <td>4</td>\n      <td>87</td>\n      <td>4.39</td>\n      <td>0.939</td>\n      <td>74</td>\n      <td>0.851</td>\n      <td>0.017</td>\n      <td>0.00165</td>\n      <td>Trending</td>\n      <td>General</td>\n      <td>Dresses</td>\n      <td>Dresses</td>\n    </tr>\n    <tr>\n      <th>4</th>\n      <td>6</td>\n      <td>858</td>\n      <td>39</td>\n      <td>Cagrcoal shimmer fun</td>\n      <td>I aded this in my basket at hte last mintue to...</td>\n      <td>5</td>\n      <td>1</td>\n      <td>1</td>\n      <td>2</td>\n      <td>4.50</td>\n      <td>0.500</td>\n      <td>2</td>\n      <td>1.000</td>\n      <td>0.000</td>\n      <td>0.00000</td>\n      <td>Not Trending</td>\n      <td>General Petite</td>\n      <td>Tops</td>\n      <td>Knits</td>\n    </tr>\n  </tbody>\n</table>\n</div>"
          },
          "metadata": {}
        }
      ]
    },
    {
      "cell_type": "code",
      "metadata": {
        "tags": [],
        "deepnote_to_be_reexecuted": false,
        "source_hash": "93772d5",
        "execution_start": 1623583520548,
        "execution_millis": 7,
        "cell_id": "00006-c47adf34-cf71-4e22-b798-d3f27a97e105",
        "deepnote_cell_type": "code",
        "id": "Qmn-7GfZkX0k"
      },
      "source": [
        "dataset = df[['Clothing ID', 'Age', 'Class Name', 'Department Name', 'Division Name', 'Rating', \\\n",
        "'Recommended IND', 'Review Text', 'Title', 'Item_success']]"
      ],
      "execution_count": null,
      "outputs": []
    },
    {
      "cell_type": "markdown",
      "metadata": {
        "tags": [],
        "cell_id": "00007-43c9326a-e332-4ec6-9b75-b9364c0122cd",
        "deepnote_cell_type": "text-cell-h2",
        "id": "cmI-L6_tkX0k"
      },
      "source": [
        "## DATA CHECKING"
      ]
    },
    {
      "cell_type": "code",
      "metadata": {
        "tags": [],
        "deepnote_to_be_reexecuted": false,
        "source_hash": "f0a4a053",
        "execution_start": 1623583520557,
        "execution_millis": 12,
        "cell_id": "00008-56e0d927-fd62-43ab-a19c-72858eb4f123",
        "deepnote_cell_type": "code",
        "id": "tqPP9FZskX0k",
        "outputId": "6b807572-c03f-4304-a4cf-4491b081be5e"
      },
      "source": [
        "# Check whether there's null value in each feature\n",
        "\n",
        "dataset.isnull().sum()"
      ],
      "execution_count": null,
      "outputs": [
        {
          "output_type": "execute_result",
          "execution_count": 6,
          "data": {
            "text/plain": "Clothing ID        0\nAge                0\nClass Name         0\nDepartment Name    0\nDivision Name      0\nRating             0\nRecommended IND    0\nReview Text        0\nTitle              0\nItem_success       0\ndtype: int64"
          },
          "metadata": {}
        }
      ]
    },
    {
      "cell_type": "markdown",
      "metadata": {
        "tags": [],
        "cell_id": "00010-44a34a24-e3c7-4d90-9ea1-6ed0256205d3",
        "deepnote_cell_type": "text-cell-h2",
        "id": "cfa_4rEPkX0l"
      },
      "source": [
        "## SENTIMENT ANALYSIS DATASET"
      ]
    },
    {
      "cell_type": "markdown",
      "metadata": {
        "tags": [],
        "cell_id": "00011-6a018e0e-9253-448b-8409-5b4dff3ef49f",
        "deepnote_cell_type": "text-cell-h3",
        "id": "JYjx4m7ukX0l"
      },
      "source": [
        "### 1. Remove Digits"
      ]
    },
    {
      "cell_type": "code",
      "metadata": {
        "tags": [],
        "deepnote_to_be_reexecuted": false,
        "source_hash": "3f78943b",
        "execution_start": 1623583520571,
        "execution_millis": 5,
        "cell_id": "00012-68a0125b-af0d-4912-a425-a399c5de6df6",
        "deepnote_cell_type": "code",
        "id": "wnPt0eNhkX0l"
      },
      "source": [
        "def remove_digits(text):\n",
        "    digits = [str(x) for x in range(10)]\n",
        "    for d in digits:\n",
        "        text = text.replace(d, ' ')\n",
        "    return text"
      ],
      "execution_count": null,
      "outputs": []
    },
    {
      "cell_type": "code",
      "metadata": {
        "tags": [],
        "deepnote_to_be_reexecuted": false,
        "source_hash": "7aa015dd",
        "execution_start": 1623583520611,
        "execution_millis": 57,
        "cell_id": "00013-6537aeec-5070-4fbf-9c16-d58f06903d2f",
        "deepnote_cell_type": "code",
        "id": "qNsmAGmVkX0m",
        "outputId": "422e495f-db53-4dd1-82a0-67acb13df496"
      },
      "source": [
        "# Deleting digits in text:\n",
        "\n",
        "dataset['Review Text'] = dataset['Review Text'].apply(lambda x: remove_digits(x))\n",
        "dataset['Title'] = dataset['Title'].apply(lambda x: remove_digits(x))\n",
        "dataset.head()"
      ],
      "execution_count": null,
      "outputs": [
        {
          "name": "stderr",
          "text": "/shared-libs/python3.7/py-core/lib/python3.7/site-packages/ipykernel_launcher.py:2: SettingWithCopyWarning: \nA value is trying to be set on a copy of a slice from a DataFrame.\nTry using .loc[row_indexer,col_indexer] = value instead\n\nSee the caveats in the documentation: https://pandas.pydata.org/pandas-docs/stable/user_guide/indexing.html#returning-a-view-versus-a-copy\n  \n/shared-libs/python3.7/py-core/lib/python3.7/site-packages/ipykernel_launcher.py:3: SettingWithCopyWarning: \nA value is trying to be set on a copy of a slice from a DataFrame.\nTry using .loc[row_indexer,col_indexer] = value instead\n\nSee the caveats in the documentation: https://pandas.pydata.org/pandas-docs/stable/user_guide/indexing.html#returning-a-view-versus-a-copy\n  This is separate from the ipykernel package so we can avoid doing imports until\n",
          "output_type": "stream"
        },
        {
          "output_type": "execute_result",
          "execution_count": 8,
          "data": {
            "application/vnd.deepnote.dataframe.v2+json": {
              "row_count": 5,
              "column_count": 10,
              "columns": [
                {
                  "name": "Clothing ID",
                  "dtype": "int64",
                  "stats": {
                    "unique_count": 5,
                    "nan_count": 0,
                    "min": "847",
                    "max": "1080",
                    "histogram": [
                      {
                        "bin_start": 847,
                        "bin_end": 870.3,
                        "count": 2
                      },
                      {
                        "bin_start": 870.3,
                        "bin_end": 893.6,
                        "count": 0
                      },
                      {
                        "bin_start": 893.6,
                        "bin_end": 916.9,
                        "count": 0
                      },
                      {
                        "bin_start": 916.9,
                        "bin_end": 940.2,
                        "count": 0
                      },
                      {
                        "bin_start": 940.2,
                        "bin_end": 963.5,
                        "count": 0
                      },
                      {
                        "bin_start": 963.5,
                        "bin_end": 986.8,
                        "count": 0
                      },
                      {
                        "bin_start": 986.8,
                        "bin_end": 1010.1,
                        "count": 0
                      },
                      {
                        "bin_start": 1010.1,
                        "bin_end": 1033.4,
                        "count": 0
                      },
                      {
                        "bin_start": 1033.4,
                        "bin_end": 1056.7,
                        "count": 1
                      },
                      {
                        "bin_start": 1056.7,
                        "bin_end": 1080,
                        "count": 2
                      }
                    ]
                  }
                },
                {
                  "name": "Age",
                  "dtype": "int64",
                  "stats": {
                    "unique_count": 5,
                    "nan_count": 0,
                    "min": "39",
                    "max": "60",
                    "histogram": [
                      {
                        "bin_start": 39,
                        "bin_end": 41.1,
                        "count": 1
                      },
                      {
                        "bin_start": 41.1,
                        "bin_end": 43.2,
                        "count": 0
                      },
                      {
                        "bin_start": 43.2,
                        "bin_end": 45.3,
                        "count": 0
                      },
                      {
                        "bin_start": 45.3,
                        "bin_end": 47.4,
                        "count": 1
                      },
                      {
                        "bin_start": 47.4,
                        "bin_end": 49.5,
                        "count": 1
                      },
                      {
                        "bin_start": 49.5,
                        "bin_end": 51.6,
                        "count": 1
                      },
                      {
                        "bin_start": 51.6,
                        "bin_end": 53.7,
                        "count": 0
                      },
                      {
                        "bin_start": 53.7,
                        "bin_end": 55.8,
                        "count": 0
                      },
                      {
                        "bin_start": 55.8,
                        "bin_end": 57.900000000000006,
                        "count": 0
                      },
                      {
                        "bin_start": 57.900000000000006,
                        "bin_end": 60,
                        "count": 1
                      }
                    ]
                  }
                },
                {
                  "name": "Class Name",
                  "dtype": "object",
                  "stats": {
                    "unique_count": 4,
                    "nan_count": 0,
                    "categories": [
                      {
                        "name": "Dresses",
                        "count": 2
                      },
                      {
                        "name": "Pants",
                        "count": 1
                      },
                      {
                        "name": "2 others",
                        "count": 2
                      }
                    ]
                  }
                },
                {
                  "name": "Department Name",
                  "dtype": "object",
                  "stats": {
                    "unique_count": 3,
                    "nan_count": 0,
                    "categories": [
                      {
                        "name": "Dresses",
                        "count": 2
                      },
                      {
                        "name": "Tops",
                        "count": 2
                      },
                      {
                        "name": "Bottoms",
                        "count": 1
                      }
                    ]
                  }
                },
                {
                  "name": "Division Name",
                  "dtype": "object",
                  "stats": {
                    "unique_count": 2,
                    "nan_count": 0,
                    "categories": [
                      {
                        "name": "General",
                        "count": 3
                      },
                      {
                        "name": "General Petite",
                        "count": 2
                      }
                    ]
                  }
                },
                {
                  "name": "Rating",
                  "dtype": "int64",
                  "stats": {
                    "unique_count": 3,
                    "nan_count": 0,
                    "min": "2",
                    "max": "5",
                    "histogram": [
                      {
                        "bin_start": 2,
                        "bin_end": 2.3,
                        "count": 1
                      },
                      {
                        "bin_start": 2.3,
                        "bin_end": 2.6,
                        "count": 0
                      },
                      {
                        "bin_start": 2.6,
                        "bin_end": 2.9,
                        "count": 0
                      },
                      {
                        "bin_start": 2.9,
                        "bin_end": 3.2,
                        "count": 1
                      },
                      {
                        "bin_start": 3.2,
                        "bin_end": 3.5,
                        "count": 0
                      },
                      {
                        "bin_start": 3.5,
                        "bin_end": 3.8,
                        "count": 0
                      },
                      {
                        "bin_start": 3.8,
                        "bin_end": 4.1,
                        "count": 0
                      },
                      {
                        "bin_start": 4.1,
                        "bin_end": 4.4,
                        "count": 0
                      },
                      {
                        "bin_start": 4.4,
                        "bin_end": 4.699999999999999,
                        "count": 0
                      },
                      {
                        "bin_start": 4.699999999999999,
                        "bin_end": 5,
                        "count": 3
                      }
                    ]
                  }
                },
                {
                  "name": "Recommended IND",
                  "dtype": "int64",
                  "stats": {
                    "unique_count": 2,
                    "nan_count": 0,
                    "min": "0",
                    "max": "1",
                    "histogram": [
                      {
                        "bin_start": 0,
                        "bin_end": 0.1,
                        "count": 2
                      },
                      {
                        "bin_start": 0.1,
                        "bin_end": 0.2,
                        "count": 0
                      },
                      {
                        "bin_start": 0.2,
                        "bin_end": 0.30000000000000004,
                        "count": 0
                      },
                      {
                        "bin_start": 0.30000000000000004,
                        "bin_end": 0.4,
                        "count": 0
                      },
                      {
                        "bin_start": 0.4,
                        "bin_end": 0.5,
                        "count": 0
                      },
                      {
                        "bin_start": 0.5,
                        "bin_end": 0.6000000000000001,
                        "count": 0
                      },
                      {
                        "bin_start": 0.6000000000000001,
                        "bin_end": 0.7000000000000001,
                        "count": 0
                      },
                      {
                        "bin_start": 0.7000000000000001,
                        "bin_end": 0.8,
                        "count": 0
                      },
                      {
                        "bin_start": 0.8,
                        "bin_end": 0.9,
                        "count": 0
                      },
                      {
                        "bin_start": 0.9,
                        "bin_end": 1,
                        "count": 3
                      }
                    ]
                  }
                },
                {
                  "name": "Review Text",
                  "dtype": "object",
                  "stats": {
                    "unique_count": 5,
                    "nan_count": 0,
                    "categories": [
                      {
                        "name": "I had such high hopes for this dress and really wanted it to work for me. i initially ordered the petite small (my usual size) but i found this to be outrageously small. so small in fact that i could not zip it up! i reordered it in petite medium, which was just ok. overall, the top half was comfortable and fit nicely, but the bottom half had a very tight under layer and several somewhat cheap (net) over layers. imo, a major design flaw was the net over layer sewn directly into the zipper - it c",
                        "count": 1
                      },
                      {
                        "name": "I love, love, love this jumpsuit. it's fun, flirty, and fabulous! every time i wear it, i get nothing but great compliments!",
                        "count": 1
                      },
                      {
                        "name": "3 others",
                        "count": 3
                      }
                    ]
                  }
                },
                {
                  "name": "Title",
                  "dtype": "object",
                  "stats": {
                    "unique_count": 5,
                    "nan_count": 0,
                    "categories": [
                      {
                        "name": "Some major design flaws",
                        "count": 1
                      },
                      {
                        "name": "My favorite buy!",
                        "count": 1
                      },
                      {
                        "name": "3 others",
                        "count": 3
                      }
                    ]
                  }
                },
                {
                  "name": "Item_success",
                  "dtype": "object",
                  "stats": {
                    "unique_count": 2,
                    "nan_count": 0,
                    "categories": [
                      {
                        "name": "Not Trending",
                        "count": 4
                      },
                      {
                        "name": "Trending",
                        "count": 1
                      }
                    ]
                  }
                },
                {
                  "name": "_deepnote_index_column",
                  "dtype": "int64"
                }
              ],
              "rows_top": [
                {
                  "Clothing ID": 1077,
                  "Age": 60,
                  "Class Name": "Dresses",
                  "Department Name": "Dresses",
                  "Division Name": "General",
                  "Rating": 3,
                  "Recommended IND": 0,
                  "Review Text": "I had such high hopes for this dress and really wanted it to work for me. i initially ordered the p…",
                  "Title": "Some major design flaws",
                  "Item_success": "Not Trending",
                  "_deepnote_index_column": 0
                },
                {
                  "Clothing ID": 1049,
                  "Age": 50,
                  "Class Name": "Pants",
                  "Department Name": "Bottoms",
                  "Division Name": "General Petite",
                  "Rating": 5,
                  "Recommended IND": 1,
                  "Review Text": "I love, love, love this jumpsuit. it's fun, flirty, and fabulous! every time i wear it, i get nothi…",
                  "Title": "My favorite buy!",
                  "Item_success": "Not Trending",
                  "_deepnote_index_column": 1
                },
                {
                  "Clothing ID": 847,
                  "Age": 47,
                  "Class Name": "Blouses",
                  "Department Name": "Tops",
                  "Division Name": "General",
                  "Rating": 5,
                  "Recommended IND": 1,
                  "Review Text": "This shirt is very flattering to all due to the adjustable front tie. it is the perfect length to w…",
                  "Title": "Flattering shirt",
                  "Item_success": "Not Trending",
                  "_deepnote_index_column": 2
                },
                {
                  "Clothing ID": 1080,
                  "Age": 49,
                  "Class Name": "Dresses",
                  "Department Name": "Dresses",
                  "Division Name": "General",
                  "Rating": 2,
                  "Recommended IND": 0,
                  "Review Text": "I love tracy reese dresses, but this one is not for the very petite. i am just under   feet tall an…",
                  "Title": "Not for the very petite",
                  "Item_success": "Trending",
                  "_deepnote_index_column": 3
                },
                {
                  "Clothing ID": 858,
                  "Age": 39,
                  "Class Name": "Knits",
                  "Department Name": "Tops",
                  "Division Name": "General Petite",
                  "Rating": 5,
                  "Recommended IND": 1,
                  "Review Text": "I aded this in my basket at hte last mintue to see what it would look like in person. (store pick u…",
                  "Title": "Cagrcoal shimmer fun",
                  "Item_success": "Not Trending",
                  "_deepnote_index_column": 4
                }
              ],
              "rows_bottom": null
            },
            "text/plain": "   Clothing ID  Age Class Name Department Name   Division Name  Rating  \\\n0         1077   60    Dresses         Dresses         General       3   \n1         1049   50      Pants         Bottoms  General Petite       5   \n2          847   47    Blouses            Tops         General       5   \n3         1080   49    Dresses         Dresses         General       2   \n4          858   39      Knits            Tops  General Petite       5   \n\n   Recommended IND                                        Review Text  \\\n0                0  I had such high hopes for this dress and reall...   \n1                1  I love, love, love this jumpsuit. it's fun, fl...   \n2                1  This shirt is very flattering to all due to th...   \n3                0  I love tracy reese dresses, but this one is no...   \n4                1  I aded this in my basket at hte last mintue to...   \n\n                     Title  Item_success  \n0  Some major design flaws  Not Trending  \n1         My favorite buy!  Not Trending  \n2         Flattering shirt  Not Trending  \n3  Not for the very petite      Trending  \n4     Cagrcoal shimmer fun  Not Trending  ",
            "text/html": "<div>\n<style scoped>\n    .dataframe tbody tr th:only-of-type {\n        vertical-align: middle;\n    }\n\n    .dataframe tbody tr th {\n        vertical-align: top;\n    }\n\n    .dataframe thead th {\n        text-align: right;\n    }\n</style>\n<table border=\"1\" class=\"dataframe\">\n  <thead>\n    <tr style=\"text-align: right;\">\n      <th></th>\n      <th>Clothing ID</th>\n      <th>Age</th>\n      <th>Class Name</th>\n      <th>Department Name</th>\n      <th>Division Name</th>\n      <th>Rating</th>\n      <th>Recommended IND</th>\n      <th>Review Text</th>\n      <th>Title</th>\n      <th>Item_success</th>\n    </tr>\n  </thead>\n  <tbody>\n    <tr>\n      <th>0</th>\n      <td>1077</td>\n      <td>60</td>\n      <td>Dresses</td>\n      <td>Dresses</td>\n      <td>General</td>\n      <td>3</td>\n      <td>0</td>\n      <td>I had such high hopes for this dress and reall...</td>\n      <td>Some major design flaws</td>\n      <td>Not Trending</td>\n    </tr>\n    <tr>\n      <th>1</th>\n      <td>1049</td>\n      <td>50</td>\n      <td>Pants</td>\n      <td>Bottoms</td>\n      <td>General Petite</td>\n      <td>5</td>\n      <td>1</td>\n      <td>I love, love, love this jumpsuit. it's fun, fl...</td>\n      <td>My favorite buy!</td>\n      <td>Not Trending</td>\n    </tr>\n    <tr>\n      <th>2</th>\n      <td>847</td>\n      <td>47</td>\n      <td>Blouses</td>\n      <td>Tops</td>\n      <td>General</td>\n      <td>5</td>\n      <td>1</td>\n      <td>This shirt is very flattering to all due to th...</td>\n      <td>Flattering shirt</td>\n      <td>Not Trending</td>\n    </tr>\n    <tr>\n      <th>3</th>\n      <td>1080</td>\n      <td>49</td>\n      <td>Dresses</td>\n      <td>Dresses</td>\n      <td>General</td>\n      <td>2</td>\n      <td>0</td>\n      <td>I love tracy reese dresses, but this one is no...</td>\n      <td>Not for the very petite</td>\n      <td>Trending</td>\n    </tr>\n    <tr>\n      <th>4</th>\n      <td>858</td>\n      <td>39</td>\n      <td>Knits</td>\n      <td>Tops</td>\n      <td>General Petite</td>\n      <td>5</td>\n      <td>1</td>\n      <td>I aded this in my basket at hte last mintue to...</td>\n      <td>Cagrcoal shimmer fun</td>\n      <td>Not Trending</td>\n    </tr>\n  </tbody>\n</table>\n</div>"
          },
          "metadata": {}
        }
      ]
    },
    {
      "cell_type": "markdown",
      "metadata": {
        "tags": [],
        "cell_id": "00014-0eb6b825-f327-48ae-b3fe-9856c0457e7b",
        "deepnote_cell_type": "text-cell-h3",
        "id": "P1ZHcr3_kX0m"
      },
      "source": [
        "### 2. Remove Punctuation"
      ]
    },
    {
      "cell_type": "code",
      "metadata": {
        "tags": [],
        "deepnote_to_be_reexecuted": false,
        "source_hash": "1482da",
        "execution_start": 1623583520710,
        "execution_millis": 0,
        "cell_id": "00015-05413c52-6729-4564-9aa2-50b61ec1e9d4",
        "deepnote_cell_type": "code",
        "id": "Mub9FGmckX0m"
      },
      "source": [
        "string.punctuation\n",
        "def remove_punctuation(text):\n",
        "    no_punct=[words for words in text if words not in string.punctuation]\n",
        "    words_no_punct=''.join(no_punct)\n",
        "    return words_no_punct"
      ],
      "execution_count": null,
      "outputs": []
    },
    {
      "cell_type": "code",
      "metadata": {
        "tags": [],
        "deepnote_to_be_reexecuted": false,
        "source_hash": "34757ff8",
        "execution_start": 1623583520711,
        "execution_millis": 162,
        "cell_id": "00016-65814779-b745-47ea-9580-60b2bef05495",
        "deepnote_cell_type": "code",
        "id": "CKkvqQI6kX0n",
        "outputId": "e92f0de8-f6eb-43fd-8afe-48361f0a47a6"
      },
      "source": [
        "# Apply remove punctuation function above on each data:\n",
        "\n",
        "dataset['Review Text'] = dataset['Review Text'].apply(lambda x: remove_punctuation(x))\n",
        "dataset['Title'] = dataset['Title'].apply(lambda x: remove_punctuation(x))\n",
        "dataset.head()"
      ],
      "execution_count": null,
      "outputs": [
        {
          "name": "stderr",
          "text": "/shared-libs/python3.7/py-core/lib/python3.7/site-packages/ipykernel_launcher.py:2: SettingWithCopyWarning: \nA value is trying to be set on a copy of a slice from a DataFrame.\nTry using .loc[row_indexer,col_indexer] = value instead\n\nSee the caveats in the documentation: https://pandas.pydata.org/pandas-docs/stable/user_guide/indexing.html#returning-a-view-versus-a-copy\n  \n/shared-libs/python3.7/py-core/lib/python3.7/site-packages/ipykernel_launcher.py:3: SettingWithCopyWarning: \nA value is trying to be set on a copy of a slice from a DataFrame.\nTry using .loc[row_indexer,col_indexer] = value instead\n\nSee the caveats in the documentation: https://pandas.pydata.org/pandas-docs/stable/user_guide/indexing.html#returning-a-view-versus-a-copy\n  This is separate from the ipykernel package so we can avoid doing imports until\n",
          "output_type": "stream"
        },
        {
          "output_type": "execute_result",
          "execution_count": 10,
          "data": {
            "application/vnd.deepnote.dataframe.v2+json": {
              "row_count": 5,
              "column_count": 10,
              "columns": [
                {
                  "name": "Clothing ID",
                  "dtype": "int64",
                  "stats": {
                    "unique_count": 5,
                    "nan_count": 0,
                    "min": "847",
                    "max": "1080",
                    "histogram": [
                      {
                        "bin_start": 847,
                        "bin_end": 870.3,
                        "count": 2
                      },
                      {
                        "bin_start": 870.3,
                        "bin_end": 893.6,
                        "count": 0
                      },
                      {
                        "bin_start": 893.6,
                        "bin_end": 916.9,
                        "count": 0
                      },
                      {
                        "bin_start": 916.9,
                        "bin_end": 940.2,
                        "count": 0
                      },
                      {
                        "bin_start": 940.2,
                        "bin_end": 963.5,
                        "count": 0
                      },
                      {
                        "bin_start": 963.5,
                        "bin_end": 986.8,
                        "count": 0
                      },
                      {
                        "bin_start": 986.8,
                        "bin_end": 1010.1,
                        "count": 0
                      },
                      {
                        "bin_start": 1010.1,
                        "bin_end": 1033.4,
                        "count": 0
                      },
                      {
                        "bin_start": 1033.4,
                        "bin_end": 1056.7,
                        "count": 1
                      },
                      {
                        "bin_start": 1056.7,
                        "bin_end": 1080,
                        "count": 2
                      }
                    ]
                  }
                },
                {
                  "name": "Age",
                  "dtype": "int64",
                  "stats": {
                    "unique_count": 5,
                    "nan_count": 0,
                    "min": "39",
                    "max": "60",
                    "histogram": [
                      {
                        "bin_start": 39,
                        "bin_end": 41.1,
                        "count": 1
                      },
                      {
                        "bin_start": 41.1,
                        "bin_end": 43.2,
                        "count": 0
                      },
                      {
                        "bin_start": 43.2,
                        "bin_end": 45.3,
                        "count": 0
                      },
                      {
                        "bin_start": 45.3,
                        "bin_end": 47.4,
                        "count": 1
                      },
                      {
                        "bin_start": 47.4,
                        "bin_end": 49.5,
                        "count": 1
                      },
                      {
                        "bin_start": 49.5,
                        "bin_end": 51.6,
                        "count": 1
                      },
                      {
                        "bin_start": 51.6,
                        "bin_end": 53.7,
                        "count": 0
                      },
                      {
                        "bin_start": 53.7,
                        "bin_end": 55.8,
                        "count": 0
                      },
                      {
                        "bin_start": 55.8,
                        "bin_end": 57.900000000000006,
                        "count": 0
                      },
                      {
                        "bin_start": 57.900000000000006,
                        "bin_end": 60,
                        "count": 1
                      }
                    ]
                  }
                },
                {
                  "name": "Class Name",
                  "dtype": "object",
                  "stats": {
                    "unique_count": 4,
                    "nan_count": 0,
                    "categories": [
                      {
                        "name": "Dresses",
                        "count": 2
                      },
                      {
                        "name": "Pants",
                        "count": 1
                      },
                      {
                        "name": "2 others",
                        "count": 2
                      }
                    ]
                  }
                },
                {
                  "name": "Department Name",
                  "dtype": "object",
                  "stats": {
                    "unique_count": 3,
                    "nan_count": 0,
                    "categories": [
                      {
                        "name": "Dresses",
                        "count": 2
                      },
                      {
                        "name": "Tops",
                        "count": 2
                      },
                      {
                        "name": "Bottoms",
                        "count": 1
                      }
                    ]
                  }
                },
                {
                  "name": "Division Name",
                  "dtype": "object",
                  "stats": {
                    "unique_count": 2,
                    "nan_count": 0,
                    "categories": [
                      {
                        "name": "General",
                        "count": 3
                      },
                      {
                        "name": "General Petite",
                        "count": 2
                      }
                    ]
                  }
                },
                {
                  "name": "Rating",
                  "dtype": "int64",
                  "stats": {
                    "unique_count": 3,
                    "nan_count": 0,
                    "min": "2",
                    "max": "5",
                    "histogram": [
                      {
                        "bin_start": 2,
                        "bin_end": 2.3,
                        "count": 1
                      },
                      {
                        "bin_start": 2.3,
                        "bin_end": 2.6,
                        "count": 0
                      },
                      {
                        "bin_start": 2.6,
                        "bin_end": 2.9,
                        "count": 0
                      },
                      {
                        "bin_start": 2.9,
                        "bin_end": 3.2,
                        "count": 1
                      },
                      {
                        "bin_start": 3.2,
                        "bin_end": 3.5,
                        "count": 0
                      },
                      {
                        "bin_start": 3.5,
                        "bin_end": 3.8,
                        "count": 0
                      },
                      {
                        "bin_start": 3.8,
                        "bin_end": 4.1,
                        "count": 0
                      },
                      {
                        "bin_start": 4.1,
                        "bin_end": 4.4,
                        "count": 0
                      },
                      {
                        "bin_start": 4.4,
                        "bin_end": 4.699999999999999,
                        "count": 0
                      },
                      {
                        "bin_start": 4.699999999999999,
                        "bin_end": 5,
                        "count": 3
                      }
                    ]
                  }
                },
                {
                  "name": "Recommended IND",
                  "dtype": "int64",
                  "stats": {
                    "unique_count": 2,
                    "nan_count": 0,
                    "min": "0",
                    "max": "1",
                    "histogram": [
                      {
                        "bin_start": 0,
                        "bin_end": 0.1,
                        "count": 2
                      },
                      {
                        "bin_start": 0.1,
                        "bin_end": 0.2,
                        "count": 0
                      },
                      {
                        "bin_start": 0.2,
                        "bin_end": 0.30000000000000004,
                        "count": 0
                      },
                      {
                        "bin_start": 0.30000000000000004,
                        "bin_end": 0.4,
                        "count": 0
                      },
                      {
                        "bin_start": 0.4,
                        "bin_end": 0.5,
                        "count": 0
                      },
                      {
                        "bin_start": 0.5,
                        "bin_end": 0.6000000000000001,
                        "count": 0
                      },
                      {
                        "bin_start": 0.6000000000000001,
                        "bin_end": 0.7000000000000001,
                        "count": 0
                      },
                      {
                        "bin_start": 0.7000000000000001,
                        "bin_end": 0.8,
                        "count": 0
                      },
                      {
                        "bin_start": 0.8,
                        "bin_end": 0.9,
                        "count": 0
                      },
                      {
                        "bin_start": 0.9,
                        "bin_end": 1,
                        "count": 3
                      }
                    ]
                  }
                },
                {
                  "name": "Review Text",
                  "dtype": "object",
                  "stats": {
                    "unique_count": 5,
                    "nan_count": 0,
                    "categories": [
                      {
                        "name": "I had such high hopes for this dress and really wanted it to work for me i initially ordered the petite small my usual size but i found this to be outrageously small so small in fact that i could not zip it up i reordered it in petite medium which was just ok overall the top half was comfortable and fit nicely but the bottom half had a very tight under layer and several somewhat cheap net over layers imo a major design flaw was the net over layer sewn directly into the zipper  it c",
                        "count": 1
                      },
                      {
                        "name": "I love love love this jumpsuit its fun flirty and fabulous every time i wear it i get nothing but great compliments",
                        "count": 1
                      },
                      {
                        "name": "3 others",
                        "count": 3
                      }
                    ]
                  }
                },
                {
                  "name": "Title",
                  "dtype": "object",
                  "stats": {
                    "unique_count": 5,
                    "nan_count": 0,
                    "categories": [
                      {
                        "name": "Some major design flaws",
                        "count": 1
                      },
                      {
                        "name": "My favorite buy",
                        "count": 1
                      },
                      {
                        "name": "3 others",
                        "count": 3
                      }
                    ]
                  }
                },
                {
                  "name": "Item_success",
                  "dtype": "object",
                  "stats": {
                    "unique_count": 2,
                    "nan_count": 0,
                    "categories": [
                      {
                        "name": "Not Trending",
                        "count": 4
                      },
                      {
                        "name": "Trending",
                        "count": 1
                      }
                    ]
                  }
                },
                {
                  "name": "_deepnote_index_column",
                  "dtype": "int64"
                }
              ],
              "rows_top": [
                {
                  "Clothing ID": 1077,
                  "Age": 60,
                  "Class Name": "Dresses",
                  "Department Name": "Dresses",
                  "Division Name": "General",
                  "Rating": 3,
                  "Recommended IND": 0,
                  "Review Text": "I had such high hopes for this dress and really wanted it to work for me i initially ordered the pe…",
                  "Title": "Some major design flaws",
                  "Item_success": "Not Trending",
                  "_deepnote_index_column": 0
                },
                {
                  "Clothing ID": 1049,
                  "Age": 50,
                  "Class Name": "Pants",
                  "Department Name": "Bottoms",
                  "Division Name": "General Petite",
                  "Rating": 5,
                  "Recommended IND": 1,
                  "Review Text": "I love love love this jumpsuit its fun flirty and fabulous every time i wear it i get nothing but g…",
                  "Title": "My favorite buy",
                  "Item_success": "Not Trending",
                  "_deepnote_index_column": 1
                },
                {
                  "Clothing ID": 847,
                  "Age": 47,
                  "Class Name": "Blouses",
                  "Department Name": "Tops",
                  "Division Name": "General",
                  "Rating": 5,
                  "Recommended IND": 1,
                  "Review Text": "This shirt is very flattering to all due to the adjustable front tie it is the perfect length to we…",
                  "Title": "Flattering shirt",
                  "Item_success": "Not Trending",
                  "_deepnote_index_column": 2
                },
                {
                  "Clothing ID": 1080,
                  "Age": 49,
                  "Class Name": "Dresses",
                  "Department Name": "Dresses",
                  "Division Name": "General",
                  "Rating": 2,
                  "Recommended IND": 0,
                  "Review Text": "I love tracy reese dresses but this one is not for the very petite i am just under   feet tall and …",
                  "Title": "Not for the very petite",
                  "Item_success": "Trending",
                  "_deepnote_index_column": 3
                },
                {
                  "Clothing ID": 858,
                  "Age": 39,
                  "Class Name": "Knits",
                  "Department Name": "Tops",
                  "Division Name": "General Petite",
                  "Rating": 5,
                  "Recommended IND": 1,
                  "Review Text": "I aded this in my basket at hte last mintue to see what it would look like in person store pick up …",
                  "Title": "Cagrcoal shimmer fun",
                  "Item_success": "Not Trending",
                  "_deepnote_index_column": 4
                }
              ],
              "rows_bottom": null
            },
            "text/plain": "   Clothing ID  Age Class Name Department Name   Division Name  Rating  \\\n0         1077   60    Dresses         Dresses         General       3   \n1         1049   50      Pants         Bottoms  General Petite       5   \n2          847   47    Blouses            Tops         General       5   \n3         1080   49    Dresses         Dresses         General       2   \n4          858   39      Knits            Tops  General Petite       5   \n\n   Recommended IND                                        Review Text  \\\n0                0  I had such high hopes for this dress and reall...   \n1                1  I love love love this jumpsuit its fun flirty ...   \n2                1  This shirt is very flattering to all due to th...   \n3                0  I love tracy reese dresses but this one is not...   \n4                1  I aded this in my basket at hte last mintue to...   \n\n                     Title  Item_success  \n0  Some major design flaws  Not Trending  \n1          My favorite buy  Not Trending  \n2         Flattering shirt  Not Trending  \n3  Not for the very petite      Trending  \n4     Cagrcoal shimmer fun  Not Trending  ",
            "text/html": "<div>\n<style scoped>\n    .dataframe tbody tr th:only-of-type {\n        vertical-align: middle;\n    }\n\n    .dataframe tbody tr th {\n        vertical-align: top;\n    }\n\n    .dataframe thead th {\n        text-align: right;\n    }\n</style>\n<table border=\"1\" class=\"dataframe\">\n  <thead>\n    <tr style=\"text-align: right;\">\n      <th></th>\n      <th>Clothing ID</th>\n      <th>Age</th>\n      <th>Class Name</th>\n      <th>Department Name</th>\n      <th>Division Name</th>\n      <th>Rating</th>\n      <th>Recommended IND</th>\n      <th>Review Text</th>\n      <th>Title</th>\n      <th>Item_success</th>\n    </tr>\n  </thead>\n  <tbody>\n    <tr>\n      <th>0</th>\n      <td>1077</td>\n      <td>60</td>\n      <td>Dresses</td>\n      <td>Dresses</td>\n      <td>General</td>\n      <td>3</td>\n      <td>0</td>\n      <td>I had such high hopes for this dress and reall...</td>\n      <td>Some major design flaws</td>\n      <td>Not Trending</td>\n    </tr>\n    <tr>\n      <th>1</th>\n      <td>1049</td>\n      <td>50</td>\n      <td>Pants</td>\n      <td>Bottoms</td>\n      <td>General Petite</td>\n      <td>5</td>\n      <td>1</td>\n      <td>I love love love this jumpsuit its fun flirty ...</td>\n      <td>My favorite buy</td>\n      <td>Not Trending</td>\n    </tr>\n    <tr>\n      <th>2</th>\n      <td>847</td>\n      <td>47</td>\n      <td>Blouses</td>\n      <td>Tops</td>\n      <td>General</td>\n      <td>5</td>\n      <td>1</td>\n      <td>This shirt is very flattering to all due to th...</td>\n      <td>Flattering shirt</td>\n      <td>Not Trending</td>\n    </tr>\n    <tr>\n      <th>3</th>\n      <td>1080</td>\n      <td>49</td>\n      <td>Dresses</td>\n      <td>Dresses</td>\n      <td>General</td>\n      <td>2</td>\n      <td>0</td>\n      <td>I love tracy reese dresses but this one is not...</td>\n      <td>Not for the very petite</td>\n      <td>Trending</td>\n    </tr>\n    <tr>\n      <th>4</th>\n      <td>858</td>\n      <td>39</td>\n      <td>Knits</td>\n      <td>Tops</td>\n      <td>General Petite</td>\n      <td>5</td>\n      <td>1</td>\n      <td>I aded this in my basket at hte last mintue to...</td>\n      <td>Cagrcoal shimmer fun</td>\n      <td>Not Trending</td>\n    </tr>\n  </tbody>\n</table>\n</div>"
          },
          "metadata": {}
        }
      ]
    },
    {
      "cell_type": "markdown",
      "metadata": {
        "tags": [],
        "cell_id": "00017-158dd6b8-3091-4644-b94b-8fedeb75e765",
        "deepnote_cell_type": "text-cell-h3",
        "id": "EmRNzOpskX0n"
      },
      "source": [
        "### 3. Tokenization"
      ]
    },
    {
      "cell_type": "code",
      "metadata": {
        "tags": [],
        "deepnote_to_be_reexecuted": false,
        "source_hash": "2f3ba09c",
        "execution_start": 1623583520910,
        "execution_millis": 0,
        "cell_id": "00018-44e79e41-022d-44f9-a4f2-0860763e3186",
        "deepnote_cell_type": "code",
        "id": "Nnu2iU1QkX0o"
      },
      "source": [
        "def tokenizer(text):\n",
        "    tokenizer = WordPunctTokenizer()\n",
        "    return tokenizer.tokenize(text)"
      ],
      "execution_count": null,
      "outputs": []
    },
    {
      "cell_type": "code",
      "metadata": {
        "tags": [],
        "deepnote_to_be_reexecuted": false,
        "source_hash": "953e7a40",
        "execution_start": 1623583520910,
        "execution_millis": 169,
        "cell_id": "00019-04f4341d-6fe2-4a93-a36c-5ee9a4329217",
        "deepnote_cell_type": "code",
        "id": "IWRiIibCkX0o",
        "outputId": "8661e8c4-f7bb-421f-bdbf-11032cb5c0df"
      },
      "source": [
        "# Apply tokenize string values:\n",
        "\n",
        "dataset['Review Text'] = dataset['Review Text'].apply(lambda x: tokenizer(x))\n",
        "dataset['Title'] = dataset['Title'].apply(lambda x: tokenizer(x))\n",
        "dataset.head()"
      ],
      "execution_count": null,
      "outputs": [
        {
          "name": "stderr",
          "text": "/shared-libs/python3.7/py-core/lib/python3.7/site-packages/ipykernel_launcher.py:2: SettingWithCopyWarning: \nA value is trying to be set on a copy of a slice from a DataFrame.\nTry using .loc[row_indexer,col_indexer] = value instead\n\nSee the caveats in the documentation: https://pandas.pydata.org/pandas-docs/stable/user_guide/indexing.html#returning-a-view-versus-a-copy\n  \n/shared-libs/python3.7/py-core/lib/python3.7/site-packages/ipykernel_launcher.py:3: SettingWithCopyWarning: \nA value is trying to be set on a copy of a slice from a DataFrame.\nTry using .loc[row_indexer,col_indexer] = value instead\n\nSee the caveats in the documentation: https://pandas.pydata.org/pandas-docs/stable/user_guide/indexing.html#returning-a-view-versus-a-copy\n  This is separate from the ipykernel package so we can avoid doing imports until\n",
          "output_type": "stream"
        },
        {
          "output_type": "execute_result",
          "execution_count": 12,
          "data": {
            "application/vnd.deepnote.dataframe.v2+json": {
              "row_count": 5,
              "column_count": 10,
              "columns": [
                {
                  "name": "Clothing ID",
                  "dtype": "int64",
                  "stats": {
                    "unique_count": 5,
                    "nan_count": 0,
                    "min": "847",
                    "max": "1080",
                    "histogram": [
                      {
                        "bin_start": 847,
                        "bin_end": 870.3,
                        "count": 2
                      },
                      {
                        "bin_start": 870.3,
                        "bin_end": 893.6,
                        "count": 0
                      },
                      {
                        "bin_start": 893.6,
                        "bin_end": 916.9,
                        "count": 0
                      },
                      {
                        "bin_start": 916.9,
                        "bin_end": 940.2,
                        "count": 0
                      },
                      {
                        "bin_start": 940.2,
                        "bin_end": 963.5,
                        "count": 0
                      },
                      {
                        "bin_start": 963.5,
                        "bin_end": 986.8,
                        "count": 0
                      },
                      {
                        "bin_start": 986.8,
                        "bin_end": 1010.1,
                        "count": 0
                      },
                      {
                        "bin_start": 1010.1,
                        "bin_end": 1033.4,
                        "count": 0
                      },
                      {
                        "bin_start": 1033.4,
                        "bin_end": 1056.7,
                        "count": 1
                      },
                      {
                        "bin_start": 1056.7,
                        "bin_end": 1080,
                        "count": 2
                      }
                    ]
                  }
                },
                {
                  "name": "Age",
                  "dtype": "int64",
                  "stats": {
                    "unique_count": 5,
                    "nan_count": 0,
                    "min": "39",
                    "max": "60",
                    "histogram": [
                      {
                        "bin_start": 39,
                        "bin_end": 41.1,
                        "count": 1
                      },
                      {
                        "bin_start": 41.1,
                        "bin_end": 43.2,
                        "count": 0
                      },
                      {
                        "bin_start": 43.2,
                        "bin_end": 45.3,
                        "count": 0
                      },
                      {
                        "bin_start": 45.3,
                        "bin_end": 47.4,
                        "count": 1
                      },
                      {
                        "bin_start": 47.4,
                        "bin_end": 49.5,
                        "count": 1
                      },
                      {
                        "bin_start": 49.5,
                        "bin_end": 51.6,
                        "count": 1
                      },
                      {
                        "bin_start": 51.6,
                        "bin_end": 53.7,
                        "count": 0
                      },
                      {
                        "bin_start": 53.7,
                        "bin_end": 55.8,
                        "count": 0
                      },
                      {
                        "bin_start": 55.8,
                        "bin_end": 57.900000000000006,
                        "count": 0
                      },
                      {
                        "bin_start": 57.900000000000006,
                        "bin_end": 60,
                        "count": 1
                      }
                    ]
                  }
                },
                {
                  "name": "Class Name",
                  "dtype": "object",
                  "stats": {
                    "unique_count": 4,
                    "nan_count": 0,
                    "categories": [
                      {
                        "name": "Dresses",
                        "count": 2
                      },
                      {
                        "name": "Pants",
                        "count": 1
                      },
                      {
                        "name": "2 others",
                        "count": 2
                      }
                    ]
                  }
                },
                {
                  "name": "Department Name",
                  "dtype": "object",
                  "stats": {
                    "unique_count": 3,
                    "nan_count": 0,
                    "categories": [
                      {
                        "name": "Dresses",
                        "count": 2
                      },
                      {
                        "name": "Tops",
                        "count": 2
                      },
                      {
                        "name": "Bottoms",
                        "count": 1
                      }
                    ]
                  }
                },
                {
                  "name": "Division Name",
                  "dtype": "object",
                  "stats": {
                    "unique_count": 2,
                    "nan_count": 0,
                    "categories": [
                      {
                        "name": "General",
                        "count": 3
                      },
                      {
                        "name": "General Petite",
                        "count": 2
                      }
                    ]
                  }
                },
                {
                  "name": "Rating",
                  "dtype": "int64",
                  "stats": {
                    "unique_count": 3,
                    "nan_count": 0,
                    "min": "2",
                    "max": "5",
                    "histogram": [
                      {
                        "bin_start": 2,
                        "bin_end": 2.3,
                        "count": 1
                      },
                      {
                        "bin_start": 2.3,
                        "bin_end": 2.6,
                        "count": 0
                      },
                      {
                        "bin_start": 2.6,
                        "bin_end": 2.9,
                        "count": 0
                      },
                      {
                        "bin_start": 2.9,
                        "bin_end": 3.2,
                        "count": 1
                      },
                      {
                        "bin_start": 3.2,
                        "bin_end": 3.5,
                        "count": 0
                      },
                      {
                        "bin_start": 3.5,
                        "bin_end": 3.8,
                        "count": 0
                      },
                      {
                        "bin_start": 3.8,
                        "bin_end": 4.1,
                        "count": 0
                      },
                      {
                        "bin_start": 4.1,
                        "bin_end": 4.4,
                        "count": 0
                      },
                      {
                        "bin_start": 4.4,
                        "bin_end": 4.699999999999999,
                        "count": 0
                      },
                      {
                        "bin_start": 4.699999999999999,
                        "bin_end": 5,
                        "count": 3
                      }
                    ]
                  }
                },
                {
                  "name": "Recommended IND",
                  "dtype": "int64",
                  "stats": {
                    "unique_count": 2,
                    "nan_count": 0,
                    "min": "0",
                    "max": "1",
                    "histogram": [
                      {
                        "bin_start": 0,
                        "bin_end": 0.1,
                        "count": 2
                      },
                      {
                        "bin_start": 0.1,
                        "bin_end": 0.2,
                        "count": 0
                      },
                      {
                        "bin_start": 0.2,
                        "bin_end": 0.30000000000000004,
                        "count": 0
                      },
                      {
                        "bin_start": 0.30000000000000004,
                        "bin_end": 0.4,
                        "count": 0
                      },
                      {
                        "bin_start": 0.4,
                        "bin_end": 0.5,
                        "count": 0
                      },
                      {
                        "bin_start": 0.5,
                        "bin_end": 0.6000000000000001,
                        "count": 0
                      },
                      {
                        "bin_start": 0.6000000000000001,
                        "bin_end": 0.7000000000000001,
                        "count": 0
                      },
                      {
                        "bin_start": 0.7000000000000001,
                        "bin_end": 0.8,
                        "count": 0
                      },
                      {
                        "bin_start": 0.8,
                        "bin_end": 0.9,
                        "count": 0
                      },
                      {
                        "bin_start": 0.9,
                        "bin_end": 1,
                        "count": 3
                      }
                    ]
                  }
                },
                {
                  "name": "Review Text",
                  "dtype": "object",
                  "stats": {
                    "unique_count": 5,
                    "nan_count": 0,
                    "categories": [
                      {
                        "name": "['I', 'had', 'such', 'high', 'hopes', 'for', 'this', 'dress', 'and', 'really', 'wanted', 'it', 'to', 'work', 'for', 'me', 'i', 'initially', 'ordered', 'the', 'petite', 'small', 'my', 'usual', 'size', 'but', 'i', 'found', 'this', 'to', 'be', 'outrageously', 'small', 'so', 'small', 'in', 'fact', 'that', 'i', 'could', 'not', 'zip', 'it', 'up', 'i', 'reordered', 'it', 'in', 'petite', 'medium', 'which', 'was', 'just', 'ok', 'overall', 'the', 'top', 'half', 'was', 'comfortable', 'and', 'fit', 'nicely', 'but', 'the', 'bottom', 'half', 'had', 'a', 'very', 'tight', 'under', 'layer', 'and', 'several', 'somewhat', 'cheap', 'net', 'over', 'layers', 'imo', 'a', 'major', 'design', 'flaw', 'was', 'the', 'net', 'over', 'layer', 'sewn', 'directly', 'into', 'the', 'zipper', 'it', 'c']",
                        "count": 1
                      },
                      {
                        "name": "['I', 'love', 'love', 'love', 'this', 'jumpsuit', 'its', 'fun', 'flirty', 'and', 'fabulous', 'every', 'time', 'i', 'wear', 'it', 'i', 'get', 'nothing', 'but', 'great', 'compliments']",
                        "count": 1
                      },
                      {
                        "name": "3 others",
                        "count": 3
                      }
                    ]
                  }
                },
                {
                  "name": "Title",
                  "dtype": "object",
                  "stats": {
                    "unique_count": 5,
                    "nan_count": 0,
                    "categories": [
                      {
                        "name": "['Some', 'major', 'design', 'flaws']",
                        "count": 1
                      },
                      {
                        "name": "['My', 'favorite', 'buy']",
                        "count": 1
                      },
                      {
                        "name": "3 others",
                        "count": 3
                      }
                    ]
                  }
                },
                {
                  "name": "Item_success",
                  "dtype": "object",
                  "stats": {
                    "unique_count": 2,
                    "nan_count": 0,
                    "categories": [
                      {
                        "name": "Not Trending",
                        "count": 4
                      },
                      {
                        "name": "Trending",
                        "count": 1
                      }
                    ]
                  }
                },
                {
                  "name": "_deepnote_index_column",
                  "dtype": "int64"
                }
              ],
              "rows_top": [
                {
                  "Clothing ID": 1077,
                  "Age": 60,
                  "Class Name": "Dresses",
                  "Department Name": "Dresses",
                  "Division Name": "General",
                  "Rating": 3,
                  "Recommended IND": 0,
                  "Review Text": "['I', 'had', 'such', 'high', 'hopes', 'for', 'this', 'dress', 'and', 'really', 'wanted', 'it', 'to'…",
                  "Title": "['Some', 'major', 'design', 'flaws']",
                  "Item_success": "Not Trending",
                  "_deepnote_index_column": 0
                },
                {
                  "Clothing ID": 1049,
                  "Age": 50,
                  "Class Name": "Pants",
                  "Department Name": "Bottoms",
                  "Division Name": "General Petite",
                  "Rating": 5,
                  "Recommended IND": 1,
                  "Review Text": "['I', 'love', 'love', 'love', 'this', 'jumpsuit', 'its', 'fun', 'flirty', 'and', 'fabulous', 'every…",
                  "Title": "['My', 'favorite', 'buy']",
                  "Item_success": "Not Trending",
                  "_deepnote_index_column": 1
                },
                {
                  "Clothing ID": 847,
                  "Age": 47,
                  "Class Name": "Blouses",
                  "Department Name": "Tops",
                  "Division Name": "General",
                  "Rating": 5,
                  "Recommended IND": 1,
                  "Review Text": "['This', 'shirt', 'is', 'very', 'flattering', 'to', 'all', 'due', 'to', 'the', 'adjustable', 'front…",
                  "Title": "['Flattering', 'shirt']",
                  "Item_success": "Not Trending",
                  "_deepnote_index_column": 2
                },
                {
                  "Clothing ID": 1080,
                  "Age": 49,
                  "Class Name": "Dresses",
                  "Department Name": "Dresses",
                  "Division Name": "General",
                  "Rating": 2,
                  "Recommended IND": 0,
                  "Review Text": "['I', 'love', 'tracy', 'reese', 'dresses', 'but', 'this', 'one', 'is', 'not', 'for', 'the', 'very',…",
                  "Title": "['Not', 'for', 'the', 'very', 'petite']",
                  "Item_success": "Trending",
                  "_deepnote_index_column": 3
                },
                {
                  "Clothing ID": 858,
                  "Age": 39,
                  "Class Name": "Knits",
                  "Department Name": "Tops",
                  "Division Name": "General Petite",
                  "Rating": 5,
                  "Recommended IND": 1,
                  "Review Text": "['I', 'aded', 'this', 'in', 'my', 'basket', 'at', 'hte', 'last', 'mintue', 'to', 'see', 'what', 'it…",
                  "Title": "['Cagrcoal', 'shimmer', 'fun']",
                  "Item_success": "Not Trending",
                  "_deepnote_index_column": 4
                }
              ],
              "rows_bottom": null
            },
            "text/plain": "   Clothing ID  Age Class Name Department Name   Division Name  Rating  \\\n0         1077   60    Dresses         Dresses         General       3   \n1         1049   50      Pants         Bottoms  General Petite       5   \n2          847   47    Blouses            Tops         General       5   \n3         1080   49    Dresses         Dresses         General       2   \n4          858   39      Knits            Tops  General Petite       5   \n\n   Recommended IND                                        Review Text  \\\n0                0  [I, had, such, high, hopes, for, this, dress, ...   \n1                1  [I, love, love, love, this, jumpsuit, its, fun...   \n2                1  [This, shirt, is, very, flattering, to, all, d...   \n3                0  [I, love, tracy, reese, dresses, but, this, on...   \n4                1  [I, aded, this, in, my, basket, at, hte, last,...   \n\n                           Title  Item_success  \n0   [Some, major, design, flaws]  Not Trending  \n1            [My, favorite, buy]  Not Trending  \n2            [Flattering, shirt]  Not Trending  \n3  [Not, for, the, very, petite]      Trending  \n4       [Cagrcoal, shimmer, fun]  Not Trending  ",
            "text/html": "<div>\n<style scoped>\n    .dataframe tbody tr th:only-of-type {\n        vertical-align: middle;\n    }\n\n    .dataframe tbody tr th {\n        vertical-align: top;\n    }\n\n    .dataframe thead th {\n        text-align: right;\n    }\n</style>\n<table border=\"1\" class=\"dataframe\">\n  <thead>\n    <tr style=\"text-align: right;\">\n      <th></th>\n      <th>Clothing ID</th>\n      <th>Age</th>\n      <th>Class Name</th>\n      <th>Department Name</th>\n      <th>Division Name</th>\n      <th>Rating</th>\n      <th>Recommended IND</th>\n      <th>Review Text</th>\n      <th>Title</th>\n      <th>Item_success</th>\n    </tr>\n  </thead>\n  <tbody>\n    <tr>\n      <th>0</th>\n      <td>1077</td>\n      <td>60</td>\n      <td>Dresses</td>\n      <td>Dresses</td>\n      <td>General</td>\n      <td>3</td>\n      <td>0</td>\n      <td>[I, had, such, high, hopes, for, this, dress, ...</td>\n      <td>[Some, major, design, flaws]</td>\n      <td>Not Trending</td>\n    </tr>\n    <tr>\n      <th>1</th>\n      <td>1049</td>\n      <td>50</td>\n      <td>Pants</td>\n      <td>Bottoms</td>\n      <td>General Petite</td>\n      <td>5</td>\n      <td>1</td>\n      <td>[I, love, love, love, this, jumpsuit, its, fun...</td>\n      <td>[My, favorite, buy]</td>\n      <td>Not Trending</td>\n    </tr>\n    <tr>\n      <th>2</th>\n      <td>847</td>\n      <td>47</td>\n      <td>Blouses</td>\n      <td>Tops</td>\n      <td>General</td>\n      <td>5</td>\n      <td>1</td>\n      <td>[This, shirt, is, very, flattering, to, all, d...</td>\n      <td>[Flattering, shirt]</td>\n      <td>Not Trending</td>\n    </tr>\n    <tr>\n      <th>3</th>\n      <td>1080</td>\n      <td>49</td>\n      <td>Dresses</td>\n      <td>Dresses</td>\n      <td>General</td>\n      <td>2</td>\n      <td>0</td>\n      <td>[I, love, tracy, reese, dresses, but, this, on...</td>\n      <td>[Not, for, the, very, petite]</td>\n      <td>Trending</td>\n    </tr>\n    <tr>\n      <th>4</th>\n      <td>858</td>\n      <td>39</td>\n      <td>Knits</td>\n      <td>Tops</td>\n      <td>General Petite</td>\n      <td>5</td>\n      <td>1</td>\n      <td>[I, aded, this, in, my, basket, at, hte, last,...</td>\n      <td>[Cagrcoal, shimmer, fun]</td>\n      <td>Not Trending</td>\n    </tr>\n  </tbody>\n</table>\n</div>"
          },
          "metadata": {}
        }
      ]
    },
    {
      "cell_type": "markdown",
      "metadata": {
        "tags": [],
        "cell_id": "00020-1e84dfea-a61c-4657-bfc1-4fc8815e1cd2",
        "deepnote_cell_type": "text-cell-h3",
        "id": "hb_KkEZ-kX0o"
      },
      "source": [
        "### 4. Remove Stopwords"
      ]
    },
    {
      "cell_type": "code",
      "metadata": {
        "tags": [],
        "deepnote_to_be_reexecuted": false,
        "source_hash": "e2dbd60a",
        "execution_start": 1623583521074,
        "execution_millis": 32,
        "cell_id": "00021-6cba9e51-3819-48f1-a6a9-97241441a0b3",
        "deepnote_cell_type": "code",
        "id": "qwtDMoaokX0p",
        "outputId": "3f6713c8-bca6-47c7-b1d0-ce9f182b35fb"
      },
      "source": [
        "nltk.download('stopwords')\n",
        "stops_list = stopwords.words('english')"
      ],
      "execution_count": null,
      "outputs": [
        {
          "name": "stderr",
          "text": "[nltk_data] Downloading package stopwords to /root/nltk_data...\n[nltk_data]   Package stopwords is already up-to-date!\n",
          "output_type": "stream"
        }
      ]
    },
    {
      "cell_type": "code",
      "metadata": {
        "tags": [],
        "deepnote_to_be_reexecuted": false,
        "source_hash": "15342334",
        "execution_start": 1623583521146,
        "execution_millis": 0,
        "cell_id": "00022-7dc79c7d-b780-452a-999c-72e88d409685",
        "deepnote_cell_type": "code",
        "id": "-4HobyCFkX0p"
      },
      "source": [
        "def remove_stopwords(tokens, is_lower_case=False):\n",
        "    tokens = [token.strip() for token in tokens]\n",
        "    if is_lower_case:\n",
        "        filtered_tokens = [token for token in tokens if token not in stops_list]\n",
        "    else:\n",
        "        filtered_tokens = [token for token in tokens if token.lower() not in stops_list]\n",
        "    \n",
        "    filtered_text = ' '.join(filtered_tokens)    \n",
        "    return filtered_text"
      ],
      "execution_count": null,
      "outputs": []
    },
    {
      "cell_type": "code",
      "metadata": {
        "tags": [],
        "deepnote_to_be_reexecuted": false,
        "source_hash": "7ff9cf9a",
        "execution_start": 1623583521189,
        "execution_millis": 657,
        "cell_id": "00023-7d416216-9190-4659-b3c5-806b0309041e",
        "deepnote_cell_type": "code",
        "id": "mUqeSwZ0kX0p",
        "outputId": "05fdd13a-0753-4d76-bebf-575c4ee7c35c"
      },
      "source": [
        "# Apply removing stopwords function:\n",
        "\n",
        "dataset['Review Text'] = dataset['Review Text'].apply(lambda x: remove_stopwords(x))\n",
        "dataset['Title'] = dataset['Title'].apply(lambda x: remove_stopwords(x))\n",
        "dataset.head()"
      ],
      "execution_count": null,
      "outputs": [
        {
          "name": "stderr",
          "text": "/shared-libs/python3.7/py-core/lib/python3.7/site-packages/ipykernel_launcher.py:2: SettingWithCopyWarning: \nA value is trying to be set on a copy of a slice from a DataFrame.\nTry using .loc[row_indexer,col_indexer] = value instead\n\nSee the caveats in the documentation: https://pandas.pydata.org/pandas-docs/stable/user_guide/indexing.html#returning-a-view-versus-a-copy\n  \n/shared-libs/python3.7/py-core/lib/python3.7/site-packages/ipykernel_launcher.py:3: SettingWithCopyWarning: \nA value is trying to be set on a copy of a slice from a DataFrame.\nTry using .loc[row_indexer,col_indexer] = value instead\n\nSee the caveats in the documentation: https://pandas.pydata.org/pandas-docs/stable/user_guide/indexing.html#returning-a-view-versus-a-copy\n  This is separate from the ipykernel package so we can avoid doing imports until\n",
          "output_type": "stream"
        },
        {
          "output_type": "execute_result",
          "execution_count": 15,
          "data": {
            "application/vnd.deepnote.dataframe.v2+json": {
              "row_count": 5,
              "column_count": 10,
              "columns": [
                {
                  "name": "Clothing ID",
                  "dtype": "int64",
                  "stats": {
                    "unique_count": 5,
                    "nan_count": 0,
                    "min": "847",
                    "max": "1080",
                    "histogram": [
                      {
                        "bin_start": 847,
                        "bin_end": 870.3,
                        "count": 2
                      },
                      {
                        "bin_start": 870.3,
                        "bin_end": 893.6,
                        "count": 0
                      },
                      {
                        "bin_start": 893.6,
                        "bin_end": 916.9,
                        "count": 0
                      },
                      {
                        "bin_start": 916.9,
                        "bin_end": 940.2,
                        "count": 0
                      },
                      {
                        "bin_start": 940.2,
                        "bin_end": 963.5,
                        "count": 0
                      },
                      {
                        "bin_start": 963.5,
                        "bin_end": 986.8,
                        "count": 0
                      },
                      {
                        "bin_start": 986.8,
                        "bin_end": 1010.1,
                        "count": 0
                      },
                      {
                        "bin_start": 1010.1,
                        "bin_end": 1033.4,
                        "count": 0
                      },
                      {
                        "bin_start": 1033.4,
                        "bin_end": 1056.7,
                        "count": 1
                      },
                      {
                        "bin_start": 1056.7,
                        "bin_end": 1080,
                        "count": 2
                      }
                    ]
                  }
                },
                {
                  "name": "Age",
                  "dtype": "int64",
                  "stats": {
                    "unique_count": 5,
                    "nan_count": 0,
                    "min": "39",
                    "max": "60",
                    "histogram": [
                      {
                        "bin_start": 39,
                        "bin_end": 41.1,
                        "count": 1
                      },
                      {
                        "bin_start": 41.1,
                        "bin_end": 43.2,
                        "count": 0
                      },
                      {
                        "bin_start": 43.2,
                        "bin_end": 45.3,
                        "count": 0
                      },
                      {
                        "bin_start": 45.3,
                        "bin_end": 47.4,
                        "count": 1
                      },
                      {
                        "bin_start": 47.4,
                        "bin_end": 49.5,
                        "count": 1
                      },
                      {
                        "bin_start": 49.5,
                        "bin_end": 51.6,
                        "count": 1
                      },
                      {
                        "bin_start": 51.6,
                        "bin_end": 53.7,
                        "count": 0
                      },
                      {
                        "bin_start": 53.7,
                        "bin_end": 55.8,
                        "count": 0
                      },
                      {
                        "bin_start": 55.8,
                        "bin_end": 57.900000000000006,
                        "count": 0
                      },
                      {
                        "bin_start": 57.900000000000006,
                        "bin_end": 60,
                        "count": 1
                      }
                    ]
                  }
                },
                {
                  "name": "Class Name",
                  "dtype": "object",
                  "stats": {
                    "unique_count": 4,
                    "nan_count": 0,
                    "categories": [
                      {
                        "name": "Dresses",
                        "count": 2
                      },
                      {
                        "name": "Pants",
                        "count": 1
                      },
                      {
                        "name": "2 others",
                        "count": 2
                      }
                    ]
                  }
                },
                {
                  "name": "Department Name",
                  "dtype": "object",
                  "stats": {
                    "unique_count": 3,
                    "nan_count": 0,
                    "categories": [
                      {
                        "name": "Dresses",
                        "count": 2
                      },
                      {
                        "name": "Tops",
                        "count": 2
                      },
                      {
                        "name": "Bottoms",
                        "count": 1
                      }
                    ]
                  }
                },
                {
                  "name": "Division Name",
                  "dtype": "object",
                  "stats": {
                    "unique_count": 2,
                    "nan_count": 0,
                    "categories": [
                      {
                        "name": "General",
                        "count": 3
                      },
                      {
                        "name": "General Petite",
                        "count": 2
                      }
                    ]
                  }
                },
                {
                  "name": "Rating",
                  "dtype": "int64",
                  "stats": {
                    "unique_count": 3,
                    "nan_count": 0,
                    "min": "2",
                    "max": "5",
                    "histogram": [
                      {
                        "bin_start": 2,
                        "bin_end": 2.3,
                        "count": 1
                      },
                      {
                        "bin_start": 2.3,
                        "bin_end": 2.6,
                        "count": 0
                      },
                      {
                        "bin_start": 2.6,
                        "bin_end": 2.9,
                        "count": 0
                      },
                      {
                        "bin_start": 2.9,
                        "bin_end": 3.2,
                        "count": 1
                      },
                      {
                        "bin_start": 3.2,
                        "bin_end": 3.5,
                        "count": 0
                      },
                      {
                        "bin_start": 3.5,
                        "bin_end": 3.8,
                        "count": 0
                      },
                      {
                        "bin_start": 3.8,
                        "bin_end": 4.1,
                        "count": 0
                      },
                      {
                        "bin_start": 4.1,
                        "bin_end": 4.4,
                        "count": 0
                      },
                      {
                        "bin_start": 4.4,
                        "bin_end": 4.699999999999999,
                        "count": 0
                      },
                      {
                        "bin_start": 4.699999999999999,
                        "bin_end": 5,
                        "count": 3
                      }
                    ]
                  }
                },
                {
                  "name": "Recommended IND",
                  "dtype": "int64",
                  "stats": {
                    "unique_count": 2,
                    "nan_count": 0,
                    "min": "0",
                    "max": "1",
                    "histogram": [
                      {
                        "bin_start": 0,
                        "bin_end": 0.1,
                        "count": 2
                      },
                      {
                        "bin_start": 0.1,
                        "bin_end": 0.2,
                        "count": 0
                      },
                      {
                        "bin_start": 0.2,
                        "bin_end": 0.30000000000000004,
                        "count": 0
                      },
                      {
                        "bin_start": 0.30000000000000004,
                        "bin_end": 0.4,
                        "count": 0
                      },
                      {
                        "bin_start": 0.4,
                        "bin_end": 0.5,
                        "count": 0
                      },
                      {
                        "bin_start": 0.5,
                        "bin_end": 0.6000000000000001,
                        "count": 0
                      },
                      {
                        "bin_start": 0.6000000000000001,
                        "bin_end": 0.7000000000000001,
                        "count": 0
                      },
                      {
                        "bin_start": 0.7000000000000001,
                        "bin_end": 0.8,
                        "count": 0
                      },
                      {
                        "bin_start": 0.8,
                        "bin_end": 0.9,
                        "count": 0
                      },
                      {
                        "bin_start": 0.9,
                        "bin_end": 1,
                        "count": 3
                      }
                    ]
                  }
                },
                {
                  "name": "Review Text",
                  "dtype": "object",
                  "stats": {
                    "unique_count": 5,
                    "nan_count": 0,
                    "categories": [
                      {
                        "name": "high hopes dress really wanted work initially ordered petite small usual size found outrageously small small fact could zip reordered petite medium ok overall top half comfortable fit nicely bottom half tight layer several somewhat cheap net layers imo major design flaw net layer sewn directly zipper c",
                        "count": 1
                      },
                      {
                        "name": "love love love jumpsuit fun flirty fabulous every time wear get nothing great compliments",
                        "count": 1
                      },
                      {
                        "name": "3 others",
                        "count": 3
                      }
                    ]
                  }
                },
                {
                  "name": "Title",
                  "dtype": "object",
                  "stats": {
                    "unique_count": 5,
                    "nan_count": 0,
                    "categories": [
                      {
                        "name": "major design flaws",
                        "count": 1
                      },
                      {
                        "name": "favorite buy",
                        "count": 1
                      },
                      {
                        "name": "3 others",
                        "count": 3
                      }
                    ]
                  }
                },
                {
                  "name": "Item_success",
                  "dtype": "object",
                  "stats": {
                    "unique_count": 2,
                    "nan_count": 0,
                    "categories": [
                      {
                        "name": "Not Trending",
                        "count": 4
                      },
                      {
                        "name": "Trending",
                        "count": 1
                      }
                    ]
                  }
                },
                {
                  "name": "_deepnote_index_column",
                  "dtype": "int64"
                }
              ],
              "rows_top": [
                {
                  "Clothing ID": 1077,
                  "Age": 60,
                  "Class Name": "Dresses",
                  "Department Name": "Dresses",
                  "Division Name": "General",
                  "Rating": 3,
                  "Recommended IND": 0,
                  "Review Text": "high hopes dress really wanted work initially ordered petite small usual size found outrageously sm…",
                  "Title": "major design flaws",
                  "Item_success": "Not Trending",
                  "_deepnote_index_column": 0
                },
                {
                  "Clothing ID": 1049,
                  "Age": 50,
                  "Class Name": "Pants",
                  "Department Name": "Bottoms",
                  "Division Name": "General Petite",
                  "Rating": 5,
                  "Recommended IND": 1,
                  "Review Text": "love love love jumpsuit fun flirty fabulous every time wear get nothing great compliments",
                  "Title": "favorite buy",
                  "Item_success": "Not Trending",
                  "_deepnote_index_column": 1
                },
                {
                  "Clothing ID": 847,
                  "Age": 47,
                  "Class Name": "Blouses",
                  "Department Name": "Tops",
                  "Division Name": "General",
                  "Rating": 5,
                  "Recommended IND": 1,
                  "Review Text": "shirt flattering due adjustable front tie perfect length wear leggings sleeveless pairs well cardig…",
                  "Title": "Flattering shirt",
                  "Item_success": "Not Trending",
                  "_deepnote_index_column": 2
                },
                {
                  "Clothing ID": 1080,
                  "Age": 49,
                  "Class Name": "Dresses",
                  "Department Name": "Dresses",
                  "Division Name": "General",
                  "Rating": 2,
                  "Recommended IND": 0,
                  "Review Text": "love tracy reese dresses one petite feet tall usually wear p brand dress pretty package lot dress s…",
                  "Title": "petite",
                  "Item_success": "Trending",
                  "_deepnote_index_column": 3
                },
                {
                  "Clothing ID": 858,
                  "Age": 39,
                  "Class Name": "Knits",
                  "Department Name": "Tops",
                  "Division Name": "General Petite",
                  "Rating": 5,
                  "Recommended IND": 1,
                  "Review Text": "aded basket hte last mintue see would look like person store pick went teh darkler color pale hte c…",
                  "Title": "Cagrcoal shimmer fun",
                  "Item_success": "Not Trending",
                  "_deepnote_index_column": 4
                }
              ],
              "rows_bottom": null
            },
            "text/plain": "   Clothing ID  Age Class Name Department Name   Division Name  Rating  \\\n0         1077   60    Dresses         Dresses         General       3   \n1         1049   50      Pants         Bottoms  General Petite       5   \n2          847   47    Blouses            Tops         General       5   \n3         1080   49    Dresses         Dresses         General       2   \n4          858   39      Knits            Tops  General Petite       5   \n\n   Recommended IND                                        Review Text  \\\n0                0  high hopes dress really wanted work initially ...   \n1                1  love love love jumpsuit fun flirty fabulous ev...   \n2                1  shirt flattering due adjustable front tie perf...   \n3                0  love tracy reese dresses one petite feet tall ...   \n4                1  aded basket hte last mintue see would look lik...   \n\n                  Title  Item_success  \n0    major design flaws  Not Trending  \n1          favorite buy  Not Trending  \n2      Flattering shirt  Not Trending  \n3                petite      Trending  \n4  Cagrcoal shimmer fun  Not Trending  ",
            "text/html": "<div>\n<style scoped>\n    .dataframe tbody tr th:only-of-type {\n        vertical-align: middle;\n    }\n\n    .dataframe tbody tr th {\n        vertical-align: top;\n    }\n\n    .dataframe thead th {\n        text-align: right;\n    }\n</style>\n<table border=\"1\" class=\"dataframe\">\n  <thead>\n    <tr style=\"text-align: right;\">\n      <th></th>\n      <th>Clothing ID</th>\n      <th>Age</th>\n      <th>Class Name</th>\n      <th>Department Name</th>\n      <th>Division Name</th>\n      <th>Rating</th>\n      <th>Recommended IND</th>\n      <th>Review Text</th>\n      <th>Title</th>\n      <th>Item_success</th>\n    </tr>\n  </thead>\n  <tbody>\n    <tr>\n      <th>0</th>\n      <td>1077</td>\n      <td>60</td>\n      <td>Dresses</td>\n      <td>Dresses</td>\n      <td>General</td>\n      <td>3</td>\n      <td>0</td>\n      <td>high hopes dress really wanted work initially ...</td>\n      <td>major design flaws</td>\n      <td>Not Trending</td>\n    </tr>\n    <tr>\n      <th>1</th>\n      <td>1049</td>\n      <td>50</td>\n      <td>Pants</td>\n      <td>Bottoms</td>\n      <td>General Petite</td>\n      <td>5</td>\n      <td>1</td>\n      <td>love love love jumpsuit fun flirty fabulous ev...</td>\n      <td>favorite buy</td>\n      <td>Not Trending</td>\n    </tr>\n    <tr>\n      <th>2</th>\n      <td>847</td>\n      <td>47</td>\n      <td>Blouses</td>\n      <td>Tops</td>\n      <td>General</td>\n      <td>5</td>\n      <td>1</td>\n      <td>shirt flattering due adjustable front tie perf...</td>\n      <td>Flattering shirt</td>\n      <td>Not Trending</td>\n    </tr>\n    <tr>\n      <th>3</th>\n      <td>1080</td>\n      <td>49</td>\n      <td>Dresses</td>\n      <td>Dresses</td>\n      <td>General</td>\n      <td>2</td>\n      <td>0</td>\n      <td>love tracy reese dresses one petite feet tall ...</td>\n      <td>petite</td>\n      <td>Trending</td>\n    </tr>\n    <tr>\n      <th>4</th>\n      <td>858</td>\n      <td>39</td>\n      <td>Knits</td>\n      <td>Tops</td>\n      <td>General Petite</td>\n      <td>5</td>\n      <td>1</td>\n      <td>aded basket hte last mintue see would look lik...</td>\n      <td>Cagrcoal shimmer fun</td>\n      <td>Not Trending</td>\n    </tr>\n  </tbody>\n</table>\n</div>"
          },
          "metadata": {}
        }
      ]
    },
    {
      "cell_type": "markdown",
      "metadata": {
        "tags": [],
        "cell_id": "00024-716163b7-fc0d-429c-ae86-ebb04c865e37",
        "deepnote_cell_type": "text-cell-h3",
        "id": "lndUQs-okX0q"
      },
      "source": [
        "### 5. Stemming"
      ]
    },
    {
      "cell_type": "code",
      "metadata": {
        "tags": [],
        "deepnote_to_be_reexecuted": false,
        "source_hash": "dc4bafc7",
        "execution_start": 1623583521828,
        "execution_millis": 2,
        "cell_id": "00025-1475d6fa-c10f-4fb9-a974-80ea10a5439f",
        "deepnote_cell_type": "code",
        "id": "1gD0jRWIkX0q"
      },
      "source": [
        "porter = PorterStemmer()"
      ],
      "execution_count": null,
      "outputs": []
    },
    {
      "cell_type": "code",
      "metadata": {
        "tags": [],
        "deepnote_to_be_reexecuted": false,
        "source_hash": "2c52aac3",
        "execution_start": 1623583521832,
        "execution_millis": 4,
        "cell_id": "00026-20b9ea08-b57c-48db-a112-9c8cfa29b5f5",
        "deepnote_cell_type": "code",
        "id": "iqlJLrUlkX0r"
      },
      "source": [
        "def stemming(words):\n",
        "    new_words = [porter.stem(w) for w in words]\n",
        "    return new_words"
      ],
      "execution_count": null,
      "outputs": []
    },
    {
      "cell_type": "code",
      "metadata": {
        "tags": [],
        "deepnote_to_be_reexecuted": false,
        "source_hash": "ed0b79c",
        "execution_start": 1623583521839,
        "execution_millis": 3271,
        "cell_id": "00027-4195a450-6d5c-4b12-bca1-e8938e88614f",
        "deepnote_cell_type": "code",
        "id": "nzkj49DnkX0r",
        "outputId": "63ecff5e-02d5-4454-c871-9f74720662ee"
      },
      "source": [
        "# Apply stemming function:\n",
        "dataset['Review Text'] = dataset['Review Text'].apply(lambda x: stemming(x.split()))\n",
        "dataset['Title'] = dataset['Title'].apply(lambda x: stemming(x.split()))\n",
        "dataset.head()"
      ],
      "execution_count": null,
      "outputs": [
        {
          "name": "stderr",
          "text": "/shared-libs/python3.7/py-core/lib/python3.7/site-packages/ipykernel_launcher.py:2: SettingWithCopyWarning: \nA value is trying to be set on a copy of a slice from a DataFrame.\nTry using .loc[row_indexer,col_indexer] = value instead\n\nSee the caveats in the documentation: https://pandas.pydata.org/pandas-docs/stable/user_guide/indexing.html#returning-a-view-versus-a-copy\n  \n/shared-libs/python3.7/py-core/lib/python3.7/site-packages/ipykernel_launcher.py:3: SettingWithCopyWarning: \nA value is trying to be set on a copy of a slice from a DataFrame.\nTry using .loc[row_indexer,col_indexer] = value instead\n\nSee the caveats in the documentation: https://pandas.pydata.org/pandas-docs/stable/user_guide/indexing.html#returning-a-view-versus-a-copy\n  This is separate from the ipykernel package so we can avoid doing imports until\n",
          "output_type": "stream"
        },
        {
          "output_type": "execute_result",
          "execution_count": 18,
          "data": {
            "application/vnd.deepnote.dataframe.v2+json": {
              "row_count": 5,
              "column_count": 10,
              "columns": [
                {
                  "name": "Clothing ID",
                  "dtype": "int64",
                  "stats": {
                    "unique_count": 5,
                    "nan_count": 0,
                    "min": "847",
                    "max": "1080",
                    "histogram": [
                      {
                        "bin_start": 847,
                        "bin_end": 870.3,
                        "count": 2
                      },
                      {
                        "bin_start": 870.3,
                        "bin_end": 893.6,
                        "count": 0
                      },
                      {
                        "bin_start": 893.6,
                        "bin_end": 916.9,
                        "count": 0
                      },
                      {
                        "bin_start": 916.9,
                        "bin_end": 940.2,
                        "count": 0
                      },
                      {
                        "bin_start": 940.2,
                        "bin_end": 963.5,
                        "count": 0
                      },
                      {
                        "bin_start": 963.5,
                        "bin_end": 986.8,
                        "count": 0
                      },
                      {
                        "bin_start": 986.8,
                        "bin_end": 1010.1,
                        "count": 0
                      },
                      {
                        "bin_start": 1010.1,
                        "bin_end": 1033.4,
                        "count": 0
                      },
                      {
                        "bin_start": 1033.4,
                        "bin_end": 1056.7,
                        "count": 1
                      },
                      {
                        "bin_start": 1056.7,
                        "bin_end": 1080,
                        "count": 2
                      }
                    ]
                  }
                },
                {
                  "name": "Age",
                  "dtype": "int64",
                  "stats": {
                    "unique_count": 5,
                    "nan_count": 0,
                    "min": "39",
                    "max": "60",
                    "histogram": [
                      {
                        "bin_start": 39,
                        "bin_end": 41.1,
                        "count": 1
                      },
                      {
                        "bin_start": 41.1,
                        "bin_end": 43.2,
                        "count": 0
                      },
                      {
                        "bin_start": 43.2,
                        "bin_end": 45.3,
                        "count": 0
                      },
                      {
                        "bin_start": 45.3,
                        "bin_end": 47.4,
                        "count": 1
                      },
                      {
                        "bin_start": 47.4,
                        "bin_end": 49.5,
                        "count": 1
                      },
                      {
                        "bin_start": 49.5,
                        "bin_end": 51.6,
                        "count": 1
                      },
                      {
                        "bin_start": 51.6,
                        "bin_end": 53.7,
                        "count": 0
                      },
                      {
                        "bin_start": 53.7,
                        "bin_end": 55.8,
                        "count": 0
                      },
                      {
                        "bin_start": 55.8,
                        "bin_end": 57.900000000000006,
                        "count": 0
                      },
                      {
                        "bin_start": 57.900000000000006,
                        "bin_end": 60,
                        "count": 1
                      }
                    ]
                  }
                },
                {
                  "name": "Class Name",
                  "dtype": "object",
                  "stats": {
                    "unique_count": 4,
                    "nan_count": 0,
                    "categories": [
                      {
                        "name": "Dresses",
                        "count": 2
                      },
                      {
                        "name": "Pants",
                        "count": 1
                      },
                      {
                        "name": "2 others",
                        "count": 2
                      }
                    ]
                  }
                },
                {
                  "name": "Department Name",
                  "dtype": "object",
                  "stats": {
                    "unique_count": 3,
                    "nan_count": 0,
                    "categories": [
                      {
                        "name": "Dresses",
                        "count": 2
                      },
                      {
                        "name": "Tops",
                        "count": 2
                      },
                      {
                        "name": "Bottoms",
                        "count": 1
                      }
                    ]
                  }
                },
                {
                  "name": "Division Name",
                  "dtype": "object",
                  "stats": {
                    "unique_count": 2,
                    "nan_count": 0,
                    "categories": [
                      {
                        "name": "General",
                        "count": 3
                      },
                      {
                        "name": "General Petite",
                        "count": 2
                      }
                    ]
                  }
                },
                {
                  "name": "Rating",
                  "dtype": "int64",
                  "stats": {
                    "unique_count": 3,
                    "nan_count": 0,
                    "min": "2",
                    "max": "5",
                    "histogram": [
                      {
                        "bin_start": 2,
                        "bin_end": 2.3,
                        "count": 1
                      },
                      {
                        "bin_start": 2.3,
                        "bin_end": 2.6,
                        "count": 0
                      },
                      {
                        "bin_start": 2.6,
                        "bin_end": 2.9,
                        "count": 0
                      },
                      {
                        "bin_start": 2.9,
                        "bin_end": 3.2,
                        "count": 1
                      },
                      {
                        "bin_start": 3.2,
                        "bin_end": 3.5,
                        "count": 0
                      },
                      {
                        "bin_start": 3.5,
                        "bin_end": 3.8,
                        "count": 0
                      },
                      {
                        "bin_start": 3.8,
                        "bin_end": 4.1,
                        "count": 0
                      },
                      {
                        "bin_start": 4.1,
                        "bin_end": 4.4,
                        "count": 0
                      },
                      {
                        "bin_start": 4.4,
                        "bin_end": 4.699999999999999,
                        "count": 0
                      },
                      {
                        "bin_start": 4.699999999999999,
                        "bin_end": 5,
                        "count": 3
                      }
                    ]
                  }
                },
                {
                  "name": "Recommended IND",
                  "dtype": "int64",
                  "stats": {
                    "unique_count": 2,
                    "nan_count": 0,
                    "min": "0",
                    "max": "1",
                    "histogram": [
                      {
                        "bin_start": 0,
                        "bin_end": 0.1,
                        "count": 2
                      },
                      {
                        "bin_start": 0.1,
                        "bin_end": 0.2,
                        "count": 0
                      },
                      {
                        "bin_start": 0.2,
                        "bin_end": 0.30000000000000004,
                        "count": 0
                      },
                      {
                        "bin_start": 0.30000000000000004,
                        "bin_end": 0.4,
                        "count": 0
                      },
                      {
                        "bin_start": 0.4,
                        "bin_end": 0.5,
                        "count": 0
                      },
                      {
                        "bin_start": 0.5,
                        "bin_end": 0.6000000000000001,
                        "count": 0
                      },
                      {
                        "bin_start": 0.6000000000000001,
                        "bin_end": 0.7000000000000001,
                        "count": 0
                      },
                      {
                        "bin_start": 0.7000000000000001,
                        "bin_end": 0.8,
                        "count": 0
                      },
                      {
                        "bin_start": 0.8,
                        "bin_end": 0.9,
                        "count": 0
                      },
                      {
                        "bin_start": 0.9,
                        "bin_end": 1,
                        "count": 3
                      }
                    ]
                  }
                },
                {
                  "name": "Review Text",
                  "dtype": "object",
                  "stats": {
                    "unique_count": 5,
                    "nan_count": 0,
                    "categories": [
                      {
                        "name": "['high', 'hope', 'dress', 'realli', 'want', 'work', 'initi', 'order', 'petit', 'small', 'usual', 'size', 'found', 'outrag', 'small', 'small', 'fact', 'could', 'zip', 'reorder', 'petit', 'medium', 'ok', 'overal', 'top', 'half', 'comfort', 'fit', 'nice', 'bottom', 'half', 'tight', 'layer', 'sever', 'somewhat', 'cheap', 'net', 'layer', 'imo', 'major', 'design', 'flaw', 'net', 'layer', 'sewn', 'directli', 'zipper', 'c']",
                        "count": 1
                      },
                      {
                        "name": "['love', 'love', 'love', 'jumpsuit', 'fun', 'flirti', 'fabul', 'everi', 'time', 'wear', 'get', 'noth', 'great', 'compliment']",
                        "count": 1
                      },
                      {
                        "name": "3 others",
                        "count": 3
                      }
                    ]
                  }
                },
                {
                  "name": "Title",
                  "dtype": "object",
                  "stats": {
                    "unique_count": 5,
                    "nan_count": 0,
                    "categories": [
                      {
                        "name": "['major', 'design', 'flaw']",
                        "count": 1
                      },
                      {
                        "name": "['favorit', 'buy']",
                        "count": 1
                      },
                      {
                        "name": "3 others",
                        "count": 3
                      }
                    ]
                  }
                },
                {
                  "name": "Item_success",
                  "dtype": "object",
                  "stats": {
                    "unique_count": 2,
                    "nan_count": 0,
                    "categories": [
                      {
                        "name": "Not Trending",
                        "count": 4
                      },
                      {
                        "name": "Trending",
                        "count": 1
                      }
                    ]
                  }
                },
                {
                  "name": "_deepnote_index_column",
                  "dtype": "int64"
                }
              ],
              "rows_top": [
                {
                  "Clothing ID": 1077,
                  "Age": 60,
                  "Class Name": "Dresses",
                  "Department Name": "Dresses",
                  "Division Name": "General",
                  "Rating": 3,
                  "Recommended IND": 0,
                  "Review Text": "['high', 'hope', 'dress', 'realli', 'want', 'work', 'initi', 'order', 'petit', 'small', 'usual', 's…",
                  "Title": "['major', 'design', 'flaw']",
                  "Item_success": "Not Trending",
                  "_deepnote_index_column": 0
                },
                {
                  "Clothing ID": 1049,
                  "Age": 50,
                  "Class Name": "Pants",
                  "Department Name": "Bottoms",
                  "Division Name": "General Petite",
                  "Rating": 5,
                  "Recommended IND": 1,
                  "Review Text": "['love', 'love', 'love', 'jumpsuit', 'fun', 'flirti', 'fabul', 'everi', 'time', 'wear', 'get', 'not…",
                  "Title": "['favorit', 'buy']",
                  "Item_success": "Not Trending",
                  "_deepnote_index_column": 1
                },
                {
                  "Clothing ID": 847,
                  "Age": 47,
                  "Class Name": "Blouses",
                  "Department Name": "Tops",
                  "Division Name": "General",
                  "Rating": 5,
                  "Recommended IND": 1,
                  "Review Text": "['shirt', 'flatter', 'due', 'adjust', 'front', 'tie', 'perfect', 'length', 'wear', 'leg', 'sleevele…",
                  "Title": "['flatter', 'shirt']",
                  "Item_success": "Not Trending",
                  "_deepnote_index_column": 2
                },
                {
                  "Clothing ID": 1080,
                  "Age": 49,
                  "Class Name": "Dresses",
                  "Department Name": "Dresses",
                  "Division Name": "General",
                  "Rating": 2,
                  "Recommended IND": 0,
                  "Review Text": "['love', 'traci', 'rees', 'dress', 'one', 'petit', 'feet', 'tall', 'usual', 'wear', 'p', 'brand', '…",
                  "Title": "['petit']",
                  "Item_success": "Trending",
                  "_deepnote_index_column": 3
                },
                {
                  "Clothing ID": 858,
                  "Age": 39,
                  "Class Name": "Knits",
                  "Department Name": "Tops",
                  "Division Name": "General Petite",
                  "Rating": 5,
                  "Recommended IND": 1,
                  "Review Text": "['ade', 'basket', 'hte', 'last', 'mintu', 'see', 'would', 'look', 'like', 'person', 'store', 'pick'…",
                  "Title": "['cagrcoal', 'shimmer', 'fun']",
                  "Item_success": "Not Trending",
                  "_deepnote_index_column": 4
                }
              ],
              "rows_bottom": null
            },
            "text/plain": "   Clothing ID  Age Class Name Department Name   Division Name  Rating  \\\n0         1077   60    Dresses         Dresses         General       3   \n1         1049   50      Pants         Bottoms  General Petite       5   \n2          847   47    Blouses            Tops         General       5   \n3         1080   49    Dresses         Dresses         General       2   \n4          858   39      Knits            Tops  General Petite       5   \n\n   Recommended IND                                        Review Text  \\\n0                0  [high, hope, dress, realli, want, work, initi,...   \n1                1  [love, love, love, jumpsuit, fun, flirti, fabu...   \n2                1  [shirt, flatter, due, adjust, front, tie, perf...   \n3                0  [love, traci, rees, dress, one, petit, feet, t...   \n4                1  [ade, basket, hte, last, mintu, see, would, lo...   \n\n                      Title  Item_success  \n0     [major, design, flaw]  Not Trending  \n1            [favorit, buy]  Not Trending  \n2          [flatter, shirt]  Not Trending  \n3                   [petit]      Trending  \n4  [cagrcoal, shimmer, fun]  Not Trending  ",
            "text/html": "<div>\n<style scoped>\n    .dataframe tbody tr th:only-of-type {\n        vertical-align: middle;\n    }\n\n    .dataframe tbody tr th {\n        vertical-align: top;\n    }\n\n    .dataframe thead th {\n        text-align: right;\n    }\n</style>\n<table border=\"1\" class=\"dataframe\">\n  <thead>\n    <tr style=\"text-align: right;\">\n      <th></th>\n      <th>Clothing ID</th>\n      <th>Age</th>\n      <th>Class Name</th>\n      <th>Department Name</th>\n      <th>Division Name</th>\n      <th>Rating</th>\n      <th>Recommended IND</th>\n      <th>Review Text</th>\n      <th>Title</th>\n      <th>Item_success</th>\n    </tr>\n  </thead>\n  <tbody>\n    <tr>\n      <th>0</th>\n      <td>1077</td>\n      <td>60</td>\n      <td>Dresses</td>\n      <td>Dresses</td>\n      <td>General</td>\n      <td>3</td>\n      <td>0</td>\n      <td>[high, hope, dress, realli, want, work, initi,...</td>\n      <td>[major, design, flaw]</td>\n      <td>Not Trending</td>\n    </tr>\n    <tr>\n      <th>1</th>\n      <td>1049</td>\n      <td>50</td>\n      <td>Pants</td>\n      <td>Bottoms</td>\n      <td>General Petite</td>\n      <td>5</td>\n      <td>1</td>\n      <td>[love, love, love, jumpsuit, fun, flirti, fabu...</td>\n      <td>[favorit, buy]</td>\n      <td>Not Trending</td>\n    </tr>\n    <tr>\n      <th>2</th>\n      <td>847</td>\n      <td>47</td>\n      <td>Blouses</td>\n      <td>Tops</td>\n      <td>General</td>\n      <td>5</td>\n      <td>1</td>\n      <td>[shirt, flatter, due, adjust, front, tie, perf...</td>\n      <td>[flatter, shirt]</td>\n      <td>Not Trending</td>\n    </tr>\n    <tr>\n      <th>3</th>\n      <td>1080</td>\n      <td>49</td>\n      <td>Dresses</td>\n      <td>Dresses</td>\n      <td>General</td>\n      <td>2</td>\n      <td>0</td>\n      <td>[love, traci, rees, dress, one, petit, feet, t...</td>\n      <td>[petit]</td>\n      <td>Trending</td>\n    </tr>\n    <tr>\n      <th>4</th>\n      <td>858</td>\n      <td>39</td>\n      <td>Knits</td>\n      <td>Tops</td>\n      <td>General Petite</td>\n      <td>5</td>\n      <td>1</td>\n      <td>[ade, basket, hte, last, mintu, see, would, lo...</td>\n      <td>[cagrcoal, shimmer, fun]</td>\n      <td>Not Trending</td>\n    </tr>\n  </tbody>\n</table>\n</div>"
          },
          "metadata": {}
        }
      ]
    },
    {
      "cell_type": "markdown",
      "metadata": {
        "tags": [],
        "cell_id": "00030-1017cc16-c415-46b5-99f8-f906966db8b0",
        "deepnote_cell_type": "text-cell-h2",
        "id": "SMSkHMGukX0r"
      },
      "source": [
        "## VECTORIZER"
      ]
    },
    {
      "cell_type": "code",
      "metadata": {
        "tags": [],
        "deepnote_to_be_reexecuted": false,
        "source_hash": "c75cda0",
        "execution_start": 1623583525150,
        "execution_millis": 0,
        "cell_id": "00032-0dabd1cc-e14d-43ff-9a2f-c7ee18be8e3b",
        "deepnote_cell_type": "code",
        "id": "UnaUal14kX0s"
      },
      "source": [
        "features_RC = dataset[['Clothing ID', 'Review Text']]"
      ],
      "execution_count": null,
      "outputs": []
    },
    {
      "cell_type": "code",
      "metadata": {
        "tags": [],
        "deepnote_to_be_reexecuted": false,
        "source_hash": "ef9071",
        "execution_start": 1623583525150,
        "execution_millis": 16,
        "cell_id": "00033-182d73ac-6f0f-4ecc-83c7-ec4be16478e4",
        "deepnote_cell_type": "code",
        "id": "AiBr690EkX0s",
        "outputId": "f9319c38-e59f-45a6-9295-a4ff604d8d56"
      },
      "source": [
        "features_RC['Review Text'] = features_RC['Review Text'].apply(lambda x: ' '.join([str(word) for word in x]))\n",
        "features_RC = features_RC.to_numpy().reshape(-1, 2)"
      ],
      "execution_count": null,
      "outputs": [
        {
          "name": "stderr",
          "text": "/shared-libs/python3.7/py-core/lib/python3.7/site-packages/ipykernel_launcher.py:1: SettingWithCopyWarning: \nA value is trying to be set on a copy of a slice from a DataFrame.\nTry using .loc[row_indexer,col_indexer] = value instead\n\nSee the caveats in the documentation: https://pandas.pydata.org/pandas-docs/stable/user_guide/indexing.html#returning-a-view-versus-a-copy\n  \"\"\"Entry point for launching an IPython kernel.\n",
          "output_type": "stream"
        }
      ]
    },
    {
      "cell_type": "code",
      "metadata": {
        "tags": [],
        "deepnote_to_be_reexecuted": false,
        "source_hash": "2b5ce846",
        "execution_start": 1623583525151,
        "execution_millis": 15,
        "cell_id": "00034-6cbce24b-deed-473f-a3c6-e3591e168b0e",
        "deepnote_cell_type": "code",
        "id": "ChRrFYiQkX0s",
        "outputId": "39ac1354-fecd-44aa-94c9-d5b967ae5ac6"
      },
      "source": [
        "label = dataset['Rating'].to_numpy().reshape(-1, 1)\n",
        "label"
      ],
      "execution_count": null,
      "outputs": [
        {
          "output_type": "execute_result",
          "execution_count": 23,
          "data": {
            "text/plain": "array([[3],\n       [5],\n       [5],\n       ...,\n       [5],\n       [5],\n       [5]])"
          },
          "metadata": {}
        }
      ]
    },
    {
      "cell_type": "markdown",
      "metadata": {
        "id": "AHA_mhlSko5u"
      },
      "source": [
        "# Split Into Training and Testing"
      ]
    },
    {
      "cell_type": "code",
      "metadata": {
        "tags": [],
        "deepnote_to_be_reexecuted": false,
        "source_hash": "b6881b8f",
        "execution_start": 1623583525156,
        "execution_millis": 1,
        "cell_id": "00035-8d1f35aa-9e99-4cc3-9b8f-94bb9ea59d3b",
        "deepnote_cell_type": "code",
        "id": "FhsK3Z4ykX0t"
      },
      "source": [
        "x_train, x_test, y_train, y_test = train_test_split(features_RC, label, test_size=0.1, random_state=12) # Test data 1%, Train data 90%"
      ],
      "execution_count": null,
      "outputs": []
    },
    {
      "cell_type": "markdown",
      "metadata": {
        "tags": [],
        "cell_id": "00036-8f1b58d4-fcf2-475d-8d55-bc10cddf9ab0",
        "deepnote_cell_type": "text-cell-h3",
        "id": "W6t75dXUkX0t"
      },
      "source": [
        "### 1. Count Vectorizer"
      ]
    },
    {
      "cell_type": "code",
      "metadata": {
        "tags": [],
        "deepnote_to_be_reexecuted": false,
        "source_hash": "5aef166",
        "execution_start": 1623583525163,
        "execution_millis": 9,
        "cell_id": "00037-7042f2ac-c0fa-43ec-86c0-6dfd43ed329c",
        "deepnote_cell_type": "code",
        "id": "LkRIMQLhkX0t",
        "outputId": "acbf4884-da81-4fe8-8d03-95d2c0637ecc"
      },
      "source": [
        "x_train[:, 1]"
      ],
      "execution_count": null,
      "outputs": [
        {
          "output_type": "execute_result",
          "execution_count": 25,
          "data": {
            "text/plain": "array(['want buy dress everyth love bought two neutral black turquois turquois one retro print get mani compliment comfort flatter im price point retail pleas',\n       'dresss much shorter describ see thru though guess tell pictur expect price',\n       'tri top store didnt want buy full price even though made heart skip beat ador even cuter saw final went sale got addit immedi order flowi comfort fun wore today layer black turtleneck long black vest',\n       ...,\n       'cloth stone never let awesom qualiti comfort versatil imagin live dress summer soft fabric easi breezi fit pocket machin washablewhat love go buy',\n       'love dress wear equival wear coziest tshirt stretch top chest need necklin modest stripe geometr pattern flatter vibrant gaudi slightest length perfect shortest part knee silhouett tight natur waist flare flowi flatter way got larg fluctuat lb',\n       'love layer basic tee graphic one like wild west tee add right amount edg current build pin collect add vintag turquois rock music exact'],\n      dtype=object)"
          },
          "metadata": {}
        }
      ]
    },
    {
      "cell_type": "code",
      "metadata": {
        "tags": [],
        "deepnote_to_be_reexecuted": false,
        "source_hash": "7382c071",
        "execution_start": 1623583525210,
        "execution_millis": 0,
        "cell_id": "00038-771e5ed1-9a59-42dd-9999-b0fd6acb6e86",
        "deepnote_cell_type": "code",
        "id": "F0yA5_nakX0t"
      },
      "source": [
        "vector = cv(max_features=3000, ngram_range=(1, 3))"
      ],
      "execution_count": null,
      "outputs": []
    },
    {
      "cell_type": "code",
      "metadata": {
        "tags": [],
        "deepnote_to_be_reexecuted": false,
        "source_hash": "47b60f23",
        "execution_start": 1623583525211,
        "execution_millis": 949,
        "cell_id": "00039-719e22ef-68d9-4be4-8462-538a283885c4",
        "deepnote_cell_type": "code",
        "id": "x6wli8E2kX0u"
      },
      "source": [
        "xcv_train = vector.fit_transform(x_train[:, 1])\n",
        "xcv_test = vector.transform(x_test[:, 1])"
      ],
      "execution_count": null,
      "outputs": []
    },
    {
      "cell_type": "markdown",
      "metadata": {
        "tags": [],
        "cell_id": "00041-594f3783-f857-4268-9bdf-dabd7a8d9287",
        "deepnote_cell_type": "text-cell-h3",
        "id": "vbUhxFmxkX0u"
      },
      "source": [
        "### 2. TF-IDF Vectorizer"
      ]
    },
    {
      "cell_type": "code",
      "metadata": {
        "tags": [],
        "deepnote_to_be_reexecuted": false,
        "source_hash": "19586ce7",
        "execution_start": 1623583526188,
        "execution_millis": 936,
        "cell_id": "00042-fd4fe49d-6884-4de7-a050-e2968d4162b9",
        "deepnote_cell_type": "code",
        "id": "YXRQKLQOkX0u"
      },
      "source": [
        "tf = tfidf(ngram_range =(1,3),max_features = 3000)\n",
        "xtf_train = tf.fit_transform(x_train[:, 1])\n",
        "xtf_test = tf.transform(x_test[:, 1])"
      ],
      "execution_count": null,
      "outputs": []
    },
    {
      "cell_type": "markdown",
      "metadata": {
        "tags": [],
        "cell_id": "00043-489ca80a-6868-4dd1-afcd-81d9674286a5",
        "deepnote_cell_type": "text-cell-h1",
        "id": "_Zg2MaCwkX0v"
      },
      "source": [
        "# MULTI-LABEL CLASSIFICATION"
      ]
    },
    {
      "cell_type": "code",
      "metadata": {
        "tags": [],
        "deepnote_to_be_reexecuted": false,
        "source_hash": "f4ddeede",
        "execution_start": 1623583527126,
        "execution_millis": 8,
        "cell_id": "00044-969cb016-6db7-4ed5-a7e3-db4d98e4a5e2",
        "deepnote_cell_type": "code",
        "id": "IWxlWWyYkX0v"
      },
      "source": [
        "# Using Supprt Vector Machine Algorithm:\n",
        "\n",
        "from sklearn.multiclass import OneVsRestClassifier as ovr\n",
        "from sklearn.svm import SVC, LinearSVC\n",
        "from sklearn.model_selection import cross_val_score\n",
        "from sklearn.metrics import accuracy_score"
      ],
      "execution_count": null,
      "outputs": []
    },
    {
      "cell_type": "markdown",
      "metadata": {
        "tags": [],
        "cell_id": "00045-c4a49c16-cf50-4e39-8d54-c5eda000d01e",
        "deepnote_cell_type": "markdown",
        "id": "WzfKKJ8IkX0v"
      },
      "source": [
        "LinearSVC Classifier"
      ]
    },
    {
      "cell_type": "code",
      "metadata": {
        "tags": [],
        "deepnote_to_be_reexecuted": false,
        "source_hash": "eb9fe295",
        "execution_start": 1623583527138,
        "execution_millis": 106,
        "cell_id": "00046-080b15b5-6905-4056-b45b-fe503ea843b4",
        "deepnote_cell_type": "code",
        "id": "HzLsIcVskX0v",
        "outputId": "862a8712-c6d7-453e-8b70-970e8b4b673d"
      },
      "source": [
        "clf_sv = LinearSVC(class_weight='balanced', multi_class='ovr')\n",
        "clf = clf_sv.fit(xtf_train, y_train)\n",
        "svc_pred = clf.predict(xtf_test)"
      ],
      "execution_count": null,
      "outputs": [
        {
          "name": "stderr",
          "text": "/shared-libs/python3.7/py/lib/python3.7/site-packages/sklearn/utils/validation.py:63: DataConversionWarning: A column-vector y was passed when a 1d array was expected. Please change the shape of y to (n_samples, ), for example using ravel().\n  return f(*args, **kwargs)\n",
          "output_type": "stream"
        }
      ]
    },
    {
      "cell_type": "code",
      "metadata": {
        "tags": [],
        "deepnote_to_be_reexecuted": false,
        "source_hash": "60279ccd",
        "execution_start": 1623583527238,
        "execution_millis": 11,
        "cell_id": "00047-1e86313d-ead0-4fdd-a990-e35f90aeb860",
        "deepnote_cell_type": "code",
        "id": "LXvi6xUckX0v",
        "outputId": "8997dbc4-a97a-46d2-82e5-7fc1cbdbf30d"
      },
      "source": [
        "accuracy_score(y_test, svc_pred)"
      ],
      "execution_count": null,
      "outputs": [
        {
          "output_type": "execute_result",
          "execution_count": 32,
          "data": {
            "text/plain": "0.578"
          },
          "metadata": {}
        }
      ]
    },
    {
      "cell_type": "markdown",
      "metadata": {
        "tags": [],
        "cell_id": "00051-41ad3bce-5c5b-40eb-8a68-bd6c734d275d",
        "deepnote_cell_type": "text-cell-h3",
        "id": "N1QobRrskX0w"
      },
      "source": [
        "### SVM Classifier"
      ]
    },
    {
      "cell_type": "markdown",
      "metadata": {
        "tags": [],
        "cell_id": "00047-93c08bc9-c15a-415c-8fce-e54dada74c62",
        "deepnote_cell_type": "text-cell-p",
        "id": "ZWz17_3qkX0w"
      },
      "source": [
        "1. CountVectorizer() Features"
      ]
    },
    {
      "cell_type": "code",
      "metadata": {
        "tags": [],
        "deepnote_to_be_reexecuted": false,
        "source_hash": "eb2d09c6",
        "execution_start": 1623583527246,
        "execution_millis": 23480,
        "cell_id": "00052-8476b550-d0c9-4cef-8f9c-9a6e0374aa1d",
        "deepnote_cell_type": "code",
        "id": "ELQI18V4kX0w"
      },
      "source": [
        "clf_cv = ovr(SVC()).fit(xcv_train, y_train)\n",
        "cv_pred = clf_cv.predict(xcv_test)"
      ],
      "execution_count": null,
      "outputs": []
    },
    {
      "cell_type": "code",
      "metadata": {
        "tags": [],
        "deepnote_to_be_reexecuted": false,
        "source_hash": "fe65d210",
        "execution_start": 1623583550731,
        "execution_millis": 2,
        "cell_id": "00053-b0667230-4c6c-4edf-ba70-90bfd45bf06d",
        "deepnote_cell_type": "code",
        "id": "ewTn00EwkX0w",
        "outputId": "aac68607-0c5f-4284-c514-74b9ba579052"
      },
      "source": [
        "print(f\"SVM Classifier using CountVectorizer(): {accuracy_score(y_test, cv_pred)}\") "
      ],
      "execution_count": null,
      "outputs": [
        {
          "name": "stdout",
          "text": "SVM Classifier using CountVectorizer(): 0.634\n",
          "output_type": "stream"
        }
      ]
    },
    {
      "cell_type": "markdown",
      "metadata": {
        "tags": [],
        "cell_id": "00051-56f27079-0fc5-488d-a3fd-08b7634135c7",
        "deepnote_cell_type": "text-cell-p",
        "id": "mtKzFURtkX0w"
      },
      "source": [
        "2. TF-IDF Vectorizer()"
      ]
    },
    {
      "cell_type": "code",
      "metadata": {
        "tags": [],
        "cell_id": "00052-c2535905-3c97-498e-aca0-ca197d8a161a",
        "deepnote_to_be_reexecuted": false,
        "source_hash": "9348b555",
        "execution_start": 1623583550742,
        "execution_millis": 1498098,
        "deepnote_cell_type": "code",
        "id": "LlDZe3ITkX0w"
      },
      "source": [
        "# clf_tf = ovr(SVC()).fit(xtf_train, y_train)\n",
        "# tf_pred = clf_cv.predict(xtf_test)"
      ],
      "execution_count": null,
      "outputs": []
    },
    {
      "cell_type": "code",
      "metadata": {
        "tags": [],
        "cell_id": "00053-93ecdf4d-909e-4937-95c3-6ba6161ff2ee",
        "deepnote_to_be_reexecuted": false,
        "source_hash": "1c1dbab9",
        "execution_start": 1623583550750,
        "execution_millis": 1498100,
        "deepnote_cell_type": "code",
        "id": "LK4PYry0kX0x"
      },
      "source": [
        "# accuracy_score(y_test, tf_pred)"
      ],
      "execution_count": null,
      "outputs": []
    },
    {
      "cell_type": "code",
      "metadata": {
        "tags": [],
        "deepnote_to_be_reexecuted": false,
        "source_hash": "894af9cc",
        "execution_start": 1623583550774,
        "execution_millis": 1498087,
        "cell_id": "00054-a5deba9e-71dd-4b29-92c0-72939e1d1fad",
        "deepnote_cell_type": "code",
        "id": "4U8X5RuJkX0x"
      },
      "source": [
        "# cv_train = clf_cv.predict(xcv_train)\n",
        "# accuracy_score(y_train, cv_train)"
      ],
      "execution_count": null,
      "outputs": []
    },
    {
      "cell_type": "markdown",
      "metadata": {
        "tags": [],
        "cell_id": "00058-08b124da-7a72-438e-b4c3-0f7d82531ab4",
        "deepnote_cell_type": "markdown",
        "id": "oV6B0idDkX0x"
      },
      "source": [
        "Concatinate features"
      ]
    },
    {
      "cell_type": "code",
      "metadata": {
        "tags": [],
        "deepnote_to_be_reexecuted": false,
        "source_hash": "19ba9f54",
        "execution_start": 1623583550775,
        "execution_millis": 1498112,
        "cell_id": "00060-100e44c7-2fc7-4d04-a797-b4f2ff86e30a",
        "deepnote_cell_type": "code",
        "id": "6W_TMvfvkX0x"
      },
      "source": [
        "cv_pred = cv_pred.reshape(-1, 1)"
      ],
      "execution_count": null,
      "outputs": []
    },
    {
      "cell_type": "code",
      "metadata": {
        "tags": [],
        "deepnote_to_be_reexecuted": false,
        "source_hash": "d040a15e",
        "execution_start": 1623583550779,
        "execution_millis": 46,
        "cell_id": "00061-86656e5c-c9a7-4a7b-a57a-640c0e4fac42",
        "deepnote_cell_type": "code",
        "id": "hAADS5vjkX0y",
        "outputId": "6fb0f859-dfa0-47f4-bac1-7ff643d1c49e"
      },
      "source": [
        "dt = pd.DataFrame(np.concatenate([x_test, y_test, cv_pred], axis=1), \\\n",
        "columns=['ID', 'Review Text', 'Rating Actual', 'Rating Prediction'])\n",
        "dt"
      ],
      "execution_count": null,
      "outputs": [
        {
          "output_type": "execute_result",
          "execution_count": 41,
          "data": {
            "application/vnd.deepnote.dataframe.v2+json": {
              "row_count": 500,
              "column_count": 4,
              "columns": [
                {
                  "name": "ID",
                  "dtype": "object",
                  "stats": {
                    "unique_count": 165,
                    "nan_count": 0,
                    "categories": [
                      {
                        "name": "1078",
                        "count": 27
                      },
                      {
                        "name": "1081",
                        "count": 18
                      },
                      {
                        "name": "163 others",
                        "count": 455
                      }
                    ]
                  }
                },
                {
                  "name": "Review Text",
                  "dtype": "object",
                  "stats": {
                    "unique_count": 500,
                    "nan_count": 0,
                    "categories": [
                      {
                        "name": "bought store yesterday light fit extrem comfort im long torso end go larg one like shirt hang loos print vivid person nonetheless great",
                        "count": 1
                      },
                      {
                        "name": "color dress beauti realli want love wasnt cut bodi shape think either need curvi fill chest straight updown lay flat model order size b tallslim build also think hilo hem dress isnt well indic pictur im fan style hope would minim howev hem definit asymmetr",
                        "count": 1
                      },
                      {
                        "name": "498 others",
                        "count": 498
                      }
                    ]
                  }
                },
                {
                  "name": "Rating Actual",
                  "dtype": "object",
                  "stats": {
                    "unique_count": 5,
                    "nan_count": 0,
                    "categories": [
                      {
                        "name": "5",
                        "count": 289
                      },
                      {
                        "name": "4",
                        "count": 106
                      },
                      {
                        "name": "3 others",
                        "count": 105
                      }
                    ]
                  }
                },
                {
                  "name": "Rating Prediction",
                  "dtype": "object",
                  "stats": {
                    "unique_count": 5,
                    "nan_count": 0,
                    "categories": [
                      {
                        "name": "5",
                        "count": 419
                      },
                      {
                        "name": "3",
                        "count": 35
                      },
                      {
                        "name": "3 others",
                        "count": 46
                      }
                    ]
                  }
                },
                {
                  "name": "_deepnote_index_column",
                  "dtype": "int64"
                }
              ],
              "rows_top": [
                {
                  "ID": "877",
                  "Review Text": "bought store yesterday light fit extrem comfort im long torso end go larg one like shirt hang loos …",
                  "Rating Actual": "5",
                  "Rating Prediction": "5",
                  "_deepnote_index_column": 0
                },
                {
                  "ID": "1080",
                  "Review Text": "color dress beauti realli want love wasnt cut bodi shape think either need curvi fill chest straigh…",
                  "Rating Actual": "3",
                  "Rating Prediction": "3",
                  "_deepnote_index_column": 1
                },
                {
                  "ID": "964",
                  "Review Text": "order littl jacket knew would like upon arriv fell love littl edgi leather detail stretch right pla…",
                  "Rating Actual": "5",
                  "Rating Prediction": "5",
                  "_deepnote_index_column": 2
                },
                {
                  "ID": "1060",
                  "Review Text": "pound bought p fabric high qualiti cling instead drape flatter way add cut jumpsuit elong flatter l…",
                  "Rating Actual": "5",
                  "Rating Prediction": "5",
                  "_deepnote_index_column": 3
                },
                {
                  "ID": "872",
                  "Review Text": "nice casual inexpens shirt lace necklin greatnot reveal easili worn tie without look prudish cours …",
                  "Rating Actual": "4",
                  "Rating Prediction": "5",
                  "_deepnote_index_column": 4
                },
                {
                  "ID": "828",
                  "Review Text": "top cute dont usual like crochet top saw order glad complaint one button hook broke fix",
                  "Rating Actual": "5",
                  "Rating Prediction": "5",
                  "_deepnote_index_column": 5
                },
                {
                  "ID": "1145",
                  "Review Text": "differ anyth closet wide beauti drape fabric soft substanti cutest coral color line placket insid l…",
                  "Rating Actual": "5",
                  "Rating Prediction": "5",
                  "_deepnote_index_column": 6
                },
                {
                  "ID": "1110",
                  "Review Text": "dress look better model mine tight bow blackgrey bow isnt bignot pull much mayb knot photo heavi ca…",
                  "Rating Actual": "5",
                  "Rating Prediction": "4",
                  "_deepnote_index_column": 7
                },
                {
                  "ID": "1094",
                  "Review Text": "thought id like dress neutral color return quit unflatt skirt made hip look big uneven shape didnt …",
                  "Rating Actual": "3",
                  "Rating Prediction": "3",
                  "_deepnote_index_column": 8
                },
                {
                  "ID": "881",
                  "Review Text": "cant rate enough star number great fit cant see sleev perfect length right amount fabric drape lb f…",
                  "Rating Actual": "5",
                  "Rating Prediction": "5",
                  "_deepnote_index_column": 9
                },
                {
                  "ID": "873",
                  "Review Text": "purchas coral color im usual xs small brand felt top run tad small small fit much better simpl flat…",
                  "Rating Actual": "5",
                  "Rating Prediction": "5",
                  "_deepnote_index_column": 10
                },
                {
                  "ID": "1095",
                  "Review Text": "beauti fit simpl flatter athlet size fit well strap may taken littl",
                  "Rating Actual": "4",
                  "Rating Prediction": "5",
                  "_deepnote_index_column": 11
                },
                {
                  "ID": "835",
                  "Review Text": "absolut ador top versatil look equal beauti jean dressier skinni pant bought wear holiday photo got…",
                  "Rating Actual": "5",
                  "Rating Prediction": "5",
                  "_deepnote_index_column": 12
                },
                {
                  "ID": "867",
                  "Review Text": "top small usual size small tight around top arm hole short also didnt notic said sheer see descript…",
                  "Rating Actual": "2",
                  "Rating Prediction": "5",
                  "_deepnote_index_column": 13
                },
                {
                  "ID": "1038",
                  "Review Text": "embroideri actual navi blue black like show photo even better soft feminin look love love love plea…",
                  "Rating Actual": "5",
                  "Rating Prediction": "5",
                  "_deepnote_index_column": 14
                },
                {
                  "ID": "1078",
                  "Review Text": "love dress comfort slim swing ingrati fabric light like detail button sleev overal im pleas happi p…",
                  "Rating Actual": "5",
                  "Rating Prediction": "5",
                  "_deepnote_index_column": 15
                },
                {
                  "ID": "871",
                  "Review Text": "love tank didnt find see run true size super comfi lace detail make fun plain old tank top great ba…",
                  "Rating Actual": "5",
                  "Rating Prediction": "5",
                  "_deepnote_index_column": 16
                },
                {
                  "ID": "945",
                  "Review Text": "notic vest hang local store tri whim felt soft usual wear xs retail cloth tri xss felt true size ob…",
                  "Rating Actual": "5",
                  "Rating Prediction": "5",
                  "_deepnote_index_column": 17
                },
                {
                  "ID": "1059",
                  "Review Text": "fit great hang nice extra loop hold belt perfect design",
                  "Rating Actual": "5",
                  "Rating Prediction": "5",
                  "_deepnote_index_column": 18
                },
                {
                  "ID": "984",
                  "Review Text": "beauti fabric soft drape unfortun captain kangaroo pocket aw unless straight shape hip unflatt pock…",
                  "Rating Actual": "1",
                  "Rating Prediction": "2",
                  "_deepnote_index_column": 19
                },
                {
                  "ID": "995",
                  "Review Text": "love traci rees find retail first day wear skirt alreadi receiv number compliment typic materi woul…",
                  "Rating Actual": "4",
                  "Rating Prediction": "5",
                  "_deepnote_index_column": 20
                },
                {
                  "ID": "862",
                  "Review Text": "order black red high hope base review receiv ok return",
                  "Rating Actual": "3",
                  "Rating Prediction": "1",
                  "_deepnote_index_column": 21
                },
                {
                  "ID": "862",
                  "Review Text": "go wrong soft cotton top neither snug loos expect wear layer realli cold selv earli spring fall gre…",
                  "Rating Actual": "5",
                  "Rating Prediction": "5",
                  "_deepnote_index_column": 22
                },
                {
                  "ID": "877",
                  "Review Text": "ok western scene soft comfort true size dress great shirt recommend get",
                  "Rating Actual": "5",
                  "Rating Prediction": "5",
                  "_deepnote_index_column": 23
                },
                {
                  "ID": "829",
                  "Review Text": "feminin love flutter inde fenc order petit size someth bust arm hole complet right given light airi…",
                  "Rating Actual": "4",
                  "Rating Prediction": "5",
                  "_deepnote_index_column": 24
                },
                {
                  "ID": "867",
                  "Review Text": "right bag top didnt realli match one pictur right top though fabric heavi felt damp way someth feel…",
                  "Rating Actual": "1",
                  "Rating Prediction": "5",
                  "_deepnote_index_column": 25
                },
                {
                  "ID": "873",
                  "Review Text": "love top purchas coral color im definit want blue sinc great blous transit fall weight top good sin…",
                  "Rating Actual": "5",
                  "Rating Prediction": "5",
                  "_deepnote_index_column": 26
                },
                {
                  "ID": "1081",
                  "Review Text": "liter bought dress day ago list longer avail retail site size bc bust thing love dress look realli …",
                  "Rating Actual": "5",
                  "Rating Prediction": "5",
                  "_deepnote_index_column": 27
                },
                {
                  "ID": "1082",
                  "Review Text": "bought dress white event mani compliment fun danc dress top layer spin loos flowi arm hole rather l…",
                  "Rating Actual": "5",
                  "Rating Prediction": "5",
                  "_deepnote_index_column": 28
                },
                {
                  "ID": "872",
                  "Review Text": "tri top red xs think cute fairli fit opinion sleev pretti snug there stretch fine fabric size xs im…",
                  "Rating Actual": "4",
                  "Rating Prediction": "5",
                  "_deepnote_index_column": 29
                },
                {
                  "ID": "154",
                  "Review Text": "love loungeathom top color pattern realli pretti soft warm comfi cozi also boxi thick flatter cut",
                  "Rating Actual": "4",
                  "Rating Prediction": "5",
                  "_deepnote_index_column": 30
                },
                {
                  "ID": "155",
                  "Review Text": "tight light time super cozi definit cut sewn tight meant worn leg theyr realli sheer around rump iv…",
                  "Rating Actual": "4",
                  "Rating Prediction": "5",
                  "_deepnote_index_column": 31
                },
                {
                  "ID": "829",
                  "Review Text": "realli love top look great black tahari suit wear work necklin look realli nice neg bit sheer wear …",
                  "Rating Actual": "4",
                  "Rating Prediction": "5",
                  "_deepnote_index_column": 32
                },
                {
                  "ID": "937",
                  "Review Text": "im lb shorti short torso long arm standard xs huge opportun tri xx petit xs petit xx petit almost p…",
                  "Rating Actual": "5",
                  "Rating Prediction": "5",
                  "_deepnote_index_column": 33
                },
                {
                  "ID": "863",
                  "Review Text": "im alway look piec would good either layer worn alon look cute model receiv actual flow want straig…",
                  "Rating Actual": "2",
                  "Rating Prediction": "2",
                  "_deepnote_index_column": 34
                },
                {
                  "ID": "1020",
                  "Review Text": "realli cute realli comfi great color love overs button around great skirt nice shade goe right fall…",
                  "Rating Actual": "5",
                  "Rating Prediction": "5",
                  "_deepnote_index_column": 35
                },
                {
                  "ID": "936",
                  "Review Text": "beauti person love detail color usual dont like poncho one shape squar front definit set apart",
                  "Rating Actual": "5",
                  "Rating Prediction": "5",
                  "_deepnote_index_column": 36
                },
                {
                  "ID": "831",
                  "Review Text": "cute fit well versatil top think work well sweater blazer fall",
                  "Rating Actual": "5",
                  "Rating Prediction": "5",
                  "_deepnote_index_column": 37
                },
                {
                  "ID": "952",
                  "Review Text": "interest design highqual garment fit true size great layer soft knit drapey attach collar adjust lo…",
                  "Rating Actual": "5",
                  "Rating Prediction": "5",
                  "_deepnote_index_column": 38
                },
                {
                  "ID": "1094",
                  "Review Text": "order geometr bluer pattern small regular materi soft comfort standout piec unfortun made stomach l…",
                  "Rating Actual": "3",
                  "Rating Prediction": "3",
                  "_deepnote_index_column": 39
                },
                {
                  "ID": "1020",
                  "Review Text": "tri store run small size curvi hip size size couldnt even button hope alin fit like pencil skirt fl…",
                  "Rating Actual": "3",
                  "Rating Prediction": "4",
                  "_deepnote_index_column": 40
                },
                {
                  "ID": "1086",
                  "Review Text": "wow dress far fit voluptu hourglass figur woman inch bust medium fit perfectlyth whole dress fit pe…",
                  "Rating Actual": "5",
                  "Rating Prediction": "5",
                  "_deepnote_index_column": 41
                },
                {
                  "ID": "1125",
                  "Review Text": "saw jacket sale rack local store size extra small need medium store abl order sinc show back order …",
                  "Rating Actual": "4",
                  "Rating Prediction": "5",
                  "_deepnote_index_column": 42
                },
                {
                  "ID": "876",
                  "Review Text": "bought top sale glad pay full price wash everyth wear dri saw greas spot back small hole one upper …",
                  "Rating Actual": "1",
                  "Rating Prediction": "5",
                  "_deepnote_index_column": 43
                },
                {
                  "ID": "974",
                  "Review Text": "saw piec fell love print beauti well place everi piec littl boxi bit warm indoor unusu enough overl…",
                  "Rating Actual": "5",
                  "Rating Prediction": "5",
                  "_deepnote_index_column": 44
                },
                {
                  "ID": "1077",
                  "Review Text": "high hope dress realli want work initi order petit small usual size found outrag small small fact c…",
                  "Rating Actual": "3",
                  "Rating Prediction": "4",
                  "_deepnote_index_column": 45
                },
                {
                  "ID": "834",
                  "Review Text": "love wear blous jean cute sneaker blous frilli flirti three quarter sleev one cute fabric cover but…",
                  "Rating Actual": "5",
                  "Rating Prediction": "5",
                  "_deepnote_index_column": 46
                },
                {
                  "ID": "868",
                  "Review Text": "realli want love top love mix fabric pattern short tunic length paid attent review im tight bust sh…",
                  "Rating Actual": "3",
                  "Rating Prediction": "3",
                  "_deepnote_index_column": 47
                },
                {
                  "ID": "835",
                  "Review Text": "truli uniqu top detail around neck nice chang",
                  "Rating Actual": "5",
                  "Rating Prediction": "5",
                  "_deepnote_index_column": 48
                },
                {
                  "ID": "872",
                  "Review Text": "realli casual tee cute pattern give pop color littl dress go look thought might bit wide pictur nic…",
                  "Rating Actual": "5",
                  "Rating Prediction": "5",
                  "_deepnote_index_column": 49
                },
                {
                  "ID": "1033",
                  "Review Text": "origin got petit thought fit great right bag im usual within hour wear retail actual knee gotten ba…",
                  "Rating Actual": "2",
                  "Rating Prediction": "5",
                  "_deepnote_index_column": 50
                },
                {
                  "ID": "824",
                  "Review Text": "pretti top lot intric detail love edg stud give look fuddi duddi ivori look nicer black loos detail…",
                  "Rating Actual": "3",
                  "Rating Prediction": "5",
                  "_deepnote_index_column": 51
                },
                {
                  "ID": "895",
                  "Review Text": "perfect mild fall weather texa light weight love top littl fit bottom swing",
                  "Rating Actual": "5",
                  "Rating Prediction": "5",
                  "_deepnote_index_column": 52
                },
                {
                  "ID": "835",
                  "Review Text": "glad abl get shirt realli springsumm item found wide bodi shoulder",
                  "Rating Actual": "5",
                  "Rating Prediction": "3",
                  "_deepnote_index_column": 53
                },
                {
                  "ID": "975",
                  "Review Text": "love soft slouchi feel drape yet construct jacket dont expect crisp fit im fan menswear look jacket…",
                  "Rating Actual": "5",
                  "Rating Prediction": "5",
                  "_deepnote_index_column": 54
                },
                {
                  "ID": "883",
                  "Review Text": "shirt littl roomi flatter design littl see hole across shirt unusu make uniqu",
                  "Rating Actual": "5",
                  "Rating Prediction": "5",
                  "_deepnote_index_column": 55
                },
                {
                  "ID": "1008",
                  "Review Text": "im one write review thought would absolut beauti skirt saw instor becam avail onlin knew dont like …",
                  "Rating Actual": "5",
                  "Rating Prediction": "5",
                  "_deepnote_index_column": 56
                },
                {
                  "ID": "1084",
                  "Review Text": "want dress much order twice time zipper defectiveit would get stuck midway waistlineso send back is…",
                  "Rating Actual": "1",
                  "Rating Prediction": "3",
                  "_deepnote_index_column": 57
                },
                {
                  "ID": "1003",
                  "Review Text": "refer lb hourglass figur usual small fit perfectli problem skirt black charcoal graypurpl sipper re…",
                  "Rating Actual": "2",
                  "Rating Prediction": "5",
                  "_deepnote_index_column": 58
                },
                {
                  "ID": "1081",
                  "Review Text": "warn yoke dress sequin underneath im sparkl kinda gal soon saw dress went right back packag go back…",
                  "Rating Actual": "3",
                  "Rating Prediction": "5",
                  "_deepnote_index_column": 59
                },
                {
                  "ID": "861",
                  "Review Text": "ador basic wear week summer instead fabric develop notic hole first wear brand make softest cutest …",
                  "Rating Actual": "1",
                  "Rating Prediction": "5",
                  "_deepnote_index_column": 60
                },
                {
                  "ID": "1060",
                  "Review Text": "someth would normal wear beauti fabric made give tri glad fit beauti slim feminin fit enough flow l…",
                  "Rating Actual": "5",
                  "Rating Prediction": "5",
                  "_deepnote_index_column": 61
                },
                {
                  "ID": "1077",
                  "Review Text": "much dress wonder fabric nice weight color gorgeou got blue length petit hit right knee unfortun go…",
                  "Rating Actual": "3",
                  "Rating Prediction": "5",
                  "_deepnote_index_column": 62
                },
                {
                  "ID": "1038",
                  "Review Text": "like jean wore receiv compliment run larg size one size probabl could size two size feel tight firs…",
                  "Rating Actual": "5",
                  "Rating Prediction": "5",
                  "_deepnote_index_column": 63
                },
                {
                  "ID": "1099",
                  "Review Text": "dress perfect wear autumn beyond look great casual flat sneaker still warm outsid stylish cozi deni…",
                  "Rating Actual": "4",
                  "Rating Prediction": "5",
                  "_deepnote_index_column": 64
                },
                {
                  "ID": "850",
                  "Review Text": "bought shirt wear work im teacher shirt amaz im abl pair work pant dress denim dress cut incred pep…",
                  "Rating Actual": "5",
                  "Rating Prediction": "5",
                  "_deepnote_index_column": 65
                },
                {
                  "ID": "860",
                  "Review Text": "shirt dark green navi white perfect drape flatter way nice weight show curv right way fit snug emph…",
                  "Rating Actual": "5",
                  "Rating Prediction": "5",
                  "_deepnote_index_column": 66
                },
                {
                  "ID": "1125",
                  "Review Text": "run almost two size small plan wear jacket sleeveless dress skirt trouser like suit materi sturdi r…",
                  "Rating Actual": "4",
                  "Rating Prediction": "5",
                  "_deepnote_index_column": 67
                },
                {
                  "ID": "886",
                  "Review Text": "absolut love shirt necklin extrem flatter shirt natur come away bodi",
                  "Rating Actual": "4",
                  "Rating Prediction": "5",
                  "_deepnote_index_column": 68
                },
                {
                  "ID": "769",
                  "Review Text": "design grace kid said keeper pretti even boy child somehow feel make tummi look bigger mayb belt je…",
                  "Rating Actual": "4",
                  "Rating Prediction": "5",
                  "_deepnote_index_column": 69
                },
                {
                  "ID": "862",
                  "Review Text": "unfortun didnt read fine print order dri clean wasnt total deal breaker fit well c lb xs petit fit …",
                  "Rating Actual": "3",
                  "Rating Prediction": "3",
                  "_deepnote_index_column": 70
                },
                {
                  "ID": "1110",
                  "Review Text": "usual wear small dress couldnt even zip tight rib cage chest tri go even bottom half got much bigge…",
                  "Rating Actual": "3",
                  "Rating Prediction": "4",
                  "_deepnote_index_column": 71
                },
                {
                  "ID": "273",
                  "Review Text": "wouldnt unhappi pant cost less cheapli construct one wash theyr guarante shrink materi cheap flimsi…",
                  "Rating Actual": "1",
                  "Rating Prediction": "1",
                  "_deepnote_index_column": 72
                },
                {
                  "ID": "1077",
                  "Review Text": "quit odd dress wrap beauti materi howev dress close chest area thought perhap meant kimono go back …",
                  "Rating Actual": "1",
                  "Rating Prediction": "3",
                  "_deepnote_index_column": 73
                },
                {
                  "ID": "1081",
                  "Review Text": "dress ador perfect casual look summer qualiti nice line though still overpr opinion tie detail some…",
                  "Rating Actual": "4",
                  "Rating Prediction": "5",
                  "_deepnote_index_column": 74
                },
                {
                  "ID": "836",
                  "Review Text": "ador peplum top color much rich person saw store stalk onlin went sale beauti materi craftsmanship …",
                  "Rating Actual": "5",
                  "Rating Prediction": "5",
                  "_deepnote_index_column": 75
                },
                {
                  "ID": "863",
                  "Review Text": "purchas stripe racer tank wear day juli th perfect back realli special dress",
                  "Rating Actual": "5",
                  "Rating Prediction": "5",
                  "_deepnote_index_column": 76
                },
                {
                  "ID": "871",
                  "Review Text": "color tank beauti didnt keep similar top like fit true size line shape",
                  "Rating Actual": "4",
                  "Rating Prediction": "5",
                  "_deepnote_index_column": 77
                },
                {
                  "ID": "1033",
                  "Review Text": "give amaz slim effect love dark wash fit waist neg size length pant inch long still love wear heel …",
                  "Rating Actual": "4",
                  "Rating Prediction": "5",
                  "_deepnote_index_column": 78
                },
                {
                  "ID": "829",
                  "Review Text": "nice shirt cant keep order athlet build somewhat wider shoulder given petit usual wear petit pant t…",
                  "Rating Actual": "2",
                  "Rating Prediction": "5",
                  "_deepnote_index_column": 79
                },
                {
                  "ID": "820",
                  "Review Text": "absolut love top fit great easi dress wore wash accord tag cold water flat dri size small unwear ex…",
                  "Rating Actual": "1",
                  "Rating Prediction": "5",
                  "_deepnote_index_column": 80
                },
                {
                  "ID": "875",
                  "Review Text": "top realli cute thread underneath shirt scratch torso suggest wear tank underneath protect skin",
                  "Rating Actual": "2",
                  "Rating Prediction": "5",
                  "_deepnote_index_column": 81
                },
                {
                  "ID": "1081",
                  "Review Text": "littl dress extrem cute comfort didnt pay enough attent pictur total miss faux wrap skirt add appea…",
                  "Rating Actual": "5",
                  "Rating Prediction": "5",
                  "_deepnote_index_column": 82
                },
                {
                  "ID": "860",
                  "Review Text": "bought green local store fell love also tri one pink bit sheer opt green color instead nice feminin",
                  "Rating Actual": "4",
                  "Rating Prediction": "5",
                  "_deepnote_index_column": 83
                },
                {
                  "ID": "1077",
                  "Review Text": "cute littl dress fit tt littl high waist good length height like dress im love dont think look feel…",
                  "Rating Actual": "3",
                  "Rating Prediction": "5",
                  "_deepnote_index_column": 84
                },
                {
                  "ID": "1086",
                  "Review Text": "dress beauti model person sheer could dealt fit great petit short regular long boxi seem run big ev…",
                  "Rating Actual": "1",
                  "Rating Prediction": "5",
                  "_deepnote_index_column": 85
                },
                {
                  "ID": "969",
                  "Review Text": "read review hesit purchas glad im usual xs depend brand got xx fit perfectli cute look like bathrob…",
                  "Rating Actual": "5",
                  "Rating Prediction": "5",
                  "_deepnote_index_column": 86
                },
                {
                  "ID": "381",
                  "Review Text": "took plung order romant floral pattern almost got black thought would timeless print fun im glad we…",
                  "Rating Actual": "5",
                  "Rating Prediction": "5",
                  "_deepnote_index_column": 87
                },
                {
                  "ID": "1081",
                  "Review Text": "loveeeeeee dress saw onlin immedi love blue orang larg floral print everyon els sold quick thought …",
                  "Rating Actual": "4",
                  "Rating Prediction": "5",
                  "_deepnote_index_column": 88
                },
                {
                  "ID": "912",
                  "Review Text": "love sweater heavi rich textur feel like cool grandma cut straight collar feel natur small wrap clo…",
                  "Rating Actual": "5",
                  "Rating Prediction": "5",
                  "_deepnote_index_column": 89
                },
                {
                  "ID": "1078",
                  "Review Text": "love comfi subtl yet sexi vibe mani compliment wore work everyon ask got fit true size lb xs fit pe…",
                  "Rating Actual": "4",
                  "Rating Prediction": "5",
                  "_deepnote_index_column": 90
                },
                {
                  "ID": "647",
                  "Review Text": "got small mauv fit great length perfect inch knee cute cozi ask",
                  "Rating Actual": "5",
                  "Rating Prediction": "5",
                  "_deepnote_index_column": 91
                },
                {
                  "ID": "858",
                  "Review Text": "ade basket hte last mintu see would look like person store pick went teh darkler color pale hte col…",
                  "Rating Actual": "5",
                  "Rating Prediction": "5",
                  "_deepnote_index_column": 92
                },
                {
                  "ID": "164",
                  "Review Text": "love way felt like previou review said run slightli larg usual size leg littl baggi wthe medium sin…",
                  "Rating Actual": "4",
                  "Rating Prediction": "5",
                  "_deepnote_index_column": 93
                },
                {
                  "ID": "862",
                  "Review Text": "love shirt great fabric fit tri wait sale buy sever other addit color",
                  "Rating Actual": "5",
                  "Rating Prediction": "5",
                  "_deepnote_index_column": 94
                },
                {
                  "ID": "815",
                  "Review Text": "order shirt wear pair pant return one reason top went back well realli cute like exagger key hole b…",
                  "Rating Actual": "4",
                  "Rating Prediction": "4",
                  "_deepnote_index_column": 95
                },
                {
                  "ID": "1056",
                  "Review Text": "receiv pant realli cute casual think cute topjacket heel appropri fun night casual date realli comf…",
                  "Rating Actual": "5",
                  "Rating Prediction": "5",
                  "_deepnote_index_column": 96
                },
                {
                  "ID": "936",
                  "Review Text": "wish hadnt wait long buy small sold grey time finial medium end total fine perfect warmer winter pr…",
                  "Rating Actual": "5",
                  "Rating Prediction": "5",
                  "_deepnote_index_column": 97
                },
                {
                  "ID": "1081",
                  "Review Text": "receiv dress ador pineappl print realli flatter well made shoulder style cut back make realli stand…",
                  "Rating Actual": "5",
                  "Rating Prediction": "5",
                  "_deepnote_index_column": 98
                },
                {
                  "ID": "829",
                  "Review Text": "usual wear maev purchas orang im c size jean bust arm fit great still found front tad shorter comfo…",
                  "Rating Actual": "4",
                  "Rating Prediction": "5",
                  "_deepnote_index_column": 99
                },
                {
                  "ID": "1078",
                  "Review Text": "maev dress caught eye uniqu style disappoint person vnecklin deep reveal nice hemstitch detail slee…",
                  "Rating Actual": "4",
                  "Rating Prediction": "5",
                  "_deepnote_index_column": 100
                },
                {
                  "ID": "862",
                  "Review Text": "love dolman sleev perfect length throw cute necklac go",
                  "Rating Actual": "5",
                  "Rating Prediction": "5",
                  "_deepnote_index_column": 101
                },
                {
                  "ID": "947",
                  "Review Text": "order small enorm usual wear size short full bodi sleev made look like sumo wrestler also heavi kni…",
                  "Rating Actual": "2",
                  "Rating Prediction": "4",
                  "_deepnote_index_column": 102
                },
                {
                  "ID": "868",
                  "Review Text": "love tshirt feel classi stylish comfort wear review note bellowi peplum design love look great skin…",
                  "Rating Actual": "5",
                  "Rating Prediction": "5",
                  "_deepnote_index_column": 103
                },
                {
                  "ID": "1095",
                  "Review Text": "absolut love dress well made fit like glove flatter fabric stretchi make fit perfect comfort wear g…",
                  "Rating Actual": "5",
                  "Rating Prediction": "5",
                  "_deepnote_index_column": 104
                },
                {
                  "ID": "886",
                  "Review Text": "soft comfi tee like interest necklin wish petit necklin slightli higher sleev right length great cu…",
                  "Rating Actual": "4",
                  "Rating Prediction": "5",
                  "_deepnote_index_column": 105
                },
                {
                  "ID": "895",
                  "Review Text": "order green black ivori thought cute sweater short still cute ivori one return though sparkl that n…",
                  "Rating Actual": "4",
                  "Rating Prediction": "2",
                  "_deepnote_index_column": 106
                },
                {
                  "ID": "1022",
                  "Review Text": "bought ivori love decid get taup imagin surpris got grey hold pant receiv taup shown onlin see diff…",
                  "Rating Actual": "4",
                  "Rating Prediction": "5",
                  "_deepnote_index_column": 107
                },
                {
                  "ID": "863",
                  "Review Text": "great basic much cuter black white wish came color",
                  "Rating Actual": "5",
                  "Rating Prediction": "5",
                  "_deepnote_index_column": 108
                },
                {
                  "ID": "282",
                  "Review Text": "wonder flatter fit mostli cotton cool huge color select bought pair thrill pilcro thing could make …",
                  "Rating Actual": "5",
                  "Rating Prediction": "5",
                  "_deepnote_index_column": 109
                },
                {
                  "ID": "1110",
                  "Review Text": "dress gorgeou hanger even gorgeou definit run big though size probabl best",
                  "Rating Actual": "5",
                  "Rating Prediction": "5",
                  "_deepnote_index_column": 110
                },
                {
                  "ID": "1095",
                  "Review Text": "dress exactli want great materi cute pale blue slip line dress order medium perfect receiv complime…",
                  "Rating Actual": "5",
                  "Rating Prediction": "5",
                  "_deepnote_index_column": 111
                },
                {
                  "ID": "1074",
                  "Review Text": "kept size dress return roomi arm chest great materi nice much materi hang nice swing anoth win",
                  "Rating Actual": "4",
                  "Rating Prediction": "4",
                  "_deepnote_index_column": 112
                },
                {
                  "ID": "730",
                  "Review Text": "cute print side far cheek expos anticip photo front isnt skimpi back bit small tast definit narrow …",
                  "Rating Actual": "3",
                  "Rating Prediction": "4",
                  "_deepnote_index_column": 113
                },
                {
                  "ID": "792",
                  "Review Text": "bought today super soft beauti also cotton yay hate poli thought mention though shrink dryer unless…",
                  "Rating Actual": "5",
                  "Rating Prediction": "5",
                  "_deepnote_index_column": 114
                },
                {
                  "ID": "929",
                  "Review Text": "interest sweater actual thought tunic sweater much shorter thought wish could return bought size la…",
                  "Rating Actual": "1",
                  "Rating Prediction": "2",
                  "_deepnote_index_column": 115
                },
                {
                  "ID": "373",
                  "Review Text": "oh love bra comfort flatter find mani bralett total flatten one floral lace beauti daisytyp flower …",
                  "Rating Actual": "5",
                  "Rating Prediction": "5",
                  "_deepnote_index_column": 116
                },
                {
                  "ID": "937",
                  "Review Text": "yike quit smell one like wethot wool color beauti sweater enorm strang fit arm well one went back d…",
                  "Rating Actual": "1",
                  "Rating Prediction": "5",
                  "_deepnote_index_column": 117
                },
                {
                  "ID": "1094",
                  "Review Text": "order red versionit incred cute soft vibrant flatter alin howev dress size oddli run least one two …",
                  "Rating Actual": "3",
                  "Rating Prediction": "5",
                  "_deepnote_index_column": 118
                },
                {
                  "ID": "872",
                  "Review Text": "tank super amaz versatil wore work dress pant flat wore dinner jean heel bit comfort zone sinc swin…",
                  "Rating Actual": "5",
                  "Rating Prediction": "5",
                  "_deepnote_index_column": 119
                },
                {
                  "ID": "1095",
                  "Review Text": "everybodi els correct dress ador fit weird usual size lb c got base review waist fit perfect top hu…",
                  "Rating Actual": "3",
                  "Rating Prediction": "5",
                  "_deepnote_index_column": 120
                },
                {
                  "ID": "836",
                  "Review Text": "usual size brand small perfect lb top luxuri casual feel beauti obsess want wear everyday wear litt…",
                  "Rating Actual": "5",
                  "Rating Prediction": "5",
                  "_deepnote_index_column": 121
                },
                {
                  "ID": "871",
                  "Review Text": "got green one review comment ye fabric thin howev wear nude bra nude cami ive noth compliment",
                  "Rating Actual": "5",
                  "Rating Prediction": "5",
                  "_deepnote_index_column": 122
                },
                {
                  "ID": "1125",
                  "Review Text": "coat nice russian one year ago fit stun swear life way short wear averag coat park recreat fan thin…",
                  "Rating Actual": "5",
                  "Rating Prediction": "5",
                  "_deepnote_index_column": 123
                },
                {
                  "ID": "1064",
                  "Review Text": "read review purchas jumpsuit cute anoth review mention longer that plu thigh huge regular well prop…",
                  "Rating Actual": "3",
                  "Rating Prediction": "5",
                  "_deepnote_index_column": 124
                }
              ],
              "rows_bottom": [
                {
                  "ID": "857",
                  "Review Text": "ive search brown topdresstun forev final found perfect one stumbl across ador tunic brows clearanc …",
                  "Rating Actual": "5",
                  "Rating Prediction": "5",
                  "_deepnote_index_column": 375
                },
                {
                  "ID": "1037",
                  "Review Text": "run small also short almost like crop pant fit weird wont even exchang bigger size",
                  "Rating Actual": "1",
                  "Rating Prediction": "4",
                  "_deepnote_index_column": 376
                },
                {
                  "ID": "634",
                  "Review Text": "purchas dress black love hot live alway look lightweight dress throw either pool wore outsid concer…",
                  "Rating Actual": "5",
                  "Rating Prediction": "5",
                  "_deepnote_index_column": 377
                },
                {
                  "ID": "895",
                  "Review Text": "sweater gorgeou order grey motif describ wonder soft tri tank top underneath find materi scratchi o…",
                  "Rating Actual": "5",
                  "Rating Prediction": "4",
                  "_deepnote_index_column": 378
                },
                {
                  "ID": "634",
                  "Review Text": "love dress day night time back detail cute work well racerback bra run big though im normal small d…",
                  "Rating Actual": "4",
                  "Rating Prediction": "5",
                  "_deepnote_index_column": 379
                },
                {
                  "ID": "1104",
                  "Review Text": "purchas navi color dress look good felt good well sinc wed also purchas white crochet crop sweater …",
                  "Rating Actual": "5",
                  "Rating Prediction": "5",
                  "_deepnote_index_column": 380
                },
                {
                  "ID": "1195",
                  "Review Text": "tri dress store love onlin personnot much look felt like cheap halloween costum fabric bad realli b…",
                  "Rating Actual": "1",
                  "Rating Prediction": "3",
                  "_deepnote_index_column": 381
                },
                {
                  "ID": "1078",
                  "Review Text": "bought dress mango love color vibrant fit great imagin get lot use dress summer month complaint exp…",
                  "Rating Actual": "4",
                  "Rating Prediction": "5",
                  "_deepnote_index_column": 382
                },
                {
                  "ID": "1110",
                  "Review Text": "dont typic write bad review dress bad want save someon els buy read mostli bad review still purchas…",
                  "Rating Actual": "1",
                  "Rating Prediction": "5",
                  "_deepnote_index_column": 383
                },
                {
                  "ID": "862",
                  "Review Text": "scare first order product tri amaz good look fit like model pictur materi awesom",
                  "Rating Actual": "5",
                  "Rating Prediction": "3",
                  "_deepnote_index_column": 384
                },
                {
                  "ID": "620",
                  "Review Text": "got short blue motif theyr realli comfort look cute tank top weekend true size usual size got small…",
                  "Rating Actual": "4",
                  "Rating Prediction": "5",
                  "_deepnote_index_column": 385
                },
                {
                  "ID": "861",
                  "Review Text": "shirt soft flatter got multipl compliment",
                  "Rating Actual": "5",
                  "Rating Prediction": "5",
                  "_deepnote_index_column": 386
                },
                {
                  "ID": "860",
                  "Review Text": "order ivori size xl cute comfort top detail welldon qualiti materi great flowi fit wash airdri shri…",
                  "Rating Actual": "5",
                  "Rating Prediction": "5",
                  "_deepnote_index_column": 387
                },
                {
                  "ID": "860",
                  "Review Text": "product comfort stylish love design color print dresss dress goe everyth also fit great",
                  "Rating Actual": "5",
                  "Rating Prediction": "5",
                  "_deepnote_index_column": 388
                },
                {
                  "ID": "573",
                  "Review Text": "order retail regularli pretti consist petit xx petit order petit like inch small rib cage chest are…",
                  "Rating Actual": "3",
                  "Rating Prediction": "4",
                  "_deepnote_index_column": 389
                },
                {
                  "ID": "906",
                  "Review Text": "quickli becom goto cardigan light make great spring summer night got rose love much bought oliv bou…",
                  "Rating Actual": "5",
                  "Rating Prediction": "5",
                  "_deepnote_index_column": 390
                },
                {
                  "ID": "1091",
                  "Review Text": "purchas beauti sophist dark green black friday constant rotat look chic classi feel comfort warm wi…",
                  "Rating Actual": "5",
                  "Rating Prediction": "5",
                  "_deepnote_index_column": 391
                },
                {
                  "ID": "964",
                  "Review Text": "purchas jacket green xsmall back wasnt sure due size im lb thought littl snug tri small way big kep…",
                  "Rating Actual": "5",
                  "Rating Prediction": "5",
                  "_deepnote_index_column": 392
                },
                {
                  "ID": "1110",
                  "Review Text": "gala go wear board member eye dress onlin tri store lurv got black one black lace sheer cotton nude…",
                  "Rating Actual": "5",
                  "Rating Prediction": "5",
                  "_deepnote_index_column": 393
                },
                {
                  "ID": "1094",
                  "Review Text": "love dress immedi got blue orang love combin top fabric flowi skirt one complaint bit short one sid…",
                  "Rating Actual": "4",
                  "Rating Prediction": "5",
                  "_deepnote_index_column": 394
                },
                {
                  "ID": "1020",
                  "Review Text": "love skirt tri materi soft bit stretch id say run littl larg refer im usual size retail still littl…",
                  "Rating Actual": "1",
                  "Rating Prediction": "5",
                  "_deepnote_index_column": 395
                },
                {
                  "ID": "1078",
                  "Review Text": "realli cute dress laceup detail distinct think dress versatil great hot weather tri retail skinni p…",
                  "Rating Actual": "4",
                  "Rating Prediction": "5",
                  "_deepnote_index_column": 396
                },
                {
                  "ID": "850",
                  "Review Text": "tri today wish taken home true size star print perfect flowi matern way im gonna go back one",
                  "Rating Actual": "5",
                  "Rating Prediction": "5",
                  "_deepnote_index_column": 397
                },
                {
                  "ID": "154",
                  "Review Text": "love feel design pullov extrem soft comfi wear howev find run slightli larg bit boxi sleev bit leng…",
                  "Rating Actual": "4",
                  "Rating Prediction": "4",
                  "_deepnote_index_column": 398
                },
                {
                  "ID": "1026",
                  "Review Text": "love pant corduroy leg fit like skinni pant comfort stretchi maintain shape even multipl wear clean…",
                  "Rating Actual": "5",
                  "Rating Prediction": "5",
                  "_deepnote_index_column": 399
                },
                {
                  "ID": "895",
                  "Review Text": "bought reddish color littl skeptic fit style would realli work petit person look great fabric soft …",
                  "Rating Actual": "5",
                  "Rating Prediction": "5",
                  "_deepnote_index_column": 400
                },
                {
                  "ID": "868",
                  "Review Text": "bought shirt white worn way far love wore pull tail end stick great way wore long cardigan receiv l…",
                  "Rating Actual": "5",
                  "Rating Prediction": "5",
                  "_deepnote_index_column": 401
                },
                {
                  "ID": "1094",
                  "Review Text": "love dress bright teal color zipper bit sticki review mention unfortun size base past review exchan…",
                  "Rating Actual": "5",
                  "Rating Prediction": "5",
                  "_deepnote_index_column": 402
                },
                {
                  "ID": "1078",
                  "Review Text": "comfort versatil got lot compliment",
                  "Rating Actual": "5",
                  "Rating Prediction": "5",
                  "_deepnote_index_column": 403
                },
                {
                  "ID": "878",
                  "Review Text": "uniqu design love color could small xsmall chose xsmall fit perfectli",
                  "Rating Actual": "5",
                  "Rating Prediction": "5",
                  "_deepnote_index_column": 404
                },
                {
                  "ID": "1099",
                  "Review Text": "live south florida im alway look sundress flatter clingi hot take day even accessori pull box walk …",
                  "Rating Actual": "5",
                  "Rating Prediction": "5",
                  "_deepnote_index_column": 405
                },
                {
                  "ID": "1066",
                  "Review Text": "small collect retail pant work pair fit neatli hole dont fun pattern pair short definit need petit …",
                  "Rating Actual": "5",
                  "Rating Prediction": "5",
                  "_deepnote_index_column": 406
                },
                {
                  "ID": "720",
                  "Review Text": "dress great appear onlin soft flowi thin chambray materi strap adjust make good fit women fuller hi…",
                  "Rating Actual": "5",
                  "Rating Prediction": "5",
                  "_deepnote_index_column": 407
                },
                {
                  "ID": "1095",
                  "Review Text": "maev realli keep guess sizingusu big one small normal went comfort movement still maintain intent f…",
                  "Rating Actual": "5",
                  "Rating Prediction": "5",
                  "_deepnote_index_column": 408
                },
                {
                  "ID": "1078",
                  "Review Text": "order dress onlin wasnt sure crisscross necklin featur love absolut ador unbeliev comfort fabric so…",
                  "Rating Actual": "5",
                  "Rating Prediction": "5",
                  "_deepnote_index_column": 409
                },
                {
                  "ID": "873",
                  "Review Text": "im bought small buy retail top xs small fit well tight flatter color seen soft mute color materi th…",
                  "Rating Actual": "5",
                  "Rating Prediction": "5",
                  "_deepnote_index_column": 410
                },
                {
                  "ID": "1033",
                  "Review Text": "order blue size p lb size p curvi jean fit nice thigh hip area dont skinni thigh jean low rise look…",
                  "Rating Actual": "5",
                  "Rating Prediction": "5",
                  "_deepnote_index_column": 411
                },
                {
                  "ID": "872",
                  "Review Text": "love lace design bought red xsp fabric bit thin mediocr qualiti happi purchas wish top came navi wh…",
                  "Rating Actual": "4",
                  "Rating Prediction": "5",
                  "_deepnote_index_column": 412
                },
                {
                  "ID": "872",
                  "Review Text": "realli like top super cute perfect footbal game fairli casual event materi rib thick enough cant se…",
                  "Rating Actual": "4",
                  "Rating Prediction": "5",
                  "_deepnote_index_column": 413
                },
                {
                  "ID": "937",
                  "Review Text": "sweater like giant hug wore today receiv mani compliment",
                  "Rating Actual": "5",
                  "Rating Prediction": "5",
                  "_deepnote_index_column": 414
                },
                {
                  "ID": "869",
                  "Review Text": "cant say enough top absolut ador pic dont justic made soft medium weight jersey materi lace make to…",
                  "Rating Actual": "5",
                  "Rating Prediction": "5",
                  "_deepnote_index_column": 415
                },
                {
                  "ID": "854",
                  "Review Text": "love top color embroideri beauti uniqu love soft cotton arm back wish color",
                  "Rating Actual": "5",
                  "Rating Prediction": "5",
                  "_deepnote_index_column": 416
                },
                {
                  "ID": "1051",
                  "Review Text": "love romper medium fit great wasnt long im short thought would hem comfort although im huge fan gau…",
                  "Rating Actual": "5",
                  "Rating Prediction": "5",
                  "_deepnote_index_column": 417
                },
                {
                  "ID": "1047",
                  "Review Text": "want love pant larger expect fabric heavi almost like thick sweater",
                  "Rating Actual": "3",
                  "Rating Prediction": "5",
                  "_deepnote_index_column": 418
                },
                {
                  "ID": "829",
                  "Review Text": "impec workmanship oversea usual wear petit order regular size glad sinc curv side bare over waistba…",
                  "Rating Actual": "5",
                  "Rating Prediction": "5",
                  "_deepnote_index_column": 419
                },
                {
                  "ID": "1033",
                  "Review Text": "look care descript made purchas jean unfortun stretchi dont like look cotton lycralov rigid denim n…",
                  "Rating Actual": "3",
                  "Rating Prediction": "5",
                  "_deepnote_index_column": 420
                },
                {
                  "ID": "1033",
                  "Review Text": "saw local retail store almost didnt tri glad made leg look long lean run littl big decid go size th…",
                  "Rating Actual": "5",
                  "Rating Prediction": "5",
                  "_deepnote_index_column": 421
                },
                {
                  "ID": "1078",
                  "Review Text": "dress comfort versatil one could wear offic social event day night didnt find size run larg review …",
                  "Rating Actual": "4",
                  "Rating Prediction": "5",
                  "_deepnote_index_column": 422
                },
                {
                  "ID": "1081",
                  "Review Text": "love dress fabric feel amaz super flatter broad shoulder chest went small petit origin purchas regu…",
                  "Rating Actual": "5",
                  "Rating Prediction": "5",
                  "_deepnote_index_column": 423
                },
                {
                  "ID": "1078",
                  "Review Text": "purchas burnt orang color nice lightweight hot humid summer bit pizazz lace front slip nice made st…",
                  "Rating Actual": "5",
                  "Rating Prediction": "5",
                  "_deepnote_index_column": 424
                },
                {
                  "ID": "829",
                  "Review Text": "anoth review mention maev realli need get size control consist order fit think would comfort arm sh…",
                  "Rating Actual": "3",
                  "Rating Prediction": "5",
                  "_deepnote_index_column": 425
                },
                {
                  "ID": "907",
                  "Review Text": "excit top look exactli pictur materi soft albeit slightli see wear nude bra fine love ruffl detail …",
                  "Rating Actual": "5",
                  "Rating Prediction": "5",
                  "_deepnote_index_column": 426
                },
                {
                  "ID": "861",
                  "Review Text": "perfect stripe tshirt cute littl button front wonder accent one differ love",
                  "Rating Actual": "5",
                  "Rating Prediction": "5",
                  "_deepnote_index_column": 427
                },
                {
                  "ID": "872",
                  "Review Text": "versatil top feel like could dress fit nice materi soft",
                  "Rating Actual": "5",
                  "Rating Prediction": "5",
                  "_deepnote_index_column": 428
                },
                {
                  "ID": "844",
                  "Review Text": "saw blous sever month earlier anxious wait go sale definit worth wait qualiti design superb true si…",
                  "Rating Actual": "5",
                  "Rating Prediction": "5",
                  "_deepnote_index_column": 429
                },
                {
                  "ID": "863",
                  "Review Text": "love tee soft bore origin took bag teenag daughter like tri wow longer length back make interest lo…",
                  "Rating Actual": "5",
                  "Rating Prediction": "5",
                  "_deepnote_index_column": 430
                },
                {
                  "ID": "999",
                  "Review Text": "love skirt love pleat sheer bottom im happi found onlin love anyth maev count qualiti simpl eleg",
                  "Rating Actual": "5",
                  "Rating Prediction": "5",
                  "_deepnote_index_column": 431
                },
                {
                  "ID": "863",
                  "Review Text": "bought top differ color blue one one sleev notic shorter sent back less day later sale style darl g…",
                  "Rating Actual": "3",
                  "Rating Prediction": "5",
                  "_deepnote_index_column": 432
                },
                {
                  "ID": "1078",
                  "Review Text": "ive pass dress number time onlin order whim mother day promo base review order regular size medium …",
                  "Rating Actual": "5",
                  "Rating Prediction": "5",
                  "_deepnote_index_column": 433
                },
                {
                  "ID": "873",
                  "Review Text": "perfect casual pair jn short spring",
                  "Rating Actual": "5",
                  "Rating Prediction": "5",
                  "_deepnote_index_column": 434
                },
                {
                  "ID": "1099",
                  "Review Text": "beauti dress return way big long medium size wear think would need extra small",
                  "Rating Actual": "2",
                  "Rating Prediction": "3",
                  "_deepnote_index_column": 435
                },
                {
                  "ID": "1078",
                  "Review Text": "fun color drew sure fit weird top fine becam bit tentlik waist materi doesnt feel great either",
                  "Rating Actual": "2",
                  "Rating Prediction": "5",
                  "_deepnote_index_column": 436
                },
                {
                  "ID": "862",
                  "Review Text": "excit find shirt sale local retail store notic high percentag rayon fabric caus shirt shrink signif…",
                  "Rating Actual": "1",
                  "Rating Prediction": "1",
                  "_deepnote_index_column": 437
                },
                {
                  "ID": "1046",
                  "Review Text": "tri store thought color textur style nice need petit length came onlin disappoint see style sold pe…",
                  "Rating Actual": "5",
                  "Rating Prediction": "5",
                  "_deepnote_index_column": 438
                },
                {
                  "ID": "877",
                  "Review Text": "duster nice light weight dark navi throw add littl someth outfit without ad bulk warmth look nice d…",
                  "Rating Actual": "5",
                  "Rating Prediction": "5",
                  "_deepnote_index_column": 439
                },
                {
                  "ID": "1020",
                  "Review Text": "wow love skirt total agre reviewersthi item run full size small normal true six bottom bit tight co…",
                  "Rating Actual": "5",
                  "Rating Prediction": "5",
                  "_deepnote_index_column": 440
                },
                {
                  "ID": "1078",
                  "Review Text": "perfectli nice dress embroideri less eleg expect sure look close necklin materi thick somewhat info…",
                  "Rating Actual": "4",
                  "Rating Prediction": "5",
                  "_deepnote_index_column": 441
                },
                {
                  "ID": "820",
                  "Review Text": "love maev design gener find size qualiti consist top soft bit billowi darker pattern black motif co…",
                  "Rating Actual": "5",
                  "Rating Prediction": "5",
                  "_deepnote_index_column": 442
                },
                {
                  "ID": "1081",
                  "Review Text": "print fit dress perfect flatter slim",
                  "Rating Actual": "5",
                  "Rating Prediction": "5",
                  "_deepnote_index_column": 443
                },
                {
                  "ID": "831",
                  "Review Text": "order top navi white irregular dot sinc avail smaller size store took chanc order xs size fit perfe…",
                  "Rating Actual": "5",
                  "Rating Prediction": "5",
                  "_deepnote_index_column": 444
                },
                {
                  "ID": "1059",
                  "Review Text": "purchas pant red sale pound fit perfectli either pant depend upon brand realli hard find pant cute …",
                  "Rating Actual": "5",
                  "Rating Prediction": "5",
                  "_deepnote_index_column": 445
                },
                {
                  "ID": "1033",
                  "Review Text": "great fall stapl silver color perfect greyol textur perfect doesnt feel like extra materi like cord…",
                  "Rating Actual": "5",
                  "Rating Prediction": "5",
                  "_deepnote_index_column": 446
                },
                {
                  "ID": "144",
                  "Review Text": "perfect tightsfit feel top qualiti wash well",
                  "Rating Actual": "5",
                  "Rating Prediction": "5",
                  "_deepnote_index_column": 447
                },
                {
                  "ID": "866",
                  "Review Text": "love tee materi thick thick highli flatter love sleev longer short sleev cover bingo wing shimmer f…",
                  "Rating Actual": "5",
                  "Rating Prediction": "5",
                  "_deepnote_index_column": 448
                },
                {
                  "ID": "850",
                  "Review Text": "first fabric beauti love spring summer realli want like top fit awkward typic xs size shirt size ti…",
                  "Rating Actual": "2",
                  "Rating Prediction": "3",
                  "_deepnote_index_column": 449
                },
                {
                  "ID": "863",
                  "Review Text": "perfect weight summer wear fall gentli tummi without long ruffl edg quirki uneven length make inter…",
                  "Rating Actual": "5",
                  "Rating Prediction": "5",
                  "_deepnote_index_column": 450
                },
                {
                  "ID": "1131",
                  "Review Text": "love pattern jacket enjoy bell shape fun jacket add quick style skinni pant",
                  "Rating Actual": "3",
                  "Rating Prediction": "5",
                  "_deepnote_index_column": 451
                },
                {
                  "ID": "872",
                  "Review Text": "thought id add review lot landscapeprint tee still avail local durham nc store week xma anyway litt…",
                  "Rating Actual": "4",
                  "Rating Prediction": "5",
                  "_deepnote_index_column": 452
                },
                {
                  "ID": "895",
                  "Review Text": "love dont time sheer sheer probabl get away nude bra sure tri color love love shimmer order btoh xx…",
                  "Rating Actual": "4",
                  "Rating Prediction": "5",
                  "_deepnote_index_column": 453
                },
                {
                  "ID": "881",
                  "Review Text": "normal size retail top big armpit necklin dont usual go peplum drawn top bc soft tri everyth fit pe…",
                  "Rating Actual": "5",
                  "Rating Prediction": "5",
                  "_deepnote_index_column": 454
                },
                {
                  "ID": "886",
                  "Review Text": "beauti top love color shoulder total mess sure hang store way sewn",
                  "Rating Actual": "2",
                  "Rating Prediction": "5",
                  "_deepnote_index_column": 455
                },
                {
                  "ID": "850",
                  "Review Text": "top cute could worn work casual tall love long shirt definit recommend",
                  "Rating Actual": "5",
                  "Rating Prediction": "5",
                  "_deepnote_index_column": 456
                },
                {
                  "ID": "937",
                  "Review Text": "cardigan cute pictur realli want love didnt seem worth price materi kind itchi wasnt huge fan wide …",
                  "Rating Actual": "3",
                  "Rating Prediction": "3",
                  "_deepnote_index_column": 457
                },
                {
                  "ID": "107",
                  "Review Text": "phenomen wardrob peic qualiti comfort versatil dress belt boot shoe im ish lb small fit chest beaut…",
                  "Rating Actual": "4",
                  "Rating Prediction": "5",
                  "_deepnote_index_column": 458
                },
                {
                  "ID": "1030",
                  "Review Text": "love jean especi pair perfect fit hug right place perfect length worn x alreadi get better everi ti…",
                  "Rating Actual": "5",
                  "Rating Prediction": "5",
                  "_deepnote_index_column": 459
                },
                {
                  "ID": "1077",
                  "Review Text": "uniqu fun dress im glad found fit perfectli",
                  "Rating Actual": "5",
                  "Rating Prediction": "5",
                  "_deepnote_index_column": 460
                },
                {
                  "ID": "868",
                  "Review Text": "modern version peplum top flatter dont mind flowi cut materi nice heavi love black pebbl effect lb …",
                  "Rating Actual": "4",
                  "Rating Prediction": "5",
                  "_deepnote_index_column": 461
                },
                {
                  "ID": "634",
                  "Review Text": "sale price great price cute coverup polit compani dress want show cute underwearbikinicrossfit bod …",
                  "Rating Actual": "5",
                  "Rating Prediction": "5",
                  "_deepnote_index_column": 462
                },
                {
                  "ID": "1094",
                  "Review Text": "dont usual pay fullpric retail cloth coupon decid give dress tri irradi happi vibe remind book dres…",
                  "Rating Actual": "5",
                  "Rating Prediction": "5",
                  "_deepnote_index_column": 463
                },
                {
                  "ID": "867",
                  "Review Text": "love dive beauti version charm without cutsi stay away epitom summer grab go easi littl statement f…",
                  "Rating Actual": "5",
                  "Rating Prediction": "5",
                  "_deepnote_index_column": 464
                },
                {
                  "ID": "1054",
                  "Review Text": "flow feel materi realli nice howev think run larg order small exchang xs hope fit bit better want p…",
                  "Rating Actual": "4",
                  "Rating Prediction": "4",
                  "_deepnote_index_column": 465
                },
                {
                  "ID": "857",
                  "Review Text": "four kid post babi bump want live forev im huge fan flowi topsthi one look cute onlin wasnt sold pa…",
                  "Rating Actual": "5",
                  "Rating Prediction": "5",
                  "_deepnote_index_column": 466
                },
                {
                  "ID": "1094",
                  "Review Text": "love nautic vibe perfect summer wear knit top cap sleev easi wear clingi limp bump asymmetr skirt f…",
                  "Rating Actual": "4",
                  "Rating Prediction": "5",
                  "_deepnote_index_column": 467
                },
                {
                  "ID": "282",
                  "Review Text": "short ageappropri theyr loos fit cal roll left end knee fabric soft color fun",
                  "Rating Actual": "5",
                  "Rating Prediction": "5",
                  "_deepnote_index_column": 468
                },
                {
                  "ID": "829",
                  "Review Text": "normal avoid white top usual dont popbut saw style tri came buy anoth top catalog wow walk instead",
                  "Rating Actual": "5",
                  "Rating Prediction": "5",
                  "_deepnote_index_column": 469
                },
                {
                  "ID": "836",
                  "Review Text": "blue motif gorgeou indigo interest pattern short tunic drape nice flatter happi purchas plan buy nd…",
                  "Rating Actual": "5",
                  "Rating Prediction": "5",
                  "_deepnote_index_column": 470
                },
                {
                  "ID": "381",
                  "Review Text": "love materi style unfortun fear came true receiv swimsuit wasnt enough support despit review read t…",
                  "Rating Actual": "2",
                  "Rating Prediction": "4",
                  "_deepnote_index_column": 471
                },
                {
                  "ID": "1078",
                  "Review Text": "want like dress work bustier frame fabric quit loos nip waist particularli clingi wellendow asset c…",
                  "Rating Actual": "2",
                  "Rating Prediction": "3",
                  "_deepnote_index_column": 472
                },
                {
                  "ID": "1081",
                  "Review Text": "seen onlin time caught eye color never realli bother check detail due stock photo look quit bland d…",
                  "Rating Actual": "5",
                  "Rating Prediction": "5",
                  "_deepnote_index_column": 473
                },
                {
                  "ID": "1110",
                  "Review Text": "expect fit im womanli gener wear size thing pictur gorgeou tri im happi slip right flowi yet overli…",
                  "Rating Actual": "5",
                  "Rating Prediction": "5",
                  "_deepnote_index_column": 474
                },
                {
                  "ID": "1095",
                  "Review Text": "classic beauti style structur materi alway fall right look beauti take occas heel flat offic dinner…",
                  "Rating Actual": "4",
                  "Rating Prediction": "5",
                  "_deepnote_index_column": 475
                },
                {
                  "ID": "1056",
                  "Review Text": "size higher size choic snug athlet build top fit thigh tight caus belli area pouf good thin gal als…",
                  "Rating Actual": "4",
                  "Rating Prediction": "3",
                  "_deepnote_index_column": 476
                },
                {
                  "ID": "1099",
                  "Review Text": "cute cool dress hot summer day roomi pocket",
                  "Rating Actual": "5",
                  "Rating Prediction": "5",
                  "_deepnote_index_column": 477
                },
                {
                  "ID": "864",
                  "Review Text": "found today one rack absolut fell love bought normal size medium fit perfectli custom ask could fin…",
                  "Rating Actual": "5",
                  "Rating Prediction": "5",
                  "_deepnote_index_column": 478
                },
                {
                  "ID": "1054",
                  "Review Text": "think amaz anyon say way hung unflatt front unfortun masculin effect that say without crass",
                  "Rating Actual": "3",
                  "Rating Prediction": "5",
                  "_deepnote_index_column": 479
                },
                {
                  "ID": "1126",
                  "Review Text": "tri jacket definit cute coupl thing note wool acryl blend alreadi start pill tri store also unlin t…",
                  "Rating Actual": "3",
                  "Rating Prediction": "4",
                  "_deepnote_index_column": 480
                },
                {
                  "ID": "841",
                  "Review Text": "order top solid navi qualiti seem good overal impress favor like top stay shoulder even move mani o…",
                  "Rating Actual": "4",
                  "Rating Prediction": "5",
                  "_deepnote_index_column": 481
                },
                {
                  "ID": "573",
                  "Review Text": "first complaint dress pin back obvious video model turn around way see pin back clue dress isnt mea…",
                  "Rating Actual": "3",
                  "Rating Prediction": "4",
                  "_deepnote_index_column": 482
                },
                {
                  "ID": "1081",
                  "Review Text": "like fabric smooth feel nice skin like handkerchief hemlin tooi didnt realiz much would like neckli…",
                  "Rating Actual": "3",
                  "Rating Prediction": "4",
                  "_deepnote_index_column": 483
                },
                {
                  "ID": "1094",
                  "Review Text": "dress love embroideri beauti done bright color materi sturdi fit overal true size slightli small bu…",
                  "Rating Actual": "5",
                  "Rating Prediction": "5",
                  "_deepnote_index_column": 484
                },
                {
                  "ID": "823",
                  "Review Text": "top much prettier dress run tad larg im lb usual small medium usual medium went small love fit stil…",
                  "Rating Actual": "4",
                  "Rating Prediction": "4",
                  "_deepnote_index_column": 485
                },
                {
                  "ID": "1078",
                  "Review Text": "usual dress disappoint look great boot perfect day date dress",
                  "Rating Actual": "5",
                  "Rating Prediction": "5",
                  "_deepnote_index_column": 486
                },
                {
                  "ID": "850",
                  "Review Text": "love blous color littl sunglass vibrant black background button front also coralpeach color beauti …",
                  "Rating Actual": "5",
                  "Rating Prediction": "5",
                  "_deepnote_index_column": 487
                },
                {
                  "ID": "831",
                  "Review Text": "love top beauti",
                  "Rating Actual": "5",
                  "Rating Prediction": "5",
                  "_deepnote_index_column": 488
                },
                {
                  "ID": "942",
                  "Review Text": "look long vest go skinni jean exactli look color better pic style flatter size right cant wait wear…",
                  "Rating Actual": "5",
                  "Rating Prediction": "5",
                  "_deepnote_index_column": 489
                },
                {
                  "ID": "1078",
                  "Review Text": "usual wear retail dress surpris xs fit better pretti realli perfect color fall like tight constrict…",
                  "Rating Actual": "4",
                  "Rating Prediction": "5",
                  "_deepnote_index_column": 490
                },
                {
                  "ID": "825",
                  "Review Text": "love top design qualiti look insan gorgeou got top top promo help much cost tri use store credit so…",
                  "Rating Actual": "5",
                  "Rating Prediction": "5",
                  "_deepnote_index_column": 491
                },
                {
                  "ID": "829",
                  "Review Text": "knew would keep soon put comfort beauti fabric cute gold button well due cut feel roomi slender fit…",
                  "Rating Actual": "5",
                  "Rating Prediction": "5",
                  "_deepnote_index_column": 492
                },
                {
                  "ID": "1078",
                  "Review Text": "love sweater dress get compliment everi time wear bought navi size xs pattern color fun youth altho…",
                  "Rating Actual": "5",
                  "Rating Prediction": "5",
                  "_deepnote_index_column": 493
                },
                {
                  "ID": "1078",
                  "Review Text": "order neutral motif size larg great littl dress comfort cute modest enough im worri bust hang much …",
                  "Rating Actual": "5",
                  "Rating Prediction": "5",
                  "_deepnote_index_column": 494
                },
                {
                  "ID": "829",
                  "Review Text": "shirt perfect goto classic white button twist fit flatter would say run littl larg lb broad shoulde…",
                  "Rating Actual": "5",
                  "Rating Prediction": "5",
                  "_deepnote_index_column": 495
                },
                {
                  "ID": "877",
                  "Review Text": "featur pictur im feet lb order xs petit im pretti busti dont like loos fit top order size trick sup…",
                  "Rating Actual": "5",
                  "Rating Prediction": "5",
                  "_deepnote_index_column": 496
                },
                {
                  "ID": "1081",
                  "Review Text": "love dress fabric super soft flowi awar model tall gal im usual size dress purchas larg return larg…",
                  "Rating Actual": "4",
                  "Rating Prediction": "5",
                  "_deepnote_index_column": 497
                },
                {
                  "ID": "1094",
                  "Review Text": "excit order dress perfect red shoe go unfortun could nine month pregnant still wear small lb like m…",
                  "Rating Actual": "2",
                  "Rating Prediction": "5",
                  "_deepnote_index_column": 498
                },
                {
                  "ID": "1038",
                  "Review Text": "jean uniqu thank embroid would perfer color embroid though boyfriend cut slouchi bit loos even arou…",
                  "Rating Actual": "4",
                  "Rating Prediction": "5",
                  "_deepnote_index_column": 499
                }
              ]
            },
            "text/plain": "       ID                                        Review Text Rating Actual  \\\n0     877  bought store yesterday light fit extrem comfor...             5   \n1    1080  color dress beauti realli want love wasnt cut ...             3   \n2     964  order littl jacket knew would like upon arriv ...             5   \n3    1060  pound bought p fabric high qualiti cling inste...             5   \n4     872  nice casual inexpens shirt lace necklin greatn...             4   \n..    ...                                                ...           ...   \n495   829  shirt perfect goto classic white button twist ...             5   \n496   877  featur pictur im feet lb order xs petit im pre...             5   \n497  1081  love dress fabric super soft flowi awar model ...             4   \n498  1094  excit order dress perfect red shoe go unfortun...             2   \n499  1038  jean uniqu thank embroid would perfer color em...             4   \n\n    Rating Prediction  \n0                   5  \n1                   3  \n2                   5  \n3                   5  \n4                   5  \n..                ...  \n495                 5  \n496                 5  \n497                 5  \n498                 5  \n499                 5  \n\n[500 rows x 4 columns]",
            "text/html": "<div>\n<style scoped>\n    .dataframe tbody tr th:only-of-type {\n        vertical-align: middle;\n    }\n\n    .dataframe tbody tr th {\n        vertical-align: top;\n    }\n\n    .dataframe thead th {\n        text-align: right;\n    }\n</style>\n<table border=\"1\" class=\"dataframe\">\n  <thead>\n    <tr style=\"text-align: right;\">\n      <th></th>\n      <th>ID</th>\n      <th>Review Text</th>\n      <th>Rating Actual</th>\n      <th>Rating Prediction</th>\n    </tr>\n  </thead>\n  <tbody>\n    <tr>\n      <th>0</th>\n      <td>877</td>\n      <td>bought store yesterday light fit extrem comfor...</td>\n      <td>5</td>\n      <td>5</td>\n    </tr>\n    <tr>\n      <th>1</th>\n      <td>1080</td>\n      <td>color dress beauti realli want love wasnt cut ...</td>\n      <td>3</td>\n      <td>3</td>\n    </tr>\n    <tr>\n      <th>2</th>\n      <td>964</td>\n      <td>order littl jacket knew would like upon arriv ...</td>\n      <td>5</td>\n      <td>5</td>\n    </tr>\n    <tr>\n      <th>3</th>\n      <td>1060</td>\n      <td>pound bought p fabric high qualiti cling inste...</td>\n      <td>5</td>\n      <td>5</td>\n    </tr>\n    <tr>\n      <th>4</th>\n      <td>872</td>\n      <td>nice casual inexpens shirt lace necklin greatn...</td>\n      <td>4</td>\n      <td>5</td>\n    </tr>\n    <tr>\n      <th>...</th>\n      <td>...</td>\n      <td>...</td>\n      <td>...</td>\n      <td>...</td>\n    </tr>\n    <tr>\n      <th>495</th>\n      <td>829</td>\n      <td>shirt perfect goto classic white button twist ...</td>\n      <td>5</td>\n      <td>5</td>\n    </tr>\n    <tr>\n      <th>496</th>\n      <td>877</td>\n      <td>featur pictur im feet lb order xs petit im pre...</td>\n      <td>5</td>\n      <td>5</td>\n    </tr>\n    <tr>\n      <th>497</th>\n      <td>1081</td>\n      <td>love dress fabric super soft flowi awar model ...</td>\n      <td>4</td>\n      <td>5</td>\n    </tr>\n    <tr>\n      <th>498</th>\n      <td>1094</td>\n      <td>excit order dress perfect red shoe go unfortun...</td>\n      <td>2</td>\n      <td>5</td>\n    </tr>\n    <tr>\n      <th>499</th>\n      <td>1038</td>\n      <td>jean uniqu thank embroid would perfer color em...</td>\n      <td>4</td>\n      <td>5</td>\n    </tr>\n  </tbody>\n</table>\n<p>500 rows × 4 columns</p>\n</div>"
          },
          "metadata": {}
        }
      ]
    },
    {
      "cell_type": "markdown",
      "metadata": {
        "tags": [],
        "cell_id": "00062-ed34ec28-2c8c-4123-a0c1-1582a4500bb6",
        "deepnote_cell_type": "text-cell-h2",
        "id": "crK2kLTtkX0y"
      },
      "source": [
        "## PREDICT SUCCESS ITEM"
      ]
    },
    {
      "cell_type": "code",
      "metadata": {
        "tags": [],
        "deepnote_to_be_reexecuted": false,
        "source_hash": "dac429de",
        "execution_start": 1623583550867,
        "execution_millis": 0,
        "cell_id": "00063-fc9417b9-ebf0-4860-9363-f72cd6d529e1",
        "deepnote_cell_type": "code",
        "id": "bWpvoCNBkX0y"
      },
      "source": [
        "dt['Rating Prediction'] = dt['Rating Prediction'].astype(int)\n",
        "dt['Rating Actual'] = dt['Rating Actual'].astype(int)"
      ],
      "execution_count": null,
      "outputs": []
    },
    {
      "cell_type": "code",
      "metadata": {
        "tags": [],
        "deepnote_to_be_reexecuted": false,
        "source_hash": "1e405b86",
        "execution_start": 1623583550868,
        "execution_millis": 13,
        "cell_id": "00064-efa42793-6c14-4fc7-9a95-63b0afb53c4f",
        "deepnote_cell_type": "code",
        "id": "t3RYihjakX0y",
        "outputId": "352c9add-1dc5-4149-8dc9-bde0ab922084"
      },
      "source": [
        "# CALCULATE AVERAGE AND STANDARD DEVIATION ON 'RATING PREDICTION'\n",
        "\n",
        "rpi1 = dt.groupby('ID').agg({'ID': 'size', 'Rating Prediction': ['mean', 'std']})\n",
        "rpi1 = rpi1.reset_index()\n",
        "rpi1 = rpi1.fillna(0)\n",
        "rpi1.columns = rpi1.columns.droplevel(0)\n",
        "rpi1.columns = [['Clothing ID', 'Clothing Count', 'Rating Mean', 'Rating Std']]\n",
        "rpi1"
      ],
      "execution_count": null,
      "outputs": [
        {
          "output_type": "execute_result",
          "execution_count": 44,
          "data": {
            "application/vnd.deepnote.dataframe.v2+json": {
              "row_count": 165,
              "column_count": 4,
              "columns": [
                {
                  "name": [
                    "Clothing ID"
                  ],
                  "dtype": "int64",
                  "stats": {
                    "unique_count": 165,
                    "nan_count": 0,
                    "min": "35",
                    "max": "1195",
                    "histogram": [
                      {
                        "bin_start": 35,
                        "bin_end": 151,
                        "count": 4
                      },
                      {
                        "bin_start": 151,
                        "bin_end": 267,
                        "count": 4
                      },
                      {
                        "bin_start": 267,
                        "bin_end": 383,
                        "count": 5
                      },
                      {
                        "bin_start": 383,
                        "bin_end": 499,
                        "count": 2
                      },
                      {
                        "bin_start": 499,
                        "bin_end": 615,
                        "count": 1
                      },
                      {
                        "bin_start": 615,
                        "bin_end": 731,
                        "count": 8
                      },
                      {
                        "bin_start": 731,
                        "bin_end": 847,
                        "count": 28
                      },
                      {
                        "bin_start": 847,
                        "bin_end": 963,
                        "count": 45
                      },
                      {
                        "bin_start": 963,
                        "bin_end": 1079,
                        "count": 46
                      },
                      {
                        "bin_start": 1079,
                        "bin_end": 1195,
                        "count": 22
                      }
                    ]
                  }
                },
                {
                  "name": [
                    "Clothing Count"
                  ],
                  "dtype": "int64",
                  "stats": {
                    "unique_count": 15,
                    "nan_count": 0,
                    "min": "1",
                    "max": "27",
                    "histogram": [
                      {
                        "bin_start": 1,
                        "bin_end": 3.6,
                        "count": 124
                      },
                      {
                        "bin_start": 3.6,
                        "bin_end": 6.2,
                        "count": 23
                      },
                      {
                        "bin_start": 6.2,
                        "bin_end": 8.8,
                        "count": 9
                      },
                      {
                        "bin_start": 8.8,
                        "bin_end": 11.4,
                        "count": 1
                      },
                      {
                        "bin_start": 11.4,
                        "bin_end": 14,
                        "count": 2
                      },
                      {
                        "bin_start": 14,
                        "bin_end": 16.6,
                        "count": 4
                      },
                      {
                        "bin_start": 16.6,
                        "bin_end": 19.2,
                        "count": 1
                      },
                      {
                        "bin_start": 19.2,
                        "bin_end": 21.8,
                        "count": 0
                      },
                      {
                        "bin_start": 21.8,
                        "bin_end": 24.400000000000002,
                        "count": 0
                      },
                      {
                        "bin_start": 24.400000000000002,
                        "bin_end": 27,
                        "count": 1
                      }
                    ]
                  }
                },
                {
                  "name": [
                    "Rating Mean"
                  ],
                  "dtype": "float64",
                  "stats": {
                    "unique_count": 22,
                    "nan_count": 0,
                    "min": "1.0",
                    "max": "5.0",
                    "histogram": [
                      {
                        "bin_start": 1,
                        "bin_end": 1.4,
                        "count": 1
                      },
                      {
                        "bin_start": 1.4,
                        "bin_end": 1.8,
                        "count": 0
                      },
                      {
                        "bin_start": 1.8,
                        "bin_end": 2.2,
                        "count": 2
                      },
                      {
                        "bin_start": 2.2,
                        "bin_end": 2.6,
                        "count": 0
                      },
                      {
                        "bin_start": 2.6,
                        "bin_end": 3,
                        "count": 0
                      },
                      {
                        "bin_start": 3,
                        "bin_end": 3.4000000000000004,
                        "count": 5
                      },
                      {
                        "bin_start": 3.4000000000000004,
                        "bin_end": 3.8000000000000003,
                        "count": 0
                      },
                      {
                        "bin_start": 3.8000000000000003,
                        "bin_end": 4.2,
                        "count": 16
                      },
                      {
                        "bin_start": 4.2,
                        "bin_end": 4.6,
                        "count": 16
                      },
                      {
                        "bin_start": 4.6,
                        "bin_end": 5,
                        "count": 125
                      }
                    ]
                  }
                },
                {
                  "name": [
                    "Rating Std"
                  ],
                  "dtype": "float64",
                  "stats": {
                    "unique_count": 31,
                    "nan_count": 0,
                    "min": "0.0",
                    "max": "1.7320508075688772",
                    "histogram": [
                      {
                        "bin_start": 0,
                        "bin_end": 0.17320508075688773,
                        "count": 123
                      },
                      {
                        "bin_start": 0.17320508075688773,
                        "bin_end": 0.34641016151377546,
                        "count": 2
                      },
                      {
                        "bin_start": 0.34641016151377546,
                        "bin_end": 0.5196152422706632,
                        "count": 4
                      },
                      {
                        "bin_start": 0.5196152422706632,
                        "bin_end": 0.6928203230275509,
                        "count": 7
                      },
                      {
                        "bin_start": 0.6928203230275509,
                        "bin_end": 0.8660254037844386,
                        "count": 5
                      },
                      {
                        "bin_start": 0.8660254037844386,
                        "bin_end": 1.0392304845413265,
                        "count": 10
                      },
                      {
                        "bin_start": 1.0392304845413265,
                        "bin_end": 1.2124355652982142,
                        "count": 7
                      },
                      {
                        "bin_start": 1.2124355652982142,
                        "bin_end": 1.3856406460551018,
                        "count": 1
                      },
                      {
                        "bin_start": 1.3856406460551018,
                        "bin_end": 1.5588457268119895,
                        "count": 5
                      },
                      {
                        "bin_start": 1.5588457268119895,
                        "bin_end": 1.7320508075688772,
                        "count": 1
                      }
                    ]
                  }
                },
                {
                  "name": "_deepnote_index_column",
                  "dtype": "int64"
                }
              ],
              "rows_top": [
                {
                  "('Clothing ID',)": 35,
                  "('Clothing Count',)": 1,
                  "('Rating Mean',)": 5,
                  "('Rating Std',)": 0,
                  "_deepnote_index_column": 0
                },
                {
                  "('Clothing ID',)": 107,
                  "('Clothing Count',)": 1,
                  "('Rating Mean',)": 5,
                  "('Rating Std',)": 0,
                  "_deepnote_index_column": 1
                },
                {
                  "('Clothing ID',)": 121,
                  "('Clothing Count',)": 1,
                  "('Rating Mean',)": 4,
                  "('Rating Std',)": 0,
                  "_deepnote_index_column": 2
                },
                {
                  "('Clothing ID',)": 144,
                  "('Clothing Count',)": 1,
                  "('Rating Mean',)": 5,
                  "('Rating Std',)": 0,
                  "_deepnote_index_column": 3
                },
                {
                  "('Clothing ID',)": 154,
                  "('Clothing Count',)": 4,
                  "('Rating Mean',)": 4.75,
                  "('Rating Std',)": 0.5,
                  "_deepnote_index_column": 4
                },
                {
                  "('Clothing ID',)": 155,
                  "('Clothing Count',)": 2,
                  "('Rating Mean',)": 5,
                  "('Rating Std',)": 0,
                  "_deepnote_index_column": 5
                },
                {
                  "('Clothing ID',)": 164,
                  "('Clothing Count',)": 1,
                  "('Rating Mean',)": 5,
                  "('Rating Std',)": 0,
                  "_deepnote_index_column": 6
                },
                {
                  "('Clothing ID',)": 252,
                  "('Clothing Count',)": 1,
                  "('Rating Mean',)": 5,
                  "('Rating Std',)": 0,
                  "_deepnote_index_column": 7
                },
                {
                  "('Clothing ID',)": 273,
                  "('Clothing Count',)": 1,
                  "('Rating Mean',)": 1,
                  "('Rating Std',)": 0,
                  "_deepnote_index_column": 8
                },
                {
                  "('Clothing ID',)": 282,
                  "('Clothing Count',)": 5,
                  "('Rating Mean',)": 5,
                  "('Rating Std',)": 0,
                  "_deepnote_index_column": 9
                },
                {
                  "('Clothing ID',)": 373,
                  "('Clothing Count',)": 1,
                  "('Rating Mean',)": 5,
                  "('Rating Std',)": 0,
                  "_deepnote_index_column": 10
                },
                {
                  "('Clothing ID',)": 374,
                  "('Clothing Count',)": 1,
                  "('Rating Mean',)": 5,
                  "('Rating Std',)": 0,
                  "_deepnote_index_column": 11
                },
                {
                  "('Clothing ID',)": 381,
                  "('Clothing Count',)": 3,
                  "('Rating Mean',)": 4.666666666666667,
                  "('Rating Std',)": 0.5773502691896258,
                  "_deepnote_index_column": 12
                },
                {
                  "('Clothing ID',)": 392,
                  "('Clothing Count',)": 1,
                  "('Rating Mean',)": 5,
                  "('Rating Std',)": 0,
                  "_deepnote_index_column": 13
                },
                {
                  "('Clothing ID',)": 481,
                  "('Clothing Count',)": 1,
                  "('Rating Mean',)": 5,
                  "('Rating Std',)": 0,
                  "_deepnote_index_column": 14
                },
                {
                  "('Clothing ID',)": 573,
                  "('Clothing Count',)": 2,
                  "('Rating Mean',)": 4,
                  "('Rating Std',)": 0,
                  "_deepnote_index_column": 15
                },
                {
                  "('Clothing ID',)": 620,
                  "('Clothing Count',)": 1,
                  "('Rating Mean',)": 5,
                  "('Rating Std',)": 0,
                  "_deepnote_index_column": 16
                },
                {
                  "('Clothing ID',)": 634,
                  "('Clothing Count',)": 3,
                  "('Rating Mean',)": 5,
                  "('Rating Std',)": 0,
                  "_deepnote_index_column": 17
                },
                {
                  "('Clothing ID',)": 647,
                  "('Clothing Count',)": 1,
                  "('Rating Mean',)": 5,
                  "('Rating Std',)": 0,
                  "_deepnote_index_column": 18
                },
                {
                  "('Clothing ID',)": 648,
                  "('Clothing Count',)": 1,
                  "('Rating Mean',)": 5,
                  "('Rating Std',)": 0,
                  "_deepnote_index_column": 19
                },
                {
                  "('Clothing ID',)": 649,
                  "('Clothing Count',)": 1,
                  "('Rating Mean',)": 5,
                  "('Rating Std',)": 0,
                  "_deepnote_index_column": 20
                },
                {
                  "('Clothing ID',)": 652,
                  "('Clothing Count',)": 1,
                  "('Rating Mean',)": 5,
                  "('Rating Std',)": 0,
                  "_deepnote_index_column": 21
                },
                {
                  "('Clothing ID',)": 720,
                  "('Clothing Count',)": 1,
                  "('Rating Mean',)": 5,
                  "('Rating Std',)": 0,
                  "_deepnote_index_column": 22
                },
                {
                  "('Clothing ID',)": 730,
                  "('Clothing Count',)": 1,
                  "('Rating Mean',)": 4,
                  "('Rating Std',)": 0,
                  "_deepnote_index_column": 23
                },
                {
                  "('Clothing ID',)": 745,
                  "('Clothing Count',)": 1,
                  "('Rating Mean',)": 5,
                  "('Rating Std',)": 0,
                  "_deepnote_index_column": 24
                },
                {
                  "('Clothing ID',)": 769,
                  "('Clothing Count',)": 1,
                  "('Rating Mean',)": 5,
                  "('Rating Std',)": 0,
                  "_deepnote_index_column": 25
                },
                {
                  "('Clothing ID',)": 781,
                  "('Clothing Count',)": 1,
                  "('Rating Mean',)": 5,
                  "('Rating Std',)": 0,
                  "_deepnote_index_column": 26
                },
                {
                  "('Clothing ID',)": 792,
                  "('Clothing Count',)": 1,
                  "('Rating Mean',)": 5,
                  "('Rating Std',)": 0,
                  "_deepnote_index_column": 27
                },
                {
                  "('Clothing ID',)": 797,
                  "('Clothing Count',)": 1,
                  "('Rating Mean',)": 3,
                  "('Rating Std',)": 0,
                  "_deepnote_index_column": 28
                },
                {
                  "('Clothing ID',)": 815,
                  "('Clothing Count',)": 1,
                  "('Rating Mean',)": 4,
                  "('Rating Std',)": 0,
                  "_deepnote_index_column": 29
                },
                {
                  "('Clothing ID',)": 818,
                  "('Clothing Count',)": 2,
                  "('Rating Mean',)": 4,
                  "('Rating Std',)": 1.4142135623730951,
                  "_deepnote_index_column": 30
                },
                {
                  "('Clothing ID',)": 820,
                  "('Clothing Count',)": 3,
                  "('Rating Mean',)": 5,
                  "('Rating Std',)": 0,
                  "_deepnote_index_column": 31
                },
                {
                  "('Clothing ID',)": 822,
                  "('Clothing Count',)": 1,
                  "('Rating Mean',)": 5,
                  "('Rating Std',)": 0,
                  "_deepnote_index_column": 32
                },
                {
                  "('Clothing ID',)": 823,
                  "('Clothing Count',)": 3,
                  "('Rating Mean',)": 4.333333333333333,
                  "('Rating Std',)": 0.5773502691896257,
                  "_deepnote_index_column": 33
                },
                {
                  "('Clothing ID',)": 824,
                  "('Clothing Count',)": 1,
                  "('Rating Mean',)": 5,
                  "('Rating Std',)": 0,
                  "_deepnote_index_column": 34
                },
                {
                  "('Clothing ID',)": 825,
                  "('Clothing Count',)": 1,
                  "('Rating Mean',)": 5,
                  "('Rating Std',)": 0,
                  "_deepnote_index_column": 35
                },
                {
                  "('Clothing ID',)": 826,
                  "('Clothing Count',)": 3,
                  "('Rating Mean',)": 5,
                  "('Rating Std',)": 0,
                  "_deepnote_index_column": 36
                },
                {
                  "('Clothing ID',)": 828,
                  "('Clothing Count',)": 2,
                  "('Rating Mean',)": 5,
                  "('Rating Std',)": 0,
                  "_deepnote_index_column": 37
                },
                {
                  "('Clothing ID',)": 829,
                  "('Clothing Count',)": 16,
                  "('Rating Mean',)": 4.75,
                  "('Rating Std',)": 0.5773502691896258,
                  "_deepnote_index_column": 38
                },
                {
                  "('Clothing ID',)": 830,
                  "('Clothing Count',)": 1,
                  "('Rating Mean',)": 5,
                  "('Rating Std',)": 0,
                  "_deepnote_index_column": 39
                },
                {
                  "('Clothing ID',)": 831,
                  "('Clothing Count',)": 3,
                  "('Rating Mean',)": 5,
                  "('Rating Std',)": 0,
                  "_deepnote_index_column": 40
                },
                {
                  "('Clothing ID',)": 832,
                  "('Clothing Count',)": 1,
                  "('Rating Mean',)": 3,
                  "('Rating Std',)": 0,
                  "_deepnote_index_column": 41
                },
                {
                  "('Clothing ID',)": 833,
                  "('Clothing Count',)": 3,
                  "('Rating Mean',)": 5,
                  "('Rating Std',)": 0,
                  "_deepnote_index_column": 42
                },
                {
                  "('Clothing ID',)": 834,
                  "('Clothing Count',)": 3,
                  "('Rating Mean',)": 4.666666666666667,
                  "('Rating Std',)": 0.5773502691896258,
                  "_deepnote_index_column": 43
                },
                {
                  "('Clothing ID',)": 835,
                  "('Clothing Count',)": 4,
                  "('Rating Mean',)": 4.5,
                  "('Rating Std',)": 0.9999999999999999,
                  "_deepnote_index_column": 44
                },
                {
                  "('Clothing ID',)": 836,
                  "('Clothing Count',)": 7,
                  "('Rating Mean',)": 5,
                  "('Rating Std',)": 0,
                  "_deepnote_index_column": 45
                },
                {
                  "('Clothing ID',)": 839,
                  "('Clothing Count',)": 1,
                  "('Rating Mean',)": 4,
                  "('Rating Std',)": 0,
                  "_deepnote_index_column": 46
                },
                {
                  "('Clothing ID',)": 840,
                  "('Clothing Count',)": 1,
                  "('Rating Mean',)": 5,
                  "('Rating Std',)": 0,
                  "_deepnote_index_column": 47
                },
                {
                  "('Clothing ID',)": 841,
                  "('Clothing Count',)": 2,
                  "('Rating Mean',)": 5,
                  "('Rating Std',)": 0,
                  "_deepnote_index_column": 48
                },
                {
                  "('Clothing ID',)": 843,
                  "('Clothing Count',)": 1,
                  "('Rating Mean',)": 5,
                  "('Rating Std',)": 0,
                  "_deepnote_index_column": 49
                },
                {
                  "('Clothing ID',)": 844,
                  "('Clothing Count',)": 3,
                  "('Rating Mean',)": 4.333333333333333,
                  "('Rating Std',)": 1.1547005383792517,
                  "_deepnote_index_column": 50
                },
                {
                  "('Clothing ID',)": 845,
                  "('Clothing Count',)": 1,
                  "('Rating Mean',)": 5,
                  "('Rating Std',)": 0,
                  "_deepnote_index_column": 51
                },
                {
                  "('Clothing ID',)": 847,
                  "('Clothing Count',)": 1,
                  "('Rating Mean',)": 5,
                  "('Rating Std',)": 0,
                  "_deepnote_index_column": 52
                },
                {
                  "('Clothing ID',)": 850,
                  "('Clothing Count',)": 15,
                  "('Rating Mean',)": 4.666666666666667,
                  "('Rating Std',)": 0.8997354108424372,
                  "_deepnote_index_column": 53
                },
                {
                  "('Clothing ID',)": 854,
                  "('Clothing Count',)": 1,
                  "('Rating Mean',)": 5,
                  "('Rating Std',)": 0,
                  "_deepnote_index_column": 54
                },
                {
                  "('Clothing ID',)": 855,
                  "('Clothing Count',)": 2,
                  "('Rating Mean',)": 5,
                  "('Rating Std',)": 0,
                  "_deepnote_index_column": 55
                },
                {
                  "('Clothing ID',)": 857,
                  "('Clothing Count',)": 3,
                  "('Rating Mean',)": 5,
                  "('Rating Std',)": 0,
                  "_deepnote_index_column": 56
                },
                {
                  "('Clothing ID',)": 858,
                  "('Clothing Count',)": 1,
                  "('Rating Mean',)": 5,
                  "('Rating Std',)": 0,
                  "_deepnote_index_column": 57
                },
                {
                  "('Clothing ID',)": 860,
                  "('Clothing Count',)": 5,
                  "('Rating Mean',)": 5,
                  "('Rating Std',)": 0,
                  "_deepnote_index_column": 58
                },
                {
                  "('Clothing ID',)": 861,
                  "('Clothing Count',)": 7,
                  "('Rating Mean',)": 4.857142857142857,
                  "('Rating Std',)": 0.37796447300922725,
                  "_deepnote_index_column": 59
                },
                {
                  "('Clothing ID',)": 862,
                  "('Clothing Count',)": 13,
                  "('Rating Mean',)": 3.923076923076923,
                  "('Rating Std',)": 1.5525000516123695,
                  "_deepnote_index_column": 60
                },
                {
                  "('Clothing ID',)": 863,
                  "('Clothing Count',)": 8,
                  "('Rating Mean',)": 4.625,
                  "('Rating Std',)": 1.0606601717798212,
                  "_deepnote_index_column": 61
                },
                {
                  "('Clothing ID',)": 864,
                  "('Clothing Count',)": 2,
                  "('Rating Mean',)": 5,
                  "('Rating Std',)": 0,
                  "_deepnote_index_column": 62
                },
                {
                  "('Clothing ID',)": 865,
                  "('Clothing Count',)": 1,
                  "('Rating Mean',)": 5,
                  "('Rating Std',)": 0,
                  "_deepnote_index_column": 63
                },
                {
                  "('Clothing ID',)": 866,
                  "('Clothing Count',)": 1,
                  "('Rating Mean',)": 5,
                  "('Rating Std',)": 0,
                  "_deepnote_index_column": 64
                },
                {
                  "('Clothing ID',)": 867,
                  "('Clothing Count',)": 5,
                  "('Rating Mean',)": 4.6,
                  "('Rating Std',)": 0.8944271909999159,
                  "_deepnote_index_column": 65
                },
                {
                  "('Clothing ID',)": 868,
                  "('Clothing Count',)": 5,
                  "('Rating Mean',)": 4.6,
                  "('Rating Std',)": 0.894427190999916,
                  "_deepnote_index_column": 66
                },
                {
                  "('Clothing ID',)": 869,
                  "('Clothing Count',)": 3,
                  "('Rating Mean',)": 4.333333333333333,
                  "('Rating Std',)": 1.1547005383792517,
                  "_deepnote_index_column": 67
                },
                {
                  "('Clothing ID',)": 871,
                  "('Clothing Count',)": 4,
                  "('Rating Mean',)": 5,
                  "('Rating Std',)": 0,
                  "_deepnote_index_column": 68
                },
                {
                  "('Clothing ID',)": 872,
                  "('Clothing Count',)": 15,
                  "('Rating Mean',)": 4.733333333333333,
                  "('Rating Std',)": 1.0327955589886448,
                  "_deepnote_index_column": 69
                },
                {
                  "('Clothing ID',)": 873,
                  "('Clothing Count',)": 7,
                  "('Rating Mean',)": 4.714285714285714,
                  "('Rating Std',)": 0.7559289460184545,
                  "_deepnote_index_column": 70
                },
                {
                  "('Clothing ID',)": 875,
                  "('Clothing Count',)": 5,
                  "('Rating Mean',)": 4.6,
                  "('Rating Std',)": 0.8944271909999159,
                  "_deepnote_index_column": 71
                },
                {
                  "('Clothing ID',)": 876,
                  "('Clothing Count',)": 1,
                  "('Rating Mean',)": 5,
                  "('Rating Std',)": 0,
                  "_deepnote_index_column": 72
                },
                {
                  "('Clothing ID',)": 877,
                  "('Clothing Count',)": 5,
                  "('Rating Mean',)": 5,
                  "('Rating Std',)": 0,
                  "_deepnote_index_column": 73
                },
                {
                  "('Clothing ID',)": 878,
                  "('Clothing Count',)": 3,
                  "('Rating Mean',)": 5,
                  "('Rating Std',)": 0,
                  "_deepnote_index_column": 74
                },
                {
                  "('Clothing ID',)": 880,
                  "('Clothing Count',)": 1,
                  "('Rating Mean',)": 5,
                  "('Rating Std',)": 0,
                  "_deepnote_index_column": 75
                },
                {
                  "('Clothing ID',)": 881,
                  "('Clothing Count',)": 4,
                  "('Rating Mean',)": 5,
                  "('Rating Std',)": 0,
                  "_deepnote_index_column": 76
                },
                {
                  "('Clothing ID',)": 883,
                  "('Clothing Count',)": 1,
                  "('Rating Mean',)": 5,
                  "('Rating Std',)": 0,
                  "_deepnote_index_column": 77
                },
                {
                  "('Clothing ID',)": 886,
                  "('Clothing Count',)": 3,
                  "('Rating Mean',)": 5,
                  "('Rating Std',)": 0,
                  "_deepnote_index_column": 78
                },
                {
                  "('Clothing ID',)": 895,
                  "('Clothing Count',)": 7,
                  "('Rating Mean',)": 4.428571428571429,
                  "('Rating Std',)": 1.1338934190276815,
                  "_deepnote_index_column": 79
                },
                {
                  "('Clothing ID',)": 906,
                  "('Clothing Count',)": 2,
                  "('Rating Mean',)": 5,
                  "('Rating Std',)": 0,
                  "_deepnote_index_column": 80
                },
                {
                  "('Clothing ID',)": 907,
                  "('Clothing Count',)": 1,
                  "('Rating Mean',)": 5,
                  "('Rating Std',)": 0,
                  "_deepnote_index_column": 81
                },
                {
                  "('Clothing ID',)": 909,
                  "('Clothing Count',)": 1,
                  "('Rating Mean',)": 5,
                  "('Rating Std',)": 0,
                  "_deepnote_index_column": 82
                },
                {
                  "('Clothing ID',)": 910,
                  "('Clothing Count',)": 1,
                  "('Rating Mean',)": 5,
                  "('Rating Std',)": 0,
                  "_deepnote_index_column": 83
                },
                {
                  "('Clothing ID',)": 912,
                  "('Clothing Count',)": 1,
                  "('Rating Mean',)": 5,
                  "('Rating Std',)": 0,
                  "_deepnote_index_column": 84
                },
                {
                  "('Clothing ID',)": 927,
                  "('Clothing Count',)": 1,
                  "('Rating Mean',)": 5,
                  "('Rating Std',)": 0,
                  "_deepnote_index_column": 85
                },
                {
                  "('Clothing ID',)": 929,
                  "('Clothing Count',)": 1,
                  "('Rating Mean',)": 2,
                  "('Rating Std',)": 0,
                  "_deepnote_index_column": 86
                },
                {
                  "('Clothing ID',)": 930,
                  "('Clothing Count',)": 1,
                  "('Rating Mean',)": 5,
                  "('Rating Std',)": 0,
                  "_deepnote_index_column": 87
                },
                {
                  "('Clothing ID',)": 936,
                  "('Clothing Count',)": 4,
                  "('Rating Mean',)": 5,
                  "('Rating Std',)": 0,
                  "_deepnote_index_column": 88
                },
                {
                  "('Clothing ID',)": 937,
                  "('Clothing Count',)": 4,
                  "('Rating Mean',)": 4.5,
                  "('Rating Std',)": 1,
                  "_deepnote_index_column": 89
                },
                {
                  "('Clothing ID',)": 940,
                  "('Clothing Count',)": 3,
                  "('Rating Mean',)": 5,
                  "('Rating Std',)": 0,
                  "_deepnote_index_column": 90
                },
                {
                  "('Clothing ID',)": 942,
                  "('Clothing Count',)": 1,
                  "('Rating Mean',)": 5,
                  "('Rating Std',)": 0,
                  "_deepnote_index_column": 91
                },
                {
                  "('Clothing ID',)": 944,
                  "('Clothing Count',)": 1,
                  "('Rating Mean',)": 5,
                  "('Rating Std',)": 0,
                  "_deepnote_index_column": 92
                },
                {
                  "('Clothing ID',)": 945,
                  "('Clothing Count',)": 1,
                  "('Rating Mean',)": 5,
                  "('Rating Std',)": 0,
                  "_deepnote_index_column": 93
                },
                {
                  "('Clothing ID',)": 947,
                  "('Clothing Count',)": 1,
                  "('Rating Mean',)": 4,
                  "('Rating Std',)": 0,
                  "_deepnote_index_column": 94
                },
                {
                  "('Clothing ID',)": 949,
                  "('Clothing Count',)": 2,
                  "('Rating Mean',)": 5,
                  "('Rating Std',)": 0,
                  "_deepnote_index_column": 95
                },
                {
                  "('Clothing ID',)": 952,
                  "('Clothing Count',)": 2,
                  "('Rating Mean',)": 5,
                  "('Rating Std',)": 0,
                  "_deepnote_index_column": 96
                },
                {
                  "('Clothing ID',)": 964,
                  "('Clothing Count',)": 4,
                  "('Rating Mean',)": 5,
                  "('Rating Std',)": 0,
                  "_deepnote_index_column": 97
                },
                {
                  "('Clothing ID',)": 965,
                  "('Clothing Count',)": 1,
                  "('Rating Mean',)": 5,
                  "('Rating Std',)": 0,
                  "_deepnote_index_column": 98
                },
                {
                  "('Clothing ID',)": 966,
                  "('Clothing Count',)": 2,
                  "('Rating Mean',)": 5,
                  "('Rating Std',)": 0,
                  "_deepnote_index_column": 99
                },
                {
                  "('Clothing ID',)": 969,
                  "('Clothing Count',)": 1,
                  "('Rating Mean',)": 5,
                  "('Rating Std',)": 0,
                  "_deepnote_index_column": 100
                },
                {
                  "('Clothing ID',)": 974,
                  "('Clothing Count',)": 1,
                  "('Rating Mean',)": 5,
                  "('Rating Std',)": 0,
                  "_deepnote_index_column": 101
                },
                {
                  "('Clothing ID',)": 975,
                  "('Clothing Count',)": 1,
                  "('Rating Mean',)": 5,
                  "('Rating Std',)": 0,
                  "_deepnote_index_column": 102
                },
                {
                  "('Clothing ID',)": 977,
                  "('Clothing Count',)": 1,
                  "('Rating Mean',)": 2,
                  "('Rating Std',)": 0,
                  "_deepnote_index_column": 103
                },
                {
                  "('Clothing ID',)": 984,
                  "('Clothing Count',)": 5,
                  "('Rating Mean',)": 4.4,
                  "('Rating Std',)": 1.3416407864998738,
                  "_deepnote_index_column": 104
                },
                {
                  "('Clothing ID',)": 985,
                  "('Clothing Count',)": 1,
                  "('Rating Mean',)": 5,
                  "('Rating Std',)": 0,
                  "_deepnote_index_column": 105
                },
                {
                  "('Clothing ID',)": 986,
                  "('Clothing Count',)": 1,
                  "('Rating Mean',)": 3,
                  "('Rating Std',)": 0,
                  "_deepnote_index_column": 106
                },
                {
                  "('Clothing ID',)": 992,
                  "('Clothing Count',)": 1,
                  "('Rating Mean',)": 4,
                  "('Rating Std',)": 0,
                  "_deepnote_index_column": 107
                },
                {
                  "('Clothing ID',)": 993,
                  "('Clothing Count',)": 1,
                  "('Rating Mean',)": 5,
                  "('Rating Std',)": 0,
                  "_deepnote_index_column": 108
                },
                {
                  "('Clothing ID',)": 995,
                  "('Clothing Count',)": 2,
                  "('Rating Mean',)": 5,
                  "('Rating Std',)": 0,
                  "_deepnote_index_column": 109
                },
                {
                  "('Clothing ID',)": 999,
                  "('Clothing Count',)": 3,
                  "('Rating Mean',)": 5,
                  "('Rating Std',)": 0,
                  "_deepnote_index_column": 110
                },
                {
                  "('Clothing ID',)": 1003,
                  "('Clothing Count',)": 1,
                  "('Rating Mean',)": 5,
                  "('Rating Std',)": 0,
                  "_deepnote_index_column": 111
                },
                {
                  "('Clothing ID',)": 1004,
                  "('Clothing Count',)": 1,
                  "('Rating Mean',)": 5,
                  "('Rating Std',)": 0,
                  "_deepnote_index_column": 112
                },
                {
                  "('Clothing ID',)": 1008,
                  "('Clothing Count',)": 4,
                  "('Rating Mean',)": 5,
                  "('Rating Std',)": 0,
                  "_deepnote_index_column": 113
                },
                {
                  "('Clothing ID',)": 1011,
                  "('Clothing Count',)": 1,
                  "('Rating Mean',)": 4,
                  "('Rating Std',)": 0,
                  "_deepnote_index_column": 114
                },
                {
                  "('Clothing ID',)": 1020,
                  "('Clothing Count',)": 5,
                  "('Rating Mean',)": 4.8,
                  "('Rating Std',)": 0.44721359549995787,
                  "_deepnote_index_column": 115
                },
                {
                  "('Clothing ID',)": 1022,
                  "('Clothing Count',)": 3,
                  "('Rating Mean',)": 4,
                  "('Rating Std',)": 1.7320508075688772,
                  "_deepnote_index_column": 116
                },
                {
                  "('Clothing ID',)": 1024,
                  "('Clothing Count',)": 1,
                  "('Rating Mean',)": 5,
                  "('Rating Std',)": 0,
                  "_deepnote_index_column": 117
                },
                {
                  "('Clothing ID',)": 1025,
                  "('Clothing Count',)": 2,
                  "('Rating Mean',)": 5,
                  "('Rating Std',)": 0,
                  "_deepnote_index_column": 118
                },
                {
                  "('Clothing ID',)": 1026,
                  "('Clothing Count',)": 2,
                  "('Rating Mean',)": 5,
                  "('Rating Std',)": 0,
                  "_deepnote_index_column": 119
                },
                {
                  "('Clothing ID',)": 1030,
                  "('Clothing Count',)": 2,
                  "('Rating Mean',)": 5,
                  "('Rating Std',)": 0,
                  "_deepnote_index_column": 120
                },
                {
                  "('Clothing ID',)": 1033,
                  "('Clothing Count',)": 7,
                  "('Rating Mean',)": 5,
                  "('Rating Std',)": 0,
                  "_deepnote_index_column": 121
                },
                {
                  "('Clothing ID',)": 1035,
                  "('Clothing Count',)": 3,
                  "('Rating Mean',)": 5,
                  "('Rating Std',)": 0,
                  "_deepnote_index_column": 122
                },
                {
                  "('Clothing ID',)": 1036,
                  "('Clothing Count',)": 1,
                  "('Rating Mean',)": 5,
                  "('Rating Std',)": 0,
                  "_deepnote_index_column": 123
                },
                {
                  "('Clothing ID',)": 1037,
                  "('Clothing Count',)": 1,
                  "('Rating Mean',)": 4,
                  "('Rating Std',)": 0,
                  "_deepnote_index_column": 124
                },
                {
                  "('Clothing ID',)": 1038,
                  "('Clothing Count',)": 3,
                  "('Rating Mean',)": 5,
                  "('Rating Std',)": 0,
                  "_deepnote_index_column": 125
                },
                {
                  "('Clothing ID',)": 1044,
                  "('Clothing Count',)": 2,
                  "('Rating Mean',)": 4,
                  "('Rating Std',)": 1.4142135623730951,
                  "_deepnote_index_column": 126
                },
                {
                  "('Clothing ID',)": 1046,
                  "('Clothing Count',)": 1,
                  "('Rating Mean',)": 5,
                  "('Rating Std',)": 0,
                  "_deepnote_index_column": 127
                },
                {
                  "('Clothing ID',)": 1047,
                  "('Clothing Count',)": 3,
                  "('Rating Mean',)": 4.333333333333333,
                  "('Rating Std',)": 1.1547005383792517,
                  "_deepnote_index_column": 128
                },
                {
                  "('Clothing ID',)": 1048,
                  "('Clothing Count',)": 1,
                  "('Rating Mean',)": 5,
                  "('Rating Std',)": 0,
                  "_deepnote_index_column": 129
                },
                {
                  "('Clothing ID',)": 1049,
                  "('Clothing Count',)": 2,
                  "('Rating Mean',)": 5,
                  "('Rating Std',)": 0,
                  "_deepnote_index_column": 130
                },
                {
                  "('Clothing ID',)": 1051,
                  "('Clothing Count',)": 1,
                  "('Rating Mean',)": 5,
                  "('Rating Std',)": 0,
                  "_deepnote_index_column": 131
                },
                {
                  "('Clothing ID',)": 1054,
                  "('Clothing Count',)": 2,
                  "('Rating Mean',)": 4.5,
                  "('Rating Std',)": 0.7071067811865476,
                  "_deepnote_index_column": 132
                },
                {
                  "('Clothing ID',)": 1055,
                  "('Clothing Count',)": 1,
                  "('Rating Mean',)": 5,
                  "('Rating Std',)": 0,
                  "_deepnote_index_column": 133
                },
                {
                  "('Clothing ID',)": 1056,
                  "('Clothing Count',)": 3,
                  "('Rating Mean',)": 4.333333333333333,
                  "('Rating Std',)": 1.1547005383792515,
                  "_deepnote_index_column": 134
                },
                {
                  "('Clothing ID',)": 1059,
                  "('Clothing Count',)": 8,
                  "('Rating Mean',)": 5,
                  "('Rating Std',)": 0,
                  "_deepnote_index_column": 135
                },
                {
                  "('Clothing ID',)": 1060,
                  "('Clothing Count',)": 2,
                  "('Rating Mean',)": 5,
                  "('Rating Std',)": 0,
                  "_deepnote_index_column": 136
                },
                {
                  "('Clothing ID',)": 1064,
                  "('Clothing Count',)": 1,
                  "('Rating Mean',)": 5,
                  "('Rating Std',)": 0,
                  "_deepnote_index_column": 137
                },
                {
                  "('Clothing ID',)": 1066,
                  "('Clothing Count',)": 4,
                  "('Rating Mean',)": 5,
                  "('Rating Std',)": 0,
                  "_deepnote_index_column": 138
                },
                {
                  "('Clothing ID',)": 1072,
                  "('Clothing Count',)": 6,
                  "('Rating Mean',)": 4.666666666666667,
                  "('Rating Std',)": 0.816496580927726,
                  "_deepnote_index_column": 139
                },
                {
                  "('Clothing ID',)": 1074,
                  "('Clothing Count',)": 1,
                  "('Rating Mean',)": 4,
                  "('Rating Std',)": 0,
                  "_deepnote_index_column": 140
                },
                {
                  "('Clothing ID',)": 1077,
                  "('Clothing Count',)": 5,
                  "('Rating Mean',)": 4.4,
                  "('Rating Std',)": 0.8944271909999159,
                  "_deepnote_index_column": 141
                },
                {
                  "('Clothing ID',)": 1078,
                  "('Clothing Count',)": 27,
                  "('Rating Mean',)": 4.814814814814815,
                  "('Rating Std',)": 0.557262335477027,
                  "_deepnote_index_column": 142
                },
                {
                  "('Clothing ID',)": 1080,
                  "('Clothing Count',)": 7,
                  "('Rating Mean',)": 4.428571428571429,
                  "('Rating Std',)": 0.7867957924694431,
                  "_deepnote_index_column": 143
                },
                {
                  "('Clothing ID',)": 1081,
                  "('Clothing Count',)": 18,
                  "('Rating Mean',)": 4.888888888888889,
                  "('Rating Std',)": 0.32338083338177737,
                  "_deepnote_index_column": 144
                },
                {
                  "('Clothing ID',)": 1082,
                  "('Clothing Count',)": 4,
                  "('Rating Mean',)": 4.75,
                  "('Rating Std',)": 0.5,
                  "_deepnote_index_column": 145
                },
                {
                  "('Clothing ID',)": 1083,
                  "('Clothing Count',)": 1,
                  "('Rating Mean',)": 5,
                  "('Rating Std',)": 0,
                  "_deepnote_index_column": 146
                },
                {
                  "('Clothing ID',)": 1084,
                  "('Clothing Count',)": 1,
                  "('Rating Mean',)": 3,
                  "('Rating Std',)": 0,
                  "_deepnote_index_column": 147
                },
                {
                  "('Clothing ID',)": 1085,
                  "('Clothing Count',)": 2,
                  "('Rating Mean',)": 4.5,
                  "('Rating Std',)": 0.7071067811865476,
                  "_deepnote_index_column": 148
                },
                {
                  "('Clothing ID',)": 1086,
                  "('Clothing Count',)": 4,
                  "('Rating Mean',)": 5,
                  "('Rating Std',)": 0,
                  "_deepnote_index_column": 149
                },
                {
                  "('Clothing ID',)": 1087,
                  "('Clothing Count',)": 2,
                  "('Rating Mean',)": 4,
                  "('Rating Std',)": 1.4142135623730951,
                  "_deepnote_index_column": 150
                },
                {
                  "('Clothing ID',)": 1089,
                  "('Clothing Count',)": 2,
                  "('Rating Mean',)": 4,
                  "('Rating Std',)": 1.4142135623730951,
                  "_deepnote_index_column": 151
                },
                {
                  "('Clothing ID',)": 1091,
                  "('Clothing Count',)": 2,
                  "('Rating Mean',)": 5,
                  "('Rating Std',)": 0,
                  "_deepnote_index_column": 152
                },
                {
                  "('Clothing ID',)": 1092,
                  "('Clothing Count',)": 2,
                  "('Rating Mean',)": 5,
                  "('Rating Std',)": 0,
                  "_deepnote_index_column": 153
                },
                {
                  "('Clothing ID',)": 1094,
                  "('Clothing Count',)": 16,
                  "('Rating Mean',)": 4.75,
                  "('Rating Std',)": 0.6831300510639733,
                  "_deepnote_index_column": 154
                },
                {
                  "('Clothing ID',)": 1095,
                  "('Clothing Count',)": 9,
                  "('Rating Mean',)": 4.888888888888889,
                  "('Rating Std',)": 0.33333333333333326,
                  "_deepnote_index_column": 155
                },
                {
                  "('Clothing ID',)": 1099,
                  "('Clothing Count',)": 7,
                  "('Rating Mean',)": 4.428571428571429,
                  "('Rating Std',)": 0.9759000729485331,
                  "_deepnote_index_column": 156
                },
                {
                  "('Clothing ID',)": 1104,
                  "('Clothing Count',)": 5,
                  "('Rating Mean',)": 4.2,
                  "('Rating Std',)": 1.0954451150103321,
                  "_deepnote_index_column": 157
                },
                {
                  "('Clothing ID',)": 1110,
                  "('Clothing Count',)": 12,
                  "('Rating Mean',)": 4.583333333333333,
                  "('Rating Std',)": 0.90033663737852,
                  "_deepnote_index_column": 158
                },
                {
                  "('Clothing ID',)": 1111,
                  "('Clothing Count',)": 1,
                  "('Rating Mean',)": 5,
                  "('Rating Std',)": 0,
                  "_deepnote_index_column": 159
                },
                {
                  "('Clothing ID',)": 1125,
                  "('Clothing Count',)": 4,
                  "('Rating Mean',)": 5,
                  "('Rating Std',)": 0,
                  "_deepnote_index_column": 160
                },
                {
                  "('Clothing ID',)": 1126,
                  "('Clothing Count',)": 3,
                  "('Rating Mean',)": 4.666666666666667,
                  "('Rating Std',)": 0.5773502691896258,
                  "_deepnote_index_column": 161
                },
                {
                  "('Clothing ID',)": 1131,
                  "('Clothing Count',)": 1,
                  "('Rating Mean',)": 5,
                  "('Rating Std',)": 0,
                  "_deepnote_index_column": 162
                },
                {
                  "('Clothing ID',)": 1145,
                  "('Clothing Count',)": 1,
                  "('Rating Mean',)": 5,
                  "('Rating Std',)": 0,
                  "_deepnote_index_column": 163
                },
                {
                  "('Clothing ID',)": 1195,
                  "('Clothing Count',)": 1,
                  "('Rating Mean',)": 3,
                  "('Rating Std',)": 0,
                  "_deepnote_index_column": 164
                }
              ],
              "rows_bottom": null
            },
            "text/plain": "    Clothing ID Clothing Count Rating Mean Rating Std\n0            35              1    5.000000    0.00000\n1           107              1    5.000000    0.00000\n2           121              1    4.000000    0.00000\n3           144              1    5.000000    0.00000\n4           154              4    4.750000    0.50000\n..          ...            ...         ...        ...\n160        1125              4    5.000000    0.00000\n161        1126              3    4.666667    0.57735\n162        1131              1    5.000000    0.00000\n163        1145              1    5.000000    0.00000\n164        1195              1    3.000000    0.00000\n\n[165 rows x 4 columns]",
            "text/html": "<div>\n<style scoped>\n    .dataframe tbody tr th:only-of-type {\n        vertical-align: middle;\n    }\n\n    .dataframe tbody tr th {\n        vertical-align: top;\n    }\n\n    .dataframe thead tr th {\n        text-align: left;\n    }\n</style>\n<table border=\"1\" class=\"dataframe\">\n  <thead>\n    <tr>\n      <th></th>\n      <th>Clothing ID</th>\n      <th>Clothing Count</th>\n      <th>Rating Mean</th>\n      <th>Rating Std</th>\n    </tr>\n  </thead>\n  <tbody>\n    <tr>\n      <th>0</th>\n      <td>35</td>\n      <td>1</td>\n      <td>5.000000</td>\n      <td>0.00000</td>\n    </tr>\n    <tr>\n      <th>1</th>\n      <td>107</td>\n      <td>1</td>\n      <td>5.000000</td>\n      <td>0.00000</td>\n    </tr>\n    <tr>\n      <th>2</th>\n      <td>121</td>\n      <td>1</td>\n      <td>4.000000</td>\n      <td>0.00000</td>\n    </tr>\n    <tr>\n      <th>3</th>\n      <td>144</td>\n      <td>1</td>\n      <td>5.000000</td>\n      <td>0.00000</td>\n    </tr>\n    <tr>\n      <th>4</th>\n      <td>154</td>\n      <td>4</td>\n      <td>4.750000</td>\n      <td>0.50000</td>\n    </tr>\n    <tr>\n      <th>...</th>\n      <td>...</td>\n      <td>...</td>\n      <td>...</td>\n      <td>...</td>\n    </tr>\n    <tr>\n      <th>160</th>\n      <td>1125</td>\n      <td>4</td>\n      <td>5.000000</td>\n      <td>0.00000</td>\n    </tr>\n    <tr>\n      <th>161</th>\n      <td>1126</td>\n      <td>3</td>\n      <td>4.666667</td>\n      <td>0.57735</td>\n    </tr>\n    <tr>\n      <th>162</th>\n      <td>1131</td>\n      <td>1</td>\n      <td>5.000000</td>\n      <td>0.00000</td>\n    </tr>\n    <tr>\n      <th>163</th>\n      <td>1145</td>\n      <td>1</td>\n      <td>5.000000</td>\n      <td>0.00000</td>\n    </tr>\n    <tr>\n      <th>164</th>\n      <td>1195</td>\n      <td>1</td>\n      <td>3.000000</td>\n      <td>0.00000</td>\n    </tr>\n  </tbody>\n</table>\n<p>165 rows × 4 columns</p>\n</div>"
          },
          "metadata": {}
        }
      ]
    },
    {
      "cell_type": "code",
      "metadata": {
        "tags": [],
        "cell_id": "00065-46736390-bba6-4550-866f-44f420490dbd",
        "deepnote_to_be_reexecuted": false,
        "source_hash": "a72de074",
        "execution_start": 1623583550878,
        "execution_millis": 49,
        "deepnote_cell_type": "code",
        "id": "8xIeLC8ckX0z",
        "outputId": "c01ce8ae-65d0-4a63-f5fa-fe226c749056"
      },
      "source": [
        "# CALCULATE AVERAGE AND STANDARD DEVIATION ON 'RATING ACTUAL'\n",
        "\n",
        "rpi2 = dt.groupby('ID').agg({'ID': 'size', 'Rating Actual': ['mean', 'std']})\n",
        "rpi2 = rpi2.reset_index()\n",
        "rpi2 = rpi2.fillna(0)\n",
        "rpi2.columns = rpi2.columns.droplevel(0)\n",
        "rpi2.columns = [['Clothing ID', 'Clothing Count', 'Rating Mean', 'Rating Std']]\n",
        "rpi2"
      ],
      "execution_count": null,
      "outputs": [
        {
          "output_type": "execute_result",
          "execution_count": 45,
          "data": {
            "application/vnd.deepnote.dataframe.v2+json": {
              "row_count": 165,
              "column_count": 4,
              "columns": [
                {
                  "name": [
                    "Clothing ID"
                  ],
                  "dtype": "int64",
                  "stats": {
                    "unique_count": 165,
                    "nan_count": 0,
                    "min": "35",
                    "max": "1195",
                    "histogram": [
                      {
                        "bin_start": 35,
                        "bin_end": 151,
                        "count": 4
                      },
                      {
                        "bin_start": 151,
                        "bin_end": 267,
                        "count": 4
                      },
                      {
                        "bin_start": 267,
                        "bin_end": 383,
                        "count": 5
                      },
                      {
                        "bin_start": 383,
                        "bin_end": 499,
                        "count": 2
                      },
                      {
                        "bin_start": 499,
                        "bin_end": 615,
                        "count": 1
                      },
                      {
                        "bin_start": 615,
                        "bin_end": 731,
                        "count": 8
                      },
                      {
                        "bin_start": 731,
                        "bin_end": 847,
                        "count": 28
                      },
                      {
                        "bin_start": 847,
                        "bin_end": 963,
                        "count": 45
                      },
                      {
                        "bin_start": 963,
                        "bin_end": 1079,
                        "count": 46
                      },
                      {
                        "bin_start": 1079,
                        "bin_end": 1195,
                        "count": 22
                      }
                    ]
                  }
                },
                {
                  "name": [
                    "Clothing Count"
                  ],
                  "dtype": "int64",
                  "stats": {
                    "unique_count": 15,
                    "nan_count": 0,
                    "min": "1",
                    "max": "27",
                    "histogram": [
                      {
                        "bin_start": 1,
                        "bin_end": 3.6,
                        "count": 124
                      },
                      {
                        "bin_start": 3.6,
                        "bin_end": 6.2,
                        "count": 23
                      },
                      {
                        "bin_start": 6.2,
                        "bin_end": 8.8,
                        "count": 9
                      },
                      {
                        "bin_start": 8.8,
                        "bin_end": 11.4,
                        "count": 1
                      },
                      {
                        "bin_start": 11.4,
                        "bin_end": 14,
                        "count": 2
                      },
                      {
                        "bin_start": 14,
                        "bin_end": 16.6,
                        "count": 4
                      },
                      {
                        "bin_start": 16.6,
                        "bin_end": 19.2,
                        "count": 1
                      },
                      {
                        "bin_start": 19.2,
                        "bin_end": 21.8,
                        "count": 0
                      },
                      {
                        "bin_start": 21.8,
                        "bin_end": 24.400000000000002,
                        "count": 0
                      },
                      {
                        "bin_start": 24.400000000000002,
                        "bin_end": 27,
                        "count": 1
                      }
                    ]
                  }
                },
                {
                  "name": [
                    "Rating Mean"
                  ],
                  "dtype": "float64",
                  "stats": {
                    "unique_count": 33,
                    "nan_count": 0,
                    "min": "1.0",
                    "max": "5.0",
                    "histogram": [
                      {
                        "bin_start": 1,
                        "bin_end": 1.4,
                        "count": 9
                      },
                      {
                        "bin_start": 1.4,
                        "bin_end": 1.8,
                        "count": 0
                      },
                      {
                        "bin_start": 1.8,
                        "bin_end": 2.2,
                        "count": 5
                      },
                      {
                        "bin_start": 2.2,
                        "bin_end": 2.6,
                        "count": 1
                      },
                      {
                        "bin_start": 2.6,
                        "bin_end": 3,
                        "count": 0
                      },
                      {
                        "bin_start": 3,
                        "bin_end": 3.4000000000000004,
                        "count": 15
                      },
                      {
                        "bin_start": 3.4000000000000004,
                        "bin_end": 3.8000000000000003,
                        "count": 10
                      },
                      {
                        "bin_start": 3.8000000000000003,
                        "bin_end": 4.2,
                        "count": 33
                      },
                      {
                        "bin_start": 4.2,
                        "bin_end": 4.6,
                        "count": 17
                      },
                      {
                        "bin_start": 4.6,
                        "bin_end": 5,
                        "count": 75
                      }
                    ]
                  }
                },
                {
                  "name": [
                    "Rating Std"
                  ],
                  "dtype": "float64",
                  "stats": {
                    "unique_count": 42,
                    "nan_count": 0,
                    "min": "0.0",
                    "max": "2.3094010767585034",
                    "histogram": [
                      {
                        "bin_start": 0,
                        "bin_end": 0.23094010767585033,
                        "count": 102
                      },
                      {
                        "bin_start": 0.23094010767585033,
                        "bin_end": 0.46188021535170065,
                        "count": 1
                      },
                      {
                        "bin_start": 0.46188021535170065,
                        "bin_end": 0.6928203230275509,
                        "count": 12
                      },
                      {
                        "bin_start": 0.6928203230275509,
                        "bin_end": 0.9237604307034013,
                        "count": 12
                      },
                      {
                        "bin_start": 0.9237604307034013,
                        "bin_end": 1.1547005383792517,
                        "count": 12
                      },
                      {
                        "bin_start": 1.1547005383792517,
                        "bin_end": 1.3856406460551018,
                        "count": 6
                      },
                      {
                        "bin_start": 1.3856406460551018,
                        "bin_end": 1.6165807537309522,
                        "count": 9
                      },
                      {
                        "bin_start": 1.6165807537309522,
                        "bin_end": 1.8475208614068026,
                        "count": 5
                      },
                      {
                        "bin_start": 1.8475208614068026,
                        "bin_end": 2.078460969082653,
                        "count": 2
                      },
                      {
                        "bin_start": 2.078460969082653,
                        "bin_end": 2.3094010767585034,
                        "count": 4
                      }
                    ]
                  }
                },
                {
                  "name": "_deepnote_index_column",
                  "dtype": "int64"
                }
              ],
              "rows_top": [
                {
                  "('Clothing ID',)": 35,
                  "('Clothing Count',)": 1,
                  "('Rating Mean',)": 5,
                  "('Rating Std',)": 0,
                  "_deepnote_index_column": 0
                },
                {
                  "('Clothing ID',)": 107,
                  "('Clothing Count',)": 1,
                  "('Rating Mean',)": 4,
                  "('Rating Std',)": 0,
                  "_deepnote_index_column": 1
                },
                {
                  "('Clothing ID',)": 121,
                  "('Clothing Count',)": 1,
                  "('Rating Mean',)": 4,
                  "('Rating Std',)": 0,
                  "_deepnote_index_column": 2
                },
                {
                  "('Clothing ID',)": 144,
                  "('Clothing Count',)": 1,
                  "('Rating Mean',)": 5,
                  "('Rating Std',)": 0,
                  "_deepnote_index_column": 3
                },
                {
                  "('Clothing ID',)": 154,
                  "('Clothing Count',)": 4,
                  "('Rating Mean',)": 3.75,
                  "('Rating Std',)": 1.2583057392117916,
                  "_deepnote_index_column": 4
                },
                {
                  "('Clothing ID',)": 155,
                  "('Clothing Count',)": 2,
                  "('Rating Mean',)": 4.5,
                  "('Rating Std',)": 0.7071067811865476,
                  "_deepnote_index_column": 5
                },
                {
                  "('Clothing ID',)": 164,
                  "('Clothing Count',)": 1,
                  "('Rating Mean',)": 4,
                  "('Rating Std',)": 0,
                  "_deepnote_index_column": 6
                },
                {
                  "('Clothing ID',)": 252,
                  "('Clothing Count',)": 1,
                  "('Rating Mean',)": 5,
                  "('Rating Std',)": 0,
                  "_deepnote_index_column": 7
                },
                {
                  "('Clothing ID',)": 273,
                  "('Clothing Count',)": 1,
                  "('Rating Mean',)": 1,
                  "('Rating Std',)": 0,
                  "_deepnote_index_column": 8
                },
                {
                  "('Clothing ID',)": 282,
                  "('Clothing Count',)": 5,
                  "('Rating Mean',)": 4.6,
                  "('Rating Std',)": 0.8944271909999159,
                  "_deepnote_index_column": 9
                },
                {
                  "('Clothing ID',)": 373,
                  "('Clothing Count',)": 1,
                  "('Rating Mean',)": 5,
                  "('Rating Std',)": 0,
                  "_deepnote_index_column": 10
                },
                {
                  "('Clothing ID',)": 374,
                  "('Clothing Count',)": 1,
                  "('Rating Mean',)": 4,
                  "('Rating Std',)": 0,
                  "_deepnote_index_column": 11
                },
                {
                  "('Clothing ID',)": 381,
                  "('Clothing Count',)": 3,
                  "('Rating Mean',)": 4,
                  "('Rating Std',)": 1.7320508075688772,
                  "_deepnote_index_column": 12
                },
                {
                  "('Clothing ID',)": 392,
                  "('Clothing Count',)": 1,
                  "('Rating Mean',)": 5,
                  "('Rating Std',)": 0,
                  "_deepnote_index_column": 13
                },
                {
                  "('Clothing ID',)": 481,
                  "('Clothing Count',)": 1,
                  "('Rating Mean',)": 5,
                  "('Rating Std',)": 0,
                  "_deepnote_index_column": 14
                },
                {
                  "('Clothing ID',)": 573,
                  "('Clothing Count',)": 2,
                  "('Rating Mean',)": 3,
                  "('Rating Std',)": 0,
                  "_deepnote_index_column": 15
                },
                {
                  "('Clothing ID',)": 620,
                  "('Clothing Count',)": 1,
                  "('Rating Mean',)": 4,
                  "('Rating Std',)": 0,
                  "_deepnote_index_column": 16
                },
                {
                  "('Clothing ID',)": 634,
                  "('Clothing Count',)": 3,
                  "('Rating Mean',)": 4.666666666666667,
                  "('Rating Std',)": 0.5773502691896257,
                  "_deepnote_index_column": 17
                },
                {
                  "('Clothing ID',)": 647,
                  "('Clothing Count',)": 1,
                  "('Rating Mean',)": 5,
                  "('Rating Std',)": 0,
                  "_deepnote_index_column": 18
                },
                {
                  "('Clothing ID',)": 648,
                  "('Clothing Count',)": 1,
                  "('Rating Mean',)": 5,
                  "('Rating Std',)": 0,
                  "_deepnote_index_column": 19
                },
                {
                  "('Clothing ID',)": 649,
                  "('Clothing Count',)": 1,
                  "('Rating Mean',)": 5,
                  "('Rating Std',)": 0,
                  "_deepnote_index_column": 20
                },
                {
                  "('Clothing ID',)": 652,
                  "('Clothing Count',)": 1,
                  "('Rating Mean',)": 3,
                  "('Rating Std',)": 0,
                  "_deepnote_index_column": 21
                },
                {
                  "('Clothing ID',)": 720,
                  "('Clothing Count',)": 1,
                  "('Rating Mean',)": 5,
                  "('Rating Std',)": 0,
                  "_deepnote_index_column": 22
                },
                {
                  "('Clothing ID',)": 730,
                  "('Clothing Count',)": 1,
                  "('Rating Mean',)": 3,
                  "('Rating Std',)": 0,
                  "_deepnote_index_column": 23
                },
                {
                  "('Clothing ID',)": 745,
                  "('Clothing Count',)": 1,
                  "('Rating Mean',)": 4,
                  "('Rating Std',)": 0,
                  "_deepnote_index_column": 24
                },
                {
                  "('Clothing ID',)": 769,
                  "('Clothing Count',)": 1,
                  "('Rating Mean',)": 4,
                  "('Rating Std',)": 0,
                  "_deepnote_index_column": 25
                },
                {
                  "('Clothing ID',)": 781,
                  "('Clothing Count',)": 1,
                  "('Rating Mean',)": 5,
                  "('Rating Std',)": 0,
                  "_deepnote_index_column": 26
                },
                {
                  "('Clothing ID',)": 792,
                  "('Clothing Count',)": 1,
                  "('Rating Mean',)": 5,
                  "('Rating Std',)": 0,
                  "_deepnote_index_column": 27
                },
                {
                  "('Clothing ID',)": 797,
                  "('Clothing Count',)": 1,
                  "('Rating Mean',)": 3,
                  "('Rating Std',)": 0,
                  "_deepnote_index_column": 28
                },
                {
                  "('Clothing ID',)": 815,
                  "('Clothing Count',)": 1,
                  "('Rating Mean',)": 4,
                  "('Rating Std',)": 0,
                  "_deepnote_index_column": 29
                },
                {
                  "('Clothing ID',)": 818,
                  "('Clothing Count',)": 2,
                  "('Rating Mean',)": 4,
                  "('Rating Std',)": 1.4142135623730951,
                  "_deepnote_index_column": 30
                },
                {
                  "('Clothing ID',)": 820,
                  "('Clothing Count',)": 3,
                  "('Rating Mean',)": 3.6666666666666665,
                  "('Rating Std',)": 2.3094010767585034,
                  "_deepnote_index_column": 31
                },
                {
                  "('Clothing ID',)": 822,
                  "('Clothing Count',)": 1,
                  "('Rating Mean',)": 5,
                  "('Rating Std',)": 0,
                  "_deepnote_index_column": 32
                },
                {
                  "('Clothing ID',)": 823,
                  "('Clothing Count',)": 3,
                  "('Rating Mean',)": 4.333333333333333,
                  "('Rating Std',)": 0.5773502691896257,
                  "_deepnote_index_column": 33
                },
                {
                  "('Clothing ID',)": 824,
                  "('Clothing Count',)": 1,
                  "('Rating Mean',)": 3,
                  "('Rating Std',)": 0,
                  "_deepnote_index_column": 34
                },
                {
                  "('Clothing ID',)": 825,
                  "('Clothing Count',)": 1,
                  "('Rating Mean',)": 5,
                  "('Rating Std',)": 0,
                  "_deepnote_index_column": 35
                },
                {
                  "('Clothing ID',)": 826,
                  "('Clothing Count',)": 3,
                  "('Rating Mean',)": 4,
                  "('Rating Std',)": 1.7320508075688772,
                  "_deepnote_index_column": 36
                },
                {
                  "('Clothing ID',)": 828,
                  "('Clothing Count',)": 2,
                  "('Rating Mean',)": 5,
                  "('Rating Std',)": 0,
                  "_deepnote_index_column": 37
                },
                {
                  "('Clothing ID',)": 829,
                  "('Clothing Count',)": 16,
                  "('Rating Mean',)": 4.0625,
                  "('Rating Std',)": 0.9287087810503356,
                  "_deepnote_index_column": 38
                },
                {
                  "('Clothing ID',)": 830,
                  "('Clothing Count',)": 1,
                  "('Rating Mean',)": 5,
                  "('Rating Std',)": 0,
                  "_deepnote_index_column": 39
                },
                {
                  "('Clothing ID',)": 831,
                  "('Clothing Count',)": 3,
                  "('Rating Mean',)": 5,
                  "('Rating Std',)": 0,
                  "_deepnote_index_column": 40
                },
                {
                  "('Clothing ID',)": 832,
                  "('Clothing Count',)": 1,
                  "('Rating Mean',)": 2,
                  "('Rating Std',)": 0,
                  "_deepnote_index_column": 41
                },
                {
                  "('Clothing ID',)": 833,
                  "('Clothing Count',)": 3,
                  "('Rating Mean',)": 4,
                  "('Rating Std',)": 1,
                  "_deepnote_index_column": 42
                },
                {
                  "('Clothing ID',)": 834,
                  "('Clothing Count',)": 3,
                  "('Rating Mean',)": 4.666666666666667,
                  "('Rating Std',)": 0.5773502691896258,
                  "_deepnote_index_column": 43
                },
                {
                  "('Clothing ID',)": 835,
                  "('Clothing Count',)": 4,
                  "('Rating Mean',)": 5,
                  "('Rating Std',)": 0,
                  "_deepnote_index_column": 44
                },
                {
                  "('Clothing ID',)": 836,
                  "('Clothing Count',)": 7,
                  "('Rating Mean',)": 4.285714285714286,
                  "('Rating Std',)": 1.1126972805283737,
                  "_deepnote_index_column": 45
                },
                {
                  "('Clothing ID',)": 839,
                  "('Clothing Count',)": 1,
                  "('Rating Mean',)": 5,
                  "('Rating Std',)": 0,
                  "_deepnote_index_column": 46
                },
                {
                  "('Clothing ID',)": 840,
                  "('Clothing Count',)": 1,
                  "('Rating Mean',)": 5,
                  "('Rating Std',)": 0,
                  "_deepnote_index_column": 47
                },
                {
                  "('Clothing ID',)": 841,
                  "('Clothing Count',)": 2,
                  "('Rating Mean',)": 4,
                  "('Rating Std',)": 0,
                  "_deepnote_index_column": 48
                },
                {
                  "('Clothing ID',)": 843,
                  "('Clothing Count',)": 1,
                  "('Rating Mean',)": 3,
                  "('Rating Std',)": 0,
                  "_deepnote_index_column": 49
                },
                {
                  "('Clothing ID',)": 844,
                  "('Clothing Count',)": 3,
                  "('Rating Mean',)": 4,
                  "('Rating Std',)": 1,
                  "_deepnote_index_column": 50
                },
                {
                  "('Clothing ID',)": 845,
                  "('Clothing Count',)": 1,
                  "('Rating Mean',)": 5,
                  "('Rating Std',)": 0,
                  "_deepnote_index_column": 51
                },
                {
                  "('Clothing ID',)": 847,
                  "('Clothing Count',)": 1,
                  "('Rating Mean',)": 5,
                  "('Rating Std',)": 0,
                  "_deepnote_index_column": 52
                },
                {
                  "('Clothing ID',)": 850,
                  "('Clothing Count',)": 15,
                  "('Rating Mean',)": 4.133333333333334,
                  "('Rating Std',)": 1.245945806357946,
                  "_deepnote_index_column": 53
                },
                {
                  "('Clothing ID',)": 854,
                  "('Clothing Count',)": 1,
                  "('Rating Mean',)": 5,
                  "('Rating Std',)": 0,
                  "_deepnote_index_column": 54
                },
                {
                  "('Clothing ID',)": 855,
                  "('Clothing Count',)": 2,
                  "('Rating Mean',)": 2.5,
                  "('Rating Std',)": 2.1213203435596424,
                  "_deepnote_index_column": 55
                },
                {
                  "('Clothing ID',)": 857,
                  "('Clothing Count',)": 3,
                  "('Rating Mean',)": 4.666666666666667,
                  "('Rating Std',)": 0.5773502691896257,
                  "_deepnote_index_column": 56
                },
                {
                  "('Clothing ID',)": 858,
                  "('Clothing Count',)": 1,
                  "('Rating Mean',)": 5,
                  "('Rating Std',)": 0,
                  "_deepnote_index_column": 57
                },
                {
                  "('Clothing ID',)": 860,
                  "('Clothing Count',)": 5,
                  "('Rating Mean',)": 4.8,
                  "('Rating Std',)": 0.44721359549995787,
                  "_deepnote_index_column": 58
                },
                {
                  "('Clothing ID',)": 861,
                  "('Clothing Count',)": 7,
                  "('Rating Mean',)": 3.7142857142857144,
                  "('Rating Std',)": 1.4960264830861913,
                  "_deepnote_index_column": 59
                },
                {
                  "('Clothing ID',)": 862,
                  "('Clothing Count',)": 13,
                  "('Rating Mean',)": 3.923076923076923,
                  "('Rating Std',)": 1.497861723788195,
                  "_deepnote_index_column": 60
                },
                {
                  "('Clothing ID',)": 863,
                  "('Clothing Count',)": 8,
                  "('Rating Mean',)": 4,
                  "('Rating Std',)": 1.1952286093343936,
                  "_deepnote_index_column": 61
                },
                {
                  "('Clothing ID',)": 864,
                  "('Clothing Count',)": 2,
                  "('Rating Mean',)": 5,
                  "('Rating Std',)": 0,
                  "_deepnote_index_column": 62
                },
                {
                  "('Clothing ID',)": 865,
                  "('Clothing Count',)": 1,
                  "('Rating Mean',)": 5,
                  "('Rating Std',)": 0,
                  "_deepnote_index_column": 63
                },
                {
                  "('Clothing ID',)": 866,
                  "('Clothing Count',)": 1,
                  "('Rating Mean',)": 5,
                  "('Rating Std',)": 0,
                  "_deepnote_index_column": 64
                },
                {
                  "('Clothing ID',)": 867,
                  "('Clothing Count',)": 5,
                  "('Rating Mean',)": 3.6,
                  "('Rating Std',)": 1.9493588689617927,
                  "_deepnote_index_column": 65
                },
                {
                  "('Clothing ID',)": 868,
                  "('Clothing Count',)": 5,
                  "('Rating Mean',)": 4.4,
                  "('Rating Std',)": 0.894427190999916,
                  "_deepnote_index_column": 66
                },
                {
                  "('Clothing ID',)": 869,
                  "('Clothing Count',)": 3,
                  "('Rating Mean',)": 4.666666666666667,
                  "('Rating Std',)": 0.5773502691896257,
                  "_deepnote_index_column": 67
                },
                {
                  "('Clothing ID',)": 871,
                  "('Clothing Count',)": 4,
                  "('Rating Mean',)": 4.75,
                  "('Rating Std',)": 0.4999999999999999,
                  "_deepnote_index_column": 68
                },
                {
                  "('Clothing ID',)": 872,
                  "('Clothing Count',)": 15,
                  "('Rating Mean',)": 4.266666666666667,
                  "('Rating Std',)": 1.0997835284835875,
                  "_deepnote_index_column": 69
                },
                {
                  "('Clothing ID',)": 873,
                  "('Clothing Count',)": 7,
                  "('Rating Mean',)": 4.714285714285714,
                  "('Rating Std',)": 0.7559289460184545,
                  "_deepnote_index_column": 70
                },
                {
                  "('Clothing ID',)": 875,
                  "('Clothing Count',)": 5,
                  "('Rating Mean',)": 3.6,
                  "('Rating Std',)": 1.51657508881031,
                  "_deepnote_index_column": 71
                },
                {
                  "('Clothing ID',)": 876,
                  "('Clothing Count',)": 1,
                  "('Rating Mean',)": 1,
                  "('Rating Std',)": 0,
                  "_deepnote_index_column": 72
                },
                {
                  "('Clothing ID',)": 877,
                  "('Clothing Count',)": 5,
                  "('Rating Mean',)": 5,
                  "('Rating Std',)": 0,
                  "_deepnote_index_column": 73
                },
                {
                  "('Clothing ID',)": 878,
                  "('Clothing Count',)": 3,
                  "('Rating Mean',)": 5,
                  "('Rating Std',)": 0,
                  "_deepnote_index_column": 74
                },
                {
                  "('Clothing ID',)": 880,
                  "('Clothing Count',)": 1,
                  "('Rating Mean',)": 3,
                  "('Rating Std',)": 0,
                  "_deepnote_index_column": 75
                },
                {
                  "('Clothing ID',)": 881,
                  "('Clothing Count',)": 4,
                  "('Rating Mean',)": 5,
                  "('Rating Std',)": 0,
                  "_deepnote_index_column": 76
                },
                {
                  "('Clothing ID',)": 883,
                  "('Clothing Count',)": 1,
                  "('Rating Mean',)": 5,
                  "('Rating Std',)": 0,
                  "_deepnote_index_column": 77
                },
                {
                  "('Clothing ID',)": 886,
                  "('Clothing Count',)": 3,
                  "('Rating Mean',)": 3.3333333333333335,
                  "('Rating Std',)": 1.1547005383792517,
                  "_deepnote_index_column": 78
                },
                {
                  "('Clothing ID',)": 895,
                  "('Clothing Count',)": 7,
                  "('Rating Mean',)": 4.714285714285714,
                  "('Rating Std',)": 0.48795003647426655,
                  "_deepnote_index_column": 79
                },
                {
                  "('Clothing ID',)": 906,
                  "('Clothing Count',)": 2,
                  "('Rating Mean',)": 5,
                  "('Rating Std',)": 0,
                  "_deepnote_index_column": 80
                },
                {
                  "('Clothing ID',)": 907,
                  "('Clothing Count',)": 1,
                  "('Rating Mean',)": 5,
                  "('Rating Std',)": 0,
                  "_deepnote_index_column": 81
                },
                {
                  "('Clothing ID',)": 909,
                  "('Clothing Count',)": 1,
                  "('Rating Mean',)": 5,
                  "('Rating Std',)": 0,
                  "_deepnote_index_column": 82
                },
                {
                  "('Clothing ID',)": 910,
                  "('Clothing Count',)": 1,
                  "('Rating Mean',)": 5,
                  "('Rating Std',)": 0,
                  "_deepnote_index_column": 83
                },
                {
                  "('Clothing ID',)": 912,
                  "('Clothing Count',)": 1,
                  "('Rating Mean',)": 5,
                  "('Rating Std',)": 0,
                  "_deepnote_index_column": 84
                },
                {
                  "('Clothing ID',)": 927,
                  "('Clothing Count',)": 1,
                  "('Rating Mean',)": 4,
                  "('Rating Std',)": 0,
                  "_deepnote_index_column": 85
                },
                {
                  "('Clothing ID',)": 929,
                  "('Clothing Count',)": 1,
                  "('Rating Mean',)": 1,
                  "('Rating Std',)": 0,
                  "_deepnote_index_column": 86
                },
                {
                  "('Clothing ID',)": 930,
                  "('Clothing Count',)": 1,
                  "('Rating Mean',)": 5,
                  "('Rating Std',)": 0,
                  "_deepnote_index_column": 87
                },
                {
                  "('Clothing ID',)": 936,
                  "('Clothing Count',)": 4,
                  "('Rating Mean',)": 5,
                  "('Rating Std',)": 0,
                  "_deepnote_index_column": 88
                },
                {
                  "('Clothing ID',)": 937,
                  "('Clothing Count',)": 4,
                  "('Rating Mean',)": 3.5,
                  "('Rating Std',)": 1.9148542155126764,
                  "_deepnote_index_column": 89
                },
                {
                  "('Clothing ID',)": 940,
                  "('Clothing Count',)": 3,
                  "('Rating Mean',)": 5,
                  "('Rating Std',)": 0,
                  "_deepnote_index_column": 90
                },
                {
                  "('Clothing ID',)": 942,
                  "('Clothing Count',)": 1,
                  "('Rating Mean',)": 5,
                  "('Rating Std',)": 0,
                  "_deepnote_index_column": 91
                },
                {
                  "('Clothing ID',)": 944,
                  "('Clothing Count',)": 1,
                  "('Rating Mean',)": 1,
                  "('Rating Std',)": 0,
                  "_deepnote_index_column": 92
                },
                {
                  "('Clothing ID',)": 945,
                  "('Clothing Count',)": 1,
                  "('Rating Mean',)": 5,
                  "('Rating Std',)": 0,
                  "_deepnote_index_column": 93
                },
                {
                  "('Clothing ID',)": 947,
                  "('Clothing Count',)": 1,
                  "('Rating Mean',)": 2,
                  "('Rating Std',)": 0,
                  "_deepnote_index_column": 94
                },
                {
                  "('Clothing ID',)": 949,
                  "('Clothing Count',)": 2,
                  "('Rating Mean',)": 5,
                  "('Rating Std',)": 0,
                  "_deepnote_index_column": 95
                },
                {
                  "('Clothing ID',)": 952,
                  "('Clothing Count',)": 2,
                  "('Rating Mean',)": 5,
                  "('Rating Std',)": 0,
                  "_deepnote_index_column": 96
                },
                {
                  "('Clothing ID',)": 964,
                  "('Clothing Count',)": 4,
                  "('Rating Mean',)": 4.75,
                  "('Rating Std',)": 0.5,
                  "_deepnote_index_column": 97
                },
                {
                  "('Clothing ID',)": 965,
                  "('Clothing Count',)": 1,
                  "('Rating Mean',)": 4,
                  "('Rating Std',)": 0,
                  "_deepnote_index_column": 98
                },
                {
                  "('Clothing ID',)": 966,
                  "('Clothing Count',)": 2,
                  "('Rating Mean',)": 4.5,
                  "('Rating Std',)": 0.7071067811865476,
                  "_deepnote_index_column": 99
                },
                {
                  "('Clothing ID',)": 969,
                  "('Clothing Count',)": 1,
                  "('Rating Mean',)": 5,
                  "('Rating Std',)": 0,
                  "_deepnote_index_column": 100
                },
                {
                  "('Clothing ID',)": 974,
                  "('Clothing Count',)": 1,
                  "('Rating Mean',)": 5,
                  "('Rating Std',)": 0,
                  "_deepnote_index_column": 101
                },
                {
                  "('Clothing ID',)": 975,
                  "('Clothing Count',)": 1,
                  "('Rating Mean',)": 5,
                  "('Rating Std',)": 0,
                  "_deepnote_index_column": 102
                },
                {
                  "('Clothing ID',)": 977,
                  "('Clothing Count',)": 1,
                  "('Rating Mean',)": 1,
                  "('Rating Std',)": 0,
                  "_deepnote_index_column": 103
                },
                {
                  "('Clothing ID',)": 984,
                  "('Clothing Count',)": 5,
                  "('Rating Mean',)": 4.2,
                  "('Rating Std',)": 1.7888543819998317,
                  "_deepnote_index_column": 104
                },
                {
                  "('Clothing ID',)": 985,
                  "('Clothing Count',)": 1,
                  "('Rating Mean',)": 5,
                  "('Rating Std',)": 0,
                  "_deepnote_index_column": 105
                },
                {
                  "('Clothing ID',)": 986,
                  "('Clothing Count',)": 1,
                  "('Rating Mean',)": 4,
                  "('Rating Std',)": 0,
                  "_deepnote_index_column": 106
                },
                {
                  "('Clothing ID',)": 992,
                  "('Clothing Count',)": 1,
                  "('Rating Mean',)": 1,
                  "('Rating Std',)": 0,
                  "_deepnote_index_column": 107
                },
                {
                  "('Clothing ID',)": 993,
                  "('Clothing Count',)": 1,
                  "('Rating Mean',)": 5,
                  "('Rating Std',)": 0,
                  "_deepnote_index_column": 108
                },
                {
                  "('Clothing ID',)": 995,
                  "('Clothing Count',)": 2,
                  "('Rating Mean',)": 4,
                  "('Rating Std',)": 0,
                  "_deepnote_index_column": 109
                },
                {
                  "('Clothing ID',)": 999,
                  "('Clothing Count',)": 3,
                  "('Rating Mean',)": 5,
                  "('Rating Std',)": 0,
                  "_deepnote_index_column": 110
                },
                {
                  "('Clothing ID',)": 1003,
                  "('Clothing Count',)": 1,
                  "('Rating Mean',)": 2,
                  "('Rating Std',)": 0,
                  "_deepnote_index_column": 111
                },
                {
                  "('Clothing ID',)": 1004,
                  "('Clothing Count',)": 1,
                  "('Rating Mean',)": 3,
                  "('Rating Std',)": 0,
                  "_deepnote_index_column": 112
                },
                {
                  "('Clothing ID',)": 1008,
                  "('Clothing Count',)": 4,
                  "('Rating Mean',)": 5,
                  "('Rating Std',)": 0,
                  "_deepnote_index_column": 113
                },
                {
                  "('Clothing ID',)": 1011,
                  "('Clothing Count',)": 1,
                  "('Rating Mean',)": 4,
                  "('Rating Std',)": 0,
                  "_deepnote_index_column": 114
                },
                {
                  "('Clothing ID',)": 1020,
                  "('Clothing Count',)": 5,
                  "('Rating Mean',)": 3.8,
                  "('Rating Std',)": 1.7888543819998317,
                  "_deepnote_index_column": 115
                },
                {
                  "('Clothing ID',)": 1022,
                  "('Clothing Count',)": 3,
                  "('Rating Mean',)": 3.3333333333333335,
                  "('Rating Std',)": 2.0816659994661326,
                  "_deepnote_index_column": 116
                },
                {
                  "('Clothing ID',)": 1024,
                  "('Clothing Count',)": 1,
                  "('Rating Mean',)": 5,
                  "('Rating Std',)": 0,
                  "_deepnote_index_column": 117
                },
                {
                  "('Clothing ID',)": 1025,
                  "('Clothing Count',)": 2,
                  "('Rating Mean',)": 5,
                  "('Rating Std',)": 0,
                  "_deepnote_index_column": 118
                },
                {
                  "('Clothing ID',)": 1026,
                  "('Clothing Count',)": 2,
                  "('Rating Mean',)": 4.5,
                  "('Rating Std',)": 0.7071067811865476,
                  "_deepnote_index_column": 119
                },
                {
                  "('Clothing ID',)": 1030,
                  "('Clothing Count',)": 2,
                  "('Rating Mean',)": 3.5,
                  "('Rating Std',)": 2.1213203435596424,
                  "_deepnote_index_column": 120
                },
                {
                  "('Clothing ID',)": 1033,
                  "('Clothing Count',)": 7,
                  "('Rating Mean',)": 4.142857142857143,
                  "('Rating Std',)": 1.2149857925879117,
                  "_deepnote_index_column": 121
                },
                {
                  "('Clothing ID',)": 1035,
                  "('Clothing Count',)": 3,
                  "('Rating Mean',)": 3,
                  "('Rating Std',)": 1,
                  "_deepnote_index_column": 122
                },
                {
                  "('Clothing ID',)": 1036,
                  "('Clothing Count',)": 1,
                  "('Rating Mean',)": 4,
                  "('Rating Std',)": 0,
                  "_deepnote_index_column": 123
                },
                {
                  "('Clothing ID',)": 1037,
                  "('Clothing Count',)": 1,
                  "('Rating Mean',)": 1,
                  "('Rating Std',)": 0,
                  "_deepnote_index_column": 124
                },
                {
                  "('Clothing ID',)": 1038,
                  "('Clothing Count',)": 3,
                  "('Rating Mean',)": 4.666666666666667,
                  "('Rating Std',)": 0.5773502691896258,
                  "_deepnote_index_column": 125
                },
                {
                  "('Clothing ID',)": 1044,
                  "('Clothing Count',)": 2,
                  "('Rating Mean',)": 4,
                  "('Rating Std',)": 1.4142135623730951,
                  "_deepnote_index_column": 126
                },
                {
                  "('Clothing ID',)": 1046,
                  "('Clothing Count',)": 1,
                  "('Rating Mean',)": 5,
                  "('Rating Std',)": 0,
                  "_deepnote_index_column": 127
                },
                {
                  "('Clothing ID',)": 1047,
                  "('Clothing Count',)": 3,
                  "('Rating Mean',)": 3.3333333333333335,
                  "('Rating Std',)": 1.5275252316519468,
                  "_deepnote_index_column": 128
                },
                {
                  "('Clothing ID',)": 1048,
                  "('Clothing Count',)": 1,
                  "('Rating Mean',)": 5,
                  "('Rating Std',)": 0,
                  "_deepnote_index_column": 129
                },
                {
                  "('Clothing ID',)": 1049,
                  "('Clothing Count',)": 2,
                  "('Rating Mean',)": 5,
                  "('Rating Std',)": 0,
                  "_deepnote_index_column": 130
                },
                {
                  "('Clothing ID',)": 1051,
                  "('Clothing Count',)": 1,
                  "('Rating Mean',)": 5,
                  "('Rating Std',)": 0,
                  "_deepnote_index_column": 131
                },
                {
                  "('Clothing ID',)": 1054,
                  "('Clothing Count',)": 2,
                  "('Rating Mean',)": 3.5,
                  "('Rating Std',)": 0.7071067811865476,
                  "_deepnote_index_column": 132
                },
                {
                  "('Clothing ID',)": 1055,
                  "('Clothing Count',)": 1,
                  "('Rating Mean',)": 2,
                  "('Rating Std',)": 0,
                  "_deepnote_index_column": 133
                },
                {
                  "('Clothing ID',)": 1056,
                  "('Clothing Count',)": 3,
                  "('Rating Mean',)": 4.666666666666667,
                  "('Rating Std',)": 0.5773502691896258,
                  "_deepnote_index_column": 134
                },
                {
                  "('Clothing ID',)": 1059,
                  "('Clothing Count',)": 8,
                  "('Rating Mean',)": 4.125,
                  "('Rating Std',)": 1.1259916264596033,
                  "_deepnote_index_column": 135
                },
                {
                  "('Clothing ID',)": 1060,
                  "('Clothing Count',)": 2,
                  "('Rating Mean',)": 5,
                  "('Rating Std',)": 0,
                  "_deepnote_index_column": 136
                },
                {
                  "('Clothing ID',)": 1064,
                  "('Clothing Count',)": 1,
                  "('Rating Mean',)": 3,
                  "('Rating Std',)": 0,
                  "_deepnote_index_column": 137
                },
                {
                  "('Clothing ID',)": 1066,
                  "('Clothing Count',)": 4,
                  "('Rating Mean',)": 4.75,
                  "('Rating Std',)": 0.4999999999999999,
                  "_deepnote_index_column": 138
                },
                {
                  "('Clothing ID',)": 1072,
                  "('Clothing Count',)": 6,
                  "('Rating Mean',)": 4.5,
                  "('Rating Std',)": 0.8366600265340756,
                  "_deepnote_index_column": 139
                },
                {
                  "('Clothing ID',)": 1074,
                  "('Clothing Count',)": 1,
                  "('Rating Mean',)": 4,
                  "('Rating Std',)": 0,
                  "_deepnote_index_column": 140
                },
                {
                  "('Clothing ID',)": 1077,
                  "('Clothing Count',)": 5,
                  "('Rating Mean',)": 3,
                  "('Rating Std',)": 1.4142135623730951,
                  "_deepnote_index_column": 141
                },
                {
                  "('Clothing ID',)": 1078,
                  "('Clothing Count',)": 27,
                  "('Rating Mean',)": 4.444444444444445,
                  "('Rating Std',)": 0.8473185457363234,
                  "_deepnote_index_column": 142
                },
                {
                  "('Clothing ID',)": 1080,
                  "('Clothing Count',)": 7,
                  "('Rating Mean',)": 4,
                  "('Rating Std',)": 1.1547005383792515,
                  "_deepnote_index_column": 143
                },
                {
                  "('Clothing ID',)": 1081,
                  "('Clothing Count',)": 18,
                  "('Rating Mean',)": 4.444444444444445,
                  "('Rating Std',)": 0.7047921864945655,
                  "_deepnote_index_column": 144
                },
                {
                  "('Clothing ID',)": 1082,
                  "('Clothing Count',)": 4,
                  "('Rating Mean',)": 5,
                  "('Rating Std',)": 0,
                  "_deepnote_index_column": 145
                },
                {
                  "('Clothing ID',)": 1083,
                  "('Clothing Count',)": 1,
                  "('Rating Mean',)": 4,
                  "('Rating Std',)": 0,
                  "_deepnote_index_column": 146
                },
                {
                  "('Clothing ID',)": 1084,
                  "('Clothing Count',)": 1,
                  "('Rating Mean',)": 1,
                  "('Rating Std',)": 0,
                  "_deepnote_index_column": 147
                },
                {
                  "('Clothing ID',)": 1085,
                  "('Clothing Count',)": 2,
                  "('Rating Mean',)": 4.5,
                  "('Rating Std',)": 0.7071067811865476,
                  "_deepnote_index_column": 148
                },
                {
                  "('Clothing ID',)": 1086,
                  "('Clothing Count',)": 4,
                  "('Rating Mean',)": 3.5,
                  "('Rating Std',)": 1.7320508075688772,
                  "_deepnote_index_column": 149
                },
                {
                  "('Clothing ID',)": 1087,
                  "('Clothing Count',)": 2,
                  "('Rating Mean',)": 4.5,
                  "('Rating Std',)": 0.7071067811865476,
                  "_deepnote_index_column": 150
                },
                {
                  "('Clothing ID',)": 1089,
                  "('Clothing Count',)": 2,
                  "('Rating Mean',)": 2,
                  "('Rating Std',)": 1.4142135623730951,
                  "_deepnote_index_column": 151
                },
                {
                  "('Clothing ID',)": 1091,
                  "('Clothing Count',)": 2,
                  "('Rating Mean',)": 5,
                  "('Rating Std',)": 0,
                  "_deepnote_index_column": 152
                },
                {
                  "('Clothing ID',)": 1092,
                  "('Clothing Count',)": 2,
                  "('Rating Mean',)": 5,
                  "('Rating Std',)": 0,
                  "_deepnote_index_column": 153
                },
                {
                  "('Clothing ID',)": 1094,
                  "('Clothing Count',)": 16,
                  "('Rating Mean',)": 3.9375,
                  "('Rating Std',)": 1.2365947867699698,
                  "_deepnote_index_column": 154
                },
                {
                  "('Clothing ID',)": 1095,
                  "('Clothing Count',)": 9,
                  "('Rating Mean',)": 4.222222222222222,
                  "('Rating Std',)": 1.092906420717,
                  "_deepnote_index_column": 155
                },
                {
                  "('Clothing ID',)": 1099,
                  "('Clothing Count',)": 7,
                  "('Rating Mean',)": 4.142857142857143,
                  "('Rating Std',)": 1.0690449676496976,
                  "_deepnote_index_column": 156
                },
                {
                  "('Clothing ID',)": 1104,
                  "('Clothing Count',)": 5,
                  "('Rating Mean',)": 4.2,
                  "('Rating Std',)": 1.0954451150103321,
                  "_deepnote_index_column": 157
                },
                {
                  "('Clothing ID',)": 1110,
                  "('Clothing Count',)": 12,
                  "('Rating Mean',)": 4.166666666666667,
                  "('Rating Std',)": 1.403458930534474,
                  "_deepnote_index_column": 158
                },
                {
                  "('Clothing ID',)": 1111,
                  "('Clothing Count',)": 1,
                  "('Rating Mean',)": 5,
                  "('Rating Std',)": 0,
                  "_deepnote_index_column": 159
                },
                {
                  "('Clothing ID',)": 1125,
                  "('Clothing Count',)": 4,
                  "('Rating Mean',)": 4.5,
                  "('Rating Std',)": 0.5773502691896258,
                  "_deepnote_index_column": 160
                },
                {
                  "('Clothing ID',)": 1126,
                  "('Clothing Count',)": 3,
                  "('Rating Mean',)": 4.333333333333333,
                  "('Rating Std',)": 1.1547005383792515,
                  "_deepnote_index_column": 161
                },
                {
                  "('Clothing ID',)": 1131,
                  "('Clothing Count',)": 1,
                  "('Rating Mean',)": 3,
                  "('Rating Std',)": 0,
                  "_deepnote_index_column": 162
                },
                {
                  "('Clothing ID',)": 1145,
                  "('Clothing Count',)": 1,
                  "('Rating Mean',)": 5,
                  "('Rating Std',)": 0,
                  "_deepnote_index_column": 163
                },
                {
                  "('Clothing ID',)": 1195,
                  "('Clothing Count',)": 1,
                  "('Rating Mean',)": 1,
                  "('Rating Std',)": 0,
                  "_deepnote_index_column": 164
                }
              ],
              "rows_bottom": null
            },
            "text/plain": "    Clothing ID Clothing Count Rating Mean Rating Std\n0            35              1    5.000000   0.000000\n1           107              1    4.000000   0.000000\n2           121              1    4.000000   0.000000\n3           144              1    5.000000   0.000000\n4           154              4    3.750000   1.258306\n..          ...            ...         ...        ...\n160        1125              4    4.500000   0.577350\n161        1126              3    4.333333   1.154701\n162        1131              1    3.000000   0.000000\n163        1145              1    5.000000   0.000000\n164        1195              1    1.000000   0.000000\n\n[165 rows x 4 columns]",
            "text/html": "<div>\n<style scoped>\n    .dataframe tbody tr th:only-of-type {\n        vertical-align: middle;\n    }\n\n    .dataframe tbody tr th {\n        vertical-align: top;\n    }\n\n    .dataframe thead tr th {\n        text-align: left;\n    }\n</style>\n<table border=\"1\" class=\"dataframe\">\n  <thead>\n    <tr>\n      <th></th>\n      <th>Clothing ID</th>\n      <th>Clothing Count</th>\n      <th>Rating Mean</th>\n      <th>Rating Std</th>\n    </tr>\n  </thead>\n  <tbody>\n    <tr>\n      <th>0</th>\n      <td>35</td>\n      <td>1</td>\n      <td>5.000000</td>\n      <td>0.000000</td>\n    </tr>\n    <tr>\n      <th>1</th>\n      <td>107</td>\n      <td>1</td>\n      <td>4.000000</td>\n      <td>0.000000</td>\n    </tr>\n    <tr>\n      <th>2</th>\n      <td>121</td>\n      <td>1</td>\n      <td>4.000000</td>\n      <td>0.000000</td>\n    </tr>\n    <tr>\n      <th>3</th>\n      <td>144</td>\n      <td>1</td>\n      <td>5.000000</td>\n      <td>0.000000</td>\n    </tr>\n    <tr>\n      <th>4</th>\n      <td>154</td>\n      <td>4</td>\n      <td>3.750000</td>\n      <td>1.258306</td>\n    </tr>\n    <tr>\n      <th>...</th>\n      <td>...</td>\n      <td>...</td>\n      <td>...</td>\n      <td>...</td>\n    </tr>\n    <tr>\n      <th>160</th>\n      <td>1125</td>\n      <td>4</td>\n      <td>4.500000</td>\n      <td>0.577350</td>\n    </tr>\n    <tr>\n      <th>161</th>\n      <td>1126</td>\n      <td>3</td>\n      <td>4.333333</td>\n      <td>1.154701</td>\n    </tr>\n    <tr>\n      <th>162</th>\n      <td>1131</td>\n      <td>1</td>\n      <td>3.000000</td>\n      <td>0.000000</td>\n    </tr>\n    <tr>\n      <th>163</th>\n      <td>1145</td>\n      <td>1</td>\n      <td>5.000000</td>\n      <td>0.000000</td>\n    </tr>\n    <tr>\n      <th>164</th>\n      <td>1195</td>\n      <td>1</td>\n      <td>1.000000</td>\n      <td>0.000000</td>\n    </tr>\n  </tbody>\n</table>\n<p>165 rows × 4 columns</p>\n</div>"
          },
          "metadata": {}
        }
      ]
    },
    {
      "cell_type": "code",
      "metadata": {
        "tags": [],
        "cell_id": "00067-7e693f3d-b24a-46c4-8f34-da17100cade4",
        "deepnote_to_be_reexecuted": false,
        "source_hash": "566e7c53",
        "execution_start": 1623583550966,
        "execution_millis": 59825604,
        "deepnote_cell_type": "code",
        "id": "hYm2E1lckX0z"
      },
      "source": [
        "def find_strength(dt, rpi, factor):\n",
        "    for idx in dt:\n",
        "        for i in range(len(rpi)):\n",
        "            if(idx == rpi[i, 0]):   \n",
        "                proportion = rpi[i, 1] / len(rpi)\n",
        "                num = (proportion * rpi[i, 2]) / rpi[i, 3]\n",
        "                rating = (1 - m.exp(num)) / (1 + m.exp(num))\n",
        "                strength = rating ** 2\n",
        "                # print(f\"{idx} | {rpi[i, 0]}\\t|{strength}\")\n",
        "                factor.append(strength)\n",
        "                break\n",
        "    return factor"
      ],
      "execution_count": null,
      "outputs": []
    },
    {
      "cell_type": "code",
      "metadata": {
        "tags": [],
        "deepnote_to_be_reexecuted": false,
        "source_hash": "bdab9184",
        "execution_start": 1623583550967,
        "execution_millis": 50,
        "cell_id": "00066-6c063e04-dc1b-4b23-9cae-bd18cf7aece7",
        "deepnote_cell_type": "code",
        "id": "RpXuCgAskX0z",
        "outputId": "bdae7391-a92c-484c-de47-a4da016ceb1d"
      },
      "source": [
        "factor1 = []\n",
        "factor2 = []\n",
        "rpi1 = rpi1.to_numpy()\n",
        "rpi2 = rpi2.to_numpy()\n",
        "\n",
        "factor1 = find_strength(dt['ID'], rpi1, factor1)\n",
        "factor2 = find_strength(dt['ID'], rpi2, factor2)"
      ],
      "execution_count": null,
      "outputs": [
        {
          "name": "stderr",
          "text": "/shared-libs/python3.7/py-core/lib/python3.7/site-packages/ipykernel_launcher.py:6: RuntimeWarning: divide by zero encountered in double_scalars\n  \n",
          "output_type": "stream"
        }
      ]
    },
    {
      "cell_type": "code",
      "metadata": {
        "tags": [],
        "deepnote_to_be_reexecuted": false,
        "source_hash": "db4d9a0c",
        "execution_start": 1623583551011,
        "execution_millis": 0,
        "cell_id": "00067-d364d9e2-386b-44b8-96f0-b24156ede357",
        "deepnote_cell_type": "code",
        "id": "K5n6E0-skX0z"
      },
      "source": [
        "dt['Strength Prediction'] = factor1\n",
        "dt['Strength Actual'] = factor2\n",
        "dt['Strength Prediction'] = dt['Strength Prediction'].fillna(0)\n",
        "dt['Strength Actual'] = dt['Strength Actual'].fillna(0)"
      ],
      "execution_count": null,
      "outputs": []
    },
    {
      "cell_type": "code",
      "metadata": {
        "tags": [],
        "deepnote_to_be_reexecuted": false,
        "source_hash": "840e658f",
        "execution_start": 1623583551012,
        "execution_millis": 40,
        "cell_id": "00068-09b3e811-43b7-4f21-86d1-f7f57ad6e558",
        "deepnote_cell_type": "code",
        "id": "jIyNxE9GkX00",
        "outputId": "161f2094-dcb9-483f-ff7f-c2c55387880a"
      },
      "source": [
        "dt"
      ],
      "execution_count": null,
      "outputs": [
        {
          "output_type": "execute_result",
          "execution_count": 50,
          "data": {
            "application/vnd.deepnote.dataframe.v2+json": {
              "row_count": 500,
              "column_count": 6,
              "columns": [
                {
                  "name": "ID",
                  "dtype": "object",
                  "stats": {
                    "unique_count": 165,
                    "nan_count": 0,
                    "categories": [
                      {
                        "name": "1078",
                        "count": 27
                      },
                      {
                        "name": "1081",
                        "count": 18
                      },
                      {
                        "name": "163 others",
                        "count": 455
                      }
                    ]
                  }
                },
                {
                  "name": "Review Text",
                  "dtype": "object",
                  "stats": {
                    "unique_count": 500,
                    "nan_count": 0,
                    "categories": [
                      {
                        "name": "bought store yesterday light fit extrem comfort im long torso end go larg one like shirt hang loos print vivid person nonetheless great",
                        "count": 1
                      },
                      {
                        "name": "color dress beauti realli want love wasnt cut bodi shape think either need curvi fill chest straight updown lay flat model order size b tallslim build also think hilo hem dress isnt well indic pictur im fan style hope would minim howev hem definit asymmetr",
                        "count": 1
                      },
                      {
                        "name": "498 others",
                        "count": 498
                      }
                    ]
                  }
                },
                {
                  "name": "Rating Actual",
                  "dtype": "int64",
                  "stats": {
                    "unique_count": 5,
                    "nan_count": 0,
                    "min": "1",
                    "max": "5",
                    "histogram": [
                      {
                        "bin_start": 1,
                        "bin_end": 1.4,
                        "count": 26
                      },
                      {
                        "bin_start": 1.4,
                        "bin_end": 1.8,
                        "count": 0
                      },
                      {
                        "bin_start": 1.8,
                        "bin_end": 2.2,
                        "count": 27
                      },
                      {
                        "bin_start": 2.2,
                        "bin_end": 2.6,
                        "count": 0
                      },
                      {
                        "bin_start": 2.6,
                        "bin_end": 3,
                        "count": 0
                      },
                      {
                        "bin_start": 3,
                        "bin_end": 3.4000000000000004,
                        "count": 52
                      },
                      {
                        "bin_start": 3.4000000000000004,
                        "bin_end": 3.8000000000000003,
                        "count": 0
                      },
                      {
                        "bin_start": 3.8000000000000003,
                        "bin_end": 4.2,
                        "count": 106
                      },
                      {
                        "bin_start": 4.2,
                        "bin_end": 4.6,
                        "count": 0
                      },
                      {
                        "bin_start": 4.6,
                        "bin_end": 5,
                        "count": 289
                      }
                    ]
                  }
                },
                {
                  "name": "Rating Prediction",
                  "dtype": "int64",
                  "stats": {
                    "unique_count": 5,
                    "nan_count": 0,
                    "min": "1",
                    "max": "5",
                    "histogram": [
                      {
                        "bin_start": 1,
                        "bin_end": 1.4,
                        "count": 4
                      },
                      {
                        "bin_start": 1.4,
                        "bin_end": 1.8,
                        "count": 0
                      },
                      {
                        "bin_start": 1.8,
                        "bin_end": 2.2,
                        "count": 8
                      },
                      {
                        "bin_start": 2.2,
                        "bin_end": 2.6,
                        "count": 0
                      },
                      {
                        "bin_start": 2.6,
                        "bin_end": 3,
                        "count": 0
                      },
                      {
                        "bin_start": 3,
                        "bin_end": 3.4000000000000004,
                        "count": 35
                      },
                      {
                        "bin_start": 3.4000000000000004,
                        "bin_end": 3.8000000000000003,
                        "count": 0
                      },
                      {
                        "bin_start": 3.8000000000000003,
                        "bin_end": 4.2,
                        "count": 34
                      },
                      {
                        "bin_start": 4.2,
                        "bin_end": 4.6,
                        "count": 0
                      },
                      {
                        "bin_start": 4.6,
                        "bin_end": 5,
                        "count": 419
                      }
                    ]
                  }
                },
                {
                  "name": "Strength Prediction",
                  "dtype": "float64",
                  "stats": {
                    "unique_count": 31,
                    "nan_count": 0,
                    "min": "0.0",
                    "max": "0.4591108946990222",
                    "histogram": [
                      {
                        "bin_start": 0,
                        "bin_end": 0.04591108946990222,
                        "count": 392
                      },
                      {
                        "bin_start": 0.04591108946990222,
                        "bin_end": 0.09182217893980445,
                        "count": 22
                      },
                      {
                        "bin_start": 0.09182217893980445,
                        "bin_end": 0.13773326840970668,
                        "count": 16
                      },
                      {
                        "bin_start": 0.13773326840970668,
                        "bin_end": 0.1836443578796089,
                        "count": 25
                      },
                      {
                        "bin_start": 0.1836443578796089,
                        "bin_end": 0.2295554473495111,
                        "count": 0
                      },
                      {
                        "bin_start": 0.2295554473495111,
                        "bin_end": 0.27546653681941335,
                        "count": 0
                      },
                      {
                        "bin_start": 0.27546653681941335,
                        "bin_end": 0.32137762628931554,
                        "count": 0
                      },
                      {
                        "bin_start": 0.32137762628931554,
                        "bin_end": 0.3672887157592178,
                        "count": 0
                      },
                      {
                        "bin_start": 0.3672887157592178,
                        "bin_end": 0.41319980522912003,
                        "count": 27
                      },
                      {
                        "bin_start": 0.41319980522912003,
                        "bin_end": 0.4591108946990222,
                        "count": 18
                      }
                    ]
                  }
                },
                {
                  "name": "Strength Actual",
                  "dtype": "float64",
                  "stats": {
                    "unique_count": 49,
                    "nan_count": 0,
                    "min": "0.0",
                    "max": "0.16371749913811273",
                    "histogram": [
                      {
                        "bin_start": 0,
                        "bin_end": 0.016371749913811275,
                        "count": 374
                      },
                      {
                        "bin_start": 0.016371749913811275,
                        "bin_end": 0.03274349982762255,
                        "count": 58
                      },
                      {
                        "bin_start": 0.03274349982762255,
                        "bin_end": 0.049115249741433824,
                        "count": 23
                      },
                      {
                        "bin_start": 0.049115249741433824,
                        "bin_end": 0.0654869996552451,
                        "count": 0
                      },
                      {
                        "bin_start": 0.0654869996552451,
                        "bin_end": 0.08185874956905637,
                        "count": 0
                      },
                      {
                        "bin_start": 0.08185874956905637,
                        "bin_end": 0.09823049948286765,
                        "count": 0
                      },
                      {
                        "bin_start": 0.09823049948286765,
                        "bin_end": 0.11460224939667893,
                        "count": 18
                      },
                      {
                        "bin_start": 0.11460224939667893,
                        "bin_end": 0.1309739993104902,
                        "count": 0
                      },
                      {
                        "bin_start": 0.1309739993104902,
                        "bin_end": 0.14734574922430146,
                        "count": 0
                      },
                      {
                        "bin_start": 0.14734574922430146,
                        "bin_end": 0.16371749913811273,
                        "count": 27
                      }
                    ]
                  }
                },
                {
                  "name": "_deepnote_index_column",
                  "dtype": "int64"
                }
              ],
              "rows_top": [
                {
                  "ID": "877",
                  "Review Text": "bought store yesterday light fit extrem comfort im long torso end go larg one like shirt hang loos …",
                  "Rating Actual": 5,
                  "Rating Prediction": 5,
                  "Strength Prediction": 0,
                  "Strength Actual": 0,
                  "_deepnote_index_column": 0
                },
                {
                  "ID": "1080",
                  "Review Text": "color dress beauti realli want love wasnt cut bodi shape think either need curvi fill chest straigh…",
                  "Rating Actual": 3,
                  "Rating Prediction": 3,
                  "Strength Prediction": 0.014120752411274624,
                  "Strength Actual": 0.005380072303898885,
                  "_deepnote_index_column": 1
                },
                {
                  "ID": "964",
                  "Review Text": "order littl jacket knew would like upon arriv fell love littl edgi leather detail stretch right pla…",
                  "Rating Actual": 5,
                  "Rating Prediction": 5,
                  "Strength Prediction": 0,
                  "Strength Actual": 0.01314353002305325,
                  "_deepnote_index_column": 2
                },
                {
                  "ID": "1060",
                  "Review Text": "pound bought p fabric high qualiti cling instead drape flatter way add cut jumpsuit elong flatter l…",
                  "Rating Actual": 5,
                  "Rating Prediction": 5,
                  "Strength Prediction": 0,
                  "Strength Actual": 0,
                  "_deepnote_index_column": 3
                },
                {
                  "ID": "872",
                  "Review Text": "nice casual inexpens shirt lace necklin greatnot reveal easili worn tie without look prudish cours …",
                  "Rating Actual": 4,
                  "Rating Prediction": 5,
                  "Strength Prediction": 0.04217169554924584,
                  "Strength Actual": 0.03046343859668606,
                  "_deepnote_index_column": 4
                },
                {
                  "ID": "828",
                  "Review Text": "top cute dont usual like crochet top saw order glad complaint one button hook broke fix",
                  "Rating Actual": 5,
                  "Rating Prediction": 5,
                  "Strength Prediction": 0,
                  "Strength Actual": 0,
                  "_deepnote_index_column": 5
                },
                {
                  "ID": "1145",
                  "Review Text": "differ anyth closet wide beauti drape fabric soft substanti cutest coral color line placket insid l…",
                  "Rating Actual": 5,
                  "Rating Prediction": 5,
                  "Strength Prediction": 0,
                  "Strength Actual": 0,
                  "_deepnote_index_column": 6
                },
                {
                  "ID": "1110",
                  "Review Text": "dress look better model mine tight bow blackgrey bow isnt bignot pull much mayb knot photo heavi ca…",
                  "Rating Actual": 5,
                  "Rating Prediction": 4,
                  "Strength Prediction": 0.033499987946646506,
                  "Strength Actual": 0.0115650466138811,
                  "_deepnote_index_column": 7
                },
                {
                  "ID": "1094",
                  "Review Text": "thought id like dress neutral color return quit unflatt skirt made hip look big uneven shape didnt …",
                  "Rating Actual": 3,
                  "Rating Prediction": 3,
                  "Strength Prediction": 0.1055677972366433,
                  "Strength Actual": 0.023460423354115224,
                  "_deepnote_index_column": 8
                },
                {
                  "ID": "881",
                  "Review Text": "cant rate enough star number great fit cant see sleev perfect length right amount fabric drape lb f…",
                  "Rating Actual": 5,
                  "Rating Prediction": 5,
                  "Strength Prediction": 0,
                  "Strength Actual": 0,
                  "_deepnote_index_column": 9
                },
                {
                  "ID": "873",
                  "Review Text": "purchas coral color im usual xs small brand felt top run tad small small fit much better simpl flat…",
                  "Rating Actual": 5,
                  "Rating Prediction": 5,
                  "Strength Prediction": 0.01729783968473161,
                  "Strength Actual": 0.01729783968473161,
                  "_deepnote_index_column": 10
                },
                {
                  "ID": "1095",
                  "Review Text": "beauti fit simpl flatter athlet size fit well strap may taken littl",
                  "Rating Actual": 4,
                  "Rating Prediction": 5,
                  "Strength Prediction": 0.14436121391882237,
                  "Strength Actual": 0.011019642526734345,
                  "_deepnote_index_column": 11
                },
                {
                  "ID": "835",
                  "Review Text": "absolut ador top versatil look equal beauti jean dressier skinni pant bought wear holiday photo got…",
                  "Rating Actual": 5,
                  "Rating Prediction": 5,
                  "Strength Prediction": 0.0029693153091079785,
                  "Strength Actual": 0,
                  "_deepnote_index_column": 12
                },
                {
                  "ID": "867",
                  "Review Text": "top small usual size small tight around top arm hole short also didnt notic said sheer see descript…",
                  "Rating Actual": 2,
                  "Rating Prediction": 5,
                  "Strength Prediction": 0.006047588650968903,
                  "Strength Actual": 0.0007825406166795903,
                  "_deepnote_index_column": 13
                },
                {
                  "ID": "1038",
                  "Review Text": "embroideri actual navi blue black like show photo even better soft feminin look love love love plea…",
                  "Rating Actual": 5,
                  "Rating Prediction": 5,
                  "Strength Prediction": 0,
                  "Strength Actual": 0.005380072303898885,
                  "_deepnote_index_column": 14
                },
                {
                  "ID": "1078",
                  "Review Text": "love dress comfort slim swing ingrati fabric light like detail button sleev overal im pleas happi p…",
                  "Rating Actual": 5,
                  "Rating Prediction": 5,
                  "Strength Prediction": 0.370565911321966,
                  "Strength Actual": 0.16371749913811273,
                  "_deepnote_index_column": 15
                },
                {
                  "ID": "871",
                  "Review Text": "love tank didnt find see run true size super comfi lace detail make fun plain old tank top great ba…",
                  "Rating Actual": 5,
                  "Rating Prediction": 5,
                  "Strength Prediction": 0,
                  "Strength Actual": 0.01314353002305325,
                  "_deepnote_index_column": 16
                },
                {
                  "ID": "945",
                  "Review Text": "notic vest hang local store tri whim felt soft usual wear xs retail cloth tri xss felt true size ob…",
                  "Rating Actual": 5,
                  "Rating Prediction": 5,
                  "Strength Prediction": 0,
                  "Strength Actual": 0,
                  "_deepnote_index_column": 17
                },
                {
                  "ID": "1059",
                  "Review Text": "fit great hang nice extra loop hold belt perfect design",
                  "Rating Actual": 5,
                  "Rating Prediction": 5,
                  "Strength Prediction": 0,
                  "Strength Actual": 0.007846035296258666,
                  "_deepnote_index_column": 18
                },
                {
                  "ID": "984",
                  "Review Text": "beauti fabric soft drape unfortun captain kangaroo pocket aw unless straight shape hip unflatt pock…",
                  "Rating Actual": 1,
                  "Rating Prediction": 2,
                  "Strength Prediction": 0.0024650770609325637,
                  "Strength Actual": 0.0012644289796992809,
                  "_deepnote_index_column": 19
                },
                {
                  "ID": "995",
                  "Review Text": "love traci rees find retail first day wear skirt alreadi receiv number compliment typic materi woul…",
                  "Rating Actual": 4,
                  "Rating Prediction": 5,
                  "Strength Prediction": 0,
                  "Strength Actual": 0,
                  "_deepnote_index_column": 20
                },
                {
                  "ID": "862",
                  "Review Text": "order black red high hope base review receiv ok return",
                  "Rating Actual": 3,
                  "Rating Prediction": 1,
                  "Strength Prediction": 0.009844343605367397,
                  "Strength Actual": 0.010570473718108516,
                  "_deepnote_index_column": 21
                },
                {
                  "ID": "862",
                  "Review Text": "go wrong soft cotton top neither snug loos expect wear layer realli cold selv earli spring fall gre…",
                  "Rating Actual": 5,
                  "Rating Prediction": 5,
                  "Strength Prediction": 0.009844343605367397,
                  "Strength Actual": 0.010570473718108516,
                  "_deepnote_index_column": 22
                },
                {
                  "ID": "877",
                  "Review Text": "ok western scene soft comfort true size dress great shirt recommend get",
                  "Rating Actual": 5,
                  "Rating Prediction": 5,
                  "Strength Prediction": 0,
                  "Strength Actual": 0,
                  "_deepnote_index_column": 23
                },
                {
                  "ID": "829",
                  "Review Text": "feminin love flutter inde fenc order petit size someth bust arm hole complet right given light airi…",
                  "Rating Actual": 4,
                  "Rating Prediction": 5,
                  "Strength Prediction": 0.14364434407988091,
                  "Strength Actual": 0.043666769774275895,
                  "_deepnote_index_column": 24
                },
                {
                  "ID": "867",
                  "Review Text": "right bag top didnt realli match one pictur right top though fabric heavi felt damp way someth feel…",
                  "Rating Actual": 1,
                  "Rating Prediction": 5,
                  "Strength Prediction": 0.006047588650968903,
                  "Strength Actual": 0.0007825406166795903,
                  "_deepnote_index_column": 25
                },
                {
                  "ID": "873",
                  "Review Text": "love top purchas coral color im definit want blue sinc great blous transit fall weight top good sin…",
                  "Rating Actual": 5,
                  "Rating Prediction": 5,
                  "Strength Prediction": 0.01729783968473161,
                  "Strength Actual": 0.01729783968473161,
                  "_deepnote_index_column": 26
                },
                {
                  "ID": "1081",
                  "Review Text": "liter bought dress day ago list longer avail retail site size bc bust thing love dress look realli …",
                  "Rating Actual": 5,
                  "Rating Prediction": 5,
                  "Strength Prediction": 0.4591108946990222,
                  "Strength Actual": 0.10956965683932174,
                  "_deepnote_index_column": 27
                },
                {
                  "ID": "1082",
                  "Review Text": "bought dress white event mani compliment fun danc dress top layer spin loos flowi arm hole rather l…",
                  "Rating Actual": 5,
                  "Rating Prediction": 5,
                  "Strength Prediction": 0.01314353002305325,
                  "Strength Actual": 0,
                  "_deepnote_index_column": 28
                },
                {
                  "ID": "872",
                  "Review Text": "tri top red xs think cute fairli fit opinion sleev pretti snug there stretch fine fabric size xs im…",
                  "Rating Actual": 4,
                  "Rating Prediction": 5,
                  "Strength Prediction": 0.04217169554924584,
                  "Strength Actual": 0.03046343859668606,
                  "_deepnote_index_column": 29
                },
                {
                  "ID": "154",
                  "Review Text": "love loungeathom top color pattern realli pretti soft warm comfi cozi also boxi thick flatter cut",
                  "Rating Actual": 4,
                  "Rating Prediction": 5,
                  "Strength Prediction": 0.01314353002305325,
                  "Strength Actual": 0.0013037808169516698,
                  "_deepnote_index_column": 30
                },
                {
                  "ID": "155",
                  "Review Text": "tight light time super cozi definit cut sewn tight meant worn leg theyr realli sheer around rump iv…",
                  "Rating Actual": 4,
                  "Rating Prediction": 5,
                  "Strength Prediction": 0,
                  "Strength Actual": 0.0014861292394073133,
                  "_deepnote_index_column": 31
                },
                {
                  "ID": "829",
                  "Review Text": "realli love top look great black tahari suit wear work necklin look realli nice neg bit sheer wear …",
                  "Rating Actual": 4,
                  "Rating Prediction": 5,
                  "Strength Prediction": 0.14364434407988091,
                  "Strength Actual": 0.043666769774275895,
                  "_deepnote_index_column": 32
                },
                {
                  "ID": "937",
                  "Review Text": "im lb shorti short torso long arm standard xs huge opportun tri xx petit xs petit xx petit almost p…",
                  "Rating Actual": 5,
                  "Rating Prediction": 5,
                  "Strength Prediction": 0.002969315309107968,
                  "Strength Actual": 0.000490698419549558,
                  "_deepnote_index_column": 33
                },
                {
                  "ID": "863",
                  "Review Text": "im alway look piec would good either layer worn alon look cute model receiv actual flow want straig…",
                  "Rating Actual": 2,
                  "Rating Prediction": 2,
                  "Strength Prediction": 0.011091649662815865,
                  "Strength Actual": 0.006553409411632798,
                  "_deepnote_index_column": 34
                },
                {
                  "ID": "1020",
                  "Review Text": "realli cute realli comfi great color love overs button around great skirt nice shade goe right fall…",
                  "Rating Actual": 5,
                  "Rating Prediction": 5,
                  "Strength Prediction": 0.02598690307291267,
                  "Strength Actual": 0.0010352124456681532,
                  "_deepnote_index_column": 35
                },
                {
                  "ID": "936",
                  "Review Text": "beauti person love detail color usual dont like poncho one shape squar front definit set apart",
                  "Rating Actual": 5,
                  "Rating Prediction": 5,
                  "Strength Prediction": 0,
                  "Strength Actual": 0,
                  "_deepnote_index_column": 36
                },
                {
                  "ID": "831",
                  "Review Text": "cute fit well versatil top think work well sweater blazer fall",
                  "Rating Actual": 5,
                  "Rating Prediction": 5,
                  "Strength Prediction": 0,
                  "Strength Actual": 0,
                  "_deepnote_index_column": 37
                },
                {
                  "ID": "952",
                  "Review Text": "interest design highqual garment fit true size great layer soft knit drapey attach collar adjust lo…",
                  "Rating Actual": 5,
                  "Rating Prediction": 5,
                  "Strength Prediction": 0,
                  "Strength Actual": 0,
                  "_deepnote_index_column": 38
                },
                {
                  "ID": "1094",
                  "Review Text": "order geometr bluer pattern small regular materi soft comfort standout piec unfortun made stomach l…",
                  "Rating Actual": 3,
                  "Rating Prediction": 3,
                  "Strength Prediction": 0.1055677972366433,
                  "Strength Actual": 0.023460423354115224,
                  "_deepnote_index_column": 39
                },
                {
                  "ID": "1020",
                  "Review Text": "tri store run small size curvi hip size size couldnt even button hope alin fit like pencil skirt fl…",
                  "Rating Actual": 3,
                  "Rating Prediction": 4,
                  "Strength Prediction": 0.02598690307291267,
                  "Strength Actual": 0.0010352124456681532,
                  "_deepnote_index_column": 40
                },
                {
                  "ID": "1086",
                  "Review Text": "wow dress far fit voluptu hourglass figur woman inch bust medium fit perfectlyth whole dress fit pe…",
                  "Rating Actual": 5,
                  "Rating Prediction": 5,
                  "Strength Prediction": 0,
                  "Strength Actual": 0.0005996989122785953,
                  "_deepnote_index_column": 41
                },
                {
                  "ID": "1125",
                  "Review Text": "saw jacket sale rack local store size extra small need medium store abl order sinc show back order …",
                  "Rating Actual": 4,
                  "Rating Prediction": 5,
                  "Strength Prediction": 0,
                  "Strength Actual": 0.008872776092889242,
                  "_deepnote_index_column": 42
                },
                {
                  "ID": "876",
                  "Review Text": "bought top sale glad pay full price wash everyth wear dri saw greas spot back small hole one upper …",
                  "Rating Actual": 1,
                  "Rating Prediction": 5,
                  "Strength Prediction": 0,
                  "Strength Actual": 0,
                  "_deepnote_index_column": 43
                },
                {
                  "ID": "974",
                  "Review Text": "saw piec fell love print beauti well place everi piec littl boxi bit warm indoor unusu enough overl…",
                  "Rating Actual": 5,
                  "Rating Prediction": 5,
                  "Strength Prediction": 0,
                  "Strength Actual": 0,
                  "_deepnote_index_column": 44
                },
                {
                  "ID": "1077",
                  "Review Text": "high hope dress realli want work initi order petit small usual size found outrag small small fact c…",
                  "Rating Actual": 3,
                  "Rating Prediction": 4,
                  "Strength Prediction": 0.005535044013598172,
                  "Strength Actual": 0.001032346795161798,
                  "_deepnote_index_column": 45
                },
                {
                  "ID": "834",
                  "Review Text": "love wear blous jean cute sneaker blous frilli flirti three quarter sleev one cute fabric cover but…",
                  "Rating Actual": 5,
                  "Rating Prediction": 5,
                  "Strength Prediction": 0.005380072303898885,
                  "Strength Actual": 0.005380072303898885,
                  "_deepnote_index_column": 46
                },
                {
                  "ID": "868",
                  "Review Text": "realli want love top love mix fabric pattern short tunic length paid attent review im tight bust sh…",
                  "Rating Actual": 3,
                  "Rating Prediction": 3,
                  "Strength Prediction": 0.006047588650968903,
                  "Strength Actual": 0.005535044013598172,
                  "_deepnote_index_column": 47
                },
                {
                  "ID": "835",
                  "Review Text": "truli uniqu top detail around neck nice chang",
                  "Rating Actual": 5,
                  "Rating Prediction": 5,
                  "Strength Prediction": 0.0029693153091079785,
                  "Strength Actual": 0,
                  "_deepnote_index_column": 48
                },
                {
                  "ID": "872",
                  "Review Text": "realli casual tee cute pattern give pop color littl dress go look thought might bit wide pictur nic…",
                  "Rating Actual": 5,
                  "Rating Prediction": 5,
                  "Strength Prediction": 0.04217169554924584,
                  "Strength Actual": 0.03046343859668606,
                  "_deepnote_index_column": 49
                },
                {
                  "ID": "1033",
                  "Review Text": "origin got petit thought fit great right bag im usual within hour wear retail actual knee gotten ba…",
                  "Rating Actual": 2,
                  "Rating Prediction": 5,
                  "Strength Prediction": 0,
                  "Strength Actual": 0.005213302081308472,
                  "_deepnote_index_column": 50
                },
                {
                  "ID": "824",
                  "Review Text": "pretti top lot intric detail love edg stud give look fuddi duddi ivori look nicer black loos detail…",
                  "Rating Actual": 3,
                  "Rating Prediction": 5,
                  "Strength Prediction": 0,
                  "Strength Actual": 0,
                  "_deepnote_index_column": 51
                },
                {
                  "ID": "895",
                  "Review Text": "perfect mild fall weather texa light weight love top littl fit bottom swing",
                  "Rating Actual": 5,
                  "Rating Prediction": 5,
                  "Strength Prediction": 0.006832301192777369,
                  "Strength Actual": 0.04085138882963303,
                  "_deepnote_index_column": 52
                },
                {
                  "ID": "835",
                  "Review Text": "glad abl get shirt realli springsumm item found wide bodi shoulder",
                  "Rating Actual": 5,
                  "Rating Prediction": 3,
                  "Strength Prediction": 0.0029693153091079785,
                  "Strength Actual": 0,
                  "_deepnote_index_column": 53
                },
                {
                  "ID": "975",
                  "Review Text": "love soft slouchi feel drape yet construct jacket dont expect crisp fit im fan menswear look jacket…",
                  "Rating Actual": 5,
                  "Rating Prediction": 5,
                  "Strength Prediction": 0,
                  "Strength Actual": 0,
                  "_deepnote_index_column": 54
                },
                {
                  "ID": "883",
                  "Review Text": "shirt littl roomi flatter design littl see hole across shirt unusu make uniqu",
                  "Rating Actual": 5,
                  "Rating Prediction": 5,
                  "Strength Prediction": 0,
                  "Strength Actual": 0,
                  "_deepnote_index_column": 55
                },
                {
                  "ID": "1008",
                  "Review Text": "im one write review thought would absolut beauti skirt saw instor becam avail onlin knew dont like …",
                  "Rating Actual": 5,
                  "Rating Prediction": 5,
                  "Strength Prediction": 0,
                  "Strength Actual": 0,
                  "_deepnote_index_column": 56
                },
                {
                  "ID": "1084",
                  "Review Text": "want dress much order twice time zipper defectiveit would get stuck midway waistlineso send back is…",
                  "Rating Actual": 1,
                  "Rating Prediction": 3,
                  "Strength Prediction": 0,
                  "Strength Actual": 0,
                  "_deepnote_index_column": 57
                },
                {
                  "ID": "1003",
                  "Review Text": "refer lb hourglass figur usual small fit perfectli problem skirt black charcoal graypurpl sipper re…",
                  "Rating Actual": 2,
                  "Rating Prediction": 5,
                  "Strength Prediction": 0,
                  "Strength Actual": 0,
                  "_deepnote_index_column": 58
                },
                {
                  "ID": "1081",
                  "Review Text": "warn yoke dress sequin underneath im sparkl kinda gal soon saw dress went right back packag go back…",
                  "Rating Actual": 3,
                  "Rating Prediction": 5,
                  "Strength Prediction": 0.4591108946990222,
                  "Strength Actual": 0.10956965683932174,
                  "_deepnote_index_column": 59
                },
                {
                  "ID": "861",
                  "Review Text": "ador basic wear week summer instead fabric develop notic hole first wear brand make softest cutest …",
                  "Rating Actual": 1,
                  "Rating Prediction": 5,
                  "Strength Prediction": 0.07077492127113608,
                  "Strength Actual": 0.00276845672621416,
                  "_deepnote_index_column": 60
                },
                {
                  "ID": "1060",
                  "Review Text": "someth would normal wear beauti fabric made give tri glad fit beauti slim feminin fit enough flow l…",
                  "Rating Actual": 5,
                  "Rating Prediction": 5,
                  "Strength Prediction": 0,
                  "Strength Actual": 0,
                  "_deepnote_index_column": 61
                },
                {
                  "ID": "1077",
                  "Review Text": "much dress wonder fabric nice weight color gorgeou got blue length petit hit right knee unfortun go…",
                  "Rating Actual": 3,
                  "Rating Prediction": 5,
                  "Strength Prediction": 0.005535044013598172,
                  "Strength Actual": 0.001032346795161798,
                  "_deepnote_index_column": 62
                },
                {
                  "ID": "1038",
                  "Review Text": "like jean wore receiv compliment run larg size one size probabl could size two size feel tight firs…",
                  "Rating Actual": 5,
                  "Rating Prediction": 5,
                  "Strength Prediction": 0,
                  "Strength Actual": 0.005380072303898885,
                  "_deepnote_index_column": 63
                },
                {
                  "ID": "1099",
                  "Review Text": "dress perfect wear autumn beyond look great casual flat sneaker still warm outsid stylish cozi deni…",
                  "Rating Actual": 4,
                  "Rating Prediction": 5,
                  "Strength Prediction": 0.009208902111586675,
                  "Strength Actual": 0.006727021192600604,
                  "_deepnote_index_column": 64
                },
                {
                  "ID": "850",
                  "Review Text": "bought shirt wear work im teacher shirt amaz im abl pair work pant dress denim dress cut incred pep…",
                  "Rating Actual": 5,
                  "Rating Prediction": 5,
                  "Strength Prediction": 0.05358599235757521,
                  "Strength Actual": 0.022397961868100516,
                  "_deepnote_index_column": 65
                },
                {
                  "ID": "860",
                  "Review Text": "shirt dark green navi white perfect drape flatter way nice weight show curv right way fit snug emph…",
                  "Rating Actual": 5,
                  "Rating Prediction": 5,
                  "Strength Prediction": 0,
                  "Strength Actual": 0.02598690307291267,
                  "_deepnote_index_column": 66
                },
                {
                  "ID": "1125",
                  "Review Text": "run almost two size small plan wear jacket sleeveless dress skirt trouser like suit materi sturdi r…",
                  "Rating Actual": 4,
                  "Rating Prediction": 5,
                  "Strength Prediction": 0,
                  "Strength Actual": 0.008872776092889242,
                  "_deepnote_index_column": 67
                },
                {
                  "ID": "886",
                  "Review Text": "absolut love shirt necklin extrem flatter shirt natur come away bodi",
                  "Rating Actual": 4,
                  "Rating Prediction": 5,
                  "Strength Prediction": 0,
                  "Strength Actual": 0.0006883891475885573,
                  "_deepnote_index_column": 68
                },
                {
                  "ID": "769",
                  "Review Text": "design grace kid said keeper pretti even boy child somehow feel make tummi look bigger mayb belt je…",
                  "Rating Actual": 4,
                  "Rating Prediction": 5,
                  "Strength Prediction": 0,
                  "Strength Actual": 0,
                  "_deepnote_index_column": 69
                },
                {
                  "ID": "862",
                  "Review Text": "unfortun didnt read fine print order dri clean wasnt total deal breaker fit well c lb xs petit fit …",
                  "Rating Actual": 3,
                  "Rating Prediction": 3,
                  "Strength Prediction": 0.009844343605367397,
                  "Strength Actual": 0.010570473718108516,
                  "_deepnote_index_column": 70
                },
                {
                  "ID": "1110",
                  "Review Text": "usual wear small dress couldnt even zip tight rib cage chest tri go even bottom half got much bigge…",
                  "Rating Actual": 3,
                  "Rating Prediction": 4,
                  "Strength Prediction": 0.033499987946646506,
                  "Strength Actual": 0.0115650466138811,
                  "_deepnote_index_column": 71
                },
                {
                  "ID": "273",
                  "Review Text": "wouldnt unhappi pant cost less cheapli construct one wash theyr guarante shrink materi cheap flimsi…",
                  "Rating Actual": 1,
                  "Rating Prediction": 1,
                  "Strength Prediction": 0,
                  "Strength Actual": 0,
                  "_deepnote_index_column": 72
                },
                {
                  "ID": "1077",
                  "Review Text": "quit odd dress wrap beauti materi howev dress close chest area thought perhap meant kimono go back …",
                  "Rating Actual": 1,
                  "Rating Prediction": 3,
                  "Strength Prediction": 0.005535044013598172,
                  "Strength Actual": 0.001032346795161798,
                  "_deepnote_index_column": 73
                },
                {
                  "ID": "1081",
                  "Review Text": "dress ador perfect casual look summer qualiti nice line though still overpr opinion tie detail some…",
                  "Rating Actual": 4,
                  "Rating Prediction": 5,
                  "Strength Prediction": 0.4591108946990222,
                  "Strength Actual": 0.10956965683932174,
                  "_deepnote_index_column": 74
                },
                {
                  "ID": "836",
                  "Review Text": "ador peplum top color much rich person saw store stalk onlin went sale beauti materi craftsmanship …",
                  "Rating Actual": 5,
                  "Rating Prediction": 5,
                  "Strength Prediction": 0,
                  "Strength Actual": 0.006645549987894044,
                  "_deepnote_index_column": 75
                },
                {
                  "ID": "863",
                  "Review Text": "purchas stripe racer tank wear day juli th perfect back realli special dress",
                  "Rating Actual": 5,
                  "Rating Prediction": 5,
                  "Strength Prediction": 0.011091649662815865,
                  "Strength Actual": 0.006553409411632798,
                  "_deepnote_index_column": 76
                },
                {
                  "ID": "871",
                  "Review Text": "color tank beauti didnt keep similar top like fit true size line shape",
                  "Rating Actual": 4,
                  "Rating Prediction": 5,
                  "Strength Prediction": 0,
                  "Strength Actual": 0.01314353002305325,
                  "_deepnote_index_column": 77
                },
                {
                  "ID": "1033",
                  "Review Text": "give amaz slim effect love dark wash fit waist neg size length pant inch long still love wear heel …",
                  "Rating Actual": 4,
                  "Rating Prediction": 5,
                  "Strength Prediction": 0,
                  "Strength Actual": 0.005213302081308472,
                  "_deepnote_index_column": 78
                },
                {
                  "ID": "829",
                  "Review Text": "nice shirt cant keep order athlet build somewhat wider shoulder given petit usual wear petit pant t…",
                  "Rating Actual": 2,
                  "Rating Prediction": 5,
                  "Strength Prediction": 0.14364434407988091,
                  "Strength Actual": 0.043666769774275895,
                  "_deepnote_index_column": 79
                },
                {
                  "ID": "820",
                  "Review Text": "absolut love top fit great easi dress wore wash accord tag cold water flat dri size small unwear ex…",
                  "Rating Actual": 1,
                  "Rating Prediction": 5,
                  "Strength Prediction": 0,
                  "Strength Actual": 0.00020830440156373742,
                  "_deepnote_index_column": 80
                },
                {
                  "ID": "875",
                  "Review Text": "top realli cute thread underneath shirt scratch torso suggest wear tank underneath protect skin",
                  "Rating Actual": 2,
                  "Rating Prediction": 5,
                  "Strength Prediction": 0.006047588650968903,
                  "Strength Actual": 0.0012924533635499506,
                  "_deepnote_index_column": 81
                },
                {
                  "ID": "1081",
                  "Review Text": "littl dress extrem cute comfort didnt pay enough attent pictur total miss faux wrap skirt add appea…",
                  "Rating Actual": 5,
                  "Rating Prediction": 5,
                  "Strength Prediction": 0.4591108946990222,
                  "Strength Actual": 0.10956965683932174,
                  "_deepnote_index_column": 82
                }
              ],
              "rows_bottom": [
                {
                  "ID": "1051",
                  "Review Text": "love romper medium fit great wasnt long im short thought would hem comfort although im huge fan gau…",
                  "Rating Actual": 5,
                  "Rating Prediction": 5,
                  "Strength Prediction": 0,
                  "Strength Actual": 0,
                  "_deepnote_index_column": 417
                },
                {
                  "ID": "1047",
                  "Review Text": "want love pant larger expect fabric heavi almost like thick sweater",
                  "Rating Actual": 3,
                  "Rating Prediction": 5,
                  "Strength Prediction": 0.001163009313836847,
                  "Strength Actual": 0.00039344261888975567,
                  "_deepnote_index_column": 418
                },
                {
                  "ID": "829",
                  "Review Text": "impec workmanship oversea usual wear petit order regular size glad sinc curv side bare over waistba…",
                  "Rating Actual": 5,
                  "Rating Prediction": 5,
                  "Strength Prediction": 0.14364434407988091,
                  "Strength Actual": 0.043666769774275895,
                  "_deepnote_index_column": 419
                },
                {
                  "ID": "1033",
                  "Review Text": "look care descript made purchas jean unfortun stretchi dont like look cotton lycralov rigid denim n…",
                  "Rating Actual": 3,
                  "Rating Prediction": 5,
                  "Strength Prediction": 0,
                  "Strength Actual": 0.005213302081308472,
                  "_deepnote_index_column": 420
                },
                {
                  "ID": "1033",
                  "Review Text": "saw local retail store almost didnt tri glad made leg look long lean run littl big decid go size th…",
                  "Rating Actual": 5,
                  "Rating Prediction": 5,
                  "Strength Prediction": 0,
                  "Strength Actual": 0.005213302081308472,
                  "_deepnote_index_column": 421
                },
                {
                  "ID": "1078",
                  "Review Text": "dress comfort versatil one could wear offic social event day night didnt find size run larg review …",
                  "Rating Actual": 4,
                  "Rating Prediction": 5,
                  "Strength Prediction": 0.370565911321966,
                  "Strength Actual": 0.16371749913811273,
                  "_deepnote_index_column": 422
                },
                {
                  "ID": "1081",
                  "Review Text": "love dress fabric feel amaz super flatter broad shoulder chest went small petit origin purchas regu…",
                  "Rating Actual": 5,
                  "Rating Prediction": 5,
                  "Strength Prediction": 0.4591108946990222,
                  "Strength Actual": 0.10956965683932174,
                  "_deepnote_index_column": 423
                },
                {
                  "ID": "1078",
                  "Review Text": "purchas burnt orang color nice lightweight hot humid summer bit pizazz lace front slip nice made st…",
                  "Rating Actual": 5,
                  "Rating Prediction": 5,
                  "Strength Prediction": 0.370565911321966,
                  "Strength Actual": 0.16371749913811273,
                  "_deepnote_index_column": 424
                },
                {
                  "ID": "829",
                  "Review Text": "anoth review mention maev realli need get size control consist order fit think would comfort arm sh…",
                  "Rating Actual": 3,
                  "Rating Prediction": 5,
                  "Strength Prediction": 0.14364434407988091,
                  "Strength Actual": 0.043666769774275895,
                  "_deepnote_index_column": 425
                },
                {
                  "ID": "907",
                  "Review Text": "excit top look exactli pictur materi soft albeit slightli see wear nude bra fine love ruffl detail …",
                  "Rating Actual": 5,
                  "Rating Prediction": 5,
                  "Strength Prediction": 0,
                  "Strength Actual": 0,
                  "_deepnote_index_column": 426
                },
                {
                  "ID": "861",
                  "Review Text": "perfect stripe tshirt cute littl button front wonder accent one differ love",
                  "Rating Actual": 5,
                  "Rating Prediction": 5,
                  "Strength Prediction": 0.07077492127113608,
                  "Strength Actual": 0.00276845672621416,
                  "_deepnote_index_column": 427
                },
                {
                  "ID": "872",
                  "Review Text": "versatil top feel like could dress fit nice materi soft",
                  "Rating Actual": 5,
                  "Rating Prediction": 5,
                  "Strength Prediction": 0.04217169554924584,
                  "Strength Actual": 0.03046343859668606,
                  "_deepnote_index_column": 428
                },
                {
                  "ID": "844",
                  "Review Text": "saw blous sever month earlier anxious wait go sale definit worth wait qualiti design superb true si…",
                  "Rating Actual": 5,
                  "Rating Prediction": 5,
                  "Strength Prediction": 0.001163009313836847,
                  "Strength Actual": 0.0013211492461426737,
                  "_deepnote_index_column": 429
                },
                {
                  "ID": "863",
                  "Review Text": "love tee soft bore origin took bag teenag daughter like tri wow longer length back make interest lo…",
                  "Rating Actual": 5,
                  "Rating Prediction": 5,
                  "Strength Prediction": 0.011091649662815865,
                  "Strength Actual": 0.006553409411632798,
                  "_deepnote_index_column": 430
                },
                {
                  "ID": "999",
                  "Review Text": "love skirt love pleat sheer bottom im happi found onlin love anyth maev count qualiti simpl eleg",
                  "Rating Actual": 5,
                  "Rating Prediction": 5,
                  "Strength Prediction": 0,
                  "Strength Actual": 0,
                  "_deepnote_index_column": 431
                },
                {
                  "ID": "863",
                  "Review Text": "bought top differ color blue one one sleev notic shorter sent back less day later sale style darl g…",
                  "Rating Actual": 3,
                  "Rating Prediction": 5,
                  "Strength Prediction": 0.011091649662815865,
                  "Strength Actual": 0.006553409411632798,
                  "_deepnote_index_column": 432
                },
                {
                  "ID": "1078",
                  "Review Text": "ive pass dress number time onlin order whim mother day promo base review order regular size medium …",
                  "Rating Actual": 5,
                  "Rating Prediction": 5,
                  "Strength Prediction": 0.370565911321966,
                  "Strength Actual": 0.16371749913811273,
                  "_deepnote_index_column": 433
                },
                {
                  "ID": "873",
                  "Review Text": "perfect casual pair jn short spring",
                  "Rating Actual": 5,
                  "Rating Prediction": 5,
                  "Strength Prediction": 0.01729783968473161,
                  "Strength Actual": 0.01729783968473161,
                  "_deepnote_index_column": 434
                },
                {
                  "ID": "1099",
                  "Review Text": "beauti dress return way big long medium size wear think would need extra small",
                  "Rating Actual": 2,
                  "Rating Prediction": 3,
                  "Strength Prediction": 0.009208902111586675,
                  "Strength Actual": 0.006727021192600604,
                  "_deepnote_index_column": 435
                },
                {
                  "ID": "1078",
                  "Review Text": "fun color drew sure fit weird top fine becam bit tentlik waist materi doesnt feel great either",
                  "Rating Actual": 2,
                  "Rating Prediction": 5,
                  "Strength Prediction": 0.370565911321966,
                  "Strength Actual": 0.16371749913811273,
                  "_deepnote_index_column": 436
                },
                {
                  "ID": "862",
                  "Review Text": "excit find shirt sale local retail store notic high percentag rayon fabric caus shirt shrink signif…",
                  "Rating Actual": 1,
                  "Rating Prediction": 1,
                  "Strength Prediction": 0.009844343605367397,
                  "Strength Actual": 0.010570473718108516,
                  "_deepnote_index_column": 437
                },
                {
                  "ID": "1046",
                  "Review Text": "tri store thought color textur style nice need petit length came onlin disappoint see style sold pe…",
                  "Rating Actual": 5,
                  "Rating Prediction": 5,
                  "Strength Prediction": 0,
                  "Strength Actual": 0,
                  "_deepnote_index_column": 438
                },
                {
                  "ID": "877",
                  "Review Text": "duster nice light weight dark navi throw add littl someth outfit without ad bulk warmth look nice d…",
                  "Rating Actual": 5,
                  "Rating Prediction": 5,
                  "Strength Prediction": 0,
                  "Strength Actual": 0,
                  "_deepnote_index_column": 439
                },
                {
                  "ID": "1020",
                  "Review Text": "wow love skirt total agre reviewersthi item run full size small normal true six bottom bit tight co…",
                  "Rating Actual": 5,
                  "Rating Prediction": 5,
                  "Strength Prediction": 0.02598690307291267,
                  "Strength Actual": 0.0010352124456681532,
                  "_deepnote_index_column": 440
                },
                {
                  "ID": "1078",
                  "Review Text": "perfectli nice dress embroideri less eleg expect sure look close necklin materi thick somewhat info…",
                  "Rating Actual": 4,
                  "Rating Prediction": 5,
                  "Strength Prediction": 0.370565911321966,
                  "Strength Actual": 0.16371749913811273,
                  "_deepnote_index_column": 441
                },
                {
                  "ID": "820",
                  "Review Text": "love maev design gener find size qualiti consist top soft bit billowi darker pattern black motif co…",
                  "Rating Actual": 5,
                  "Rating Prediction": 5,
                  "Strength Prediction": 0,
                  "Strength Actual": 0.00020830440156373742,
                  "_deepnote_index_column": 442
                },
                {
                  "ID": "1081",
                  "Review Text": "print fit dress perfect flatter slim",
                  "Rating Actual": 5,
                  "Rating Prediction": 5,
                  "Strength Prediction": 0.4591108946990222,
                  "Strength Actual": 0.10956965683932174,
                  "_deepnote_index_column": 443
                },
                {
                  "ID": "831",
                  "Review Text": "order top navi white irregular dot sinc avail smaller size store took chanc order xs size fit perfe…",
                  "Rating Actual": 5,
                  "Rating Prediction": 5,
                  "Strength Prediction": 0,
                  "Strength Actual": 0,
                  "_deepnote_index_column": 444
                },
                {
                  "ID": "1059",
                  "Review Text": "purchas pant red sale pound fit perfectli either pant depend upon brand realli hard find pant cute …",
                  "Rating Actual": 5,
                  "Rating Prediction": 5,
                  "Strength Prediction": 0,
                  "Strength Actual": 0.007846035296258666,
                  "_deepnote_index_column": 445
                },
                {
                  "ID": "1033",
                  "Review Text": "great fall stapl silver color perfect greyol textur perfect doesnt feel like extra materi like cord…",
                  "Rating Actual": 5,
                  "Rating Prediction": 5,
                  "Strength Prediction": 0,
                  "Strength Actual": 0.005213302081308472,
                  "_deepnote_index_column": 446
                },
                {
                  "ID": "144",
                  "Review Text": "perfect tightsfit feel top qualiti wash well",
                  "Rating Actual": 5,
                  "Rating Prediction": 5,
                  "Strength Prediction": 0,
                  "Strength Actual": 0,
                  "_deepnote_index_column": 447
                },
                {
                  "ID": "866",
                  "Review Text": "love tee materi thick thick highli flatter love sleev longer short sleev cover bingo wing shimmer f…",
                  "Rating Actual": 5,
                  "Rating Prediction": 5,
                  "Strength Prediction": 0,
                  "Strength Actual": 0,
                  "_deepnote_index_column": 448
                },
                {
                  "ID": "850",
                  "Review Text": "first fabric beauti love spring summer realli want like top fit awkward typic xs size shirt size ti…",
                  "Rating Actual": 2,
                  "Rating Prediction": 3,
                  "Strength Prediction": 0.05358599235757521,
                  "Strength Actual": 0.022397961868100516,
                  "_deepnote_index_column": 449
                },
                {
                  "ID": "863",
                  "Review Text": "perfect weight summer wear fall gentli tummi without long ruffl edg quirki uneven length make inter…",
                  "Rating Actual": 5,
                  "Rating Prediction": 5,
                  "Strength Prediction": 0.011091649662815865,
                  "Strength Actual": 0.006553409411632798,
                  "_deepnote_index_column": 450
                },
                {
                  "ID": "1131",
                  "Review Text": "love pattern jacket enjoy bell shape fun jacket add quick style skinni pant",
                  "Rating Actual": 3,
                  "Rating Prediction": 5,
                  "Strength Prediction": 0,
                  "Strength Actual": 0,
                  "_deepnote_index_column": 451
                },
                {
                  "ID": "872",
                  "Review Text": "thought id add review lot landscapeprint tee still avail local durham nc store week xma anyway litt…",
                  "Rating Actual": 4,
                  "Rating Prediction": 5,
                  "Strength Prediction": 0.04217169554924584,
                  "Strength Actual": 0.03046343859668606,
                  "_deepnote_index_column": 452
                },
                {
                  "ID": "895",
                  "Review Text": "love dont time sheer sheer probabl get away nude bra sure tri color love love shimmer order btoh xx…",
                  "Rating Actual": 4,
                  "Rating Prediction": 5,
                  "Strength Prediction": 0.006832301192777369,
                  "Strength Actual": 0.04085138882963303,
                  "_deepnote_index_column": 453
                },
                {
                  "ID": "881",
                  "Review Text": "normal size retail top big armpit necklin dont usual go peplum drawn top bc soft tri everyth fit pe…",
                  "Rating Actual": 5,
                  "Rating Prediction": 5,
                  "Strength Prediction": 0,
                  "Strength Actual": 0,
                  "_deepnote_index_column": 454
                },
                {
                  "ID": "886",
                  "Review Text": "beauti top love color shoulder total mess sure hang store way sewn",
                  "Rating Actual": 2,
                  "Rating Prediction": 5,
                  "Strength Prediction": 0,
                  "Strength Actual": 0.0006883891475885573,
                  "_deepnote_index_column": 455
                },
                {
                  "ID": "850",
                  "Review Text": "top cute could worn work casual tall love long shirt definit recommend",
                  "Rating Actual": 5,
                  "Rating Prediction": 5,
                  "Strength Prediction": 0.05358599235757521,
                  "Strength Actual": 0.022397961868100516,
                  "_deepnote_index_column": 456
                },
                {
                  "ID": "937",
                  "Review Text": "cardigan cute pictur realli want love didnt seem worth price materi kind itchi wasnt huge fan wide …",
                  "Rating Actual": 3,
                  "Rating Prediction": 3,
                  "Strength Prediction": 0.002969315309107968,
                  "Strength Actual": 0.000490698419549558,
                  "_deepnote_index_column": 457
                },
                {
                  "ID": "107",
                  "Review Text": "phenomen wardrob peic qualiti comfort versatil dress belt boot shoe im ish lb small fit chest beaut…",
                  "Rating Actual": 4,
                  "Rating Prediction": 5,
                  "Strength Prediction": 0,
                  "Strength Actual": 0,
                  "_deepnote_index_column": 458
                },
                {
                  "ID": "1030",
                  "Review Text": "love jean especi pair perfect fit hug right place perfect length worn x alreadi get better everi ti…",
                  "Rating Actual": 5,
                  "Rating Prediction": 5,
                  "Strength Prediction": 0,
                  "Strength Actual": 0.00009998313203080612,
                  "_deepnote_index_column": 459
                },
                {
                  "ID": "1077",
                  "Review Text": "uniqu fun dress im glad found fit perfectli",
                  "Rating Actual": 5,
                  "Rating Prediction": 5,
                  "Strength Prediction": 0.005535044013598172,
                  "Strength Actual": 0.001032346795161798,
                  "_deepnote_index_column": 460
                },
                {
                  "ID": "868",
                  "Review Text": "modern version peplum top flatter dont mind flowi cut materi nice heavi love black pebbl effect lb …",
                  "Rating Actual": 4,
                  "Rating Prediction": 5,
                  "Strength Prediction": 0.006047588650968903,
                  "Strength Actual": 0.005535044013598172,
                  "_deepnote_index_column": 461
                },
                {
                  "ID": "634",
                  "Review Text": "sale price great price cute coverup polit compani dress want show cute underwearbikinicrossfit bod …",
                  "Rating Actual": 5,
                  "Rating Prediction": 5,
                  "Strength Prediction": 0,
                  "Strength Actual": 0.005380072303898885,
                  "_deepnote_index_column": 462
                },
                {
                  "ID": "1094",
                  "Review Text": "dont usual pay fullpric retail cloth coupon decid give dress tri irradi happi vibe remind book dres…",
                  "Rating Actual": 5,
                  "Rating Prediction": 5,
                  "Strength Prediction": 0.1055677972366433,
                  "Strength Actual": 0.023460423354115224,
                  "_deepnote_index_column": 463
                },
                {
                  "ID": "867",
                  "Review Text": "love dive beauti version charm without cutsi stay away epitom summer grab go easi littl statement f…",
                  "Rating Actual": 5,
                  "Rating Prediction": 5,
                  "Strength Prediction": 0.006047588650968903,
                  "Strength Actual": 0.0007825406166795903,
                  "_deepnote_index_column": 464
                },
                {
                  "ID": "1054",
                  "Review Text": "flow feel materi realli nice howev think run larg order small exchang xs hope fit bit better want p…",
                  "Rating Actual": 4,
                  "Rating Prediction": 4,
                  "Strength Prediction": 0.0014861292394073133,
                  "Strength Actual": 0.000899368558009347,
                  "_deepnote_index_column": 465
                },
                {
                  "ID": "857",
                  "Review Text": "four kid post babi bump want live forev im huge fan flowi topsthi one look cute onlin wasnt sold pa…",
                  "Rating Actual": 5,
                  "Rating Prediction": 5,
                  "Strength Prediction": 0,
                  "Strength Actual": 0.005380072303898885,
                  "_deepnote_index_column": 466
                },
                {
                  "ID": "1094",
                  "Review Text": "love nautic vibe perfect summer wear knit top cap sleev easi wear clingi limp bump asymmetr skirt f…",
                  "Rating Actual": 4,
                  "Rating Prediction": 5,
                  "Strength Prediction": 0.1055677972366433,
                  "Strength Actual": 0.023460423354115224,
                  "_deepnote_index_column": 467
                },
                {
                  "ID": "282",
                  "Review Text": "short ageappropri theyr loos fit cal roll left end knee fabric soft color fun",
                  "Rating Actual": 5,
                  "Rating Prediction": 5,
                  "Strength Prediction": 0,
                  "Strength Actual": 0.006047588650968903,
                  "_deepnote_index_column": 468
                },
                {
                  "ID": "829",
                  "Review Text": "normal avoid white top usual dont popbut saw style tri came buy anoth top catalog wow walk instead",
                  "Rating Actual": 5,
                  "Rating Prediction": 5,
                  "Strength Prediction": 0.14364434407988091,
                  "Strength Actual": 0.043666769774275895,
                  "_deepnote_index_column": 469
                },
                {
                  "ID": "836",
                  "Review Text": "blue motif gorgeou indigo interest pattern short tunic drape nice flatter happi purchas plan buy nd…",
                  "Rating Actual": 5,
                  "Rating Prediction": 5,
                  "Strength Prediction": 0,
                  "Strength Actual": 0.006645549987894044,
                  "_deepnote_index_column": 470
                },
                {
                  "ID": "381",
                  "Review Text": "love materi style unfortun fear came true receiv swimsuit wasnt enough support despit review read t…",
                  "Rating Actual": 2,
                  "Rating Prediction": 4,
                  "Strength Prediction": 0.005380072303898885,
                  "Strength Actual": 0.00044064186261642233,
                  "_deepnote_index_column": 471
                },
                {
                  "ID": "1078",
                  "Review Text": "want like dress work bustier frame fabric quit loos nip waist particularli clingi wellendow asset c…",
                  "Rating Actual": 2,
                  "Rating Prediction": 3,
                  "Strength Prediction": 0.370565911321966,
                  "Strength Actual": 0.16371749913811273,
                  "_deepnote_index_column": 472
                },
                {
                  "ID": "1081",
                  "Review Text": "seen onlin time caught eye color never realli bother check detail due stock photo look quit bland d…",
                  "Rating Actual": 5,
                  "Rating Prediction": 5,
                  "Strength Prediction": 0.4591108946990222,
                  "Strength Actual": 0.10956965683932174,
                  "_deepnote_index_column": 473
                },
                {
                  "ID": "1110",
                  "Review Text": "expect fit im womanli gener wear size thing pictur gorgeou tri im happi slip right flowi yet overli…",
                  "Rating Actual": 5,
                  "Rating Prediction": 5,
                  "Strength Prediction": 0.033499987946646506,
                  "Strength Actual": 0.0115650466138811,
                  "_deepnote_index_column": 474
                },
                {
                  "ID": "1095",
                  "Review Text": "classic beauti style structur materi alway fall right look beauti take occas heel flat offic dinner…",
                  "Rating Actual": 4,
                  "Rating Prediction": 5,
                  "Strength Prediction": 0.14436121391882237,
                  "Strength Actual": 0.011019642526734345,
                  "_deepnote_index_column": 475
                },
                {
                  "ID": "1056",
                  "Review Text": "size higher size choic snug athlet build top fit thigh tight caus belli area pouf good thin gal als…",
                  "Rating Actual": 4,
                  "Rating Prediction": 3,
                  "Strength Prediction": 0.001163009313836847,
                  "Strength Actual": 0.005380072303898885,
                  "_deepnote_index_column": 476
                },
                {
                  "ID": "1099",
                  "Review Text": "cute cool dress hot summer day roomi pocket",
                  "Rating Actual": 5,
                  "Rating Prediction": 5,
                  "Strength Prediction": 0.009208902111586675,
                  "Strength Actual": 0.006727021192600604,
                  "_deepnote_index_column": 477
                },
                {
                  "ID": "864",
                  "Review Text": "found today one rack absolut fell love bought normal size medium fit perfectli custom ask could fin…",
                  "Rating Actual": 5,
                  "Rating Prediction": 5,
                  "Strength Prediction": 0,
                  "Strength Actual": 0,
                  "_deepnote_index_column": 478
                },
                {
                  "ID": "1054",
                  "Review Text": "think amaz anyon say way hung unflatt front unfortun masculin effect that say without crass",
                  "Rating Actual": 3,
                  "Rating Prediction": 5,
                  "Strength Prediction": 0.0014861292394073133,
                  "Strength Actual": 0.000899368558009347,
                  "_deepnote_index_column": 479
                },
                {
                  "ID": "1126",
                  "Review Text": "tri jacket definit cute coupl thing note wool acryl blend alreadi start pill tri store also unlin t…",
                  "Rating Actual": 3,
                  "Rating Prediction": 4,
                  "Strength Prediction": 0.005380072303898885,
                  "Strength Actual": 0.001163009313836847,
                  "_deepnote_index_column": 480
                },
                {
                  "ID": "841",
                  "Review Text": "order top solid navi qualiti seem good overal impress favor like top stay shoulder even move mani o…",
                  "Rating Actual": 4,
                  "Rating Prediction": 5,
                  "Strength Prediction": 0,
                  "Strength Actual": 0,
                  "_deepnote_index_column": 481
                },
                {
                  "ID": "573",
                  "Review Text": "first complaint dress pin back obvious video model turn around way see pin back clue dress isnt mea…",
                  "Rating Actual": 3,
                  "Rating Prediction": 4,
                  "Strength Prediction": 0,
                  "Strength Actual": 0,
                  "_deepnote_index_column": 482
                },
                {
                  "ID": "1081",
                  "Review Text": "like fabric smooth feel nice skin like handkerchief hemlin tooi didnt realiz much would like neckli…",
                  "Rating Actual": 3,
                  "Rating Prediction": 4,
                  "Strength Prediction": 0.4591108946990222,
                  "Strength Actual": 0.10956965683932174,
                  "_deepnote_index_column": 483
                },
                {
                  "ID": "1094",
                  "Review Text": "dress love embroideri beauti done bright color materi sturdi fit overal true size slightli small bu…",
                  "Rating Actual": 5,
                  "Rating Prediction": 5,
                  "Strength Prediction": 0.1055677972366433,
                  "Strength Actual": 0.023460423354115224,
                  "_deepnote_index_column": 484
                },
                {
                  "ID": "823",
                  "Review Text": "top much prettier dress run tad larg im lb usual small medium usual medium went small love fit stil…",
                  "Rating Actual": 4,
                  "Rating Prediction": 4,
                  "Strength Prediction": 0.004641235377711776,
                  "Strength Actual": 0.004641235377711776,
                  "_deepnote_index_column": 485
                },
                {
                  "ID": "1078",
                  "Review Text": "usual dress disappoint look great boot perfect day date dress",
                  "Rating Actual": 5,
                  "Rating Prediction": 5,
                  "Strength Prediction": 0.370565911321966,
                  "Strength Actual": 0.16371749913811273,
                  "_deepnote_index_column": 486
                },
                {
                  "ID": "850",
                  "Review Text": "love blous color littl sunglass vibrant black background button front also coralpeach color beauti …",
                  "Rating Actual": 5,
                  "Rating Prediction": 5,
                  "Strength Prediction": 0.05358599235757521,
                  "Strength Actual": 0.022397961868100516,
                  "_deepnote_index_column": 487
                },
                {
                  "ID": "831",
                  "Review Text": "love top beauti",
                  "Rating Actual": 5,
                  "Rating Prediction": 5,
                  "Strength Prediction": 0,
                  "Strength Actual": 0,
                  "_deepnote_index_column": 488
                },
                {
                  "ID": "942",
                  "Review Text": "look long vest go skinni jean exactli look color better pic style flatter size right cant wait wear…",
                  "Rating Actual": 5,
                  "Rating Prediction": 5,
                  "Strength Prediction": 0,
                  "Strength Actual": 0,
                  "_deepnote_index_column": 489
                },
                {
                  "ID": "1078",
                  "Review Text": "usual wear retail dress surpris xs fit better pretti realli perfect color fall like tight constrict…",
                  "Rating Actual": 4,
                  "Rating Prediction": 5,
                  "Strength Prediction": 0.370565911321966,
                  "Strength Actual": 0.16371749913811273,
                  "_deepnote_index_column": 490
                },
                {
                  "ID": "825",
                  "Review Text": "love top design qualiti look insan gorgeou got top top promo help much cost tri use store credit so…",
                  "Rating Actual": 5,
                  "Rating Prediction": 5,
                  "Strength Prediction": 0,
                  "Strength Actual": 0,
                  "_deepnote_index_column": 491
                },
                {
                  "ID": "829",
                  "Review Text": "knew would keep soon put comfort beauti fabric cute gold button well due cut feel roomi slender fit…",
                  "Rating Actual": 5,
                  "Rating Prediction": 5,
                  "Strength Prediction": 0.14364434407988091,
                  "Strength Actual": 0.043666769774275895,
                  "_deepnote_index_column": 492
                },
                {
                  "ID": "1078",
                  "Review Text": "love sweater dress get compliment everi time wear bought navi size xs pattern color fun youth altho…",
                  "Rating Actual": 5,
                  "Rating Prediction": 5,
                  "Strength Prediction": 0.370565911321966,
                  "Strength Actual": 0.16371749913811273,
                  "_deepnote_index_column": 493
                },
                {
                  "ID": "1078",
                  "Review Text": "order neutral motif size larg great littl dress comfort cute modest enough im worri bust hang much …",
                  "Rating Actual": 5,
                  "Rating Prediction": 5,
                  "Strength Prediction": 0.370565911321966,
                  "Strength Actual": 0.16371749913811273,
                  "_deepnote_index_column": 494
                },
                {
                  "ID": "829",
                  "Review Text": "shirt perfect goto classic white button twist fit flatter would say run littl larg lb broad shoulde…",
                  "Rating Actual": 5,
                  "Rating Prediction": 5,
                  "Strength Prediction": 0.14364434407988091,
                  "Strength Actual": 0.043666769774275895,
                  "_deepnote_index_column": 495
                },
                {
                  "ID": "877",
                  "Review Text": "featur pictur im feet lb order xs petit im pretti busti dont like loos fit top order size trick sup…",
                  "Rating Actual": 5,
                  "Rating Prediction": 5,
                  "Strength Prediction": 0,
                  "Strength Actual": 0,
                  "_deepnote_index_column": 496
                },
                {
                  "ID": "1081",
                  "Review Text": "love dress fabric super soft flowi awar model tall gal im usual size dress purchas larg return larg…",
                  "Rating Actual": 4,
                  "Rating Prediction": 5,
                  "Strength Prediction": 0.4591108946990222,
                  "Strength Actual": 0.10956965683932174,
                  "_deepnote_index_column": 497
                },
                {
                  "ID": "1094",
                  "Review Text": "excit order dress perfect red shoe go unfortun could nine month pregnant still wear small lb like m…",
                  "Rating Actual": 2,
                  "Rating Prediction": 5,
                  "Strength Prediction": 0.1055677972366433,
                  "Strength Actual": 0.023460423354115224,
                  "_deepnote_index_column": 498
                },
                {
                  "ID": "1038",
                  "Review Text": "jean uniqu thank embroid would perfer color embroid though boyfriend cut slouchi bit loos even arou…",
                  "Rating Actual": 4,
                  "Rating Prediction": 5,
                  "Strength Prediction": 0,
                  "Strength Actual": 0.005380072303898885,
                  "_deepnote_index_column": 499
                }
              ]
            },
            "text/plain": "       ID                                        Review Text  Rating Actual  \\\n0     877  bought store yesterday light fit extrem comfor...              5   \n1    1080  color dress beauti realli want love wasnt cut ...              3   \n2     964  order littl jacket knew would like upon arriv ...              5   \n3    1060  pound bought p fabric high qualiti cling inste...              5   \n4     872  nice casual inexpens shirt lace necklin greatn...              4   \n..    ...                                                ...            ...   \n495   829  shirt perfect goto classic white button twist ...              5   \n496   877  featur pictur im feet lb order xs petit im pre...              5   \n497  1081  love dress fabric super soft flowi awar model ...              4   \n498  1094  excit order dress perfect red shoe go unfortun...              2   \n499  1038  jean uniqu thank embroid would perfer color em...              4   \n\n     Rating Prediction  Strength Prediction  Strength Actual  \n0                    5             0.000000         0.000000  \n1                    3             0.014121         0.005380  \n2                    5             0.000000         0.013144  \n3                    5             0.000000         0.000000  \n4                    5             0.042172         0.030463  \n..                 ...                  ...              ...  \n495                  5             0.143644         0.043667  \n496                  5             0.000000         0.000000  \n497                  5             0.459111         0.109570  \n498                  5             0.105568         0.023460  \n499                  5             0.000000         0.005380  \n\n[500 rows x 6 columns]",
            "text/html": "<div>\n<style scoped>\n    .dataframe tbody tr th:only-of-type {\n        vertical-align: middle;\n    }\n\n    .dataframe tbody tr th {\n        vertical-align: top;\n    }\n\n    .dataframe thead th {\n        text-align: right;\n    }\n</style>\n<table border=\"1\" class=\"dataframe\">\n  <thead>\n    <tr style=\"text-align: right;\">\n      <th></th>\n      <th>ID</th>\n      <th>Review Text</th>\n      <th>Rating Actual</th>\n      <th>Rating Prediction</th>\n      <th>Strength Prediction</th>\n      <th>Strength Actual</th>\n    </tr>\n  </thead>\n  <tbody>\n    <tr>\n      <th>0</th>\n      <td>877</td>\n      <td>bought store yesterday light fit extrem comfor...</td>\n      <td>5</td>\n      <td>5</td>\n      <td>0.000000</td>\n      <td>0.000000</td>\n    </tr>\n    <tr>\n      <th>1</th>\n      <td>1080</td>\n      <td>color dress beauti realli want love wasnt cut ...</td>\n      <td>3</td>\n      <td>3</td>\n      <td>0.014121</td>\n      <td>0.005380</td>\n    </tr>\n    <tr>\n      <th>2</th>\n      <td>964</td>\n      <td>order littl jacket knew would like upon arriv ...</td>\n      <td>5</td>\n      <td>5</td>\n      <td>0.000000</td>\n      <td>0.013144</td>\n    </tr>\n    <tr>\n      <th>3</th>\n      <td>1060</td>\n      <td>pound bought p fabric high qualiti cling inste...</td>\n      <td>5</td>\n      <td>5</td>\n      <td>0.000000</td>\n      <td>0.000000</td>\n    </tr>\n    <tr>\n      <th>4</th>\n      <td>872</td>\n      <td>nice casual inexpens shirt lace necklin greatn...</td>\n      <td>4</td>\n      <td>5</td>\n      <td>0.042172</td>\n      <td>0.030463</td>\n    </tr>\n    <tr>\n      <th>...</th>\n      <td>...</td>\n      <td>...</td>\n      <td>...</td>\n      <td>...</td>\n      <td>...</td>\n      <td>...</td>\n    </tr>\n    <tr>\n      <th>495</th>\n      <td>829</td>\n      <td>shirt perfect goto classic white button twist ...</td>\n      <td>5</td>\n      <td>5</td>\n      <td>0.143644</td>\n      <td>0.043667</td>\n    </tr>\n    <tr>\n      <th>496</th>\n      <td>877</td>\n      <td>featur pictur im feet lb order xs petit im pre...</td>\n      <td>5</td>\n      <td>5</td>\n      <td>0.000000</td>\n      <td>0.000000</td>\n    </tr>\n    <tr>\n      <th>497</th>\n      <td>1081</td>\n      <td>love dress fabric super soft flowi awar model ...</td>\n      <td>4</td>\n      <td>5</td>\n      <td>0.459111</td>\n      <td>0.109570</td>\n    </tr>\n    <tr>\n      <th>498</th>\n      <td>1094</td>\n      <td>excit order dress perfect red shoe go unfortun...</td>\n      <td>2</td>\n      <td>5</td>\n      <td>0.105568</td>\n      <td>0.023460</td>\n    </tr>\n    <tr>\n      <th>499</th>\n      <td>1038</td>\n      <td>jean uniqu thank embroid would perfer color em...</td>\n      <td>4</td>\n      <td>5</td>\n      <td>0.000000</td>\n      <td>0.005380</td>\n    </tr>\n  </tbody>\n</table>\n<p>500 rows × 6 columns</p>\n</div>"
          },
          "metadata": {}
        }
      ]
    },
    {
      "cell_type": "code",
      "metadata": {
        "tags": [],
        "deepnote_to_be_reexecuted": false,
        "source_hash": "361e666f",
        "execution_start": 1623583551031,
        "execution_millis": 5,
        "cell_id": "00069-7e179665-5050-44c5-86a7-55c841771293",
        "deepnote_cell_type": "code",
        "id": "VG6qQv-zkX00"
      },
      "source": [
        "def result(number):\n",
        "    if number > cutoff:\n",
        "        return \"Trending\"\n",
        "    else:\n",
        "        return \"Not Trending\""
      ],
      "execution_count": null,
      "outputs": []
    },
    {
      "cell_type": "code",
      "metadata": {
        "tags": [],
        "deepnote_to_be_reexecuted": false,
        "source_hash": "ca58d2bc",
        "execution_start": 1623583551043,
        "execution_millis": 3,
        "cell_id": "00070-044dc55a-ad04-4bf0-9e4e-a429110f3bcb",
        "deepnote_cell_type": "code",
        "id": "c_AFNpSqkX00"
      },
      "source": [
        "cutoff = 0.00037 # If above the cutoff --> trending, If not above the cutoff --> not trending\n",
        "dt['Success Prediction'] = dt['Strength Prediction'].apply(lambda x: result(x))\n",
        "dt['Success Actual'] = dt['Strength Actual'].apply(lambda x: result(x))"
      ],
      "execution_count": null,
      "outputs": []
    },
    {
      "cell_type": "code",
      "metadata": {
        "tags": [],
        "deepnote_to_be_reexecuted": false,
        "source_hash": "840e658f",
        "execution_start": 1623583551049,
        "execution_millis": 75,
        "cell_id": "00072-5b5730bb-04bf-433a-b456-fd5fd67efd22",
        "deepnote_cell_type": "code",
        "id": "27BsgsBEkX00",
        "outputId": "6d8c1f4b-21a1-4534-f41a-9e32f15bb972"
      },
      "source": [
        "dt"
      ],
      "execution_count": null,
      "outputs": [
        {
          "output_type": "execute_result",
          "execution_count": 53,
          "data": {
            "application/vnd.deepnote.dataframe.v2+json": {
              "row_count": 500,
              "column_count": 8,
              "columns": [
                {
                  "name": "ID",
                  "dtype": "object",
                  "stats": {
                    "unique_count": 165,
                    "nan_count": 0,
                    "categories": [
                      {
                        "name": "1078",
                        "count": 27
                      },
                      {
                        "name": "1081",
                        "count": 18
                      },
                      {
                        "name": "163 others",
                        "count": 455
                      }
                    ]
                  }
                },
                {
                  "name": "Review Text",
                  "dtype": "object",
                  "stats": {
                    "unique_count": 500,
                    "nan_count": 0,
                    "categories": [
                      {
                        "name": "bought store yesterday light fit extrem comfort im long torso end go larg one like shirt hang loos print vivid person nonetheless great",
                        "count": 1
                      },
                      {
                        "name": "color dress beauti realli want love wasnt cut bodi shape think either need curvi fill chest straight updown lay flat model order size b tallslim build also think hilo hem dress isnt well indic pictur im fan style hope would minim howev hem definit asymmetr",
                        "count": 1
                      },
                      {
                        "name": "498 others",
                        "count": 498
                      }
                    ]
                  }
                },
                {
                  "name": "Rating Actual",
                  "dtype": "int64",
                  "stats": {
                    "unique_count": 5,
                    "nan_count": 0,
                    "min": "1",
                    "max": "5",
                    "histogram": [
                      {
                        "bin_start": 1,
                        "bin_end": 1.4,
                        "count": 26
                      },
                      {
                        "bin_start": 1.4,
                        "bin_end": 1.8,
                        "count": 0
                      },
                      {
                        "bin_start": 1.8,
                        "bin_end": 2.2,
                        "count": 27
                      },
                      {
                        "bin_start": 2.2,
                        "bin_end": 2.6,
                        "count": 0
                      },
                      {
                        "bin_start": 2.6,
                        "bin_end": 3,
                        "count": 0
                      },
                      {
                        "bin_start": 3,
                        "bin_end": 3.4000000000000004,
                        "count": 52
                      },
                      {
                        "bin_start": 3.4000000000000004,
                        "bin_end": 3.8000000000000003,
                        "count": 0
                      },
                      {
                        "bin_start": 3.8000000000000003,
                        "bin_end": 4.2,
                        "count": 106
                      },
                      {
                        "bin_start": 4.2,
                        "bin_end": 4.6,
                        "count": 0
                      },
                      {
                        "bin_start": 4.6,
                        "bin_end": 5,
                        "count": 289
                      }
                    ]
                  }
                },
                {
                  "name": "Rating Prediction",
                  "dtype": "int64",
                  "stats": {
                    "unique_count": 5,
                    "nan_count": 0,
                    "min": "1",
                    "max": "5",
                    "histogram": [
                      {
                        "bin_start": 1,
                        "bin_end": 1.4,
                        "count": 4
                      },
                      {
                        "bin_start": 1.4,
                        "bin_end": 1.8,
                        "count": 0
                      },
                      {
                        "bin_start": 1.8,
                        "bin_end": 2.2,
                        "count": 8
                      },
                      {
                        "bin_start": 2.2,
                        "bin_end": 2.6,
                        "count": 0
                      },
                      {
                        "bin_start": 2.6,
                        "bin_end": 3,
                        "count": 0
                      },
                      {
                        "bin_start": 3,
                        "bin_end": 3.4000000000000004,
                        "count": 35
                      },
                      {
                        "bin_start": 3.4000000000000004,
                        "bin_end": 3.8000000000000003,
                        "count": 0
                      },
                      {
                        "bin_start": 3.8000000000000003,
                        "bin_end": 4.2,
                        "count": 34
                      },
                      {
                        "bin_start": 4.2,
                        "bin_end": 4.6,
                        "count": 0
                      },
                      {
                        "bin_start": 4.6,
                        "bin_end": 5,
                        "count": 419
                      }
                    ]
                  }
                },
                {
                  "name": "Strength Prediction",
                  "dtype": "float64",
                  "stats": {
                    "unique_count": 31,
                    "nan_count": 0,
                    "min": "0.0",
                    "max": "0.4591108946990222",
                    "histogram": [
                      {
                        "bin_start": 0,
                        "bin_end": 0.04591108946990222,
                        "count": 392
                      },
                      {
                        "bin_start": 0.04591108946990222,
                        "bin_end": 0.09182217893980445,
                        "count": 22
                      },
                      {
                        "bin_start": 0.09182217893980445,
                        "bin_end": 0.13773326840970668,
                        "count": 16
                      },
                      {
                        "bin_start": 0.13773326840970668,
                        "bin_end": 0.1836443578796089,
                        "count": 25
                      },
                      {
                        "bin_start": 0.1836443578796089,
                        "bin_end": 0.2295554473495111,
                        "count": 0
                      },
                      {
                        "bin_start": 0.2295554473495111,
                        "bin_end": 0.27546653681941335,
                        "count": 0
                      },
                      {
                        "bin_start": 0.27546653681941335,
                        "bin_end": 0.32137762628931554,
                        "count": 0
                      },
                      {
                        "bin_start": 0.32137762628931554,
                        "bin_end": 0.3672887157592178,
                        "count": 0
                      },
                      {
                        "bin_start": 0.3672887157592178,
                        "bin_end": 0.41319980522912003,
                        "count": 27
                      },
                      {
                        "bin_start": 0.41319980522912003,
                        "bin_end": 0.4591108946990222,
                        "count": 18
                      }
                    ]
                  }
                },
                {
                  "name": "Strength Actual",
                  "dtype": "float64",
                  "stats": {
                    "unique_count": 49,
                    "nan_count": 0,
                    "min": "0.0",
                    "max": "0.16371749913811273",
                    "histogram": [
                      {
                        "bin_start": 0,
                        "bin_end": 0.016371749913811275,
                        "count": 374
                      },
                      {
                        "bin_start": 0.016371749913811275,
                        "bin_end": 0.03274349982762255,
                        "count": 58
                      },
                      {
                        "bin_start": 0.03274349982762255,
                        "bin_end": 0.049115249741433824,
                        "count": 23
                      },
                      {
                        "bin_start": 0.049115249741433824,
                        "bin_end": 0.0654869996552451,
                        "count": 0
                      },
                      {
                        "bin_start": 0.0654869996552451,
                        "bin_end": 0.08185874956905637,
                        "count": 0
                      },
                      {
                        "bin_start": 0.08185874956905637,
                        "bin_end": 0.09823049948286765,
                        "count": 0
                      },
                      {
                        "bin_start": 0.09823049948286765,
                        "bin_end": 0.11460224939667893,
                        "count": 18
                      },
                      {
                        "bin_start": 0.11460224939667893,
                        "bin_end": 0.1309739993104902,
                        "count": 0
                      },
                      {
                        "bin_start": 0.1309739993104902,
                        "bin_end": 0.14734574922430146,
                        "count": 0
                      },
                      {
                        "bin_start": 0.14734574922430146,
                        "bin_end": 0.16371749913811273,
                        "count": 27
                      }
                    ]
                  }
                },
                {
                  "name": "Success Prediction",
                  "dtype": "object",
                  "stats": {
                    "unique_count": 2,
                    "nan_count": 0,
                    "categories": [
                      {
                        "name": "Trending",
                        "count": 272
                      },
                      {
                        "name": "Not Trending",
                        "count": 228
                      }
                    ]
                  }
                },
                {
                  "name": "Success Actual",
                  "dtype": "object",
                  "stats": {
                    "unique_count": 2,
                    "nan_count": 0,
                    "categories": [
                      {
                        "name": "Trending",
                        "count": 342
                      },
                      {
                        "name": "Not Trending",
                        "count": 158
                      }
                    ]
                  }
                },
                {
                  "name": "_deepnote_index_column",
                  "dtype": "int64"
                }
              ],
              "rows_top": [
                {
                  "ID": "877",
                  "Review Text": "bought store yesterday light fit extrem comfort im long torso end go larg one like shirt hang loos …",
                  "Rating Actual": 5,
                  "Rating Prediction": 5,
                  "Strength Prediction": 0,
                  "Strength Actual": 0,
                  "Success Prediction": "Not Trending",
                  "Success Actual": "Not Trending",
                  "_deepnote_index_column": 0
                },
                {
                  "ID": "1080",
                  "Review Text": "color dress beauti realli want love wasnt cut bodi shape think either need curvi fill chest straigh…",
                  "Rating Actual": 3,
                  "Rating Prediction": 3,
                  "Strength Prediction": 0.014120752411274624,
                  "Strength Actual": 0.005380072303898885,
                  "Success Prediction": "Trending",
                  "Success Actual": "Trending",
                  "_deepnote_index_column": 1
                },
                {
                  "ID": "964",
                  "Review Text": "order littl jacket knew would like upon arriv fell love littl edgi leather detail stretch right pla…",
                  "Rating Actual": 5,
                  "Rating Prediction": 5,
                  "Strength Prediction": 0,
                  "Strength Actual": 0.01314353002305325,
                  "Success Prediction": "Not Trending",
                  "Success Actual": "Trending",
                  "_deepnote_index_column": 2
                },
                {
                  "ID": "1060",
                  "Review Text": "pound bought p fabric high qualiti cling instead drape flatter way add cut jumpsuit elong flatter l…",
                  "Rating Actual": 5,
                  "Rating Prediction": 5,
                  "Strength Prediction": 0,
                  "Strength Actual": 0,
                  "Success Prediction": "Not Trending",
                  "Success Actual": "Not Trending",
                  "_deepnote_index_column": 3
                },
                {
                  "ID": "872",
                  "Review Text": "nice casual inexpens shirt lace necklin greatnot reveal easili worn tie without look prudish cours …",
                  "Rating Actual": 4,
                  "Rating Prediction": 5,
                  "Strength Prediction": 0.04217169554924584,
                  "Strength Actual": 0.03046343859668606,
                  "Success Prediction": "Trending",
                  "Success Actual": "Trending",
                  "_deepnote_index_column": 4
                },
                {
                  "ID": "828",
                  "Review Text": "top cute dont usual like crochet top saw order glad complaint one button hook broke fix",
                  "Rating Actual": 5,
                  "Rating Prediction": 5,
                  "Strength Prediction": 0,
                  "Strength Actual": 0,
                  "Success Prediction": "Not Trending",
                  "Success Actual": "Not Trending",
                  "_deepnote_index_column": 5
                },
                {
                  "ID": "1145",
                  "Review Text": "differ anyth closet wide beauti drape fabric soft substanti cutest coral color line placket insid l…",
                  "Rating Actual": 5,
                  "Rating Prediction": 5,
                  "Strength Prediction": 0,
                  "Strength Actual": 0,
                  "Success Prediction": "Not Trending",
                  "Success Actual": "Not Trending",
                  "_deepnote_index_column": 6
                },
                {
                  "ID": "1110",
                  "Review Text": "dress look better model mine tight bow blackgrey bow isnt bignot pull much mayb knot photo heavi ca…",
                  "Rating Actual": 5,
                  "Rating Prediction": 4,
                  "Strength Prediction": 0.033499987946646506,
                  "Strength Actual": 0.0115650466138811,
                  "Success Prediction": "Trending",
                  "Success Actual": "Trending",
                  "_deepnote_index_column": 7
                },
                {
                  "ID": "1094",
                  "Review Text": "thought id like dress neutral color return quit unflatt skirt made hip look big uneven shape didnt …",
                  "Rating Actual": 3,
                  "Rating Prediction": 3,
                  "Strength Prediction": 0.1055677972366433,
                  "Strength Actual": 0.023460423354115224,
                  "Success Prediction": "Trending",
                  "Success Actual": "Trending",
                  "_deepnote_index_column": 8
                },
                {
                  "ID": "881",
                  "Review Text": "cant rate enough star number great fit cant see sleev perfect length right amount fabric drape lb f…",
                  "Rating Actual": 5,
                  "Rating Prediction": 5,
                  "Strength Prediction": 0,
                  "Strength Actual": 0,
                  "Success Prediction": "Not Trending",
                  "Success Actual": "Not Trending",
                  "_deepnote_index_column": 9
                },
                {
                  "ID": "873",
                  "Review Text": "purchas coral color im usual xs small brand felt top run tad small small fit much better simpl flat…",
                  "Rating Actual": 5,
                  "Rating Prediction": 5,
                  "Strength Prediction": 0.01729783968473161,
                  "Strength Actual": 0.01729783968473161,
                  "Success Prediction": "Trending",
                  "Success Actual": "Trending",
                  "_deepnote_index_column": 10
                },
                {
                  "ID": "1095",
                  "Review Text": "beauti fit simpl flatter athlet size fit well strap may taken littl",
                  "Rating Actual": 4,
                  "Rating Prediction": 5,
                  "Strength Prediction": 0.14436121391882237,
                  "Strength Actual": 0.011019642526734345,
                  "Success Prediction": "Trending",
                  "Success Actual": "Trending",
                  "_deepnote_index_column": 11
                },
                {
                  "ID": "835",
                  "Review Text": "absolut ador top versatil look equal beauti jean dressier skinni pant bought wear holiday photo got…",
                  "Rating Actual": 5,
                  "Rating Prediction": 5,
                  "Strength Prediction": 0.0029693153091079785,
                  "Strength Actual": 0,
                  "Success Prediction": "Trending",
                  "Success Actual": "Not Trending",
                  "_deepnote_index_column": 12
                },
                {
                  "ID": "867",
                  "Review Text": "top small usual size small tight around top arm hole short also didnt notic said sheer see descript…",
                  "Rating Actual": 2,
                  "Rating Prediction": 5,
                  "Strength Prediction": 0.006047588650968903,
                  "Strength Actual": 0.0007825406166795903,
                  "Success Prediction": "Trending",
                  "Success Actual": "Trending",
                  "_deepnote_index_column": 13
                },
                {
                  "ID": "1038",
                  "Review Text": "embroideri actual navi blue black like show photo even better soft feminin look love love love plea…",
                  "Rating Actual": 5,
                  "Rating Prediction": 5,
                  "Strength Prediction": 0,
                  "Strength Actual": 0.005380072303898885,
                  "Success Prediction": "Not Trending",
                  "Success Actual": "Trending",
                  "_deepnote_index_column": 14
                },
                {
                  "ID": "1078",
                  "Review Text": "love dress comfort slim swing ingrati fabric light like detail button sleev overal im pleas happi p…",
                  "Rating Actual": 5,
                  "Rating Prediction": 5,
                  "Strength Prediction": 0.370565911321966,
                  "Strength Actual": 0.16371749913811273,
                  "Success Prediction": "Trending",
                  "Success Actual": "Trending",
                  "_deepnote_index_column": 15
                },
                {
                  "ID": "871",
                  "Review Text": "love tank didnt find see run true size super comfi lace detail make fun plain old tank top great ba…",
                  "Rating Actual": 5,
                  "Rating Prediction": 5,
                  "Strength Prediction": 0,
                  "Strength Actual": 0.01314353002305325,
                  "Success Prediction": "Not Trending",
                  "Success Actual": "Trending",
                  "_deepnote_index_column": 16
                },
                {
                  "ID": "945",
                  "Review Text": "notic vest hang local store tri whim felt soft usual wear xs retail cloth tri xss felt true size ob…",
                  "Rating Actual": 5,
                  "Rating Prediction": 5,
                  "Strength Prediction": 0,
                  "Strength Actual": 0,
                  "Success Prediction": "Not Trending",
                  "Success Actual": "Not Trending",
                  "_deepnote_index_column": 17
                },
                {
                  "ID": "1059",
                  "Review Text": "fit great hang nice extra loop hold belt perfect design",
                  "Rating Actual": 5,
                  "Rating Prediction": 5,
                  "Strength Prediction": 0,
                  "Strength Actual": 0.007846035296258666,
                  "Success Prediction": "Not Trending",
                  "Success Actual": "Trending",
                  "_deepnote_index_column": 18
                },
                {
                  "ID": "984",
                  "Review Text": "beauti fabric soft drape unfortun captain kangaroo pocket aw unless straight shape hip unflatt pock…",
                  "Rating Actual": 1,
                  "Rating Prediction": 2,
                  "Strength Prediction": 0.0024650770609325637,
                  "Strength Actual": 0.0012644289796992809,
                  "Success Prediction": "Trending",
                  "Success Actual": "Trending",
                  "_deepnote_index_column": 19
                },
                {
                  "ID": "995",
                  "Review Text": "love traci rees find retail first day wear skirt alreadi receiv number compliment typic materi woul…",
                  "Rating Actual": 4,
                  "Rating Prediction": 5,
                  "Strength Prediction": 0,
                  "Strength Actual": 0,
                  "Success Prediction": "Not Trending",
                  "Success Actual": "Not Trending",
                  "_deepnote_index_column": 20
                },
                {
                  "ID": "862",
                  "Review Text": "order black red high hope base review receiv ok return",
                  "Rating Actual": 3,
                  "Rating Prediction": 1,
                  "Strength Prediction": 0.009844343605367397,
                  "Strength Actual": 0.010570473718108516,
                  "Success Prediction": "Trending",
                  "Success Actual": "Trending",
                  "_deepnote_index_column": 21
                },
                {
                  "ID": "862",
                  "Review Text": "go wrong soft cotton top neither snug loos expect wear layer realli cold selv earli spring fall gre…",
                  "Rating Actual": 5,
                  "Rating Prediction": 5,
                  "Strength Prediction": 0.009844343605367397,
                  "Strength Actual": 0.010570473718108516,
                  "Success Prediction": "Trending",
                  "Success Actual": "Trending",
                  "_deepnote_index_column": 22
                },
                {
                  "ID": "877",
                  "Review Text": "ok western scene soft comfort true size dress great shirt recommend get",
                  "Rating Actual": 5,
                  "Rating Prediction": 5,
                  "Strength Prediction": 0,
                  "Strength Actual": 0,
                  "Success Prediction": "Not Trending",
                  "Success Actual": "Not Trending",
                  "_deepnote_index_column": 23
                },
                {
                  "ID": "829",
                  "Review Text": "feminin love flutter inde fenc order petit size someth bust arm hole complet right given light airi…",
                  "Rating Actual": 4,
                  "Rating Prediction": 5,
                  "Strength Prediction": 0.14364434407988091,
                  "Strength Actual": 0.043666769774275895,
                  "Success Prediction": "Trending",
                  "Success Actual": "Trending",
                  "_deepnote_index_column": 24
                },
                {
                  "ID": "867",
                  "Review Text": "right bag top didnt realli match one pictur right top though fabric heavi felt damp way someth feel…",
                  "Rating Actual": 1,
                  "Rating Prediction": 5,
                  "Strength Prediction": 0.006047588650968903,
                  "Strength Actual": 0.0007825406166795903,
                  "Success Prediction": "Trending",
                  "Success Actual": "Trending",
                  "_deepnote_index_column": 25
                },
                {
                  "ID": "873",
                  "Review Text": "love top purchas coral color im definit want blue sinc great blous transit fall weight top good sin…",
                  "Rating Actual": 5,
                  "Rating Prediction": 5,
                  "Strength Prediction": 0.01729783968473161,
                  "Strength Actual": 0.01729783968473161,
                  "Success Prediction": "Trending",
                  "Success Actual": "Trending",
                  "_deepnote_index_column": 26
                },
                {
                  "ID": "1081",
                  "Review Text": "liter bought dress day ago list longer avail retail site size bc bust thing love dress look realli …",
                  "Rating Actual": 5,
                  "Rating Prediction": 5,
                  "Strength Prediction": 0.4591108946990222,
                  "Strength Actual": 0.10956965683932174,
                  "Success Prediction": "Trending",
                  "Success Actual": "Trending",
                  "_deepnote_index_column": 27
                },
                {
                  "ID": "1082",
                  "Review Text": "bought dress white event mani compliment fun danc dress top layer spin loos flowi arm hole rather l…",
                  "Rating Actual": 5,
                  "Rating Prediction": 5,
                  "Strength Prediction": 0.01314353002305325,
                  "Strength Actual": 0,
                  "Success Prediction": "Trending",
                  "Success Actual": "Not Trending",
                  "_deepnote_index_column": 28
                },
                {
                  "ID": "872",
                  "Review Text": "tri top red xs think cute fairli fit opinion sleev pretti snug there stretch fine fabric size xs im…",
                  "Rating Actual": 4,
                  "Rating Prediction": 5,
                  "Strength Prediction": 0.04217169554924584,
                  "Strength Actual": 0.03046343859668606,
                  "Success Prediction": "Trending",
                  "Success Actual": "Trending",
                  "_deepnote_index_column": 29
                },
                {
                  "ID": "154",
                  "Review Text": "love loungeathom top color pattern realli pretti soft warm comfi cozi also boxi thick flatter cut",
                  "Rating Actual": 4,
                  "Rating Prediction": 5,
                  "Strength Prediction": 0.01314353002305325,
                  "Strength Actual": 0.0013037808169516698,
                  "Success Prediction": "Trending",
                  "Success Actual": "Trending",
                  "_deepnote_index_column": 30
                },
                {
                  "ID": "155",
                  "Review Text": "tight light time super cozi definit cut sewn tight meant worn leg theyr realli sheer around rump iv…",
                  "Rating Actual": 4,
                  "Rating Prediction": 5,
                  "Strength Prediction": 0,
                  "Strength Actual": 0.0014861292394073133,
                  "Success Prediction": "Not Trending",
                  "Success Actual": "Trending",
                  "_deepnote_index_column": 31
                },
                {
                  "ID": "829",
                  "Review Text": "realli love top look great black tahari suit wear work necklin look realli nice neg bit sheer wear …",
                  "Rating Actual": 4,
                  "Rating Prediction": 5,
                  "Strength Prediction": 0.14364434407988091,
                  "Strength Actual": 0.043666769774275895,
                  "Success Prediction": "Trending",
                  "Success Actual": "Trending",
                  "_deepnote_index_column": 32
                },
                {
                  "ID": "937",
                  "Review Text": "im lb shorti short torso long arm standard xs huge opportun tri xx petit xs petit xx petit almost p…",
                  "Rating Actual": 5,
                  "Rating Prediction": 5,
                  "Strength Prediction": 0.002969315309107968,
                  "Strength Actual": 0.000490698419549558,
                  "Success Prediction": "Trending",
                  "Success Actual": "Trending",
                  "_deepnote_index_column": 33
                },
                {
                  "ID": "863",
                  "Review Text": "im alway look piec would good either layer worn alon look cute model receiv actual flow want straig…",
                  "Rating Actual": 2,
                  "Rating Prediction": 2,
                  "Strength Prediction": 0.011091649662815865,
                  "Strength Actual": 0.006553409411632798,
                  "Success Prediction": "Trending",
                  "Success Actual": "Trending",
                  "_deepnote_index_column": 34
                },
                {
                  "ID": "1020",
                  "Review Text": "realli cute realli comfi great color love overs button around great skirt nice shade goe right fall…",
                  "Rating Actual": 5,
                  "Rating Prediction": 5,
                  "Strength Prediction": 0.02598690307291267,
                  "Strength Actual": 0.0010352124456681532,
                  "Success Prediction": "Trending",
                  "Success Actual": "Trending",
                  "_deepnote_index_column": 35
                },
                {
                  "ID": "936",
                  "Review Text": "beauti person love detail color usual dont like poncho one shape squar front definit set apart",
                  "Rating Actual": 5,
                  "Rating Prediction": 5,
                  "Strength Prediction": 0,
                  "Strength Actual": 0,
                  "Success Prediction": "Not Trending",
                  "Success Actual": "Not Trending",
                  "_deepnote_index_column": 36
                },
                {
                  "ID": "831",
                  "Review Text": "cute fit well versatil top think work well sweater blazer fall",
                  "Rating Actual": 5,
                  "Rating Prediction": 5,
                  "Strength Prediction": 0,
                  "Strength Actual": 0,
                  "Success Prediction": "Not Trending",
                  "Success Actual": "Not Trending",
                  "_deepnote_index_column": 37
                },
                {
                  "ID": "952",
                  "Review Text": "interest design highqual garment fit true size great layer soft knit drapey attach collar adjust lo…",
                  "Rating Actual": 5,
                  "Rating Prediction": 5,
                  "Strength Prediction": 0,
                  "Strength Actual": 0,
                  "Success Prediction": "Not Trending",
                  "Success Actual": "Not Trending",
                  "_deepnote_index_column": 38
                },
                {
                  "ID": "1094",
                  "Review Text": "order geometr bluer pattern small regular materi soft comfort standout piec unfortun made stomach l…",
                  "Rating Actual": 3,
                  "Rating Prediction": 3,
                  "Strength Prediction": 0.1055677972366433,
                  "Strength Actual": 0.023460423354115224,
                  "Success Prediction": "Trending",
                  "Success Actual": "Trending",
                  "_deepnote_index_column": 39
                },
                {
                  "ID": "1020",
                  "Review Text": "tri store run small size curvi hip size size couldnt even button hope alin fit like pencil skirt fl…",
                  "Rating Actual": 3,
                  "Rating Prediction": 4,
                  "Strength Prediction": 0.02598690307291267,
                  "Strength Actual": 0.0010352124456681532,
                  "Success Prediction": "Trending",
                  "Success Actual": "Trending",
                  "_deepnote_index_column": 40
                },
                {
                  "ID": "1086",
                  "Review Text": "wow dress far fit voluptu hourglass figur woman inch bust medium fit perfectlyth whole dress fit pe…",
                  "Rating Actual": 5,
                  "Rating Prediction": 5,
                  "Strength Prediction": 0,
                  "Strength Actual": 0.0005996989122785953,
                  "Success Prediction": "Not Trending",
                  "Success Actual": "Trending",
                  "_deepnote_index_column": 41
                },
                {
                  "ID": "1125",
                  "Review Text": "saw jacket sale rack local store size extra small need medium store abl order sinc show back order …",
                  "Rating Actual": 4,
                  "Rating Prediction": 5,
                  "Strength Prediction": 0,
                  "Strength Actual": 0.008872776092889242,
                  "Success Prediction": "Not Trending",
                  "Success Actual": "Trending",
                  "_deepnote_index_column": 42
                },
                {
                  "ID": "876",
                  "Review Text": "bought top sale glad pay full price wash everyth wear dri saw greas spot back small hole one upper …",
                  "Rating Actual": 1,
                  "Rating Prediction": 5,
                  "Strength Prediction": 0,
                  "Strength Actual": 0,
                  "Success Prediction": "Not Trending",
                  "Success Actual": "Not Trending",
                  "_deepnote_index_column": 43
                },
                {
                  "ID": "974",
                  "Review Text": "saw piec fell love print beauti well place everi piec littl boxi bit warm indoor unusu enough overl…",
                  "Rating Actual": 5,
                  "Rating Prediction": 5,
                  "Strength Prediction": 0,
                  "Strength Actual": 0,
                  "Success Prediction": "Not Trending",
                  "Success Actual": "Not Trending",
                  "_deepnote_index_column": 44
                },
                {
                  "ID": "1077",
                  "Review Text": "high hope dress realli want work initi order petit small usual size found outrag small small fact c…",
                  "Rating Actual": 3,
                  "Rating Prediction": 4,
                  "Strength Prediction": 0.005535044013598172,
                  "Strength Actual": 0.001032346795161798,
                  "Success Prediction": "Trending",
                  "Success Actual": "Trending",
                  "_deepnote_index_column": 45
                },
                {
                  "ID": "834",
                  "Review Text": "love wear blous jean cute sneaker blous frilli flirti three quarter sleev one cute fabric cover but…",
                  "Rating Actual": 5,
                  "Rating Prediction": 5,
                  "Strength Prediction": 0.005380072303898885,
                  "Strength Actual": 0.005380072303898885,
                  "Success Prediction": "Trending",
                  "Success Actual": "Trending",
                  "_deepnote_index_column": 46
                },
                {
                  "ID": "868",
                  "Review Text": "realli want love top love mix fabric pattern short tunic length paid attent review im tight bust sh…",
                  "Rating Actual": 3,
                  "Rating Prediction": 3,
                  "Strength Prediction": 0.006047588650968903,
                  "Strength Actual": 0.005535044013598172,
                  "Success Prediction": "Trending",
                  "Success Actual": "Trending",
                  "_deepnote_index_column": 47
                },
                {
                  "ID": "835",
                  "Review Text": "truli uniqu top detail around neck nice chang",
                  "Rating Actual": 5,
                  "Rating Prediction": 5,
                  "Strength Prediction": 0.0029693153091079785,
                  "Strength Actual": 0,
                  "Success Prediction": "Trending",
                  "Success Actual": "Not Trending",
                  "_deepnote_index_column": 48
                },
                {
                  "ID": "872",
                  "Review Text": "realli casual tee cute pattern give pop color littl dress go look thought might bit wide pictur nic…",
                  "Rating Actual": 5,
                  "Rating Prediction": 5,
                  "Strength Prediction": 0.04217169554924584,
                  "Strength Actual": 0.03046343859668606,
                  "Success Prediction": "Trending",
                  "Success Actual": "Trending",
                  "_deepnote_index_column": 49
                },
                {
                  "ID": "1033",
                  "Review Text": "origin got petit thought fit great right bag im usual within hour wear retail actual knee gotten ba…",
                  "Rating Actual": 2,
                  "Rating Prediction": 5,
                  "Strength Prediction": 0,
                  "Strength Actual": 0.005213302081308472,
                  "Success Prediction": "Not Trending",
                  "Success Actual": "Trending",
                  "_deepnote_index_column": 50
                },
                {
                  "ID": "824",
                  "Review Text": "pretti top lot intric detail love edg stud give look fuddi duddi ivori look nicer black loos detail…",
                  "Rating Actual": 3,
                  "Rating Prediction": 5,
                  "Strength Prediction": 0,
                  "Strength Actual": 0,
                  "Success Prediction": "Not Trending",
                  "Success Actual": "Not Trending",
                  "_deepnote_index_column": 51
                },
                {
                  "ID": "895",
                  "Review Text": "perfect mild fall weather texa light weight love top littl fit bottom swing",
                  "Rating Actual": 5,
                  "Rating Prediction": 5,
                  "Strength Prediction": 0.006832301192777369,
                  "Strength Actual": 0.04085138882963303,
                  "Success Prediction": "Trending",
                  "Success Actual": "Trending",
                  "_deepnote_index_column": 52
                },
                {
                  "ID": "835",
                  "Review Text": "glad abl get shirt realli springsumm item found wide bodi shoulder",
                  "Rating Actual": 5,
                  "Rating Prediction": 3,
                  "Strength Prediction": 0.0029693153091079785,
                  "Strength Actual": 0,
                  "Success Prediction": "Trending",
                  "Success Actual": "Not Trending",
                  "_deepnote_index_column": 53
                },
                {
                  "ID": "975",
                  "Review Text": "love soft slouchi feel drape yet construct jacket dont expect crisp fit im fan menswear look jacket…",
                  "Rating Actual": 5,
                  "Rating Prediction": 5,
                  "Strength Prediction": 0,
                  "Strength Actual": 0,
                  "Success Prediction": "Not Trending",
                  "Success Actual": "Not Trending",
                  "_deepnote_index_column": 54
                },
                {
                  "ID": "883",
                  "Review Text": "shirt littl roomi flatter design littl see hole across shirt unusu make uniqu",
                  "Rating Actual": 5,
                  "Rating Prediction": 5,
                  "Strength Prediction": 0,
                  "Strength Actual": 0,
                  "Success Prediction": "Not Trending",
                  "Success Actual": "Not Trending",
                  "_deepnote_index_column": 55
                },
                {
                  "ID": "1008",
                  "Review Text": "im one write review thought would absolut beauti skirt saw instor becam avail onlin knew dont like …",
                  "Rating Actual": 5,
                  "Rating Prediction": 5,
                  "Strength Prediction": 0,
                  "Strength Actual": 0,
                  "Success Prediction": "Not Trending",
                  "Success Actual": "Not Trending",
                  "_deepnote_index_column": 56
                },
                {
                  "ID": "1084",
                  "Review Text": "want dress much order twice time zipper defectiveit would get stuck midway waistlineso send back is…",
                  "Rating Actual": 1,
                  "Rating Prediction": 3,
                  "Strength Prediction": 0,
                  "Strength Actual": 0,
                  "Success Prediction": "Not Trending",
                  "Success Actual": "Not Trending",
                  "_deepnote_index_column": 57
                },
                {
                  "ID": "1003",
                  "Review Text": "refer lb hourglass figur usual small fit perfectli problem skirt black charcoal graypurpl sipper re…",
                  "Rating Actual": 2,
                  "Rating Prediction": 5,
                  "Strength Prediction": 0,
                  "Strength Actual": 0,
                  "Success Prediction": "Not Trending",
                  "Success Actual": "Not Trending",
                  "_deepnote_index_column": 58
                },
                {
                  "ID": "1081",
                  "Review Text": "warn yoke dress sequin underneath im sparkl kinda gal soon saw dress went right back packag go back…",
                  "Rating Actual": 3,
                  "Rating Prediction": 5,
                  "Strength Prediction": 0.4591108946990222,
                  "Strength Actual": 0.10956965683932174,
                  "Success Prediction": "Trending",
                  "Success Actual": "Trending",
                  "_deepnote_index_column": 59
                },
                {
                  "ID": "861",
                  "Review Text": "ador basic wear week summer instead fabric develop notic hole first wear brand make softest cutest …",
                  "Rating Actual": 1,
                  "Rating Prediction": 5,
                  "Strength Prediction": 0.07077492127113608,
                  "Strength Actual": 0.00276845672621416,
                  "Success Prediction": "Trending",
                  "Success Actual": "Trending",
                  "_deepnote_index_column": 60
                },
                {
                  "ID": "1060",
                  "Review Text": "someth would normal wear beauti fabric made give tri glad fit beauti slim feminin fit enough flow l…",
                  "Rating Actual": 5,
                  "Rating Prediction": 5,
                  "Strength Prediction": 0,
                  "Strength Actual": 0,
                  "Success Prediction": "Not Trending",
                  "Success Actual": "Not Trending",
                  "_deepnote_index_column": 61
                }
              ],
              "rows_bottom": [
                {
                  "ID": "862",
                  "Review Text": "excit find shirt sale local retail store notic high percentag rayon fabric caus shirt shrink signif…",
                  "Rating Actual": 1,
                  "Rating Prediction": 1,
                  "Strength Prediction": 0.009844343605367397,
                  "Strength Actual": 0.010570473718108516,
                  "Success Prediction": "Trending",
                  "Success Actual": "Trending",
                  "_deepnote_index_column": 437
                },
                {
                  "ID": "1046",
                  "Review Text": "tri store thought color textur style nice need petit length came onlin disappoint see style sold pe…",
                  "Rating Actual": 5,
                  "Rating Prediction": 5,
                  "Strength Prediction": 0,
                  "Strength Actual": 0,
                  "Success Prediction": "Not Trending",
                  "Success Actual": "Not Trending",
                  "_deepnote_index_column": 438
                },
                {
                  "ID": "877",
                  "Review Text": "duster nice light weight dark navi throw add littl someth outfit without ad bulk warmth look nice d…",
                  "Rating Actual": 5,
                  "Rating Prediction": 5,
                  "Strength Prediction": 0,
                  "Strength Actual": 0,
                  "Success Prediction": "Not Trending",
                  "Success Actual": "Not Trending",
                  "_deepnote_index_column": 439
                },
                {
                  "ID": "1020",
                  "Review Text": "wow love skirt total agre reviewersthi item run full size small normal true six bottom bit tight co…",
                  "Rating Actual": 5,
                  "Rating Prediction": 5,
                  "Strength Prediction": 0.02598690307291267,
                  "Strength Actual": 0.0010352124456681532,
                  "Success Prediction": "Trending",
                  "Success Actual": "Trending",
                  "_deepnote_index_column": 440
                },
                {
                  "ID": "1078",
                  "Review Text": "perfectli nice dress embroideri less eleg expect sure look close necklin materi thick somewhat info…",
                  "Rating Actual": 4,
                  "Rating Prediction": 5,
                  "Strength Prediction": 0.370565911321966,
                  "Strength Actual": 0.16371749913811273,
                  "Success Prediction": "Trending",
                  "Success Actual": "Trending",
                  "_deepnote_index_column": 441
                },
                {
                  "ID": "820",
                  "Review Text": "love maev design gener find size qualiti consist top soft bit billowi darker pattern black motif co…",
                  "Rating Actual": 5,
                  "Rating Prediction": 5,
                  "Strength Prediction": 0,
                  "Strength Actual": 0.00020830440156373742,
                  "Success Prediction": "Not Trending",
                  "Success Actual": "Not Trending",
                  "_deepnote_index_column": 442
                },
                {
                  "ID": "1081",
                  "Review Text": "print fit dress perfect flatter slim",
                  "Rating Actual": 5,
                  "Rating Prediction": 5,
                  "Strength Prediction": 0.4591108946990222,
                  "Strength Actual": 0.10956965683932174,
                  "Success Prediction": "Trending",
                  "Success Actual": "Trending",
                  "_deepnote_index_column": 443
                },
                {
                  "ID": "831",
                  "Review Text": "order top navi white irregular dot sinc avail smaller size store took chanc order xs size fit perfe…",
                  "Rating Actual": 5,
                  "Rating Prediction": 5,
                  "Strength Prediction": 0,
                  "Strength Actual": 0,
                  "Success Prediction": "Not Trending",
                  "Success Actual": "Not Trending",
                  "_deepnote_index_column": 444
                },
                {
                  "ID": "1059",
                  "Review Text": "purchas pant red sale pound fit perfectli either pant depend upon brand realli hard find pant cute …",
                  "Rating Actual": 5,
                  "Rating Prediction": 5,
                  "Strength Prediction": 0,
                  "Strength Actual": 0.007846035296258666,
                  "Success Prediction": "Not Trending",
                  "Success Actual": "Trending",
                  "_deepnote_index_column": 445
                },
                {
                  "ID": "1033",
                  "Review Text": "great fall stapl silver color perfect greyol textur perfect doesnt feel like extra materi like cord…",
                  "Rating Actual": 5,
                  "Rating Prediction": 5,
                  "Strength Prediction": 0,
                  "Strength Actual": 0.005213302081308472,
                  "Success Prediction": "Not Trending",
                  "Success Actual": "Trending",
                  "_deepnote_index_column": 446
                },
                {
                  "ID": "144",
                  "Review Text": "perfect tightsfit feel top qualiti wash well",
                  "Rating Actual": 5,
                  "Rating Prediction": 5,
                  "Strength Prediction": 0,
                  "Strength Actual": 0,
                  "Success Prediction": "Not Trending",
                  "Success Actual": "Not Trending",
                  "_deepnote_index_column": 447
                },
                {
                  "ID": "866",
                  "Review Text": "love tee materi thick thick highli flatter love sleev longer short sleev cover bingo wing shimmer f…",
                  "Rating Actual": 5,
                  "Rating Prediction": 5,
                  "Strength Prediction": 0,
                  "Strength Actual": 0,
                  "Success Prediction": "Not Trending",
                  "Success Actual": "Not Trending",
                  "_deepnote_index_column": 448
                },
                {
                  "ID": "850",
                  "Review Text": "first fabric beauti love spring summer realli want like top fit awkward typic xs size shirt size ti…",
                  "Rating Actual": 2,
                  "Rating Prediction": 3,
                  "Strength Prediction": 0.05358599235757521,
                  "Strength Actual": 0.022397961868100516,
                  "Success Prediction": "Trending",
                  "Success Actual": "Trending",
                  "_deepnote_index_column": 449
                },
                {
                  "ID": "863",
                  "Review Text": "perfect weight summer wear fall gentli tummi without long ruffl edg quirki uneven length make inter…",
                  "Rating Actual": 5,
                  "Rating Prediction": 5,
                  "Strength Prediction": 0.011091649662815865,
                  "Strength Actual": 0.006553409411632798,
                  "Success Prediction": "Trending",
                  "Success Actual": "Trending",
                  "_deepnote_index_column": 450
                },
                {
                  "ID": "1131",
                  "Review Text": "love pattern jacket enjoy bell shape fun jacket add quick style skinni pant",
                  "Rating Actual": 3,
                  "Rating Prediction": 5,
                  "Strength Prediction": 0,
                  "Strength Actual": 0,
                  "Success Prediction": "Not Trending",
                  "Success Actual": "Not Trending",
                  "_deepnote_index_column": 451
                },
                {
                  "ID": "872",
                  "Review Text": "thought id add review lot landscapeprint tee still avail local durham nc store week xma anyway litt…",
                  "Rating Actual": 4,
                  "Rating Prediction": 5,
                  "Strength Prediction": 0.04217169554924584,
                  "Strength Actual": 0.03046343859668606,
                  "Success Prediction": "Trending",
                  "Success Actual": "Trending",
                  "_deepnote_index_column": 452
                },
                {
                  "ID": "895",
                  "Review Text": "love dont time sheer sheer probabl get away nude bra sure tri color love love shimmer order btoh xx…",
                  "Rating Actual": 4,
                  "Rating Prediction": 5,
                  "Strength Prediction": 0.006832301192777369,
                  "Strength Actual": 0.04085138882963303,
                  "Success Prediction": "Trending",
                  "Success Actual": "Trending",
                  "_deepnote_index_column": 453
                },
                {
                  "ID": "881",
                  "Review Text": "normal size retail top big armpit necklin dont usual go peplum drawn top bc soft tri everyth fit pe…",
                  "Rating Actual": 5,
                  "Rating Prediction": 5,
                  "Strength Prediction": 0,
                  "Strength Actual": 0,
                  "Success Prediction": "Not Trending",
                  "Success Actual": "Not Trending",
                  "_deepnote_index_column": 454
                },
                {
                  "ID": "886",
                  "Review Text": "beauti top love color shoulder total mess sure hang store way sewn",
                  "Rating Actual": 2,
                  "Rating Prediction": 5,
                  "Strength Prediction": 0,
                  "Strength Actual": 0.0006883891475885573,
                  "Success Prediction": "Not Trending",
                  "Success Actual": "Trending",
                  "_deepnote_index_column": 455
                },
                {
                  "ID": "850",
                  "Review Text": "top cute could worn work casual tall love long shirt definit recommend",
                  "Rating Actual": 5,
                  "Rating Prediction": 5,
                  "Strength Prediction": 0.05358599235757521,
                  "Strength Actual": 0.022397961868100516,
                  "Success Prediction": "Trending",
                  "Success Actual": "Trending",
                  "_deepnote_index_column": 456
                },
                {
                  "ID": "937",
                  "Review Text": "cardigan cute pictur realli want love didnt seem worth price materi kind itchi wasnt huge fan wide …",
                  "Rating Actual": 3,
                  "Rating Prediction": 3,
                  "Strength Prediction": 0.002969315309107968,
                  "Strength Actual": 0.000490698419549558,
                  "Success Prediction": "Trending",
                  "Success Actual": "Trending",
                  "_deepnote_index_column": 457
                },
                {
                  "ID": "107",
                  "Review Text": "phenomen wardrob peic qualiti comfort versatil dress belt boot shoe im ish lb small fit chest beaut…",
                  "Rating Actual": 4,
                  "Rating Prediction": 5,
                  "Strength Prediction": 0,
                  "Strength Actual": 0,
                  "Success Prediction": "Not Trending",
                  "Success Actual": "Not Trending",
                  "_deepnote_index_column": 458
                },
                {
                  "ID": "1030",
                  "Review Text": "love jean especi pair perfect fit hug right place perfect length worn x alreadi get better everi ti…",
                  "Rating Actual": 5,
                  "Rating Prediction": 5,
                  "Strength Prediction": 0,
                  "Strength Actual": 0.00009998313203080612,
                  "Success Prediction": "Not Trending",
                  "Success Actual": "Not Trending",
                  "_deepnote_index_column": 459
                },
                {
                  "ID": "1077",
                  "Review Text": "uniqu fun dress im glad found fit perfectli",
                  "Rating Actual": 5,
                  "Rating Prediction": 5,
                  "Strength Prediction": 0.005535044013598172,
                  "Strength Actual": 0.001032346795161798,
                  "Success Prediction": "Trending",
                  "Success Actual": "Trending",
                  "_deepnote_index_column": 460
                },
                {
                  "ID": "868",
                  "Review Text": "modern version peplum top flatter dont mind flowi cut materi nice heavi love black pebbl effect lb …",
                  "Rating Actual": 4,
                  "Rating Prediction": 5,
                  "Strength Prediction": 0.006047588650968903,
                  "Strength Actual": 0.005535044013598172,
                  "Success Prediction": "Trending",
                  "Success Actual": "Trending",
                  "_deepnote_index_column": 461
                },
                {
                  "ID": "634",
                  "Review Text": "sale price great price cute coverup polit compani dress want show cute underwearbikinicrossfit bod …",
                  "Rating Actual": 5,
                  "Rating Prediction": 5,
                  "Strength Prediction": 0,
                  "Strength Actual": 0.005380072303898885,
                  "Success Prediction": "Not Trending",
                  "Success Actual": "Trending",
                  "_deepnote_index_column": 462
                },
                {
                  "ID": "1094",
                  "Review Text": "dont usual pay fullpric retail cloth coupon decid give dress tri irradi happi vibe remind book dres…",
                  "Rating Actual": 5,
                  "Rating Prediction": 5,
                  "Strength Prediction": 0.1055677972366433,
                  "Strength Actual": 0.023460423354115224,
                  "Success Prediction": "Trending",
                  "Success Actual": "Trending",
                  "_deepnote_index_column": 463
                },
                {
                  "ID": "867",
                  "Review Text": "love dive beauti version charm without cutsi stay away epitom summer grab go easi littl statement f…",
                  "Rating Actual": 5,
                  "Rating Prediction": 5,
                  "Strength Prediction": 0.006047588650968903,
                  "Strength Actual": 0.0007825406166795903,
                  "Success Prediction": "Trending",
                  "Success Actual": "Trending",
                  "_deepnote_index_column": 464
                },
                {
                  "ID": "1054",
                  "Review Text": "flow feel materi realli nice howev think run larg order small exchang xs hope fit bit better want p…",
                  "Rating Actual": 4,
                  "Rating Prediction": 4,
                  "Strength Prediction": 0.0014861292394073133,
                  "Strength Actual": 0.000899368558009347,
                  "Success Prediction": "Trending",
                  "Success Actual": "Trending",
                  "_deepnote_index_column": 465
                },
                {
                  "ID": "857",
                  "Review Text": "four kid post babi bump want live forev im huge fan flowi topsthi one look cute onlin wasnt sold pa…",
                  "Rating Actual": 5,
                  "Rating Prediction": 5,
                  "Strength Prediction": 0,
                  "Strength Actual": 0.005380072303898885,
                  "Success Prediction": "Not Trending",
                  "Success Actual": "Trending",
                  "_deepnote_index_column": 466
                },
                {
                  "ID": "1094",
                  "Review Text": "love nautic vibe perfect summer wear knit top cap sleev easi wear clingi limp bump asymmetr skirt f…",
                  "Rating Actual": 4,
                  "Rating Prediction": 5,
                  "Strength Prediction": 0.1055677972366433,
                  "Strength Actual": 0.023460423354115224,
                  "Success Prediction": "Trending",
                  "Success Actual": "Trending",
                  "_deepnote_index_column": 467
                },
                {
                  "ID": "282",
                  "Review Text": "short ageappropri theyr loos fit cal roll left end knee fabric soft color fun",
                  "Rating Actual": 5,
                  "Rating Prediction": 5,
                  "Strength Prediction": 0,
                  "Strength Actual": 0.006047588650968903,
                  "Success Prediction": "Not Trending",
                  "Success Actual": "Trending",
                  "_deepnote_index_column": 468
                },
                {
                  "ID": "829",
                  "Review Text": "normal avoid white top usual dont popbut saw style tri came buy anoth top catalog wow walk instead",
                  "Rating Actual": 5,
                  "Rating Prediction": 5,
                  "Strength Prediction": 0.14364434407988091,
                  "Strength Actual": 0.043666769774275895,
                  "Success Prediction": "Trending",
                  "Success Actual": "Trending",
                  "_deepnote_index_column": 469
                },
                {
                  "ID": "836",
                  "Review Text": "blue motif gorgeou indigo interest pattern short tunic drape nice flatter happi purchas plan buy nd…",
                  "Rating Actual": 5,
                  "Rating Prediction": 5,
                  "Strength Prediction": 0,
                  "Strength Actual": 0.006645549987894044,
                  "Success Prediction": "Not Trending",
                  "Success Actual": "Trending",
                  "_deepnote_index_column": 470
                },
                {
                  "ID": "381",
                  "Review Text": "love materi style unfortun fear came true receiv swimsuit wasnt enough support despit review read t…",
                  "Rating Actual": 2,
                  "Rating Prediction": 4,
                  "Strength Prediction": 0.005380072303898885,
                  "Strength Actual": 0.00044064186261642233,
                  "Success Prediction": "Trending",
                  "Success Actual": "Trending",
                  "_deepnote_index_column": 471
                },
                {
                  "ID": "1078",
                  "Review Text": "want like dress work bustier frame fabric quit loos nip waist particularli clingi wellendow asset c…",
                  "Rating Actual": 2,
                  "Rating Prediction": 3,
                  "Strength Prediction": 0.370565911321966,
                  "Strength Actual": 0.16371749913811273,
                  "Success Prediction": "Trending",
                  "Success Actual": "Trending",
                  "_deepnote_index_column": 472
                },
                {
                  "ID": "1081",
                  "Review Text": "seen onlin time caught eye color never realli bother check detail due stock photo look quit bland d…",
                  "Rating Actual": 5,
                  "Rating Prediction": 5,
                  "Strength Prediction": 0.4591108946990222,
                  "Strength Actual": 0.10956965683932174,
                  "Success Prediction": "Trending",
                  "Success Actual": "Trending",
                  "_deepnote_index_column": 473
                },
                {
                  "ID": "1110",
                  "Review Text": "expect fit im womanli gener wear size thing pictur gorgeou tri im happi slip right flowi yet overli…",
                  "Rating Actual": 5,
                  "Rating Prediction": 5,
                  "Strength Prediction": 0.033499987946646506,
                  "Strength Actual": 0.0115650466138811,
                  "Success Prediction": "Trending",
                  "Success Actual": "Trending",
                  "_deepnote_index_column": 474
                },
                {
                  "ID": "1095",
                  "Review Text": "classic beauti style structur materi alway fall right look beauti take occas heel flat offic dinner…",
                  "Rating Actual": 4,
                  "Rating Prediction": 5,
                  "Strength Prediction": 0.14436121391882237,
                  "Strength Actual": 0.011019642526734345,
                  "Success Prediction": "Trending",
                  "Success Actual": "Trending",
                  "_deepnote_index_column": 475
                },
                {
                  "ID": "1056",
                  "Review Text": "size higher size choic snug athlet build top fit thigh tight caus belli area pouf good thin gal als…",
                  "Rating Actual": 4,
                  "Rating Prediction": 3,
                  "Strength Prediction": 0.001163009313836847,
                  "Strength Actual": 0.005380072303898885,
                  "Success Prediction": "Trending",
                  "Success Actual": "Trending",
                  "_deepnote_index_column": 476
                },
                {
                  "ID": "1099",
                  "Review Text": "cute cool dress hot summer day roomi pocket",
                  "Rating Actual": 5,
                  "Rating Prediction": 5,
                  "Strength Prediction": 0.009208902111586675,
                  "Strength Actual": 0.006727021192600604,
                  "Success Prediction": "Trending",
                  "Success Actual": "Trending",
                  "_deepnote_index_column": 477
                },
                {
                  "ID": "864",
                  "Review Text": "found today one rack absolut fell love bought normal size medium fit perfectli custom ask could fin…",
                  "Rating Actual": 5,
                  "Rating Prediction": 5,
                  "Strength Prediction": 0,
                  "Strength Actual": 0,
                  "Success Prediction": "Not Trending",
                  "Success Actual": "Not Trending",
                  "_deepnote_index_column": 478
                },
                {
                  "ID": "1054",
                  "Review Text": "think amaz anyon say way hung unflatt front unfortun masculin effect that say without crass",
                  "Rating Actual": 3,
                  "Rating Prediction": 5,
                  "Strength Prediction": 0.0014861292394073133,
                  "Strength Actual": 0.000899368558009347,
                  "Success Prediction": "Trending",
                  "Success Actual": "Trending",
                  "_deepnote_index_column": 479
                },
                {
                  "ID": "1126",
                  "Review Text": "tri jacket definit cute coupl thing note wool acryl blend alreadi start pill tri store also unlin t…",
                  "Rating Actual": 3,
                  "Rating Prediction": 4,
                  "Strength Prediction": 0.005380072303898885,
                  "Strength Actual": 0.001163009313836847,
                  "Success Prediction": "Trending",
                  "Success Actual": "Trending",
                  "_deepnote_index_column": 480
                },
                {
                  "ID": "841",
                  "Review Text": "order top solid navi qualiti seem good overal impress favor like top stay shoulder even move mani o…",
                  "Rating Actual": 4,
                  "Rating Prediction": 5,
                  "Strength Prediction": 0,
                  "Strength Actual": 0,
                  "Success Prediction": "Not Trending",
                  "Success Actual": "Not Trending",
                  "_deepnote_index_column": 481
                },
                {
                  "ID": "573",
                  "Review Text": "first complaint dress pin back obvious video model turn around way see pin back clue dress isnt mea…",
                  "Rating Actual": 3,
                  "Rating Prediction": 4,
                  "Strength Prediction": 0,
                  "Strength Actual": 0,
                  "Success Prediction": "Not Trending",
                  "Success Actual": "Not Trending",
                  "_deepnote_index_column": 482
                },
                {
                  "ID": "1081",
                  "Review Text": "like fabric smooth feel nice skin like handkerchief hemlin tooi didnt realiz much would like neckli…",
                  "Rating Actual": 3,
                  "Rating Prediction": 4,
                  "Strength Prediction": 0.4591108946990222,
                  "Strength Actual": 0.10956965683932174,
                  "Success Prediction": "Trending",
                  "Success Actual": "Trending",
                  "_deepnote_index_column": 483
                },
                {
                  "ID": "1094",
                  "Review Text": "dress love embroideri beauti done bright color materi sturdi fit overal true size slightli small bu…",
                  "Rating Actual": 5,
                  "Rating Prediction": 5,
                  "Strength Prediction": 0.1055677972366433,
                  "Strength Actual": 0.023460423354115224,
                  "Success Prediction": "Trending",
                  "Success Actual": "Trending",
                  "_deepnote_index_column": 484
                },
                {
                  "ID": "823",
                  "Review Text": "top much prettier dress run tad larg im lb usual small medium usual medium went small love fit stil…",
                  "Rating Actual": 4,
                  "Rating Prediction": 4,
                  "Strength Prediction": 0.004641235377711776,
                  "Strength Actual": 0.004641235377711776,
                  "Success Prediction": "Trending",
                  "Success Actual": "Trending",
                  "_deepnote_index_column": 485
                },
                {
                  "ID": "1078",
                  "Review Text": "usual dress disappoint look great boot perfect day date dress",
                  "Rating Actual": 5,
                  "Rating Prediction": 5,
                  "Strength Prediction": 0.370565911321966,
                  "Strength Actual": 0.16371749913811273,
                  "Success Prediction": "Trending",
                  "Success Actual": "Trending",
                  "_deepnote_index_column": 486
                },
                {
                  "ID": "850",
                  "Review Text": "love blous color littl sunglass vibrant black background button front also coralpeach color beauti …",
                  "Rating Actual": 5,
                  "Rating Prediction": 5,
                  "Strength Prediction": 0.05358599235757521,
                  "Strength Actual": 0.022397961868100516,
                  "Success Prediction": "Trending",
                  "Success Actual": "Trending",
                  "_deepnote_index_column": 487
                },
                {
                  "ID": "831",
                  "Review Text": "love top beauti",
                  "Rating Actual": 5,
                  "Rating Prediction": 5,
                  "Strength Prediction": 0,
                  "Strength Actual": 0,
                  "Success Prediction": "Not Trending",
                  "Success Actual": "Not Trending",
                  "_deepnote_index_column": 488
                },
                {
                  "ID": "942",
                  "Review Text": "look long vest go skinni jean exactli look color better pic style flatter size right cant wait wear…",
                  "Rating Actual": 5,
                  "Rating Prediction": 5,
                  "Strength Prediction": 0,
                  "Strength Actual": 0,
                  "Success Prediction": "Not Trending",
                  "Success Actual": "Not Trending",
                  "_deepnote_index_column": 489
                },
                {
                  "ID": "1078",
                  "Review Text": "usual wear retail dress surpris xs fit better pretti realli perfect color fall like tight constrict…",
                  "Rating Actual": 4,
                  "Rating Prediction": 5,
                  "Strength Prediction": 0.370565911321966,
                  "Strength Actual": 0.16371749913811273,
                  "Success Prediction": "Trending",
                  "Success Actual": "Trending",
                  "_deepnote_index_column": 490
                },
                {
                  "ID": "825",
                  "Review Text": "love top design qualiti look insan gorgeou got top top promo help much cost tri use store credit so…",
                  "Rating Actual": 5,
                  "Rating Prediction": 5,
                  "Strength Prediction": 0,
                  "Strength Actual": 0,
                  "Success Prediction": "Not Trending",
                  "Success Actual": "Not Trending",
                  "_deepnote_index_column": 491
                },
                {
                  "ID": "829",
                  "Review Text": "knew would keep soon put comfort beauti fabric cute gold button well due cut feel roomi slender fit…",
                  "Rating Actual": 5,
                  "Rating Prediction": 5,
                  "Strength Prediction": 0.14364434407988091,
                  "Strength Actual": 0.043666769774275895,
                  "Success Prediction": "Trending",
                  "Success Actual": "Trending",
                  "_deepnote_index_column": 492
                },
                {
                  "ID": "1078",
                  "Review Text": "love sweater dress get compliment everi time wear bought navi size xs pattern color fun youth altho…",
                  "Rating Actual": 5,
                  "Rating Prediction": 5,
                  "Strength Prediction": 0.370565911321966,
                  "Strength Actual": 0.16371749913811273,
                  "Success Prediction": "Trending",
                  "Success Actual": "Trending",
                  "_deepnote_index_column": 493
                },
                {
                  "ID": "1078",
                  "Review Text": "order neutral motif size larg great littl dress comfort cute modest enough im worri bust hang much …",
                  "Rating Actual": 5,
                  "Rating Prediction": 5,
                  "Strength Prediction": 0.370565911321966,
                  "Strength Actual": 0.16371749913811273,
                  "Success Prediction": "Trending",
                  "Success Actual": "Trending",
                  "_deepnote_index_column": 494
                },
                {
                  "ID": "829",
                  "Review Text": "shirt perfect goto classic white button twist fit flatter would say run littl larg lb broad shoulde…",
                  "Rating Actual": 5,
                  "Rating Prediction": 5,
                  "Strength Prediction": 0.14364434407988091,
                  "Strength Actual": 0.043666769774275895,
                  "Success Prediction": "Trending",
                  "Success Actual": "Trending",
                  "_deepnote_index_column": 495
                },
                {
                  "ID": "877",
                  "Review Text": "featur pictur im feet lb order xs petit im pretti busti dont like loos fit top order size trick sup…",
                  "Rating Actual": 5,
                  "Rating Prediction": 5,
                  "Strength Prediction": 0,
                  "Strength Actual": 0,
                  "Success Prediction": "Not Trending",
                  "Success Actual": "Not Trending",
                  "_deepnote_index_column": 496
                },
                {
                  "ID": "1081",
                  "Review Text": "love dress fabric super soft flowi awar model tall gal im usual size dress purchas larg return larg…",
                  "Rating Actual": 4,
                  "Rating Prediction": 5,
                  "Strength Prediction": 0.4591108946990222,
                  "Strength Actual": 0.10956965683932174,
                  "Success Prediction": "Trending",
                  "Success Actual": "Trending",
                  "_deepnote_index_column": 497
                },
                {
                  "ID": "1094",
                  "Review Text": "excit order dress perfect red shoe go unfortun could nine month pregnant still wear small lb like m…",
                  "Rating Actual": 2,
                  "Rating Prediction": 5,
                  "Strength Prediction": 0.1055677972366433,
                  "Strength Actual": 0.023460423354115224,
                  "Success Prediction": "Trending",
                  "Success Actual": "Trending",
                  "_deepnote_index_column": 498
                },
                {
                  "ID": "1038",
                  "Review Text": "jean uniqu thank embroid would perfer color embroid though boyfriend cut slouchi bit loos even arou…",
                  "Rating Actual": 4,
                  "Rating Prediction": 5,
                  "Strength Prediction": 0,
                  "Strength Actual": 0.005380072303898885,
                  "Success Prediction": "Not Trending",
                  "Success Actual": "Trending",
                  "_deepnote_index_column": 499
                }
              ]
            },
            "text/plain": "       ID                                        Review Text  Rating Actual  \\\n0     877  bought store yesterday light fit extrem comfor...              5   \n1    1080  color dress beauti realli want love wasnt cut ...              3   \n2     964  order littl jacket knew would like upon arriv ...              5   \n3    1060  pound bought p fabric high qualiti cling inste...              5   \n4     872  nice casual inexpens shirt lace necklin greatn...              4   \n..    ...                                                ...            ...   \n495   829  shirt perfect goto classic white button twist ...              5   \n496   877  featur pictur im feet lb order xs petit im pre...              5   \n497  1081  love dress fabric super soft flowi awar model ...              4   \n498  1094  excit order dress perfect red shoe go unfortun...              2   \n499  1038  jean uniqu thank embroid would perfer color em...              4   \n\n     Rating Prediction  Strength Prediction  Strength Actual  \\\n0                    5             0.000000         0.000000   \n1                    3             0.014121         0.005380   \n2                    5             0.000000         0.013144   \n3                    5             0.000000         0.000000   \n4                    5             0.042172         0.030463   \n..                 ...                  ...              ...   \n495                  5             0.143644         0.043667   \n496                  5             0.000000         0.000000   \n497                  5             0.459111         0.109570   \n498                  5             0.105568         0.023460   \n499                  5             0.000000         0.005380   \n\n    Success Prediction Success Actual  \n0         Not Trending   Not Trending  \n1             Trending       Trending  \n2         Not Trending       Trending  \n3         Not Trending   Not Trending  \n4             Trending       Trending  \n..                 ...            ...  \n495           Trending       Trending  \n496       Not Trending   Not Trending  \n497           Trending       Trending  \n498           Trending       Trending  \n499       Not Trending       Trending  \n\n[500 rows x 8 columns]",
            "text/html": "<div>\n<style scoped>\n    .dataframe tbody tr th:only-of-type {\n        vertical-align: middle;\n    }\n\n    .dataframe tbody tr th {\n        vertical-align: top;\n    }\n\n    .dataframe thead th {\n        text-align: right;\n    }\n</style>\n<table border=\"1\" class=\"dataframe\">\n  <thead>\n    <tr style=\"text-align: right;\">\n      <th></th>\n      <th>ID</th>\n      <th>Review Text</th>\n      <th>Rating Actual</th>\n      <th>Rating Prediction</th>\n      <th>Strength Prediction</th>\n      <th>Strength Actual</th>\n      <th>Success Prediction</th>\n      <th>Success Actual</th>\n    </tr>\n  </thead>\n  <tbody>\n    <tr>\n      <th>0</th>\n      <td>877</td>\n      <td>bought store yesterday light fit extrem comfor...</td>\n      <td>5</td>\n      <td>5</td>\n      <td>0.000000</td>\n      <td>0.000000</td>\n      <td>Not Trending</td>\n      <td>Not Trending</td>\n    </tr>\n    <tr>\n      <th>1</th>\n      <td>1080</td>\n      <td>color dress beauti realli want love wasnt cut ...</td>\n      <td>3</td>\n      <td>3</td>\n      <td>0.014121</td>\n      <td>0.005380</td>\n      <td>Trending</td>\n      <td>Trending</td>\n    </tr>\n    <tr>\n      <th>2</th>\n      <td>964</td>\n      <td>order littl jacket knew would like upon arriv ...</td>\n      <td>5</td>\n      <td>5</td>\n      <td>0.000000</td>\n      <td>0.013144</td>\n      <td>Not Trending</td>\n      <td>Trending</td>\n    </tr>\n    <tr>\n      <th>3</th>\n      <td>1060</td>\n      <td>pound bought p fabric high qualiti cling inste...</td>\n      <td>5</td>\n      <td>5</td>\n      <td>0.000000</td>\n      <td>0.000000</td>\n      <td>Not Trending</td>\n      <td>Not Trending</td>\n    </tr>\n    <tr>\n      <th>4</th>\n      <td>872</td>\n      <td>nice casual inexpens shirt lace necklin greatn...</td>\n      <td>4</td>\n      <td>5</td>\n      <td>0.042172</td>\n      <td>0.030463</td>\n      <td>Trending</td>\n      <td>Trending</td>\n    </tr>\n    <tr>\n      <th>...</th>\n      <td>...</td>\n      <td>...</td>\n      <td>...</td>\n      <td>...</td>\n      <td>...</td>\n      <td>...</td>\n      <td>...</td>\n      <td>...</td>\n    </tr>\n    <tr>\n      <th>495</th>\n      <td>829</td>\n      <td>shirt perfect goto classic white button twist ...</td>\n      <td>5</td>\n      <td>5</td>\n      <td>0.143644</td>\n      <td>0.043667</td>\n      <td>Trending</td>\n      <td>Trending</td>\n    </tr>\n    <tr>\n      <th>496</th>\n      <td>877</td>\n      <td>featur pictur im feet lb order xs petit im pre...</td>\n      <td>5</td>\n      <td>5</td>\n      <td>0.000000</td>\n      <td>0.000000</td>\n      <td>Not Trending</td>\n      <td>Not Trending</td>\n    </tr>\n    <tr>\n      <th>497</th>\n      <td>1081</td>\n      <td>love dress fabric super soft flowi awar model ...</td>\n      <td>4</td>\n      <td>5</td>\n      <td>0.459111</td>\n      <td>0.109570</td>\n      <td>Trending</td>\n      <td>Trending</td>\n    </tr>\n    <tr>\n      <th>498</th>\n      <td>1094</td>\n      <td>excit order dress perfect red shoe go unfortun...</td>\n      <td>2</td>\n      <td>5</td>\n      <td>0.105568</td>\n      <td>0.023460</td>\n      <td>Trending</td>\n      <td>Trending</td>\n    </tr>\n    <tr>\n      <th>499</th>\n      <td>1038</td>\n      <td>jean uniqu thank embroid would perfer color em...</td>\n      <td>4</td>\n      <td>5</td>\n      <td>0.000000</td>\n      <td>0.005380</td>\n      <td>Not Trending</td>\n      <td>Trending</td>\n    </tr>\n  </tbody>\n</table>\n<p>500 rows × 8 columns</p>\n</div>"
          },
          "metadata": {}
        }
      ]
    },
    {
      "cell_type": "markdown",
      "metadata": {
        "id": "2fhsdNtLmQVD"
      },
      "source": [
        "# EVALUATION"
      ]
    },
    {
      "cell_type": "code",
      "metadata": {
        "tags": [],
        "deepnote_to_be_reexecuted": false,
        "source_hash": "4d4cf0f7",
        "execution_start": 1623583551100,
        "execution_millis": 4,
        "cell_id": "00073-d3864282-4bbb-4f10-bc6b-da0c3bcee141",
        "deepnote_cell_type": "code",
        "id": "dPfZY_fCkX01"
      },
      "source": [
        "from sklearn.preprocessing import LabelEncoder\n",
        "\n",
        "xf = dt['Success Prediction']\n",
        "yf = dt['Success Actual']"
      ],
      "execution_count": null,
      "outputs": []
    },
    {
      "cell_type": "code",
      "metadata": {
        "tags": [],
        "deepnote_to_be_reexecuted": false,
        "source_hash": "3d466731",
        "execution_start": 1623583551106,
        "execution_millis": 18,
        "cell_id": "00077-f4b27d57-0636-4fa2-941c-55eb02fa2c7d",
        "deepnote_cell_type": "code",
        "id": "MBSuohPskX01",
        "outputId": "ddee3d7c-b816-4e0e-f328-95cb0d82b637"
      },
      "source": [
        "encoder = LabelEncoder()\n",
        "xf = np.array(xf).reshape(-1, 1)\n",
        "xf = encoder.fit_transform(xf)"
      ],
      "execution_count": null,
      "outputs": [
        {
          "name": "stderr",
          "text": "/shared-libs/python3.7/py/lib/python3.7/site-packages/sklearn/utils/validation.py:63: DataConversionWarning: A column-vector y was passed when a 1d array was expected. Please change the shape of y to (n_samples, ), for example using ravel().\n  return f(*args, **kwargs)\n",
          "output_type": "stream"
        }
      ]
    },
    {
      "cell_type": "code",
      "metadata": {
        "tags": [],
        "deepnote_to_be_reexecuted": false,
        "source_hash": "c1f4a073",
        "execution_start": 1623583551114,
        "execution_millis": 3,
        "cell_id": "00078-d0cdf8e0-12ff-4188-8070-d5db2526f5d1",
        "deepnote_cell_type": "code",
        "id": "cjS7ceHykX01"
      },
      "source": [
        "yf = np.array(yf).reshape(-1, 1)\n",
        "yf = encoder.fit_transform(yf)"
      ],
      "execution_count": null,
      "outputs": []
    },
    {
      "cell_type": "code",
      "metadata": {
        "tags": [],
        "deepnote_to_be_reexecuted": false,
        "source_hash": "44465a4a",
        "execution_start": 1623583551121,
        "execution_millis": 12,
        "cell_id": "00079-1c4f8cfa-2aa9-4441-8d03-3e9c33d7e503",
        "deepnote_cell_type": "code",
        "id": "VCjbuNyWkX01",
        "outputId": "f33ae864-d221-4f8a-cf85-792eaae4a3d1"
      },
      "source": [
        "yf"
      ],
      "execution_count": null,
      "outputs": [
        {
          "output_type": "execute_result",
          "execution_count": 57,
          "data": {
            "text/plain": "array([0, 1, 1, 0, 1, 0, 0, 1, 1, 0, 1, 1, 0, 1, 1, 1, 1, 0, 1, 1, 0, 1,\n       1, 0, 1, 1, 1, 1, 0, 1, 1, 1, 1, 1, 1, 1, 0, 0, 0, 1, 1, 1, 1, 0,\n       0, 1, 1, 1, 0, 1, 1, 0, 1, 0, 0, 0, 0, 0, 0, 1, 1, 0, 1, 1, 1, 1,\n       1, 1, 1, 0, 1, 1, 0, 1, 1, 1, 1, 1, 1, 1, 0, 1, 1, 1, 1, 1, 0, 1,\n       1, 0, 1, 0, 0, 0, 1, 0, 1, 0, 1, 1, 1, 1, 0, 1, 1, 1, 1, 0, 1, 1,\n       1, 1, 0, 0, 0, 0, 0, 1, 1, 1, 1, 1, 1, 1, 0, 0, 0, 1, 1, 0, 1, 1,\n       1, 1, 1, 1, 1, 0, 1, 0, 1, 1, 1, 1, 1, 0, 1, 1, 1, 1, 1, 1, 1, 1,\n       0, 1, 1, 0, 1, 1, 1, 1, 1, 1, 1, 1, 1, 0, 1, 0, 1, 0, 1, 1, 0, 1,\n       0, 0, 0, 1, 1, 1, 0, 1, 1, 0, 1, 1, 0, 0, 0, 0, 1, 1, 0, 1, 1, 0,\n       1, 0, 0, 1, 1, 0, 1, 1, 1, 1, 1, 1, 1, 1, 0, 1, 1, 1, 1, 0, 0, 0,\n       1, 1, 1, 1, 0, 0, 1, 1, 1, 1, 0, 0, 0, 1, 1, 1, 1, 0, 1, 0, 1, 0,\n       0, 0, 1, 0, 0, 1, 1, 1, 1, 0, 0, 1, 0, 1, 1, 1, 1, 1, 0, 1, 0, 1,\n       1, 1, 1, 1, 0, 0, 1, 0, 0, 0, 1, 1, 1, 1, 0, 1, 1, 0, 0, 1, 1, 1,\n       0, 1, 1, 1, 0, 1, 0, 1, 1, 1, 1, 1, 0, 1, 1, 1, 0, 0, 1, 1, 1, 1,\n       1, 1, 0, 0, 0, 0, 1, 1, 0, 1, 0, 1, 1, 1, 0, 1, 1, 0, 0, 0, 1, 1,\n       1, 1, 1, 1, 0, 1, 1, 0, 0, 1, 0, 0, 0, 0, 1, 1, 1, 1, 1, 0, 0, 0,\n       1, 1, 1, 0, 1, 1, 1, 1, 1, 1, 1, 1, 0, 1, 0, 0, 0, 1, 0, 1, 1, 1,\n       1, 1, 0, 1, 1, 1, 1, 0, 1, 1, 1, 0, 1, 1, 1, 0, 0, 0, 1, 1, 1, 1,\n       1, 1, 1, 1, 1, 1, 1, 1, 0, 1, 1, 0, 1, 1, 1, 1, 1, 1, 1, 1, 0, 0,\n       1, 1, 1, 1, 1, 1, 1, 1, 0, 1, 1, 1, 1, 0, 1, 1, 1, 1, 1, 1, 0, 0,\n       1, 1, 0, 1, 0, 1, 1, 0, 0, 1, 1, 0, 1, 1, 0, 1, 1, 1, 0, 0, 1, 1,\n       1, 1, 1, 1, 1, 1, 1, 1, 1, 1, 1, 1, 1, 1, 1, 1, 0, 1, 1, 0, 0, 1,\n       1, 1, 1, 1, 0, 0, 1, 0, 1, 1, 1, 1, 0, 1, 1, 1])"
          },
          "metadata": {}
        }
      ]
    },
    {
      "cell_type": "code",
      "metadata": {
        "tags": [],
        "deepnote_to_be_reexecuted": false,
        "source_hash": "6ec83c42",
        "execution_start": 1623583551149,
        "execution_millis": 10,
        "cell_id": "00080-63a28d4f-72ee-479a-8048-78edafb258b6",
        "deepnote_cell_type": "code",
        "id": "0UvaMAS7kX02",
        "outputId": "a20f5696-a128-4524-fd93-090c47db60c2"
      },
      "source": [
        "xf"
      ],
      "execution_count": null,
      "outputs": [
        {
          "output_type": "execute_result",
          "execution_count": 58,
          "data": {
            "text/plain": "array([0, 1, 0, 0, 1, 0, 0, 1, 1, 0, 1, 1, 1, 1, 0, 1, 0, 0, 0, 1, 0, 1,\n       1, 0, 1, 1, 1, 1, 1, 1, 1, 0, 1, 1, 1, 1, 0, 0, 0, 1, 1, 0, 0, 0,\n       0, 1, 1, 1, 1, 1, 0, 0, 1, 1, 0, 0, 0, 0, 0, 1, 1, 0, 1, 0, 1, 1,\n       0, 0, 0, 0, 1, 1, 0, 1, 1, 0, 1, 0, 0, 1, 0, 1, 1, 0, 1, 0, 0, 1,\n       1, 0, 1, 0, 0, 0, 1, 0, 1, 0, 1, 1, 1, 1, 0, 1, 1, 0, 1, 1, 1, 0,\n       1, 1, 0, 0, 0, 0, 0, 1, 1, 1, 1, 0, 0, 0, 0, 0, 0, 0, 0, 0, 1, 1,\n       1, 1, 1, 1, 1, 0, 1, 1, 0, 1, 1, 0, 1, 0, 1, 1, 1, 1, 0, 0, 1, 1,\n       0, 1, 1, 0, 1, 0, 1, 1, 1, 1, 0, 0, 1, 0, 1, 0, 1, 0, 1, 1, 1, 1,\n       1, 0, 0, 0, 1, 1, 0, 1, 1, 0, 1, 1, 0, 0, 0, 0, 1, 1, 0, 1, 0, 0,\n       1, 1, 0, 0, 1, 0, 1, 1, 1, 1, 1, 1, 0, 1, 0, 1, 1, 1, 0, 0, 0, 0,\n       1, 1, 1, 1, 1, 0, 1, 1, 1, 1, 0, 0, 0, 1, 0, 1, 0, 0, 0, 0, 1, 0,\n       0, 0, 1, 0, 0, 0, 0, 1, 1, 0, 0, 0, 0, 1, 1, 1, 1, 1, 0, 1, 0, 0,\n       1, 1, 1, 1, 0, 0, 0, 0, 0, 0, 1, 1, 1, 1, 0, 1, 1, 0, 0, 1, 1, 1,\n       0, 0, 1, 1, 0, 1, 0, 1, 1, 1, 1, 1, 0, 1, 1, 0, 0, 0, 1, 0, 0, 1,\n       1, 0, 0, 0, 0, 0, 0, 0, 1, 0, 0, 0, 1, 1, 0, 1, 1, 0, 0, 0, 1, 0,\n       1, 0, 1, 1, 0, 1, 1, 0, 0, 1, 0, 0, 0, 0, 0, 1, 1, 1, 0, 0, 0, 0,\n       0, 1, 0, 0, 0, 1, 1, 0, 1, 1, 0, 1, 0, 1, 0, 0, 0, 1, 0, 1, 1, 1,\n       1, 0, 0, 0, 1, 0, 1, 0, 1, 1, 1, 0, 1, 0, 0, 0, 0, 0, 0, 1, 1, 1,\n       1, 1, 1, 0, 1, 1, 1, 1, 0, 1, 0, 0, 1, 1, 1, 0, 1, 1, 1, 1, 0, 0,\n       1, 1, 0, 0, 1, 1, 1, 1, 0, 1, 1, 1, 1, 0, 1, 1, 1, 1, 1, 1, 0, 0,\n       1, 1, 0, 1, 0, 0, 0, 0, 0, 1, 1, 0, 1, 1, 0, 0, 1, 1, 0, 0, 1, 1,\n       0, 1, 1, 1, 0, 1, 0, 1, 0, 1, 1, 1, 1, 1, 1, 1, 0, 1, 1, 0, 0, 1,\n       1, 1, 1, 1, 0, 0, 1, 0, 1, 1, 1, 1, 0, 1, 1, 0])"
          },
          "metadata": {}
        }
      ]
    },
    {
      "cell_type": "code",
      "metadata": {
        "tags": [],
        "deepnote_to_be_reexecuted": false,
        "source_hash": "4d1d7657",
        "execution_start": 1623583551150,
        "execution_millis": 0,
        "cell_id": "00081-7d375323-936b-452c-bdcd-0ce379b8e66b",
        "deepnote_cell_type": "code",
        "id": "uKoegY3AkX02"
      },
      "source": [
        "p = np.subtract(xf, yf)\n",
        "p = p.reshape(-1, 1)"
      ],
      "execution_count": null,
      "outputs": []
    },
    {
      "cell_type": "markdown",
      "metadata": {
        "tags": [],
        "cell_id": "00080-3ee45a0d-20fb-4799-8e14-f513e6a24329",
        "deepnote_cell_type": "markdown",
        "id": "c0wRPhKGkX02"
      },
      "source": [
        "MODEL ACCURACY"
      ]
    },
    {
      "cell_type": "code",
      "metadata": {
        "tags": [],
        "deepnote_to_be_reexecuted": false,
        "source_hash": "f3917950",
        "execution_start": 1623583551150,
        "execution_millis": 1,
        "cell_id": "00082-0c85b99b-f742-41db-b2e3-327ac9a6afb7",
        "deepnote_cell_type": "code",
        "id": "hxdTP2iqkX02",
        "outputId": "0ef1e5ed-4e65-4a8f-ffe3-27c9bf5f469b"
      },
      "source": [
        "from sklearn import metrics\n",
        "\n",
        "print('Root Mean Squared Error:', np.sqrt(metrics.mean_squared_error(yf, xf)))"
      ],
      "execution_count": null,
      "outputs": [
        {
          "name": "stdout",
          "text": "Root Mean Squared Error: 0.4289522117905443\n",
          "output_type": "stream"
        }
      ]
    },
    {
      "cell_type": "code",
      "metadata": {
        "tags": [],
        "deepnote_to_be_reexecuted": false,
        "source_hash": "2a32a2c2",
        "execution_start": 1623583551198,
        "execution_millis": 59823555,
        "cell_id": "00083-c4437fb1-f21c-4933-b8cf-11788848c616",
        "deepnote_cell_type": "code",
        "id": "7n9w0mkIkX02",
        "outputId": "7bf6f812-5eb0-4536-80ea-1517bacaed75"
      },
      "source": [
        "print('Accuracy Score:', np.sqrt(metrics.accuracy_score(yf, xf)))"
      ],
      "execution_count": null,
      "outputs": [
        {
          "name": "stdout",
          "text": "Accuracy Score: 0.9033271832508971\n",
          "output_type": "stream"
        }
      ]
    },
    {
      "cell_type": "code",
      "metadata": {
        "tags": [],
        "cell_id": "00081-778cac84-4bac-4771-a2de-6282c827b0b9",
        "deepnote_cell_type": "code",
        "id": "X1-3Ls13kX03"
      },
      "source": [
        ""
      ],
      "execution_count": null,
      "outputs": []
    },
    {
      "cell_type": "markdown",
      "metadata": {
        "tags": [],
        "created_in_deepnote_cell": true,
        "deepnote_cell_type": "markdown",
        "id": "N6nqz9QGkX03"
      },
      "source": [
        "<a style='text-decoration:none;line-height:16px;display:flex;color:#5B5B62;padding:10px;justify-content:end;' href='https://deepnote.com?utm_source=created-in-deepnote-cell&projectId=9ed8929e-5e1a-4a7a-9cf6-aa58624debce' target=\"_blank\">\n",
        "<img alt='Created in deepnote.com' style='display:inline;max-height:16px;margin:0px;margin-right:7.5px;' src='data:image/svg+xml;base64,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' > </img>\n",
        "Created in <span style='font-weight:600;margin-left:4px;'>Deepnote</span></a>"
      ]
    }
  ]
}